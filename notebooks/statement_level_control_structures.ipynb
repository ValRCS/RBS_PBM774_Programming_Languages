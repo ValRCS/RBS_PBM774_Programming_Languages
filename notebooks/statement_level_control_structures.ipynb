{
 "cells": [
  {
   "attachments": {},
   "cell_type": "markdown",
   "metadata": {},
   "source": [
    " # Statement level control structures\n",
    "\n",
    " ## Ch.8 in Sebesta - Concepts of programming languages\n",
    "by Robert W. Sebesta (Author)\n",
    "\n",
    "Abstract by Valdis Saulespurens (GPT-3 assisted)\n",
    "\n",
    " ## Outline\n",
    "\n",
    " * Selection statements\n",
    " * Iteration statements\n",
    " * Unconditional jump statements - unconditional branching\n",
    " * Guarded commands - guarded branching"
   ]
  },
  {
   "attachments": {},
   "cell_type": "markdown",
   "metadata": {},
   "source": [
    "## Selection statements\n",
    "\n",
    "In programming languages, a selection statement is a type of control structure that allows a program to make decisions and execute different code blocks based on a given condition. Selection statements are often used in programming to create branching paths in the execution flow of a program.\n",
    "\n",
    "The most common type of selection statement is the \"if\" statement, which allows a program to execute a certain block of code only if a particular condition is true. For example, in the following code snippet, the program will only execute the print statement if the value of x is greater than 10:\n",
    "\n",
    "```\n",
    "if (x > 10) {\n",
    "  System.out.println(\"x is greater than 10\");\n",
    "}\n",
    "```\n",
    "In addition to the \"if\" statement, many programming languages also support \"if-else\" statements, which allow the program to execute one block of code if a condition is true, and a different block of code if the condition is false. For example, in the following code snippet, the program will execute the first print statement if the value of x is greater than 10, and the second print statement if it is not:\n",
    "\n",
    "```\n",
    "if (x > 10) {\n",
    "  System.out.println(\"x is greater than 10\");\n",
    "} else {\n",
    "  System.out.println(\"x is less than or equal to 10\");\n",
    "}\n",
    "```\n",
    "Some programming languages also support more advanced selection statements, such as the \"switch\" statement, which allows a program to select one of several possible code paths based on the value of a variable. Overall, selection statements are an important tool for programmers to create dynamic, flexible programs that can respond to changing conditions and inputs."
   ]
  },
  {
   "cell_type": "code",
   "execution_count": null,
   "metadata": {},
   "outputs": [],
   "source": [
    "# Python if statement\n",
    "\n",
    "# if statement\n",
    "if 5 > 2:\n",
    "    print(\"Five is greater than two!\")\n",
    "\n"
   ]
  },
  {
   "attachments": {},
   "cell_type": "markdown",
   "metadata": {},
   "source": [
    "## The design issues for two-way selectors \n",
    "\n",
    "* What is the form and type of the expression that controls the selection?\n",
    "* How are the then and else clauses specified?\n",
    "* How should the meaning of nested selectors be specified?\n",
    "\n",
    "Form and type of the expression that controls the selection: This refers to the syntax and data type of the condition that determines which path of execution to take. The condition might be a simple boolean expression, or it could be more complex, involving logical operators, relational operators, and other constructs.\n",
    "\n",
    "Specification of the then and else clauses: The then clause is the block of code that gets executed if the condition in the selection statement is true, while the else clause is the block of code that gets executed if the condition is false. The syntax and semantics of these clauses will depend on the programming language being used.\n",
    "\n",
    "Specification of nested selectors: When a selector statement is nested inside another selector statement, the semantics can become more complex, and it may be necessary to define rules for how the selection conditions are evaluated and which code paths are followed. This can include rules for handling ambiguous or overlapping conditions, as well as rules for determining which nested selector takes precedence over others."
   ]
  },
  {
   "attachments": {},
   "cell_type": "markdown",
   "metadata": {},
   "source": [
    "## Iterative statements\n",
    "\n",
    "In programming languages, iterative statements are control structures that allow a program to repeatedly execute a block of code, either a fixed or variable number of times, until a particular condition is met.\n",
    "\n",
    "The statement correctly points out that an iterative statement may cause a statement or collection of statements to be executed zero, one, or more times. This is because some loop constructs may terminate immediately if the loop condition is not met, while others may run indefinitely if the loop condition is never satisfied. The ability to execute a loop zero times is particularly useful when the loop condition is not initially met and the loop body should not be executed at all.\n",
    "\n",
    "The statement also notes that iterative statements are often called loops. This is because the loop construct causes the program to repeatedly execute the same block of code, giving the appearance of the program \"looping\" back to the start of the block of code after each iteration."
   ]
  },
  {
   "attachments": {},
   "cell_type": "markdown",
   "metadata": {},
   "source": [
    "Iterative counter-controlled statements are a type of loop construct in programming languages that execute a block of code a fixed number of times, with the number of iterations determined by a counter variable. The following are some design issues that need to be considered when implementing iterative counter-controlled statements:\n",
    "\n",
    "1. Initialization of counter variable: The counter variable must be initialized before the loop begins, typically with an initial value. The initialization must be performed correctly and ensure that the loop executes the correct number of times.\n",
    "\n",
    "2. Condition for continuing the loop: A condition needs to be specified that determines whether the loop continues or terminates. Typically, the loop continues as long as the counter variable meets a specific condition.\n",
    "\n",
    "3. Updating the counter variable: The counter variable must be updated after each iteration of the loop. This update ensures that the loop executes the correct number of times.\n",
    "\n",
    "4. Iteration step: The amount by which the counter variable is incremented or decremented after each iteration is known as the iteration step. The iteration step needs to be specified correctly to ensure that the loop executes the correct number of times.\n",
    "\n",
    "5. Loop body: The code to be executed inside the loop body should be carefully designed to ensure that it performs the desired function without creating any unintended side effects.\n",
    "\n",
    "6. Nested loops: When using nested loops, care must be taken to ensure that the counter variables of the inner and outer loops do not interfere with each other.\n",
    "\n",
    "7. Loop termination: It is important to ensure that the loop terminates under all circumstances. This can be achieved by specifying the correct termination condition and by testing the condition for termination at the beginning or end of the loop."
   ]
  },
  {
   "attachments": {},
   "cell_type": "markdown",
   "metadata": {},
   "source": [
    "## Unconditional branch statements\n",
    "\n",
    "1. Unconditional branch statements, also known as goto statements, are control flow statements that allow the program to jump to a different section of code based on a label or line number. While goto statements can be useful in some situations, they also have several issues and challenges that should be considered when using them.\n",
    "\n",
    "2. Readability and maintainability: The use of goto statements can make code difficult to read and understand, as they allow for non-linear control flow. This can make it harder to maintain, debug, and modify the code in the future.\n",
    "\n",
    "3. Encourages spaghetti code: Overuse of goto statements can lead to spaghetti code, which is code that is difficult to follow and understand due to its non-linear nature. This can make the code more error-prone and harder to maintain.\n",
    "\n",
    "4. Error-prone: Improper use of goto statements can lead to errors in the program, such as infinite loops or invalid program states. Careful attention must be paid to ensure that the use of goto statements is correct and doesn't introduce bugs.\n",
    "\n",
    "5. Reusability and portability: The use of goto statements can make it harder to reuse code in different contexts or to port it to different platforms or programming languages, as the control flow may not be compatible with different environments.\n",
    "\n",
    "6. Alternatives: In many cases, the use of structured control flow statements such as loops, conditionals, and functions can provide a more readable and maintainable alternative to goto statements. Modern programming languages provide a variety of control flow constructs that can be used in place of goto statements."
   ]
  },
  {
   "attachments": {},
   "cell_type": "markdown",
   "metadata": {},
   "source": [
    "## Guarded commands\n",
    "\n",
    "Guarded commands are a programming language construct suggested by computer scientist Edsger Dijkstra that can help improve the readability and correctness of programs. In a guarded command, a block of code is only executed if a certain condition is met. The condition is called the guard and is evaluated before executing the code. If the guard is false, the code block is not executed.\n",
    "\n",
    "The syntax of a guarded command is typically as follows:\n",
    "\n",
    "```\n",
    "{guard} -> {code block}\n",
    "```\n",
    "Here, the code block is executed only if the guard is true. The guard can be any boolean expression, and the code block can contain any sequence of statements. The \"->\" symbol is used to separate the guard and the code block.\n",
    "\n",
    "The use of guarded commands can help improve program readability by making the code more structured and easier to follow. By placing guards at the beginning of code blocks, it is easy to see which conditions must be satisfied for a block of code to execute.\n",
    "\n",
    "Moreover, guarded commands can help improve program correctness by reducing the number of possible control flow paths. By using guards to ensure that certain conditions are met before executing a code block, the programmer can help prevent errors such as null pointer exceptions, divide-by-zero errors, and other runtime errors.\n",
    "\n",
    "Guarded commands can also be used to express more complex control structures, such as loops and conditionals. For example, a loop can be expressed using guarded commands as follows:\n",
    "\n",
    "```\n",
    "{guard} -> {code block; loop guard}\n",
    "```\n",
    "Here, the loop executes the code block until the guard becomes false. The loop guard is evaluated after each iteration to determine whether the loop should continue or terminate.\n",
    "\n",
    "In summary, guarded commands are a useful programming language construct that can help improve program readability and correctness. By using guards to ensure that certain conditions are met before executing code blocks, programmers can make their code more structured, easier to follow, and less error-prone"
   ]
  },
  {
   "cell_type": "code",
   "execution_count": null,
   "metadata": {},
   "outputs": [],
   "source": [
    "## TODO play around with various statement level control structures"
   ]
  },
  {
   "attachments": {},
   "cell_type": "markdown",
   "metadata": {},
   "source": []
  }
 ],
 "metadata": {
  "kernelspec": {
   "display_name": "venv",
   "language": "python",
   "name": "python3"
  },
  "language_info": {
   "name": "python",
   "version": "3.10.7"
  },
  "orig_nbformat": 4,
  "vscode": {
   "interpreter": {
    "hash": "8a19c74da3b7154619c1176afccf9ce002bd2eff700641b8654c2632caeef6b3"
   }
  }
 },
 "nbformat": 4,
 "nbformat_minor": 2
}
