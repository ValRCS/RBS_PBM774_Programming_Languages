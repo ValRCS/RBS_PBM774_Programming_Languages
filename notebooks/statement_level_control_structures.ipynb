{
  "cells": [
    {
      "cell_type": "markdown",
      "metadata": {
        "id": "IpH23SVjskRz"
      },
      "source": [
        " # Statement level control structures\n",
        "\n",
        " ## Ch.8 in Sebesta - Concepts of programming languages\n",
        "by Robert W. Sebesta (Author)\n",
        "\n",
        "Abstract by Valdis Saulespurens\n",
        "\n",
        " ## Outline\n",
        "\n",
        "- **Introduction**\n",
        "   - The notion of a control structure.\n",
        "   - Difference between high-level and low-level control structures.\n",
        "- **General Issues**\n",
        "   - Sequence, selection, and iteration.\n",
        "   - Compound statements or blocks.\n",
        "- **Design Issues for Selection Statements**\n",
        "   - What is the form and type of the expression that controls the selection?\n",
        "   - How are the then and else clauses specified?\n",
        "   - How should the meaning of nested selectors be specified?\n",
        "- **Selection Statements in Specific Languages**\n",
        "   - Discusses the selection statements in popular languages like C, C++, Java, Python, etc.\n",
        "   - For example, `if-else` constructs, `switch` or `case` statements.\n",
        "- **Design Issues for Iterative Control Structures**\n",
        "   - What is the form and type of the control expression?\n",
        "   - How is iteration controlled?\n",
        "   - Where should the control mechanism appear in the loop statement?\n",
        "- **Iterative Statements in Specific Languages**\n",
        "   - Iteration constructs like `for`, `while`, and `do-while` loops in languages like C, C++, Java, and others.\n",
        "   - Python's `for` and `while` loops and their distinctiveness.\n",
        "   - Concepts like iterators and ranges in languages like Python and Rust.\n",
        "- **Design Issues for Unconditional Branching**\n",
        "   - How is the target of the branch specified?\n",
        "   - Should the branch target be restricted?\n",
        "- **Unconditional Branching in Specific Languages**\n",
        "   - `goto` statements and their usage (or discouragement) in languages like C, C++, and Fortran.\n",
        "   - The debate surrounding structured programming and the harm of using unconditional branching.\n",
        "- **Guarded Commands**\n",
        "   - An introduction to the guarded command form.\n",
        "   - Languages that incorporate the guarded command form, such as Ada.\n",
        "- **Conclusions**\n",
        "   - Reflecting on the design decisions made in various languages regarding their control structures.\n",
        "   - The movement towards more structured and safer control structures in modern languages."
      ]
    },
    {
      "cell_type": "markdown",
      "metadata": {
        "id": "WECcKU1Q-we1"
      },
      "source": [
        "## History and Evolution of Control Structures\n",
        "\n",
        "Control statements, often referred to as control structures, play a fundamental role in programming. They direct the order of execution of statements in a program, allowing for more complex computational behavior than simply executing one statement after another in a linear fashion.\n",
        "\n",
        "### Introduction to Control Statements\n",
        "\n",
        "- **Basic Idea**:\n",
        "   - Control structures dictate the flow of a program's execution. They determine the sequence in which instructions are executed.\n",
        "- **Types of Control Structures**:\n",
        "   - **Sequential Execution**: The default mode where statements are executed one after the other in the order they appear.\n",
        "   - **Selection**: Allows the choice between two or more paths. For example, the `if-else` construct.\n",
        "   - **Iteration**: Allows a set of instructions to be repeated based on some conditions. Examples include `for`, `while`, and `do-while` loops.\n",
        "   - **Unconditional Branching**: Directly alters the flow of control without a condition. For instance, the `goto` statement.\n",
        "\n",
        "### History of Control Statements in Programming Languages\n",
        "\n",
        "- **Early Days (Machine and Assembly Languages)**:\n",
        "   - Limited to sequence and unconditional branching using jump instructions.\n",
        "   - No high-level constructs, making programs hard to read, write, and maintain.\n",
        "\n",
        "   ![Assembler example](https://preview.redd.it/8v0zo4312b431.png?auto=webp&s=329f9732473c7cce0a7cdb0a2a1209f0a3a4c061)\n",
        "   Src: [RedditLowLevel](https://www.reddit.com/r/lowlevel/comments/c0ivjk/what_assembly_code_is_used_for_the_conditional_of/?rdt=38483)\n",
        "- **Fortran (1950s)**:\n",
        "   - Introduced high-level control structures like `DO` loops.\n",
        "   - Example of Fortran `DO` loop: `DO 10 I = 1, 10, 2`. \n",
        "   - Still retained `GOTO` for unconditional branching, leading to the infamous \"spaghetti code\" as the program flow could jump around arbitrarily.\n",
        "   - ![Spaghetti code](https://www.jki.net/hubfs/image-72.png) - this is from Labview, but the concept is the same.\n",
        "- **ALGOL 60 (1960s)**:\n",
        "   - Marked a significant step in the evolution of control structures.\n",
        "   - Introduced block structures, `if-else` constructs, and `for` loops, setting the standard for many modern languages.\n",
        "   - Guarded commands were also a key feature, allowing multiple boolean expressions to guard the execution of statements.\n",
        "- **Structured Programming Movement (Late 1960s and 1970s)**:\n",
        "   - Advocated for the use of sequence, selection, and iteration, and discouraged the use of the `GOTO` statement.\n",
        "   - Edsger W. Dijkstra's letter \"Go To Statement Considered Harmful\" published in 1968 was a significant moment in this movement.\n",
        "   - Resulted in the development and popularity of structured programming languages like Pascal.\n",
        "   - It was proven that you can do everything without `GOTO` statements, and it is easier to read and maintain the code. TODO: reference to the proof.\n",
        "- **Modern Languages**:\n",
        "   - Most modern languages (like Python, Java, C#, etc.) have built upon the principles of structured programming.\n",
        "   - They offer a rich set of control structures while discouraging or entirely omitting features like `GOTO` that can lead to unstructured code.\n",
        "   - Some languages like Python have also introduced constructs like list comprehensions, which offer a more concise way to express certain iterative operations.\n",
        "\n",
        "In conclusion, control structures have evolved significantly from the early days of programming. As our understanding of good programming practices grew, so did the design and features of control structures in programming languages. The emphasis shifted from mere functionality to improving code readability, maintainability, and logic clarity."
      ]
    },
    {
      "cell_type": "markdown",
      "metadata": {
        "id": "8GugefzO-we1"
      },
      "source": [
        "## Selection statements\n",
        "\n",
        "Selection statements, sometimes known as conditional statements, allow a program to execute different sequences of statements based on the result of an evaluated expression.\n",
        "\n",
        "### Common Selection Statements:\n",
        "\n",
        "- **If-Then**: Evaluates a condition and, if true, executes the subsequent block of code.\n",
        "- **If-Then-Else**: Evaluates a condition. If true, the \"then\" block is executed; if false, the \"else\" block is executed.\n",
        "- **Switch or Case Statements**: Evaluates an expression and then routes execution based on the value of that expression to a set of case branches.\n",
        "\n",
        "### Design Issues for Selection Statements:\n",
        "When designing or using selection statements in programming languages, there are several issues to consider:\n",
        "\n",
        "\n",
        "- **Control Expression**:\n",
        "   - **Form and Type**: What kind of expressions can be used as the controlling condition? Some languages only allow boolean expressions, while others might allow different types (e.g., integer values in C's `switch`).\n",
        "- **Then and Else Clauses**:\n",
        "   - **Specification**: How are the \"then\" and \"else\" clauses specified?\n",
        "   - **Ambiguity**: In languages that allow nested if-then-else statements without requiring delimiters like braces `{}`, there can be ambiguity about which \"if\" an \"else\" corresponds to.\n",
        "\n",
        "   **Dangling Else Problem**\n",
        "   ![Dangling](https://craftinginterpreters.com/image/control-flow/dangling-else.png)\n",
        "   Src: https://craftinginterpreters.com/control-flow.html\n",
        "\n",
        "- **Multiple Selections**:\n",
        "   - **Syntax and Semantics**: How is a multiway branch (like a `switch` or `case` statement) specified? What happens if multiple cases match? How are default or otherwise cases handled?\n",
        "   - **Fallthrough Behavior**: In languages like C, if a `break` is omitted in a `switch` case, execution \"falls through\" to the next case. This can be both a feature and a source of bugs.\n",
        "- **Block Structuring**:\n",
        "   - **Compound Statements**: Does the language allow for grouping multiple statements inside a single branch of a selection statement? This is typically achieved using delimiters like `{}` in C-style languages or `begin` and `end` in others.\n",
        "- **Short-circuit Evaluation**:\n",
        "   - Some languages offer \"short-circuit\" evaluation in logical expressions. For instance, in the expression `A && B`, if `A` is false, `B` is never evaluated since the whole expression cannot be true. This has implications in conditions with side effects.\n",
        "- **Ternary or Conditional Operators**:\n",
        "   - Some languages offer a concise way to handle selection, like the `? :` ternary operator in C and Java, which can replace a simple if-then-else.\n",
        "- **Explicitness**:\n",
        "   - Should the language force clarity by making certain components mandatory? For instance, should it require `begin` and `end` delimiters or braces even for single-statement blocks?\n",
        "- **Consistency**:\n",
        "   - Does the syntax and behavior of the selection statement remain consistent with other aspects of the language? Consistency can reduce the learning curve and potential for bugs.\n",
        "\n",
        "Throughout history, language designers have made various choices about these design issues. For example:\n",
        "\n",
        "\n",
        "- **ALGOL**: Introduced block structures with its own distinct syntax.\n",
        "- **C and its derivatives (C++, C#, Java)**: Popularized the use of `{}` for compound statements and introduced the `switch` statement with its fallthrough behavior.\n",
        "- **Ada**: Introduced the `case` statement with a more structured and explicit syntax.\n",
        "- **Python**: Enforces indentation for block structuring and doesn't have a traditional switch-case construct. (Now since Python 3.10, there is a `match` statement)\n",
        "\n",
        "- **Functional Languages (like Haskell)**: May use pattern matching, which can serve a similar purpose to selection statements in imperative languages."
      ]
    },
    {
      "cell_type": "code",
      "execution_count": 1,
      "metadata": {
        "colab": {
          "base_uri": "https://localhost:8080/"
        },
        "id": "WvvVegCfskR7",
        "outputId": "d7b28dd1-6d64-490b-c274-3dd7b0231803"
      },
      "outputs": [
        {
          "name": "stdout",
          "output_type": "stream",
          "text": [
            "Five is greater than two!\n",
            "We can do more stuff as well\n",
            "This works seven if 5 is not larger than 2\n"
          ]
        }
      ],
      "source": [
        "# Python if statement uses indentation\n",
        "\n",
        "# if statement\n",
        "if 5 > 2:\n",
        "    print(\"Five is greater than two!\")\n",
        "    print(\"We can do more stuff as well\")\n",
        "\n",
        "print(\"This works seven if 5 is not larger than 2\")\n"
      ]
    },
    {
      "cell_type": "code",
      "execution_count": 2,
      "metadata": {
        "colab": {
          "base_uri": "https://localhost:8080/"
        },
        "id": "SzdHA619tMSR",
        "outputId": "83ab721d-f6a6-44d2-ec95-8c1650109e8c"
      },
      "outputs": [
        {
          "name": "stdout",
          "output_type": "stream",
          "text": [
            "this is all good\n",
            "We are still in the if true branch\n"
          ]
        }
      ],
      "source": [
        "a = 2\n",
        "b = 4\n",
        "is_sky_blue = True\n",
        "if a*a == 4 and is_sky_blue and 100 < 9_000:\n",
        "    print(\"this is all good\")\n",
        "    print(\"We are still in the if true branch\")\n",
        "else:\n",
        "    print(\"Some part is not so good\")\n",
        "    print(\"Still in the if false branch\")"
      ]
    },
    {
      "cell_type": "markdown",
      "metadata": {
        "id": "5G7IIyoSskR-"
      },
      "source": [
        "## The design issues for two-way selectors\n",
        "\n",
        "* What is the form and type of the expression that controls the selection?\n",
        "* How are the then and else clauses specified?\n",
        "* How should the meaning of nested selectors be specified?\n",
        "\n",
        "Form and type of the expression that controls the selection: This refers to the syntax and data type of the condition that determines which path of execution to take. The condition might be a simple boolean expression, or it could be more complex, involving logical operators, relational operators, and other constructs.\n",
        "\n",
        "Specification of the then and else clauses: The then clause is the block of code that gets executed if the condition in the selection statement is true, while the else clause is the block of code that gets executed if the condition is false. The syntax and semantics of these clauses will depend on the programming language being used.\n",
        "\n",
        "Specification of nested selectors: When a selector statement is nested inside another selector statement, the semantics can become more complex, and it may be necessary to define rules for how the selection conditions are evaluated and which code paths are followed. This can include rules for handling ambiguous or overlapping conditions, as well as rules for determining which nested selector takes precedence over others."
      ]
    },
    {
      "cell_type": "markdown",
      "metadata": {
        "id": "SDKglGHG-we5"
      },
      "source": [
        "## Selection statements in: C, Scala, Python, Clojure and Go\n",
        "\n",
        "Selection statements are crucial in most programming languages, though their syntax and behavior can vary. Here's a look at selection statements in the specified languages:\n",
        "\n",
        "### 1. C:\n",
        "**If-Then-Else**\n",
        "\n",
        "```c<button class=\"flex ml-auto gizmo:ml-0 gap-2 items-center\"><svg stroke=\"currentColor\" fill=\"none\" stroke-width=\"2\" viewBox=\"0 0 24 24\" stroke-linecap=\"round\" stroke-linejoin=\"round\" class=\"icon-sm\" height=\"1em\" width=\"1em\" xmlns=\"http://www.w3.org/2000/svg\"><path d=\"M16 4h2a2 2 0 0 1 2 2v14a2 2 0 0 1-2 2H6a2 2 0 0 1-2-2V6a2 2 0 0 1 2-2h2\"></path><rect x=\"8\" y=\"2\" width=\"8\" height=\"4\" rx=\"1\" ry=\"1\"></rect></svg>Copy code</button>\n",
        "if (condition) {\n",
        "    // executed if condition is true\n",
        "} else {\n",
        "    // executed if condition is false\n",
        "}\n",
        "\n",
        "```\n",
        "**Switch-Case**\n",
        "\n",
        "```c<button class=\"flex ml-auto gizmo:ml-0 gap-2 items-center\"><svg stroke=\"currentColor\" fill=\"none\" stroke-width=\"2\" viewBox=\"0 0 24 24\" stroke-linecap=\"round\" stroke-linejoin=\"round\" class=\"icon-sm\" height=\"1em\" width=\"1em\" xmlns=\"http://www.w3.org/2000/svg\"><path d=\"M16 4h2a2 2 0 0 1 2 2v14a2 2 0 0 1-2 2H6a2 2 0 0 1-2-2V6a2 2 0 0 1 2-2h2\"></path><rect x=\"8\" y=\"2\" width=\"8\" height=\"4\" rx=\"1\" ry=\"1\"></rect></svg>Copy code</button>\n",
        "switch (expression) {\n",
        "    case value1:\n",
        "        // executed if expression equals value1\n",
        "        break;\n",
        "    case value2:\n",
        "        // executed if expression equals value2\n",
        "        break;\n",
        "    default:\n",
        "        // executed if none of the above cases match\n",
        "}\n",
        "\n",
        "```\n",
        "### 2. Scala:\n",
        "Scala is an object-functional language and offers pattern matching which is more versatile than traditional selection constructs.\n",
        "\n",
        "**If-Then-Else**\n",
        "\n",
        "```scala<button class=\"flex ml-auto gizmo:ml-0 gap-2 items-center\"><svg stroke=\"currentColor\" fill=\"none\" stroke-width=\"2\" viewBox=\"0 0 24 24\" stroke-linecap=\"round\" stroke-linejoin=\"round\" class=\"icon-sm\" height=\"1em\" width=\"1em\" xmlns=\"http://www.w3.org/2000/svg\"><path d=\"M16 4h2a2 2 0 0 1 2 2v14a2 2 0 0 1-2 2H6a2 2 0 0 1-2-2V6a2 2 0 0 1 2-2h2\"></path><rect x=\"8\" y=\"2\" width=\"8\" height=\"4\" rx=\"1\" ry=\"1\"></rect></svg>Copy code</button>\n",
        "if (condition) {\n",
        "    // executed if condition is true\n",
        "} else {\n",
        "    // executed if condition is false\n",
        "}\n",
        "\n",
        "```\n",
        "**Pattern Matching**\n",
        "\n",
        "```scala<button class=\"flex ml-auto gizmo:ml-0 gap-2 items-center\"><svg stroke=\"currentColor\" fill=\"none\" stroke-width=\"2\" viewBox=\"0 0 24 24\" stroke-linecap=\"round\" stroke-linejoin=\"round\" class=\"icon-sm\" height=\"1em\" width=\"1em\" xmlns=\"http://www.w3.org/2000/svg\"><path d=\"M16 4h2a2 2 0 0 1 2 2v14a2 2 0 0 1-2 2H6a2 2 0 0 1-2-2V6a2 2 0 0 1 2-2h2\"></path><rect x=\"8\" y=\"2\" width=\"8\" height=\"4\" rx=\"1\" ry=\"1\"></rect></svg>Copy code</button>\n",
        "value match {\n",
        "    case pattern1 => // executed if value matches pattern1\n",
        "    case pattern2 => // executed if value matches pattern2\n",
        "    case _ => // default case\n",
        "}\n",
        "\n",
        "```\n",
        "### 3. Python:\n",
        "Python is known for its readability, which is evident in its control structures.\n",
        "\n",
        "**If-Then-Else**\n",
        "\n",
        "```python<button class=\"flex ml-auto gizmo:ml-0 gap-2 items-center\"><svg stroke=\"currentColor\" fill=\"none\" stroke-width=\"2\" viewBox=\"0 0 24 24\" stroke-linecap=\"round\" stroke-linejoin=\"round\" class=\"icon-sm\" height=\"1em\" width=\"1em\" xmlns=\"http://www.w3.org/2000/svg\"><path d=\"M16 4h2a2 2 0 0 1 2 2v14a2 2 0 0 1-2 2H6a2 2 0 0 1-2-2V6a2 2 0 0 1 2-2h2\"></path><rect x=\"8\" y=\"2\" width=\"8\" height=\"4\" rx=\"1\" ry=\"1\"></rect></svg>Copy code</button>\n",
        "if condition:\n",
        "    # executed if condition is true\n",
        "elif another_condition:\n",
        "    # executed if another_condition is true\n",
        "else:\n",
        "    # executed if no conditions are true\n",
        "\n",
        "```\n",
        "Python used to not have a traditional `switch-case` statement. However, one can use dictionaries or if-elif chains as an alternative.\n",
        "Also since Python 3.10, there is a `match` statement.\n",
        "\n",
        "```python<button class=\"flex ml-auto gizmo:ml-0 gap-2 items-center\"><svg stroke=\"currentColor\" fill=\"none\" stroke-width=\"2\" viewBox=\"0 0 24 24\" stroke-linecap=\"round\" stroke-linejoin=\"round\" class=\"icon-sm\" height=\"1em\" width=\"1em\" xmlns=\"http://www.w3.org/2000/svg\"><path d=\"M16 4h2a2 2 0 0 1 2 2v14a2 2 0 0 1-2 2H6a2 2 0 0 1-2-2V6a2 2 0 0 1 2-2h2\"></path><rect x=\"8\" y=\"2\" width=\"8\" height=\"4\" rx=\"1\" ry=\"1\"></rect></svg>Copy code</button>\n",
        "match value:\n",
        "    case pattern1:\n",
        "        # executed if value matches pattern1\n",
        "    case pattern2:\n",
        "        # executed if value matches pattern2\n",
        "    case _:\n",
        "        # default case\n",
        "\n",
        "```\n",
        "\n",
        "With pattern matching we want to start with more specific cases and end with more general cases. The `_` is a wildcard that matches anything.\n",
        "Otherwise we risk that the more general case will match before the more specific one.\n",
        "\n",
        "### 4. Clojure:\n",
        "Clojure, being a Lisp dialect, uses a list-based syntax.\n",
        "\n",
        "**If-Then-Else**\n",
        "\n",
        "```clojure<button class=\"flex ml-auto gizmo:ml-0 gap-2 items-center\"><svg stroke=\"currentColor\" fill=\"none\" stroke-width=\"2\" viewBox=\"0 0 24 24\" stroke-linecap=\"round\" stroke-linejoin=\"round\" class=\"icon-sm\" height=\"1em\" width=\"1em\" xmlns=\"http://www.w3.org/2000/svg\"><path d=\"M16 4h2a2 2 0 0 1 2 2v14a2 2 0 0 1-2 2H6a2 2 0 0 1-2-2V6a2 2 0 0 1 2-2h2\"></path><rect x=\"8\" y=\"2\" width=\"8\" height=\"4\" rx=\"1\" ry=\"1\"></rect></svg>Copy code</button>\n",
        "(if condition\n",
        "  ; then part\n",
        "  ; else part\n",
        ")\n",
        "\n",
        "```\n",
        "**Cond for Multiple Conditions**\n",
        "\n",
        "```clojure<button class=\"flex ml-auto gizmo:ml-0 gap-2 items-center\"><svg stroke=\"currentColor\" fill=\"none\" stroke-width=\"2\" viewBox=\"0 0 24 24\" stroke-linecap=\"round\" stroke-linejoin=\"round\" class=\"icon-sm\" height=\"1em\" width=\"1em\" xmlns=\"http://www.w3.org/2000/svg\"><path d=\"M16 4h2a2 2 0 0 1 2 2v14a2 2 0 0 1-2 2H6a2 2 0 0 1-2-2V6a2 2 0 0 1 2-2h2\"></path><rect x=\"8\" y=\"2\" width=\"8\" height=\"4\" rx=\"1\" ry=\"1\"></rect></svg>Copy code</button>\n",
        "(cond\n",
        "  condition1 result1\n",
        "  condition2 result2\n",
        "  :else default-result)\n",
        "\n",
        "```\n",
        "### 5. Go:\n",
        "Go, designed at Google, has a syntax similar to C but includes some unique elements.\n",
        "\n",
        "**If-Then-Else**\n",
        "\n",
        "```go<button class=\"flex ml-auto gizmo:ml-0 gap-2 items-center\"><svg stroke=\"currentColor\" fill=\"none\" stroke-width=\"2\" viewBox=\"0 0 24 24\" stroke-linecap=\"round\" stroke-linejoin=\"round\" class=\"icon-sm\" height=\"1em\" width=\"1em\" xmlns=\"http://www.w3.org/2000/svg\"><path d=\"M16 4h2a2 2 0 0 1 2 2v14a2 2 0 0 1-2 2H6a2 2 0 0 1-2-2V6a2 2 0 0 1 2-2h2\"></path><rect x=\"8\" y=\"2\" width=\"8\" height=\"4\" rx=\"1\" ry=\"1\"></rect></svg>Copy code</button>\n",
        "if condition {\n",
        "    // executed if condition is true\n",
        "} else if another_condition {\n",
        "    // executed if another_condition is true\n",
        "} else {\n",
        "    // executed if no conditions are true\n",
        "}\n",
        "\n",
        "```\n",
        "**Switch-Case**\n",
        "\n",
        "```go<button class=\"flex ml-auto gizmo:ml-0 gap-2 items-center\"><svg stroke=\"currentColor\" fill=\"none\" stroke-width=\"2\" viewBox=\"0 0 24 24\" stroke-linecap=\"round\" stroke-linejoin=\"round\" class=\"icon-sm\" height=\"1em\" width=\"1em\" xmlns=\"http://www.w3.org/2000/svg\"><path d=\"M16 4h2a2 2 0 0 1 2 2v14a2 2 0 0 1-2 2H6a2 2 0 0 1-2-2V6a2 2 0 0 1 2-2h2\"></path><rect x=\"8\" y=\"2\" width=\"8\" height=\"4\" rx=\"1\" ry=\"1\"></rect></svg>Copy code</button>\n",
        "switch expression {\n",
        "    case value1:\n",
        "        // executed if expression equals value1\n",
        "    case value2:\n",
        "        // executed if expression equals value2\n",
        "    default:\n",
        "        // executed if none of the above cases match\n",
        "}\n",
        "\n",
        "```\n",
        "Go's `switch` doesn't require a `break` in each case as it does not fall through by default, unlike C."
      ]
    },
    {
      "cell_type": "code",
      "execution_count": 3,
      "metadata": {
        "colab": {
          "base_uri": "https://localhost:8080/"
        },
        "id": "0e_DMgjhuuU5",
        "outputId": "49876b2f-29e4-4ab6-d3af-70c4850212f3"
      },
      "outputs": [
        {
          "name": "stdout",
          "output_type": "stream",
          "text": [
            "a is over 50\n",
            "a is between 51 and 70 65\n"
          ]
        }
      ],
      "source": [
        "a = 65\n",
        "if a > 50:\n",
        "    print(\"a is over 50\")\n",
        "    if a > 70:\n",
        "        print(\"a is over 70\")\n",
        "    else: # with Python indentation helps with nested selectors\n",
        "        print(\"a is between 51 and 70\", a)\n",
        "else:\n",
        "    print(\"a is 50 or less\", a)"
      ]
    },
    {
      "cell_type": "code",
      "execution_count": null,
      "metadata": {
        "id": "Vbces0-PvLeS"
      },
      "outputs": [],
      "source": [
        "# generally we want to flatten the nested ifs\n",
        "if a > 70:\n",
        "    print(\"a is over 70\")\n",
        "elif a > 50:\n",
        "    # with Python indentation helps with nested selectors\n",
        "    print(\"a is between 51 and 70\", a)\n",
        "else:\n",
        "    print(\"a is 50 or less\", a)\n",
        "\n",
        "# another approach to refactor nested ifs would be to create functions for inner ifs\n",
        "\n",
        "# finally to flatten we could use some early returns in functions"
      ]
    },
    {
      "cell_type": "code",
      "execution_count": null,
      "metadata": {
        "colab": {
          "base_uri": "https://localhost:8080/"
        },
        "id": "srSfBqmWwrUI",
        "outputId": "deb46dae-58bd-4077-bb01-14867f4f2f48"
      },
      "outputs": [
        {
          "name": "stdout",
          "output_type": "stream",
          "text": [
            "Python 3.8.10\n"
          ]
        }
      ],
      "source": [
        "# in Python we end up with long if elif elif elif elif chains\n",
        "# at least we did before Python 3.10\n",
        "# unfortunately Google Colab is still on Python version..\n",
        "!python --version"
      ]
    },
    {
      "cell_type": "markdown",
      "metadata": {
        "id": "Gm0pOg-fFuJs"
      },
      "source": []
    },
    {
      "cell_type": "code",
      "execution_count": null,
      "metadata": {
        "id": "OxD0J2IVw_Jr"
      },
      "outputs": [],
      "source": [
        "# starting with Python 3.10 we have match syntax (stronger than switch case in C++)\n",
        "# https://peps.python.org/pep-0636/\n",
        "\n"
      ]
    },
    {
      "cell_type": "markdown",
      "metadata": {
        "id": "ScWdX0vexe3m"
      },
      "source": [
        "## Use of Enums for Switch Cases\n",
        "\n",
        "In many languages variable of some enum data type make for great switch case\n",
        "for readability and safety reasons\n",
        "In addition your IDE will yell at you if you forget to cover some enum value.\n",
        "\n",
        "Example in Java:\n",
        "\n",
        "```java<button class=\"flex ml-auto gizmo:ml-0 gap-2 items-center\"><svg stroke=\"currentColor\" fill=\"none\" stroke-width=\"2\" viewBox=\"0 0 24 24\" stroke-linecap=\"round\" stroke-linejoin=\"round\" class=\"icon-sm\" height=\"1em\" width=\"1em\" xmlns=\"http://www.w3.org/2000/svg\"><path d=\"M16 4h2a2 2 0 0 1 2 2v14a2 2 0 0 1-2 2H6a2 2 0 0 1-2-2V6a2 2 0 0 1 2-2h2\"></path><rect x=\"8\" y=\"2\" width=\"8\" height=\"4\" rx=\"1\" ry=\"1\"></rect></svg>Copy code</button>\n",
        "enum Day {\n",
        "    MONDAY, TUESDAY, WEDNESDAY, THURSDAY, FRIDAY, SATURDAY, SUNDAY\n",
        "}\n",
        "\n",
        "Day day = Day.MONDAY;\n",
        "\n",
        "switch (day) {\n",
        "    case MONDAY:\n",
        "        System.out.println(\"Monday\");\n",
        "        break;\n",
        "    case TUESDAY:\n",
        "        System.out.println(\"Tuesday\");\n",
        "        break;\n",
        "    // other cases\n",
        "    default:\n",
        "        System.out.println(\"Other day\");\n",
        "}\n",
        "\n",
        "```\n",
        "\n"
      ]
    },
    {
      "cell_type": "markdown",
      "metadata": {
        "id": "liZQ5-AjskR_"
      },
      "source": [
        "## Iterative statements\n",
        "\n",
        "<img src=\"https://upload.wikimedia.org/wikipedia/commons/thumb/4/43/While-loop-diagram.svg/440px-While-loop-diagram.svg.png\" width=\"300\" />\n",
        "\n",
        "Iterative statements, often referred to as loops, repeatedly execute a block of statements based on a condition or a set of conditions. They're essential for a vast majority of programming tasks, from simple repetitions to complex algorithms. Given their importance, the design of iterative constructs in a programming language is crucial.\n",
        "\n",
        "### Design Issues for Iterative Control Structures:\n",
        "\n",
        "- **Initialization and Termination**:\n",
        "   - **Pretest or Posttest**: Should the loop's control condition be tested before the loop body's execution (as in `while` loops) or after (as in `do-while` loops)?\n",
        "   - **Explicit Initialization**: How is the loop control variable initialized? Is it explicit (as in the C-style `for` loop) or external to the loop?\n",
        "- **Loop Control**:\n",
        "   - **Counter-controlled vs. Logic-controlled**: Should the loop be controlled by a counter (like traditional `for` loops) or by a logical condition (like `while` loops)?\n",
        "   - **Loop Variable Scope**: What's the scope of a loop control variable, especially if it's declared as part of the loop construct?\n",
        "- **Loop Body**:\n",
        "   - **Single Statement vs. Block**: Can the loop body have multiple statements without explicit delimiters, or does it require a compound statement/block?\n",
        "- **Flexibility and Safety**:\n",
        "   - **Update of Loop Control Variable**: Can the loop control variable be modified inside the loop body? While this can offer flexibility, it can also introduce potential errors.\n",
        "   - **Multiple Exit Points**: Should the language allow exit from the loop from points other than the designated loop termination condition (e.g., using `break` in C-style languages)?\n",
        "- **Iteration Based on Data Structures**:\n",
        "   - Some modern languages support iteration over elements of a data structure directly, such as Python's `for item in list:`. How should such constructs be designed?\n",
        "- **Nested Loops**:\n",
        "   - What's the syntax and semantics for nested loops? Are there any constraints or specific behaviors for variable scopes or break/continue operations in nested loops?\n",
        "- **Extended Loop Control Mechanisms**:\n",
        "   - **Early Exit**: Can the loop be exited early based on a certain condition (e.g., `break` in many languages)?\n",
        "   - **Skip Iteration**: Can the current iteration be terminated early, and the loop proceeds to the next iteration (e.g., `continue` in many languages)?\n",
        "- **Expressiveness vs. Simplicity**:\n",
        "   - **Rich Loop Constructs**: Some languages provide richer loop constructs that combine initialization, testing, and increment in one statement (like the C-style `for` loop). Is this expressive power worth the potential added complexity for newcomers?\n",
        "\n",
        "Throughout programming history, these design issues have been addressed differently in various languages:\n",
        "\n",
        "\n",
        "- **FORTRAN** had a simple counter-controlled loop.\n",
        "- **ALGOL 60** introduced the `while` loop, adding logical control.\n",
        "- **C** popularized the three-part `for` loop, which combines initialization, testing, and increment.\n",
        "- **Python** emphasizes readability and simplicity, supporting `for` loops that iterate over items in a collection and basic `while` loops.\n",
        "\n",
        "Modern languages continue to grapple with these issues, often striking a balance between expressiveness, simplicity, and safety. Proper design of iterative constructs ensures that developers can write efficient, readable, and error-free code."
      ]
    },
    {
      "cell_type": "markdown",
      "metadata": {
        "id": "24wJMSm--we7"
      },
      "source": [
        "## Iterative branching in: Fortran, Algol 60, C, Python, Scala, Kotlin and Go.\n",
        "\n",
        "### 1. FORTRAN:\n",
        "FORTRAN, one of the earliest high-level languages, had a `DO` loop for iteration:\n",
        "\n",
        "```fortran<button class=\"flex ml-auto gizmo:ml-0 gap-2 items-center\"><svg stroke=\"currentColor\" fill=\"none\" stroke-width=\"2\" viewBox=\"0 0 24 24\" stroke-linecap=\"round\" stroke-linejoin=\"round\" class=\"icon-sm\" height=\"1em\" width=\"1em\" xmlns=\"http://www.w3.org/2000/svg\"><path d=\"M16 4h2a2 2 0 0 1 2 2v14a2 2 0 0 1-2 2H6a2 2 0 0 1-2-2V6a2 2 0 0 1 2-2h2\"></path><rect x=\"8\" y=\"2\" width=\"8\" height=\"4\" rx=\"1\" ry=\"1\"></rect></svg>Copy code</button>\n",
        "      DO 100 I = 1, 10\n",
        "         PRINT *, \"Iteration\", I\n",
        "  100 CONTINUE\n",
        "\n",
        "```\n",
        "The loop runs from the `DO` to the `CONTINUE` statement with the line number `100`.\n",
        "\n",
        "### 2. ALGOL 60:\n",
        "ALGOL 60 introduced block structures and the `while` loop:\n",
        "\n",
        "```algol<button class=\"flex ml-auto gizmo:ml-0 gap-2 items-center\"><svg stroke=\"currentColor\" fill=\"none\" stroke-width=\"2\" viewBox=\"0 0 24 24\" stroke-linecap=\"round\" stroke-linejoin=\"round\" class=\"icon-sm\" height=\"1em\" width=\"1em\" xmlns=\"http://www.w3.org/2000/svg\"><path d=\"M16 4h2a2 2 0 0 1 2 2v14a2 2 0 0 1-2 2H6a2 2 0 0 1-2-2V6a2 2 0 0 1 2-2h2\"></path><rect x=\"8\" y=\"2\" width=\"8\" height=\"4\" rx=\"1\" ry=\"1\"></rect></svg>Copy code</button>\n",
        "begin\n",
        "   integer i;\n",
        "   i := 1;\n",
        "   while i <= 10 do\n",
        "   begin\n",
        "      outinteger(1, i);\n",
        "      outstring(1, \"Iteration\");\n",
        "      i := i + 1\n",
        "   end\n",
        "end\n",
        "\n",
        "```\n",
        "### 3. C:\n",
        "C offers several looping constructs, including the `for`, `while`, and `do-while` loops:\n",
        "\n",
        "**For Loop**\n",
        "\n",
        "```c<button class=\"flex ml-auto gizmo:ml-0 gap-2 items-center\"><svg stroke=\"currentColor\" fill=\"none\" stroke-width=\"2\" viewBox=\"0 0 24 24\" stroke-linecap=\"round\" stroke-linejoin=\"round\" class=\"icon-sm\" height=\"1em\" width=\"1em\" xmlns=\"http://www.w3.org/2000/svg\"><path d=\"M16 4h2a2 2 0 0 1 2 2v14a2 2 0 0 1-2 2H6a2 2 0 0 1-2-2V6a2 2 0 0 1 2-2h2\"></path><rect x=\"8\" y=\"2\" width=\"8\" height=\"4\" rx=\"1\" ry=\"1\"></rect></svg>Copy code</button>\n",
        "for(int i = 0; i < 10; i++) {\n",
        "    printf(\"Iteration %d\\n\", i);\n",
        "}\n",
        "\n",
        "```\n",
        "**While Loop**\n",
        "\n",
        "```c<button class=\"flex ml-auto gizmo:ml-0 gap-2 items-center\"><svg stroke=\"currentColor\" fill=\"none\" stroke-width=\"2\" viewBox=\"0 0 24 24\" stroke-linecap=\"round\" stroke-linejoin=\"round\" class=\"icon-sm\" height=\"1em\" width=\"1em\" xmlns=\"http://www.w3.org/2000/svg\"><path d=\"M16 4h2a2 2 0 0 1 2 2v14a2 2 0 0 1-2 2H6a2 2 0 0 1-2-2V6a2 2 0 0 1 2-2h2\"></path><rect x=\"8\" y=\"2\" width=\"8\" height=\"4\" rx=\"1\" ry=\"1\"></rect></svg>Copy code</button>\n",
        "int i = 0;\n",
        "while(i < 10) {\n",
        "    printf(\"Iteration %d\\n\", i);\n",
        "    i++;\n",
        "}\n",
        "\n",
        "```\n",
        "**Do-While Loop**\n",
        "\n",
        "```c<button class=\"flex ml-auto gizmo:ml-0 gap-2 items-center\"><svg stroke=\"currentColor\" fill=\"none\" stroke-width=\"2\" viewBox=\"0 0 24 24\" stroke-linecap=\"round\" stroke-linejoin=\"round\" class=\"icon-sm\" height=\"1em\" width=\"1em\" xmlns=\"http://www.w3.org/2000/svg\"><path d=\"M16 4h2a2 2 0 0 1 2 2v14a2 2 0 0 1-2 2H6a2 2 0 0 1-2-2V6a2 2 0 0 1 2-2h2\"></path><rect x=\"8\" y=\"2\" width=\"8\" height=\"4\" rx=\"1\" ry=\"1\"></rect></svg>Copy code</button>\n",
        "int i = 0;\n",
        "do {\n",
        "    printf(\"Iteration %d\\n\", i);\n",
        "    i++;\n",
        "} while(i < 10);\n",
        "\n",
        "```\n",
        "### 4. Python:\n",
        "Python's `for` loop iterates over items in a collection:\n",
        "\n",
        "```python<button class=\"flex ml-auto gizmo:ml-0 gap-2 items-center\"><svg stroke=\"currentColor\" fill=\"none\" stroke-width=\"2\" viewBox=\"0 0 24 24\" stroke-linecap=\"round\" stroke-linejoin=\"round\" class=\"icon-sm\" height=\"1em\" width=\"1em\" xmlns=\"http://www.w3.org/2000/svg\"><path d=\"M16 4h2a2 2 0 0 1 2 2v14a2 2 0 0 1-2 2H6a2 2 0 0 1-2-2V6a2 2 0 0 1 2-2h2\"></path><rect x=\"8\" y=\"2\" width=\"8\" height=\"4\" rx=\"1\" ry=\"1\"></rect></svg>Copy code</button>\n",
        "for i in range(10):\n",
        "    print(f\"Iteration {i}\")\n",
        "\n",
        "```\n",
        "It also has a `while` loop:\n",
        "\n",
        "```python<button class=\"flex ml-auto gizmo:ml-0 gap-2 items-center\"><svg stroke=\"currentColor\" fill=\"none\" stroke-width=\"2\" viewBox=\"0 0 24 24\" stroke-linecap=\"round\" stroke-linejoin=\"round\" class=\"icon-sm\" height=\"1em\" width=\"1em\" xmlns=\"http://www.w3.org/2000/svg\"><path d=\"M16 4h2a2 2 0 0 1 2 2v14a2 2 0 0 1-2 2H6a2 2 0 0 1-2-2V6a2 2 0 0 1 2-2h2\"></path><rect x=\"8\" y=\"2\" width=\"8\" height=\"4\" rx=\"1\" ry=\"1\"></rect></svg>Copy code</button>\n",
        "i = 0\n",
        "while i < 10:\n",
        "    print(f\"Iteration {i}\")\n",
        "    i += 1\n",
        "\n",
        "```\n",
        "### 5. Scala:\n",
        "Scala offers both `for` and `while` loops:\n",
        "\n",
        "**For Loop**\n",
        "\n",
        "```scala<button class=\"flex ml-auto gizmo:ml-0 gap-2 items-center\"><svg stroke=\"currentColor\" fill=\"none\" stroke-width=\"2\" viewBox=\"0 0 24 24\" stroke-linecap=\"round\" stroke-linejoin=\"round\" class=\"icon-sm\" height=\"1em\" width=\"1em\" xmlns=\"http://www.w3.org/2000/svg\"><path d=\"M16 4h2a2 2 0 0 1 2 2v14a2 2 0 0 1-2 2H6a2 2 0 0 1-2-2V6a2 2 0 0 1 2-2h2\"></path><rect x=\"8\" y=\"2\" width=\"8\" height=\"4\" rx=\"1\" ry=\"1\"></rect></svg>Copy code</button>\n",
        "//until includes 10\n",
        "for(i <- 0 until 10) {\n",
        "    println(s\"Iteration $i\")\n",
        "}\n",
        "\n",
        "```\n",
        "```scala<button class=\"flex ml-auto gizmo:ml-0 gap-2 items-center\"><svg stroke=\"currentColor\" fill=\"none\" stroke-width=\"2\" viewBox=\"0 0 24 24\" stroke-linecap=\"round\" stroke-linejoin=\"round\" class=\"icon-sm\" height=\"1em\" width=\"1em\" xmlns=\"http://www.w3.org/2000/svg\"><path d=\"M16 4h2a2 2 0 0 1 2 2v14a2 2 0 0 1-2 2H6a2 2 0 0 1-2-2V6a2 2 0 0 1 2-2h2\"></path><rect x=\"8\" y=\"2\" width=\"8\" height=\"4\" rx=\"1\" ry=\"1\"></rect></svg>Copy code</button>\n",
        "//to does not include 10\n",
        "for(i <- 0 to 10) {\n",
        "    println(s\"Iteration $i\")\n",
        "}\n",
        "\n",
        "```\n",
        "**While Loop**\n",
        "\n",
        "```scala<button class=\"flex ml-auto gizmo:ml-0 gap-2 items-center\"><svg stroke=\"currentColor\" fill=\"none\" stroke-width=\"2\" viewBox=\"0 0 24 24\" stroke-linecap=\"round\" stroke-linejoin=\"round\" class=\"icon-sm\" height=\"1em\" width=\"1em\" xmlns=\"http://www.w3.org/2000/svg\"><path d=\"M16 4h2a2 2 0 0 1 2 2v14a2 2 0 0 1-2 2H6a2 2 0 0 1-2-2V6a2 2 0 0 1 2-2h2\"></path><rect x=\"8\" y=\"2\" width=\"8\" height=\"4\" rx=\"1\" ry=\"1\"></rect></svg>Copy code</button>\n",
        "var i = 0\n",
        "while(i < 10) {\n",
        "    println(s\"Iteration $i\")\n",
        "    i += 1\n",
        "}\n",
        "\n",
        "```\n",
        "### 6. Kotlin:\n",
        "Kotlin's loop constructs are similar to other C-style languages:\n",
        "\n",
        "**For Loop**\n",
        "\n",
        "```kotlin<button class=\"flex ml-auto gizmo:ml-0 gap-2 items-center\"><svg stroke=\"currentColor\" fill=\"none\" stroke-width=\"2\" viewBox=\"0 0 24 24\" stroke-linecap=\"round\" stroke-linejoin=\"round\" class=\"icon-sm\" height=\"1em\" width=\"1em\" xmlns=\"http://www.w3.org/2000/svg\"><path d=\"M16 4h2a2 2 0 0 1 2 2v14a2 2 0 0 1-2 2H6a2 2 0 0 1-2-2V6a2 2 0 0 1 2-2h2\"></path><rect x=\"8\" y=\"2\" width=\"8\" height=\"4\" rx=\"1\" ry=\"1\"></rect></svg>Copy code</button>\n",
        "for(i in 0 until 10) {\n",
        "    println(\"Iteration $i\")\n",
        "}\n",
        "\n",
        "```\n",
        "**While Loop**\n",
        "\n",
        "```kotlin<button class=\"flex ml-auto gizmo:ml-0 gap-2 items-center\"><svg stroke=\"currentColor\" fill=\"none\" stroke-width=\"2\" viewBox=\"0 0 24 24\" stroke-linecap=\"round\" stroke-linejoin=\"round\" class=\"icon-sm\" height=\"1em\" width=\"1em\" xmlns=\"http://www.w3.org/2000/svg\"><path d=\"M16 4h2a2 2 0 0 1 2 2v14a2 2 0 0 1-2 2H6a2 2 0 0 1-2-2V6a2 2 0 0 1 2-2h2\"></path><rect x=\"8\" y=\"2\" width=\"8\" height=\"4\" rx=\"1\" ry=\"1\"></rect></svg>Copy code</button>\n",
        "var i = 0\n",
        "while(i < 10) {\n",
        "    println(\"Iteration $i\")\n",
        "    i++\n",
        "}\n",
        "\n",
        "```\n",
        "### 7. Go:\n",
        "Go provides loop constructs similar to C:\n",
        "\n",
        "**For Loop**\n",
        "\n",
        "```go<button class=\"flex ml-auto gizmo:ml-0 gap-2 items-center\"><svg stroke=\"currentColor\" fill=\"none\" stroke-width=\"2\" viewBox=\"0 0 24 24\" stroke-linecap=\"round\" stroke-linejoin=\"round\" class=\"icon-sm\" height=\"1em\" width=\"1em\" xmlns=\"http://www.w3.org/2000/svg\"><path d=\"M16 4h2a2 2 0 0 1 2 2v14a2 2 0 0 1-2 2H6a2 2 0 0 1-2-2V6a2 2 0 0 1 2-2h2\"></path><rect x=\"8\" y=\"2\" width=\"8\" height=\"4\" rx=\"1\" ry=\"1\"></rect></svg>Copy code</button>\n",
        "for i := 0; i < 10; i++ {\n",
        "    fmt.Printf(\"Iteration %d\\n\", i)\n",
        "}\n",
        "\n",
        "```\n",
        "Interestingly, Go doesn't have `while` or `do-while` loops. Instead, it uses the `for` loop to achieve the same:\n",
        "\n",
        "```go<button class=\"flex ml-auto gizmo:ml-0 gap-2 items-center\"><svg stroke=\"currentColor\" fill=\"none\" stroke-width=\"2\" viewBox=\"0 0 24 24\" stroke-linecap=\"round\" stroke-linejoin=\"round\" class=\"icon-sm\" height=\"1em\" width=\"1em\" xmlns=\"http://www.w3.org/2000/svg\"><path d=\"M16 4h2a2 2 0 0 1 2 2v14a2 2 0 0 1-2 2H6a2 2 0 0 1-2-2V6a2 2 0 0 1 2-2h2\"></path><rect x=\"8\" y=\"2\" width=\"8\" height=\"4\" rx=\"1\" ry=\"1\"></rect></svg>Copy code</button>\n",
        "i := 0\n",
        "for i < 10 {\n",
        "    fmt.Printf(\"Iteration %d\\n\", i)\n",
        "    i++\n",
        "}\n",
        "\n",
        "```\n",
        "_____________________________________________________________________________________________\n",
        "These examples illustrate how iterative constructs are expressed across various languages. While the fundamental idea of looping remains consistent, the syntax and specific features can vary, reflecting each language's design philosophy and goals."
      ]
    },
    {
      "cell_type": "code",
      "execution_count": 4,
      "metadata": {
        "colab": {
          "base_uri": "https://localhost:8080/"
        },
        "id": "tEMPtWmT4NLX",
        "outputId": "928419ce-6758-48ad-b9ed-cc326635d3d9"
      },
      "outputs": [
        {
          "name": "stdout",
          "output_type": "stream",
          "text": [
            "Hello 0\n",
            "Hmm 7\n",
            "Hello 1\n",
            "Hmm 8\n",
            "Hello 2\n",
            "Hmm 9\n",
            "Hello 3\n",
            "Hmm 10\n",
            "Hello 4\n",
            "Hmm 11\n",
            "After loop is finished i is 11\n"
          ]
        }
      ],
      "source": [
        "# in Python we use iterate over some iterable\n",
        "# range generates/yields us numbers on demand here from 0 to 4 included\n",
        "# another design issue do you include the last number or not\n",
        "# also do you start with 0 by default?\n",
        "for i in range(5):\n",
        "    print(f\"Hello {i}\")\n",
        "    # design issues what happens if we change i here...\n",
        "    i += 7 # some languages do not let us modify loop variable\n",
        "    print(f\"Hmm {i}\")\n",
        "    # so Python lets us modify loop variable but it reset to the range in the next loop\n",
        "# also i continues living after loop is done\n",
        "print(f\"After loop is finished i is {i}\") # why 11 because ordinarily it would be 4 but I adjusted it"
      ]
    },
    {
      "cell_type": "code",
      "execution_count": null,
      "metadata": {
        "colab": {
          "base_uri": "https://localhost:8080/"
        },
        "id": "cZwEUGse6F5m",
        "outputId": "dda8e502-ee10-42b2-db14-d3ea3ebc6392"
      },
      "outputs": [
        {
          "name": "stdout",
          "output_type": "stream",
          "text": [
            "Going down to floor 11\n",
            "Going down to floor 9\n",
            "Going down to floor 7\n",
            "Going down to floor 5\n",
            "Going down to floor 3\n",
            "Going down to floor 1\n"
          ]
        }
      ],
      "source": [
        "# so in Python we have while loop\n",
        "while i > 0:\n",
        "    print(f\"Going down to floor {i}\")\n",
        "    i -= 2\n",
        "    # Python does not have unary ++i or i--\n",
        "    # you would use i -= 1 when you need i--"
      ]
    },
    {
      "cell_type": "code",
      "execution_count": 3,
      "metadata": {
        "colab": {
          "base_uri": "https://localhost:8080/"
        },
        "id": "IWuFXpKS6l8V",
        "outputId": "81a14d06-fccb-466b-8281-53eb8ea33d11"
      },
      "outputs": [
        {
          "name": "stdout",
          "output_type": "stream",
          "text": [
            "i is now 5000\n",
            "I need to break freeeee! 5003\n",
            "i is now 5003 after loop is done\n"
          ]
        }
      ],
      "source": [
        "# turns out Python does not do while loop \"the shoot first ask questions later\" loop\n",
        "# howevere that is easily solvable\n",
        "\n",
        "i = 5000 # no matter the initial i value the loop will run at least once\n",
        "\n",
        "while True:\n",
        "    print(f\"i is now {i}\")\n",
        "    i += 3\n",
        "    if i > 5:\n",
        "        print(\"I need to break freeeee!\", i)\n",
        "        break # we get out of loop construct\n",
        "\n",
        "print(f\"i is now {i} after loop is done\")"
      ]
    },
    {
      "cell_type": "code",
      "execution_count": null,
      "metadata": {
        "id": "cm2s0jo87hxo"
      },
      "outputs": [],
      "source": [
        "# Note in Python we break out of the inner loop, if we have multiple nested loops\n",
        "# we will have to break out of each loop individually\n",
        "# some languages have a a way of specifying the break level\n"
      ]
    },
    {
      "cell_type": "code",
      "execution_count": null,
      "metadata": {
        "colab": {
          "base_uri": "https://localhost:8080/"
        },
        "id": "M89H7Qc970ou",
        "outputId": "2b6390fb-989f-47ae-9b3b-57650611cd0b"
      },
      "outputs": [
        {
          "name": "stdout",
          "output_type": "stream",
          "text": [
            "Doing something with 1\n",
            "Doing something with 3\n",
            "Doing something with 6\n",
            "Doing something with 6\n",
            "Doing something with 21\n",
            "Doing something with 1\n",
            "Doing something with 2\n",
            "Doing something with 0 1\n",
            "Doing something with 1 3\n",
            "Doing something with 2 6\n",
            "Doing something with 3 6\n",
            "Doing something with 4 21\n",
            "Doing something with 5 1\n",
            "Doing something with 6 2\n",
            "Index 0 and item: 1\n",
            "Index 1 and item: 3\n",
            "Index 2 and item: 6\n",
            "Index 3 and item: 6\n",
            "Index 4 and item: 21\n",
            "Index 5 and item: 1\n",
            "Index 6 and item: 2\n"
          ]
        }
      ],
      "source": [
        "# Iteration based on data structures\n",
        "\n",
        "# turns out we often do no need a loop variable\n",
        "# we just want to loop through some data collection and do something with each element in this collectio\n",
        "\n",
        "my_list = [1,3,6,6,21,1,2]\n",
        "for item in my_list:\n",
        "    print(\"Doing something with\", item)\n",
        "# most modern versions of languages offer something like this\n",
        "# advantage no off by 1 errors\n",
        "# foreach loop in some languages\n",
        "# no need to do the following\n",
        "# ANTI-PATTERN\n",
        "for i in range(len(my_list)):\n",
        "    print(\"Doing something with\", i, my_list[i]) # this shows writer has written too much C code...\n",
        "\n",
        "# MUCH BETTER DO THIS!\n",
        "# if you do need an index, then modern languages offer constructs such\n",
        "# enumeration avoids index out of range errors\n",
        "for i, item in enumerate(my_list):\n",
        "    print(f\"Index {i} and item: {item}\")"
      ]
    },
    {
      "cell_type": "markdown",
      "metadata": {
        "id": "_Ag5SZS8skSA"
      },
      "source": [
        "## Unconditional Branching and controversial goto statements\n",
        "\n",
        "![Mild PI](https://craftofcoding.files.wordpress.com/2013/10/pi_forspaghetti.jpg?w=351)\n",
        "Src: https://craftofcoding.wordpress.com/2013/10/07/what-is-spaghetti-code/\n",
        "\n",
        "Unconditional branching refers to constructs in programming languages that allow for the transfer of control without the need for a specific condition to be satisfied. The most common and notorious form of unconditional branching is the `goto` statement, which transfers control to another part of a program.\n",
        "\n",
        "### Design Issues for Unconditional Branching:\n",
        "\n",
        "- **Syntax and Semantics**: How should the unconditional branch be expressed in the language? Should it use line numbers, labels, or some other form of target identification?\n",
        "- **Scope of Target**: What should be the permissible scope for the target of the branch? Can it jump outside of the current function or procedure, or should it be limited in some way?\n",
        "- **Stack Manipulation**: If the branch transfers control outside of a function or procedure, how should the runtime stack be manipulated?\n",
        "- **Error Handling**: In the presence of branching, how can error situations be gracefully handled? Should there be special constructs or patterns recommended for error handling?\n",
        "\n",
        "### Controversy Surrounding Unconditional Branching:\n",
        "\n",
        "- **Readability and Maintainability**: Critics of unconditional branching, especially the liberal use of `goto`, argue that it can make code harder to read and understand. This is because the control flow becomes non-linear, and it's difficult to reason about the program's behavior.\n",
        "- **Structured Programming**: In the 1960s and 1970s, there was a movement towards structured programming, which advocated for using structured control constructs like loops and conditionals instead of indiscriminate use of `goto`. The famous paper \"Go To Statement Considered Harmful\" by Edsger Dijkstra in 1968 is a seminal work in this direction. Dijkstra argued that the use of `goto` disrupts the top-down structure of programs, making them more challenging to understand and verify.\n",
        "- **Performance Arguments**: Some early proponents of `goto` argued that it can lead to more efficient code, especially in low-level system programming. However, as compilers have evolved and become more sophisticated, they can often generate efficient code without the need for manual optimization using `goto`.\n",
        "- **Error Handling**: Some languages and systems used `goto` as a mechanism for error handling, especially before the advent of more structured exception handling mechanisms. This led to \"spaghetti code\" patterns, which were hard to debug and maintain.\n",
        "- **Legitimate Use Cases**: Over time, many have acknowledged that there are legitimate use cases for unconditional branching, especially in specific optimization scenarios or for handling resources in low-level programming. However, the consensus is that its use should be limited and well-justified.\n",
        "\n",
        "### Modern Take on Unconditional Branching:\n",
        "Most modern high-level languages discourage or limit the use of `goto` or equivalent constructs. Instead, they provide structured alternatives:\n",
        "\n",
        "\n",
        "- **Exception Handling**: Constructs like `try`, `catch`, and `finally` provide a more structured way of dealing with errors and exceptional conditions.\n",
        "- **Loop Control**: Statements like `break` and `continue` in languages like C, Java, and Python allow for more controlled manipulation of loop behavior.\n",
        "- **Functional Constructs**: Functional programming languages or languages with functional features provide mechanisms like higher-order functions, which reduce the need for arbitrary control transfers.\n",
        "- **Pattern Matching**: In some languages, like Haskell or Scala, pattern matching can be used to handle different cases in a structured manner, removing the need for `goto`-like constructs.\n",
        "\n",
        "In conclusion, while unconditional branching has its place in the history of programming and still has niche uses, structured programming constructs have largely replaced it in modern programming practices. The debate surrounding it underscores the importance of readability, maintainability, and verifiability in software development."
      ]
    },
    {
      "cell_type": "markdown",
      "metadata": {
        "id": "mFp8-STn-we9"
      },
      "source": [
        "## Examples of Unconditional Branching in:  Fortran, Basic, C and some others.\n",
        "\n",
        "### 1. FORTRAN:\n",
        "FORTRAN had the `GOTO` statement which could be used for unconditional branching.\n",
        "\n",
        "```fortran<button class=\"flex ml-auto gizmo:ml-0 gap-2 items-center\"><svg stroke=\"currentColor\" fill=\"none\" stroke-width=\"2\" viewBox=\"0 0 24 24\" stroke-linecap=\"round\" stroke-linejoin=\"round\" class=\"icon-sm\" height=\"1em\" width=\"1em\" xmlns=\"http://www.w3.org/2000/svg\"><path d=\"M16 4h2a2 2 0 0 1 2 2v14a2 2 0 0 1-2 2H6a2 2 0 0 1-2-2V6a2 2 0 0 1 2-2h2\"></path><rect x=\"8\" y=\"2\" width=\"8\" height=\"4\" rx=\"1\" ry=\"1\"></rect></svg>Copy code</button>\n",
        "      IF (A .LT. B) GOTO 100\n",
        "      PRINT *, \"A is greater than or equal to B\"\n",
        "      GOTO 200\n",
        "  100 PRINT *, \"A is less than B\"\n",
        "  200 CONTINUE\n",
        "\n",
        "```\n",
        "### 2. Basic:\n",
        "Basic prominently used line numbers and had the `GOTO` statement:\n",
        "\n",
        "```basic<button class=\"flex ml-auto gizmo:ml-0 gap-2 items-center\"><svg stroke=\"currentColor\" fill=\"none\" stroke-width=\"2\" viewBox=\"0 0 24 24\" stroke-linecap=\"round\" stroke-linejoin=\"round\" class=\"icon-sm\" height=\"1em\" width=\"1em\" xmlns=\"http://www.w3.org/2000/svg\"><path d=\"M16 4h2a2 2 0 0 1 2 2v14a2 2 0 0 1-2 2H6a2 2 0 0 1-2-2V6a2 2 0 0 1 2-2h2\"></path><rect x=\"8\" y=\"2\" width=\"8\" height=\"4\" rx=\"1\" ry=\"1\"></rect></svg>Copy code</button>\n",
        "10 IF A < B THEN GOTO 40\n",
        "20 PRINT \"A is greater than or equal to B\"\n",
        "30 GOTO 50\n",
        "40 PRINT \"A is less than B\"\n",
        "50 END\n",
        "\n",
        "\n",
        "\n",
        "```\n",
        "![Pecis](https://laacz.lv/f/txt/ka-pecis-beiskans-maiju-sapratinu-programmet-macija/001-s.jpg)\n",
        "Src: https://laacz.lv/f/txt/ka-pecis-beiskans-maiju-sapratinu-programmet-macija/\n",
        "\n",
        "### 3. C:\n",
        "C has the `goto` statement, but its use is generally discouraged in modern programming in favor of more structured constructs.\n",
        "\n",
        "```c<button class=\"flex ml-auto gizmo:ml-0 gap-2 items-center\"><svg stroke=\"currentColor\" fill=\"none\" stroke-width=\"2\" viewBox=\"0 0 24 24\" stroke-linecap=\"round\" stroke-linejoin=\"round\" class=\"icon-sm\" height=\"1em\" width=\"1em\" xmlns=\"http://www.w3.org/2000/svg\"><path d=\"M16 4h2a2 2 0 0 1 2 2v14a2 2 0 0 1-2 2H6a2 2 0 0 1-2-2V6a2 2 0 0 1 2-2h2\"></path><rect x=\"8\" y=\"2\" width=\"8\" height=\"4\" rx=\"1\" ry=\"1\"></rect></svg>Copy code</button>\n",
        "if (a < b) goto labelA;\n",
        "printf(\"A is greater than or equal to B\\n\");\n",
        "goto labelB;\n",
        "labelA:\n",
        "printf(\"A is less than B\\n\");\n",
        "labelB:\n",
        "// Rest of the code\n",
        "\n",
        "```\n",
        "In C, labels are used as targets for the `goto` statement. It's worth noting that the use of `goto` in C is limited in scope – for example, you can't jump into a different function.\n",
        "\n",
        "Linus famously uses goto inside Linux kernel for error handling\n",
        "\n",
        "![Linux](https://fastbitlab.com/wp-content/uploads/2022/03/Figure-1-13.png)\n",
        "Src: https://fastbitlab.com/linux-device-driver-programming-lecture-47-error-handling/\n",
        "\n",
        "### Other Languages:\n",
        "**4. Python**:\n",
        "Python includes a `goto` statement but it's not built into the language by default. It can be used through a third-party module for educational purposes, but it's not recommended for general use. Instead, Python encourages using structured constructs like loops and exception handling.\n",
        "Here is a library which simulates goto in python:https://github.com/donno2048/pygoto - do not use it in production!\n",
        "\n",
        "**5. Java**:\n",
        "Java decided to avoid the controversies of `goto` by not including it in the language. However, the keyword `goto` is reserved, even though it has no functionality. Instead, Java uses labeled `break` and `continue` statements for specific control flow needs.\n",
        "\n",
        "**6. Pascal**:\n",
        "Pascal was designed with structured programming in mind, and while it did have a `goto` statement, its use was discouraged.\n",
        "\n",
        "**7. Assembly Languages**:\n",
        "In low-level assembly languages, unconditional branching is typically done with various jump instructions (like `JMP` in x86 assembly). Here, the control flow is explicitly managed by the programmer, so unconditional jumps are fundamental to the language.\n",
        "\n",
        "**8. Modern High-Level Languages (like JavaScript, Ruby, etc.)**:\n",
        "Most modern high-level languages either don't include a `goto`-like statement or strongly discourage its use. They offer structured alternatives like loops, conditional statements, and exception handling constructs.\n",
        "\n",
        "_____________________________________________________________________________________________\n",
        "To sum up, while unconditional branching has historical roots in many programming languages, the trend in modern software development has been a shift towards more structured and understandable control flow mechanisms. However, in specific scenarios, especially in low-level or systems programming, unconditional branches can still be found."
      ]
    },
    {
      "cell_type": "markdown",
      "metadata": {
        "id": "Kb4Q3lbdskSB"
      },
      "source": [
        "## Guarded commands - Djikstra's lightbulb moment\n",
        "\n",
        "Guarded commands are an interesting and innovative concept in the realm of programming language design. Introduced by Edsger W. Dijkstra, a renowned computer scientist, the idea was to provide a higher-level way to express non-determinism and concurrency in programs.\n",
        "\n",
        "## Background:\n",
        "In the early days of computer science, there was a growing interest in creating higher-level languages and constructs to represent complex operations. Dijkstra, who was also an advocate for structured programming, recognized the challenges posed by concurrency and non-deterministic behaviors in programs.\n",
        "\n",
        "## Guarded Commands:\n",
        "A guarded command has the form:\n",
        "\n",
        "```bash<button class=\"flex ml-auto gizmo:ml-0 gap-2 items-center\"><svg stroke=\"currentColor\" fill=\"none\" stroke-width=\"2\" viewBox=\"0 0 24 24\" stroke-linecap=\"round\" stroke-linejoin=\"round\" class=\"icon-sm\" height=\"1em\" width=\"1em\" xmlns=\"http://www.w3.org/2000/svg\"><path d=\"M16 4h2a2 2 0 0 1 2 2v14a2 2 0 0 1-2 2H6a2 2 0 0 1-2-2V6a2 2 0 0 1 2-2h2\"></path><rect x=\"8\" y=\"2\" width=\"8\" height=\"4\" rx=\"1\" ry=\"1\"></rect></svg>Copy code</button>\n",
        "guard -> command\n",
        "\n",
        "```\n",
        "The idea is simple: if the `guard` (a boolean expression) evaluates to true, then the `command` can be executed. If the `guard` evaluates to false, the `command` is skipped.\n",
        "\n",
        "Now, consider a set of such guarded commands:\n",
        "\n",
        "```rust<button class=\"flex ml-auto gizmo:ml-0 gap-2 items-center\"><svg stroke=\"currentColor\" fill=\"none\" stroke-width=\"2\" viewBox=\"0 0 24 24\" stroke-linecap=\"round\" stroke-linejoin=\"round\" class=\"icon-sm\" height=\"1em\" width=\"1em\" xmlns=\"http://www.w3.org/2000/svg\"><path d=\"M16 4h2a2 2 0 0 1 2 2v14a2 2 0 0 1-2 2H6a2 2 0 0 1-2-2V6a2 2 0 0 1 2-2h2\"></path><rect x=\"8\" y=\"2\" width=\"8\" height=\"4\" rx=\"1\" ry=\"1\"></rect></svg>Copy code</button>\n",
        "guard1 -> command1\n",
        "guard2 -> command2\n",
        "...\n",
        "guardN -> commandN\n",
        "\n",
        "```\n",
        "When these are grouped together in a `select` construct, one of the commands whose guard is true is chosen for execution. If multiple guards are true, then any one of them could be selected non-deterministically. This introduces intentional non-determinism in the programming construct, meaning the language or system can choose any true guard to act upon, without any specific order.\n",
        "\n",
        "## Dijkstra's Introduction:\n",
        "Dijkstra introduced the concept of guarded commands as a solution to various synchronization and concurrency problems. He believed that introducing non-determinism at the language level would allow programmers to more naturally express concurrency and synchronization without being overly specific about the underlying mechanics. This could then be mapped to various concurrency mechanisms at the system level.\n",
        "\n",
        "For Dijkstra, guarded commands were a way to bridge the gap between high-level descriptions of algorithms and their concrete implementations. By introducing non-determinism as an intentional, first-class construct, he aimed to create a cleaner separation between the specification of what a program should do and the details of how it achieves that behavior.\n",
        "\n",
        "## Example:\n",
        "Consider the classic problem of mutual exclusion. Two processes, P and Q, want to enter their critical sections but must ensure that they don't do so simultaneously. Using guarded commands:\n",
        "\n",
        "```css<button class=\"flex ml-auto gizmo:ml-0 gap-2 items-center\"><svg stroke=\"currentColor\" fill=\"none\" stroke-width=\"2\" viewBox=\"0 0 24 24\" stroke-linecap=\"round\" stroke-linejoin=\"round\" class=\"icon-sm\" height=\"1em\" width=\"1em\" xmlns=\"http://www.w3.org/2000/svg\"><path d=\"M16 4h2a2 2 0 0 1 2 2v14a2 2 0 0 1-2 2H6a2 2 0 0 1-2-2V6a2 2 0 0 1 2-2h2\"></path><rect x=\"8\" y=\"2\" width=\"8\" height=\"4\" rx=\"1\" ry=\"1\"></rect></svg>Copy code</button>\n",
        "[ P wants to enter ]\n",
        "P_can_enter -> enter_P_critical_section\n",
        "\n",
        "[ Q wants to enter ]\n",
        "Q_can_enter -> enter_Q_critical_section\n",
        "\n",
        "```\n",
        "The system will only allow either `P` or `Q` to enter their critical section if their respective guard evaluates to true, ensuring mutual exclusion.\n",
        "\n",
        "## Influence:\n",
        "Guarded commands influenced several subsequent research areas, including formal methods for program verification and the design of concurrent programming languages. While they might not be directly present in most mainstream languages today, the principles of high-level abstraction, non-determinism, and structured concurrency that they championed can be seen in various forms across modern programming paradigms.\n"
      ]
    },
    {
      "cell_type": "markdown",
      "metadata": {
        "id": "F7tN_Ct0-we-"
      },
      "source": [
        "## Conclusions\n",
        "\n",
        "From our discussion of various statement-level control structures across different programming languages, we can draw several conclusions:\n",
        "\n",
        "\n",
        "- **Evolution towards Structured Programming**: Early programming languages provided primitive control structures, like the unconditional `GOTO` statements. As the software development industry matured, there was a strong shift towards structured programming. This evolution was influenced by the need for better program readability, maintainability, and the desire to reduce bugs associated with \"spaghetti code.\"\n",
        "- **Expressiveness vs. Simplicity**: The design of control structures often strikes a balance between expressiveness and simplicity. While some languages offer a plethora of control structures, catering to every conceivable scenario, others prefer minimalism, allowing the developer to build complex structures from simple primitives. The trade-off is between giving power to the programmer and ensuring that the language remains elegant and easy to learn.\n",
        "- **Common Patterns Across Languages**: Despite the diverse set of programming languages available, there are common patterns in how control flow is managed. Constructs like loops (for, while), conditionals (if-else), and switches/case structures appear across many languages, albeit with syntactic variations.\n",
        "- **Introduction of High-Level Constructs**: As concurrency and parallelism have become integral in modern software due to multi-core processors, there's been a push towards high-level constructs that allow for easier parallel and concurrent programming. Concepts like guarded commands, introduced by Dijkstra, show how language design can abstract complex concurrency issues.\n",
        "- **Non-determinism and Concurrency**: Handling non-determinism and concurrency remains a challenge. While guarded commands offer one approach, modern languages often incorporate sophisticated mechanisms like async/await, futures, and promises to handle concurrency and parallelism in an intuitive manner.\n",
        "- **Impact of Paradigm**: The paradigm of a language (imperative, functional, object-oriented, etc.) influences its control structures. For instance, functional languages might emphasize recursion over iteration and might not have traditional loop constructs.\n",
        "- **Backlash Against Unrestricted Control Transfer**: There's a general consensus against unrestricted control transfer mechanisms like the `GOTO` statement. The potential for misuse and the resulting challenges in understanding, maintaining, and verifying such code have led to restricted use or complete omission of such constructs in modern high-level languages.\n",
        "- **Safety and Clarity**: Modern language design emphasizes safety. The push is for constructs that reduce the potential for bugs and make the code's intention clear. This is seen in the evolution of error handling from `GOTO`-based error routines to structured exception handling.\n",
        "\n",
        "In conclusion, the design and evolution of statement-level control structures reflect the broader trends and challenges in software development. As our understanding of programming has matured and the problems we tackle have evolved, so too have the tools and constructs provided by programming languages.\n"
      ]
    },
    {
      "cell_type": "markdown",
      "metadata": {
        "id": "f2puIFDu-we-"
      },
      "source": [
        "## Exception Handling - control structures?\n",
        "\n",
        "Exception handling mechanisms can indeed be considered a form of control structure. Exception handling introduces a new dimension to control flow, allowing programs to react to unexpected situations (exceptions) by diverting the control flow to specific segments of code (handlers or catch blocks) meant to deal with such situations.\n",
        "\n",
        "Here's a breakdown of how exception handling works as a control structure:\n",
        "\n",
        "\n",
        "- **Structured Control Flow Alteration**: Exception handling mechanisms, like `try-catch-finally` in many languages, allow for a structured way to divert control flow. When an exception occurs within a `try` block, the program control jumps to the corresponding `catch` block, bypassing any subsequent code in the `try` block.\n",
        "- **Propagation**: If an exception is not caught in a given context (like within a function or method), many languages allow it to propagate up the call stack, offering higher-level parts of the program a chance to handle the exception. This propagation continues until an appropriate handler is found or the program terminates. This mechanism introduces a new, structured way for control to flow through a program.\n",
        "- **Scope and Lifetime Management**: The introduction of exception handling can impact the scope and lifetime of variables. For instance, when an exception occurs, local variables within a function might be cleaned up before control is passed to an exception handler.\n",
        "- **Explicit Exception Handling Flow**: Exception handling allows for explicit control paths meant for error situations. This makes the \"happy path\" (normal execution) more readable and separates the error-handling logic, improving code organization and clarity.\n",
        "- **Finally and Cleanup**: Constructs like the `finally` block in Java or C# ensure that certain segments of code are always executed, regardless of whether an exception occurred. This is especially useful for cleanup operations, such as closing files or network connections.\n",
        "- **Conditional Handling**: Many languages allow multiple `catch` blocks, each handling a specific type of exception. This is analogous to a switch-case or if-else structure, but for exception types. The first matching catch block is executed, providing a way to handle different error conditions differently.\n",
        "\n",
        "Given these characteristics, it's clear that exception handling mechanisms introduce new ways to control the flow of a program. They add complexity to the control structures but, when used judiciously, can lead to cleaner, more maintainable, and more resilient code."
      ]
    },
    {
      "cell_type": "code",
      "execution_count": 6,
      "metadata": {},
      "outputs": [
        {
          "name": "stdout",
          "output_type": "stream",
          "text": [
            "Your number is 77 and result is 154\n"
          ]
        }
      ],
      "source": [
        "# Example of handling input with try except in Python\n",
        "user_input = input(\"Please enter a number: \")\n",
        "try:\n",
        "    number = int(user_input) # so it is possible user enters something that is not a number\n",
        "    # then control will be transferred to except block and we can handle the error\n",
        "    # importantly the line below will not be accesed if an exception is raised\n",
        "    result = number * 2 # so this is safe to do\n",
        "    print(f\"Your number is {number} and result is {result}\")\n",
        "except ValueError:\n",
        "    print(\"You did not enter a number\")"
      ]
    },
    {
      "cell_type": "code",
      "execution_count": 8,
      "metadata": {},
      "outputs": [
        {
          "name": "stdout",
          "output_type": "stream",
          "text": [
            "Your number is 99 and result is 198\n"
          ]
        }
      ],
      "source": [
        "# alternatively we could use if else but it is not as nice in Python to handle user input\n",
        "# as we would have to check if user input is a number\n",
        "user_input = input(\"Please enter a number: \")\n",
        "if user_input.isdigit(): # in some languages you would have to write your own is_digit function\n",
        "    number = int(user_input)\n",
        "    result = number * 2\n",
        "    print(f\"Your number is {number} and result is {result}\")\n",
        "else:\n",
        "    print(\"You did not enter a number\")"
      ]
    },
    {
      "cell_type": "markdown",
      "metadata": {
        "id": "ukPSPQpr-we-"
      },
      "source": [
        "## Flowcharts - help or hindrance?\n",
        "\n",
        "Flowcharts are visual representations of algorithms, processes, or workflows. They use standardized symbols and shapes to depict specific steps and the flow of control between those steps. In the context of programming and control structures, flowcharts play several roles:\n",
        "\n",
        "\n",
        "- **Visualization of Control Flow**: Control structures determine how the execution of a program progresses. Flowcharts vividly illustrate this flow, making it easy to follow how a program might execute under different conditions. For instance, decision points (like `if-else` conditions) can be represented by diamond shapes, while processes or operations can be represented by rectangles.\n",
        "- **Understanding Complex Logic**: For intricate programs with nested control structures or multiple branching points, a flowchart can provide clarity. By seeing the entire flow visually, developers can better grasp the program's logic, making it easier to understand, debug, or optimize.\n",
        "- **Design and Planning**: Before diving into coding, flowcharts can be employed to plan the logic of an application. This planning phase allows developers and teams to ensure the logic is sound and to identify potential pitfalls or redundancies in the design.\n",
        "- **Documentation and Communication**: Flowcharts act as a form of documentation, making it simpler for other team members, stakeholders, or future developers to understand the system's logic without diving deep into the code. This visual documentation aids in communication, especially when discussing system behavior or potential modifications.\n",
        "- **Teaching and Learning**: For beginners learning about control structures, flowcharts offer a hands-on, visual method to understand programming constructs. They can see how loops, conditionals, and other control structures manipulate the flow of a program, providing a foundational understanding before diving into actual coding.\n",
        "- **Bridging the Gap Between Non-technical and Technical Stakeholders**: In scenarios where technical and non-technical stakeholders need to collaborate (e.g., when building business processes), flowcharts serve as a neutral tool, ensuring both parties have a shared understanding of the process or logic.\n",
        "- **Historical Significance**: Before the rise of high-level programming languages, flowcharts were a primary tool for designing and understanding software. Even as programming languages became more sophisticated, the use of flowcharts persisted, especially in business and systems analysis contexts.\n",
        "- **Limitations**: While flowcharts are valuable, they have limitations. For highly complex systems, flowcharts can become unwieldy and hard to follow. They might not capture all nuances of modern programming constructs, especially for concepts like concurrency or advanced data manipulations.\n",
        "\n",
        "In conclusion, flowcharts play a pivotal role in representing, designing, and understanding control structures within algorithms and programs. They provide a visual language that complements textual programming languages, allowing for enhanced clarity and communication."
      ]
    },
    {
      "cell_type": "markdown",
      "metadata": {
        "id": "sqClRnbc-we-"
      },
      "source": [
        "## Tools for understanding control structures\n",
        "\n",
        "Various tools and methodologies can be used to understand, visualize, and implement control structures in software development. Here are some of them:\n",
        "\n",
        "\n",
        "- **Pseudocode**: This is a method of writing down the logic of a program in a human-readable format that mimics the structure of an actual programming language but is not meant for execution. Pseudocode allows developers to plan out the control structures and the flow of a program without worrying about the specific syntax of a programming language.\n",
        "- **Integrated Development Environments (IDEs)**: Modern IDEs offer tools like syntax highlighting, code folding, and visual indentation, which help in reading and understanding control structures in the code. Some IDEs even offer a step-through debugging mode where developers can execute code line by line, observing the flow and impact of control structures in real-time.\n",
        "- **UML (Unified Modeling Language)**: UML provides various diagrams that can represent the static and dynamic behavior of a system. The activity diagram, in particular, can be seen as a flowchart on steroids, which allows for the representation of more complex control structures, including concurrency.\n",
        "- **Source Code Visualization Tools**: Tools like Code2Flow and Sourcetrail can automatically generate flowcharts or visual representations from existing source code, making it easier to understand the control flow.\n",
        "- **Static Code Analysis Tools**: These tools analyze source code without executing it. They can detect complex control structures, potential dead code, or paths in the code that might be problematic. Examples include SonarQube, ESLint, and many others specific to various programming languages.\n",
        "- **State Machines**: For systems where the flow revolves around transitioning between states (like in embedded systems or UI development), state machine diagrams can be used to visualize and understand the control structures governing state transitions.\n",
        "- **Formal Methods**: These are math-based techniques and tools used to specify and verify systems. While they might be overkill for many applications, in systems where correctness is paramount (e.g., aerospace, nuclear), formal methods can be used to ensure that control structures behave as expected.\n",
        "- **Profiling Tools**: While primarily used for performance optimization, profiling tools can also give insights into which parts of the control structures are executed most frequently, helping in understanding the runtime behavior of the code.\n",
        "- **Unit Testing and Test Coverage Tools**: By writing unit tests, developers can ensure that all branches of control structures are executed and behave as expected. Test coverage tools can then report on which parts of the control structures have been tested and which have not, ensuring comprehensive testing.\n",
        "- **Interactive Notebooks**: Tools like Jupyter for Python allow for interactive execution of code snippets. This can be helpful in understanding control structures as developers can modify and execute parts of the code on-the-fly, observing the results immediately.\n",
        "- **Rubber Duck Debugging**: Though not a \"tool\" in the traditional sense, this technique involves explaining your code (and its control structures) line-by-line to an inanimate object (like a rubber duck). The act of explaining can often help clarify understanding or even identify issues.\n",
        "\n"
      ]
    },
    {
      "cell_type": "markdown",
      "metadata": {
        "id": "Z-mKLPDZ-we_"
      },
      "source": [
        "## Statement Level control structures vs Block Level control structures\n",
        "\n",
        "Control structures in programming dictate the flow of a program's execution. These structures can generally be grouped into two main categories: statement-level control structures and higher-level control structures. Let's explore the differences between the two:\n",
        "\n",
        "\n",
        "- **Statement-Level Control Structures**:\n",
        "   - **Scope**: These control structures pertain to individual statements or groups of statements.\n",
        "   - **Purpose**: Their primary purpose is to determine the order in which individual statements or groups of statements are executed.\n",
        "   - **Types**:\n",
        "      - **Sequence**: The default mode where statements are executed sequentially.\n",
        "      - **Selection**: Decides among alternative routes based on conditions, e.g., `if`, `if-else`, `switch-case`.\n",
        "      - **Iteration**: Enables statements to be executed repeatedly based on a condition or a set of values, e.g., `for`, `while`, `do-while`.\n",
        "      - **Unconditional Branching**: Redirects the execution flow without a condition, e.g., `goto` (though its use is discouraged in modern programming).\n",
        "   - **Higher-Level Control Structures**:\n",
        "   - **Scope**: These structures operate at a higher level, often involving entire sections of a program or even separate programs or modules.\n",
        "   - **Purpose**: Their main goal is to enable and control interactions among larger program units or handle exceptional conditions.\n",
        "   - **Types**:\n",
        "      - **Subprogram Control**: Manages the invocation, parameter passing, and return from subprograms, procedures, or functions. It establishes how control is passed between the main program and the subroutine.\n",
        "      - **Concurrency Control**: Manages the execution of multiple threads or processes in parallel or concurrent execution, e.g., synchronization primitives like semaphores, monitors, and locks.\n",
        "      - **Exception Handling**: Controls the flow when exceptions or errors occur, allowing the program to handle or recover from exceptional situations, e.g., `try-catch-finally` blocks.\n",
        "      - **Package and Module Control**: Manages the interactions among different modules or packages in a program, ensuring encapsulation, separation of concerns, and potentially, lazy-loading or dynamic linking.\n",
        "   \n",
        "**Key Differences**:\n",
        "\n",
        "\n",
        "- **Granularity**: Statement-level control structures are concerned with the flow of individual statements or small groups of statements, while higher-level control structures are concerned with larger chunks of code, like subprograms or even entire modules.\n",
        "- **Purpose**: Statement-level structures are generally about dictating the basic flow of execution (sequence, choice, repetition), whereas higher-level structures deal with interactions between larger components, error and event handling, or managing parallel tasks.\n",
        "- **Complexity**: While statement-level control structures are fundamental and found in almost every program, higher-level control structures can introduce added complexity, as they might involve aspects like memory management, synchronization, or inter-process communication.\n",
        "\n",
        "Both categories of control structures are crucial for creating efficient, readable, and maintainable software, but they operate at different levels of abstraction."
      ]
    },
    {
      "cell_type": "markdown",
      "metadata": {
        "id": "qnLYKFKUskSC"
      },
      "source": []
    }
  ],
  "metadata": {
    "colab": {
      "provenance": [],
      "toc_visible": true
    },
    "kernelspec": {
      "display_name": "Python 3",
      "language": "python",
      "name": "python3"
    },
    "language_info": {
      "codemirror_mode": {
        "name": "ipython",
        "version": 3
      },
      "file_extension": ".py",
      "mimetype": "text/x-python",
      "name": "python",
      "nbconvert_exporter": "python",
      "pygments_lexer": "ipython3",
      "version": "3.12.1"
    },
    "orig_nbformat": 4
  },
  "nbformat": 4,
  "nbformat_minor": 0
}
