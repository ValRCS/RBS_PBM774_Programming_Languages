{
  "cells": [
    {
      "cell_type": "markdown",
      "metadata": {
        "id": "IpH23SVjskRz"
      },
      "source": [
        " # Statement level control structures\n",
        "\n",
        " ## Ch.8 in Sebesta - Concepts of programming languages\n",
        "by Robert W. Sebesta (Author)\n",
        "\n",
        "Abstract by Valdis Saulespurens (GPT-3 assisted)\n",
        "\n",
        " ## Outline\n",
        "\n",
        " * Selection statements\n",
        " * Iteration statements\n",
        " * Unconditional jump statements - unconditional branching\n",
        " * Guarded commands - guarded branching"
      ]
    },
    {
      "cell_type": "markdown",
      "metadata": {
        "id": "0vdsYxONskR6"
      },
      "source": [
        "## Selection statements\n",
        "\n",
        "In programming languages, a selection statement is a type of control structure that allows a program to make decisions and execute different code blocks based on a given condition. Selection statements are often used in programming to create branching paths in the execution flow of a program.\n",
        "\n",
        "The most common type of selection statement is the \"if\" statement, which allows a program to execute a certain block of code only if a particular condition is true. For example, in the following code snippet, the program will only execute the print statement if the value of x is greater than 10:\n",
        "\n",
        "```\n",
        "if (x > 10) {\n",
        "  System.out.println(\"x is greater than 10\");\n",
        "}\n",
        "```\n",
        "In addition to the \"if\" statement, many programming languages also support \"if-else\" statements, which allow the program to execute one block of code if a condition is true, and a different block of code if the condition is false. For example, in the following code snippet, the program will execute the first print statement if the value of x is greater than 10, and the second print statement if it is not:\n",
        "\n",
        "```\n",
        "if (x > 10) {\n",
        "  System.out.println(\"x is greater than 10\");\n",
        "} else {\n",
        "  System.out.println(\"x is less than or equal to 10\");\n",
        "}\n",
        "```\n",
        "Some programming languages also support more advanced selection statements, such as the \"switch\" statement, which allows a program to select one of several possible code paths based on the value of a variable. Overall, selection statements are an important tool for programmers to create dynamic, flexible programs that can respond to changing conditions and inputs."
      ]
    },
    {
      "cell_type": "code",
      "execution_count": 2,
      "metadata": {
        "id": "WvvVegCfskR7",
        "outputId": "cf529b62-4a4d-4d75-8578-f0126d0106a4",
        "colab": {
          "base_uri": "https://localhost:8080/"
        }
      },
      "outputs": [
        {
          "output_type": "stream",
          "name": "stdout",
          "text": [
            "Five is greater than two!\n",
            "We can do more stuff as well\n",
            "This work seven if 5 is not larger than 2\n"
          ]
        }
      ],
      "source": [
        "# Python if statement uses indentation\n",
        "\n",
        "# if statement\n",
        "if 5 > 2:\n",
        "    print(\"Five is greater than two!\")\n",
        "    print(\"We can do more stuff as well\")\n",
        "\n",
        "print(\"This works seven if 5 is not larger than 2\")\n"
      ]
    },
    {
      "cell_type": "code",
      "source": [
        "a = 2\n",
        "b = 4\n",
        "is_sky_blue = True\n",
        "if a*a == 4 and is_sky_blue and 100 < 9_000:\n",
        "    print(\"this is all good\")\n",
        "    print(\"We are still in the if true branch\")\n",
        "else:\n",
        "    print(\"Some part is not so good\")\n",
        "    print(\"Still in the if false branch\")"
      ],
      "metadata": {
        "id": "SzdHA619tMSR",
        "outputId": "0604b7f4-d967-4afc-e6a6-4b08bc14f923",
        "colab": {
          "base_uri": "https://localhost:8080/"
        }
      },
      "execution_count": 7,
      "outputs": [
        {
          "output_type": "stream",
          "name": "stdout",
          "text": [
            "Some part is not so good\n",
            "Still in the if false branch\n"
          ]
        }
      ]
    },
    {
      "cell_type": "markdown",
      "metadata": {
        "id": "5G7IIyoSskR-"
      },
      "source": [
        "## The design issues for two-way selectors \n",
        "\n",
        "* What is the form and type of the expression that controls the selection?\n",
        "* How are the then and else clauses specified?\n",
        "* How should the meaning of nested selectors be specified?\n",
        "\n",
        "Form and type of the expression that controls the selection: This refers to the syntax and data type of the condition that determines which path of execution to take. The condition might be a simple boolean expression, or it could be more complex, involving logical operators, relational operators, and other constructs.\n",
        "\n",
        "Specification of the then and else clauses: The then clause is the block of code that gets executed if the condition in the selection statement is true, while the else clause is the block of code that gets executed if the condition is false. The syntax and semantics of these clauses will depend on the programming language being used.\n",
        "\n",
        "Specification of nested selectors: When a selector statement is nested inside another selector statement, the semantics can become more complex, and it may be necessary to define rules for how the selection conditions are evaluated and which code paths are followed. This can include rules for handling ambiguous or overlapping conditions, as well as rules for determining which nested selector takes precedence over others."
      ]
    },
    {
      "cell_type": "code",
      "source": [
        "a = 65\n",
        "if a > 50:\n",
        "    print(\"a is over 50\")\n",
        "    if a > 70:\n",
        "        print(\"a is over 70\")\n",
        "    else: # with Python indentation helps with nested selectors\n",
        "        print(\"a is between 51 and 70\", a)\n",
        "else:\n",
        "    print(\"a is 50 or less\", a)"
      ],
      "metadata": {
        "id": "0e_DMgjhuuU5",
        "outputId": "49876b2f-29e4-4ab6-d3af-70c4850212f3",
        "colab": {
          "base_uri": "https://localhost:8080/"
        }
      },
      "execution_count": 9,
      "outputs": [
        {
          "output_type": "stream",
          "name": "stdout",
          "text": [
            "a is over 50\n",
            "a is between 51 and 70 65\n"
          ]
        }
      ]
    },
    {
      "cell_type": "code",
      "source": [
        "# generally we want to flatten the nested ifs\n",
        "if a > 70:\n",
        "    print(\"a is over 70\")\n",
        "elif a > 50:\n",
        "    # with Python indentation helps with nested selectors\n",
        "    print(\"a is between 51 and 70\", a)\n",
        "else:\n",
        "    print(\"a is 50 or less\", a)\n",
        "\n",
        "# another approach to refactor nested ifs would be to create functions for inner ifs\n",
        "\n",
        "# finally to flatten we could use some early returns in functions"
      ],
      "metadata": {
        "id": "Vbces0-PvLeS"
      },
      "execution_count": null,
      "outputs": []
    },
    {
      "cell_type": "code",
      "source": [
        "# in Python we end up with long if elif elif elif elif chains\n",
        "# at least we did before Python 3.10\n",
        "# unfortunately Google Colab is still on Python version..\n",
        "!python --version"
      ],
      "metadata": {
        "id": "srSfBqmWwrUI",
        "outputId": "deb46dae-58bd-4077-bb01-14867f4f2f48",
        "colab": {
          "base_uri": "https://localhost:8080/"
        }
      },
      "execution_count": 10,
      "outputs": [
        {
          "output_type": "stream",
          "name": "stdout",
          "text": [
            "Python 3.8.10\n"
          ]
        }
      ]
    },
    {
      "cell_type": "code",
      "source": [
        "# starting with Python 3.10 we have match syntax (stronger than switch case in C++)\n",
        "# https://peps.python.org/pep-0636/\n",
        "\n"
      ],
      "metadata": {
        "id": "OxD0J2IVw_Jr"
      },
      "execution_count": null,
      "outputs": []
    },
    {
      "cell_type": "code",
      "source": [
        "# in many languages variable of some enum data type make for great switch case\n",
        "# for readability reasons\n",
        "# also your IDE will yell at you if you forget to cover some enum value\n",
        "\n"
      ],
      "metadata": {
        "id": "ScWdX0vexe3m"
      },
      "execution_count": null,
      "outputs": []
    },
    {
      "cell_type": "markdown",
      "metadata": {
        "id": "liZQ5-AjskR_"
      },
      "source": [
        "## Iterative statements\n",
        "\n",
        "In programming languages, iterative statements are control structures that allow a program to repeatedly execute a block of code, either a fixed or variable number of times, until a particular condition is met.\n",
        "\n",
        "The statement correctly points out that an iterative statement may cause a statement or collection of statements to be executed zero, one, or more times. This is because some loop constructs may terminate immediately if the loop condition is not met, while others may run indefinitely if the loop condition is never satisfied. The ability to execute a loop zero times is particularly useful when the loop condition is not initially met and the loop body should not be executed at all.\n",
        "\n",
        "The statement also notes that iterative statements are often called loops. This is because the loop construct causes the program to repeatedly execute the same block of code, giving the appearance of the program \"looping\" back to the start of the block of code after each iteration."
      ]
    },
    {
      "cell_type": "markdown",
      "metadata": {
        "id": "UltpqqpJskR_"
      },
      "source": [
        "Iterative counter-controlled statements are a type of loop construct in programming languages that execute a block of code a fixed number of times, with the number of iterations determined by a counter variable. The following are some design issues that need to be considered when implementing iterative counter-controlled statements:\n",
        "\n",
        "1. Initialization of counter variable: The counter variable must be initialized before the loop begins, typically with an initial value. The initialization must be performed correctly and ensure that the loop executes the correct number of times.\n",
        "\n",
        "2. Condition for continuing the loop: A condition needs to be specified that determines whether the loop continues or terminates. Typically, the loop continues as long as the counter variable meets a specific condition.\n",
        "\n",
        "3. Updating the counter variable: The counter variable must be updated after each iteration of the loop. This update ensures that the loop executes the correct number of times.\n",
        "\n",
        "4. Iteration step: The amount by which the counter variable is incremented or decremented after each iteration is known as the iteration step. The iteration step needs to be specified correctly to ensure that the loop executes the correct number of times.\n",
        "\n",
        "5. Loop body: The code to be executed inside the loop body should be carefully designed to ensure that it performs the desired function without creating any unintended side effects.\n",
        "\n",
        "6. Nested loops: When using nested loops, care must be taken to ensure that the counter variables of the inner and outer loops do not interfere with each other.\n",
        "\n",
        "7. Loop termination: It is important to ensure that the loop terminates under all circumstances. This can be achieved by specifying the correct termination condition and by testing the condition for termination at the beginning or end of the loop."
      ]
    },
    {
      "cell_type": "code",
      "source": [
        "# in Python we use iterate over some iterable\n",
        "# range generates/yields us numbers on demand here from 0 to 4 included\n",
        "# another design issue do you include the last number or not\n",
        "# also do you start with 0 by default?\n",
        "for i in range(5):\n",
        "    print(f\"Hello {i}\")\n",
        "    # design issues what happens if we change i here...\n",
        "    i += 7 # some languages do not let us modify loop variable\n",
        "    print(f\"Hmm {i}\")\n",
        "    # so Python lets us modify loop variable but it reset to the range in the next loop\n",
        "# also i continues living after loop is done\n",
        "print(f\"After loop is finished i is {i}\") # why 11 because ordinarily it would be 4 but I adjusted it"
      ],
      "metadata": {
        "id": "tEMPtWmT4NLX",
        "outputId": "928419ce-6758-48ad-b9ed-cc326635d3d9",
        "colab": {
          "base_uri": "https://localhost:8080/"
        }
      },
      "execution_count": 13,
      "outputs": [
        {
          "output_type": "stream",
          "name": "stdout",
          "text": [
            "Hello 0\n",
            "Hmm 7\n",
            "Hello 1\n",
            "Hmm 8\n",
            "Hello 2\n",
            "Hmm 9\n",
            "Hello 3\n",
            "Hmm 10\n",
            "Hello 4\n",
            "Hmm 11\n",
            "After loop is finished i is 11\n"
          ]
        }
      ]
    },
    {
      "cell_type": "code",
      "source": [
        "# so in Python we have while loop\n",
        "while i > 0:\n",
        "    print(f\"Going down to floor {i}\")\n",
        "    i -= 2\n",
        "    # Python does not have unary ++i or i--\n",
        "    # you would use i -= 1 when you need i--"
      ],
      "metadata": {
        "id": "cZwEUGse6F5m",
        "outputId": "dda8e502-ee10-42b2-db14-d3ea3ebc6392",
        "colab": {
          "base_uri": "https://localhost:8080/"
        }
      },
      "execution_count": 14,
      "outputs": [
        {
          "output_type": "stream",
          "name": "stdout",
          "text": [
            "Going down to floor 11\n",
            "Going down to floor 9\n",
            "Going down to floor 7\n",
            "Going down to floor 5\n",
            "Going down to floor 3\n",
            "Going down to floor 1\n"
          ]
        }
      ]
    },
    {
      "cell_type": "code",
      "source": [
        "# turns out Python does not do while loop \"the shoot first ask questions later\" loop\n",
        "# howevere that is easily solvable\n",
        "\n",
        "i = 5000 # no matter the initial i value the loop will run at least once\n",
        "\n",
        "while True:\n",
        "    print(f\"i is now {i}\")\n",
        "    i += 3\n",
        "    if i > 5:\n",
        "        print(\"I need to break freeeee!\", i)\n",
        "        break # we get out of loop construct\n",
        "\n",
        "print(f\"i is now {i} after loop is done\")"
      ],
      "metadata": {
        "id": "IWuFXpKS6l8V",
        "outputId": "dd2bb207-12c3-4654-8ec1-900ef6b5acda",
        "colab": {
          "base_uri": "https://localhost:8080/"
        }
      },
      "execution_count": 16,
      "outputs": [
        {
          "output_type": "stream",
          "name": "stdout",
          "text": [
            "i is now 5000\n",
            "I need to break freeeee! 5003\n",
            "i is now 5003 after loop is done\n"
          ]
        }
      ]
    },
    {
      "cell_type": "code",
      "source": [
        "# Note in Python we break out of the inner loop, if we have multiple nested loops\n",
        "# we will have to break out of each loop individually\n",
        "# some languages have a a way of specifying the break level \n"
      ],
      "metadata": {
        "id": "cm2s0jo87hxo"
      },
      "execution_count": null,
      "outputs": []
    },
    {
      "cell_type": "code",
      "source": [
        "# Iteration based on data structures\n",
        "\n",
        "# turns out we often do no need a loop variable \n",
        "# we just want to loop through some data collection and do something with each element in this collectio\n",
        "\n",
        "my_list = [1,3,6,6,21,1,2]\n",
        "for item in my_list:\n",
        "    print(\"Doing something with\", item)\n",
        "# most modern versions of languages offer something like this\n",
        "# advantage no off by 1 errors\n",
        "# foreach loop in some languages\n",
        "# no need to do the following\n",
        "# ANTI-PATTERN\n",
        "for i in range(len(my_list)):\n",
        "    print(\"Doing something with\", i, my_list[i]) # this shows writer has written too much C code...\n",
        "\n",
        "# MUCH BETTER DO THIS!\n",
        "# if you do need an index, then modern languages offer constructs such\n",
        "# enumeration avoids index out of range errors\n",
        "for i, item in enumerate(my_list):\n",
        "    print(f\"Index {i} and item: {item}\")"
      ],
      "metadata": {
        "id": "M89H7Qc970ou",
        "outputId": "2b6390fb-989f-47ae-9b3b-57650611cd0b",
        "colab": {
          "base_uri": "https://localhost:8080/"
        }
      },
      "execution_count": 19,
      "outputs": [
        {
          "output_type": "stream",
          "name": "stdout",
          "text": [
            "Doing something with 1\n",
            "Doing something with 3\n",
            "Doing something with 6\n",
            "Doing something with 6\n",
            "Doing something with 21\n",
            "Doing something with 1\n",
            "Doing something with 2\n",
            "Doing something with 0 1\n",
            "Doing something with 1 3\n",
            "Doing something with 2 6\n",
            "Doing something with 3 6\n",
            "Doing something with 4 21\n",
            "Doing something with 5 1\n",
            "Doing something with 6 2\n",
            "Index 0 and item: 1\n",
            "Index 1 and item: 3\n",
            "Index 2 and item: 6\n",
            "Index 3 and item: 6\n",
            "Index 4 and item: 21\n",
            "Index 5 and item: 1\n",
            "Index 6 and item: 2\n"
          ]
        }
      ]
    },
    {
      "cell_type": "markdown",
      "metadata": {
        "id": "_Ag5SZS8skSA"
      },
      "source": [
        "## Unconditional branch statements\n",
        "\n",
        "1. Unconditional branch statements, also known as goto statements, are control flow statements that allow the program to jump to a different section of code based on a label or line number. While goto statements can be useful in some situations, they also have several issues and challenges that should be considered when using them.\n",
        "\n",
        "2. Readability and maintainability: The use of goto statements can make code difficult to read and understand, as they allow for non-linear control flow. This can make it harder to maintain, debug, and modify the code in the future.\n",
        "\n",
        "3. Encourages spaghetti code: Overuse of goto statements can lead to spaghetti code, which is code that is difficult to follow and understand due to its non-linear nature. This can make the code more error-prone and harder to maintain.\n",
        "\n",
        "4. Error-prone: Improper use of goto statements can lead to errors in the program, such as infinite loops or invalid program states. Careful attention must be paid to ensure that the use of goto statements is correct and doesn't introduce bugs.\n",
        "\n",
        "5. Reusability and portability: The use of goto statements can make it harder to reuse code in different contexts or to port it to different platforms or programming languages, as the control flow may not be compatible with different environments.\n",
        "\n",
        "6. Alternatives: In many cases, the use of structured control flow statements such as loops, conditionals, and functions can provide a more readable and maintainable alternative to goto statements. Modern programming languages provide a variety of control flow constructs that can be used in place of goto statements."
      ]
    },
    {
      "cell_type": "markdown",
      "metadata": {
        "id": "Kb4Q3lbdskSB"
      },
      "source": [
        "## Guarded commands\n",
        "\n",
        "Guarded commands are a programming language construct suggested by computer scientist Edsger Dijkstra that can help improve the readability and correctness of programs. In a guarded command, a block of code is only executed if a certain condition is met. The condition is called the guard and is evaluated before executing the code. If the guard is false, the code block is not executed.\n",
        "\n",
        "The syntax of a guarded command is typically as follows:\n",
        "\n",
        "```\n",
        "{guard} -> {code block}\n",
        "```\n",
        "Here, the code block is executed only if the guard is true. The guard can be any boolean expression, and the code block can contain any sequence of statements. The \"->\" symbol is used to separate the guard and the code block.\n",
        "\n",
        "The use of guarded commands can help improve program readability by making the code more structured and easier to follow. By placing guards at the beginning of code blocks, it is easy to see which conditions must be satisfied for a block of code to execute.\n",
        "\n",
        "Moreover, guarded commands can help improve program correctness by reducing the number of possible control flow paths. By using guards to ensure that certain conditions are met before executing a code block, the programmer can help prevent errors such as null pointer exceptions, divide-by-zero errors, and other runtime errors.\n",
        "\n",
        "Guarded commands can also be used to express more complex control structures, such as loops and conditionals. For example, a loop can be expressed using guarded commands as follows:\n",
        "\n",
        "```\n",
        "{guard} -> {code block; loop guard}\n",
        "```\n",
        "Here, the loop executes the code block until the guard becomes false. The loop guard is evaluated after each iteration to determine whether the loop should continue or terminate.\n",
        "\n",
        "In summary, guarded commands are a useful programming language construct that can help improve program readability and correctness. By using guards to ensure that certain conditions are met before executing code blocks, programmers can make their code more structured, easier to follow, and less error-prone"
      ]
    },
    {
      "cell_type": "code",
      "execution_count": null,
      "metadata": {
        "id": "XgBDdIaXskSC"
      },
      "outputs": [],
      "source": [
        "## TODO play around with various statement level control structures"
      ]
    },
    {
      "cell_type": "markdown",
      "metadata": {
        "id": "qnLYKFKUskSC"
      },
      "source": []
    }
  ],
  "metadata": {
    "kernelspec": {
      "display_name": "venv",
      "language": "python",
      "name": "python3"
    },
    "language_info": {
      "name": "python",
      "version": "3.10.7"
    },
    "orig_nbformat": 4,
    "vscode": {
      "interpreter": {
        "hash": "8a19c74da3b7154619c1176afccf9ce002bd2eff700641b8654c2632caeef6b3"
      }
    },
    "colab": {
      "provenance": []
    }
  },
  "nbformat": 4,
  "nbformat_minor": 0
}