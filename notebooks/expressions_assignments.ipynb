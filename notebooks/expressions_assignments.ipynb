{
  "cells": [
    {
      "cell_type": "markdown",
      "metadata": {
        "id": "NM3xxItKyyRd"
      },
      "source": [
        "# Expressions and Assignments\n",
        "\n",
        "## Ch.7 in Sebesta - Concepts of programming languages\n",
        "by Robert W. Sebesta (Author)\n",
        "\n",
        "Abstract by Valdis Saulespurens\n",
        "\n",
        "Text summary by Github Copilot\n",
        "\n",
        "\n",
        "### 7.1 Expressions\n",
        "\n",
        "Expressions and assignment statements are essential components in programming languages, as they allow you to manipulate and store values.\n",
        "\n",
        "Expressions are combinations of values, variables, and operators that produce a new value. For example, you can use an expression to perform arithmetic operations, such as adding two numbers or multiplying them. In many programming languages, expressions can also include function calls or comparisons between values.\n",
        "\n",
        "Assignment statements, on the other hand, allow you to store the result of an expression in a variable. For example, you can use an assignment statement to assign the result of an arithmetic operation to a variable, which you can then use later in your program. Assignment statements typically use the equal sign (=) to indicate that you're storing a value in a variable.\n",
        "\n",
        "Together, expressions and assignment statements provide the basic building blocks for performing computations and storing results in a program. They are used in virtually every type of program, from simple scripts to complex applications."
      ]
    },
    {
      "cell_type": "markdown",
      "metadata": {
        "id": "mBBCoFI6yyRh"
      },
      "source": [
        "## Arithmetic expression\n",
        "\n",
        "\n",
        "\n",
        "Arithmetic expressions in a programming language typically consist of values, variables, and operators that represent mathematical operations. The values can be either literals (such as numbers) or variables that store a value. The operators used in arithmetic expressions are similar to those used in mathematics, and include addition (+), subtraction (-), multiplication (*), division (/), and others."
      ]
    },
    {
      "cell_type": "markdown",
      "metadata": {
        "id": "eVH8s3H3yyRh"
      },
      "source": []
    },
    {
      "cell_type": "code",
      "execution_count": null,
      "metadata": {
        "id": "yQ_tfhd1yyRh"
      },
      "outputs": [],
      "source": []
    },
    {
      "cell_type": "code",
      "execution_count": 1,
      "metadata": {
        "colab": {
          "base_uri": "https://localhost:8080/"
        },
        "id": "BIOxO4hlyyRi",
        "outputId": "a3567eb9-179f-4cbb-ef6d-317493ee3154"
      },
      "outputs": [
        {
          "output_type": "execute_result",
          "data": {
            "text/plain": [
              "23"
            ]
          },
          "metadata": {},
          "execution_count": 1
        }
      ],
      "source": [
        "3 + 4 * 5"
      ]
    },
    {
      "cell_type": "code",
      "source": [
        "# so there is an issue of precedence of operators\n",
        "# for example https://docs.python.org/3/reference/expressions.html#operator-precedence\n",
        "# https://developer.mozilla.org/en-US/docs/Web/JavaScript/Reference/Operators/Operator_Precedence#table"
      ],
      "metadata": {
        "id": "yQoo0YSRzgo4"
      },
      "execution_count": null,
      "outputs": []
    },
    {
      "cell_type": "markdown",
      "metadata": {
        "id": "1i3sK0knyyRj"
      },
      "source": [
        "## Arithmetic Statements vs Arithmetic Expressions\n",
        "\n",
        "An arithmetic statement and an arithmetic expression are related but distinct concepts in programming.\n",
        "\n",
        "An arithmetic expression is a combination of values, variables, and operators that evaluate to a single numerical value. For example, the expression 2 + 3 evaluates to the value 5. Arithmetic expressions can be used in various ways in a program, such as in an assignment statement, as an argument to a function, or as part of a larger expression.\n",
        "\n",
        "An arithmetic statement, on the other hand, is a line of code that performs an arithmetic operation and assigns the result to a variable. An example of an arithmetic statement is: x = 2 + 3, where x is a variable and the expression 2 + 3 is the arithmetic expression being evaluated. The result of the expression 2 + 3 is 5, and this value is then assigned to the variable x.\n",
        "\n",
        "In summary, an arithmetic expression is a piece of code that evaluates to a value, while an arithmetic statement is a line of code that performs an arithmetic operation and assigns the result to a variable."
      ]
    },
    {
      "cell_type": "markdown",
      "metadata": {
        "id": "I1pefbn6yyRj"
      },
      "source": [
        "## Arithmetic operators\n",
        "\n",
        "Arithmetic expressions can contain a variety of operators that represent mathematical operations. Here are some common types of operators you might find in arithmetic expressions:\n",
        "\n",
        "* Arithmetic operators: These include basic mathematical operations such as addition (+), subtraction (-), multiplication (*), and division (/). Some programming languages also include other arithmetic operators, such as modulo (%), which returns the remainder of a division operation. (there is a difference between reminder and module for negative numbers)\n",
        "\n",
        "* Comparison operators: These operators are used to compare values and return a Boolean value indicating whether the comparison is true or false. Common comparison operators include less than (<), greater than (>), less than or equal to (<=), greater than or equal to (>=), equal to (==), and not equal to (!=).\n",
        "\n",
        "* Unary operators: These operators perform operations on a single value, such as negation (-) and increment (++). For example, the expression -x negates the value of x, while the expression ++x increments the value of x by 1.\n",
        "\n",
        "* Assignment operators: These operators are used to store the result of an expression in a variable. Common assignment operators include equal (=), as well as compound assignment operators like +=, -=, *=, and /=.\n",
        "\n",
        "* Logical operators: These operators are used to combine multiple expressions into a single expression. They include and (&&), or (||), and not (!).\n",
        "\n",
        "The specific set of operators that are available in a programming language may vary, but the basic types of operators are usually similar across different languages."
      ]
    },
    {
      "cell_type": "code",
      "source": [
        "# in Python for equality we usually use == \n",
        "# remember there is also equality operator \"is\" which is equality but comparing id(obj1) == id(obj2)\n",
        "# id gets the memory (virtual) address of the object\n",
        "my_list_1 = [1,2,3]\n",
        "my_list_2 = [1,2,3]\n",
        "my_list_1 == my_list_2, my_list_1 is my_list_2, id(my_list_1) == id(my_list_2)"
      ],
      "metadata": {
        "colab": {
          "base_uri": "https://localhost:8080/"
        },
        "id": "79E-yIYF1rQH",
        "outputId": "d9db7bf7-22f4-4fdc-c6f7-31dd56901b88"
      },
      "execution_count": 2,
      "outputs": [
        {
          "output_type": "execute_result",
          "data": {
            "text/plain": [
              "(True, False, False)"
            ]
          },
          "metadata": {},
          "execution_count": 2
        }
      ]
    },
    {
      "cell_type": "code",
      "source": [
        "# for primitive data types in Python we will have the same reference\n",
        "my_name_1 = \"Valdis\"\n",
        "my_name_2 = \"Valdis\"\n",
        "my_name_1 == my_name_2, my_name_1 is my_name_2, id(my_name_1) == id(my_name_2)"
      ],
      "metadata": {
        "colab": {
          "base_uri": "https://localhost:8080/"
        },
        "id": "mwcMxg0-2ULm",
        "outputId": "545b6dc0-a3b0-4967-a6bf-b78844871352"
      },
      "execution_count": 3,
      "outputs": [
        {
          "output_type": "execute_result",
          "data": {
            "text/plain": [
              "(True, True, True)"
            ]
          },
          "metadata": {},
          "execution_count": 3
        }
      ]
    },
    {
      "cell_type": "code",
      "source": [
        "# same goes for numeric data types as well\n",
        "a = 42\n",
        "b = 42\n",
        "c = 43\n",
        "id(a),id(b),id(c), id(43) # the memory addresses will be different on your machine but the idea remains the same"
      ],
      "metadata": {
        "colab": {
          "base_uri": "https://localhost:8080/"
        },
        "id": "F5eYSvl12zp6",
        "outputId": "b74f9f2b-3475-477a-fafb-b203bb1b9d50"
      },
      "execution_count": 5,
      "outputs": [
        {
          "output_type": "execute_result",
          "data": {
            "text/plain": [
              "(9794400, 9794400, 9794432, 9794432)"
            ]
          },
          "metadata": {},
          "execution_count": 5
        }
      ]
    },
    {
      "cell_type": "code",
      "execution_count": null,
      "metadata": {
        "id": "GR4GUg1syyRk"
      },
      "outputs": [],
      "source": [
        "## Overloaded Operators"
      ]
    },
    {
      "cell_type": "markdown",
      "metadata": {
        "id": "oRWldFzcyyRl"
      },
      "source": [
        "## Overloaded Operators\n",
        "\n",
        "\n",
        "\n",
        "Overloaded operators are operators in a programming language that have been redefined to perform a specific action for a custom data type. In other words, overloaded operators allow you to customize the behavior of an operator for a user-defined data type.\n",
        "\n",
        "For example, suppose you have a custom data type Complex that represents complex numbers. You can define the addition operator + to add two Complex numbers in a way that makes sense for this data type, rather than using the default behavior for the + operator. By overloading the + operator, you can simplify the syntax for adding two Complex numbers, making your code more readable and intuitive.\n",
        "\n",
        "Here's an example of overloaded operator in C++:\n",
        "\n",
        "```\n",
        "Class Complex {\n",
        "public:\n",
        "    int real, imag;\n",
        "    Complex operator+(const Complex &c) const {\n",
        "        return Complex(real + c.real, imag + c.imag);\n",
        "    }\n",
        "};\n",
        "```\n",
        "In this example, the + operator is overloaded to perform addition between two Complex numbers. The operator+ function takes a constant reference to a Complex object as an argument and returns a new Complex object that represents the sum of the two numbers.\n",
        "\n",
        "Not all operators can be overloaded in all programming languages, and the specific syntax for overloading an operator can vary from language to language. However, overloaded operators are a powerful feature that can be used to simplify the syntax for custom data types and make your code more readable and maintainable."
      ]
    },
    {
      "cell_type": "code",
      "source": [
        "# Python has built in imaginary\n",
        "3 + 5j, 2 - 2j"
      ],
      "metadata": {
        "colab": {
          "base_uri": "https://localhost:8080/"
        },
        "id": "ycRXrlSA332a",
        "outputId": "71b20c45-156e-4767-a910-08be3557fa73"
      },
      "execution_count": 6,
      "outputs": [
        {
          "output_type": "execute_result",
          "data": {
            "text/plain": [
              "((3+5j), (2-2j))"
            ]
          },
          "metadata": {},
          "execution_count": 6
        }
      ]
    },
    {
      "cell_type": "code",
      "source": [
        "3+2j * 5 + 4j # incorrect!!"
      ],
      "metadata": {
        "colab": {
          "base_uri": "https://localhost:8080/"
        },
        "id": "zcGUfek_3-GZ",
        "outputId": "093ee435-0337-4ad6-a4c4-4cbe1043f7f1"
      },
      "execution_count": 9,
      "outputs": [
        {
          "output_type": "execute_result",
          "data": {
            "text/plain": [
              "(3+14j)"
            ]
          },
          "metadata": {},
          "execution_count": 9
        }
      ]
    },
    {
      "cell_type": "code",
      "source": [
        "(3+2j) * (5 + 4j)  # correct one, this is on the designer of Python"
      ],
      "metadata": {
        "id": "4IyU8gYe4Xr4"
      },
      "execution_count": null,
      "outputs": []
    },
    {
      "cell_type": "markdown",
      "metadata": {
        "id": "Fue4lL-5yyRl"
      },
      "source": [
        "## Type Conversions\n",
        "\n",
        "In programming, type conversion refers to the process of converting a value from one data type to another. There are two main types of type conversions: implicit and explicit.\n",
        "\n",
        "* Implicit type conversion: This type of conversion occurs automatically when a value of one data type is used in an expression with a value of a different data type. For example, if you add an integer and a floating-point number in C++, the integer will be implicitly converted to a floating-point number before the addition is performed.\n",
        "\n",
        "* Explicit type conversion: This type of conversion is performed using a type conversion operator or a type casting function. Explicit type conversion is used when you want to convert a value from one data type to another in a specific and controlled manner. For example, you can use a type casting function, such as int() in Python or (int) in C++, to explicitly convert a floating-point number to an integer.\n",
        "\n",
        "In general, implicit type conversions can be convenient because they allow you to perform operations between values of different data types without having to explicitly convert them. However, implicit conversions can also lead to unexpected results if they cause data loss or precision problems. Explicit type conversions are typically used when you want to be explicit about the conversion and to control the behavior of the conversion.\n",
        "\n",
        "The specific syntax for type conversions can vary from language to language, but the basic concepts of implicit and explicit conversions are similar across different languages."
      ]
    },
    {
      "cell_type": "code",
      "source": [
        "a = 2 + 0.1 # a will be float\n",
        "a, type(a)\n"
      ],
      "metadata": {
        "id": "kQTfVQbZ_L_4",
        "outputId": "3950002a-d80c-4eca-a29a-0d1bf1a56dd0",
        "colab": {
          "base_uri": "https://localhost:8080/"
        }
      },
      "execution_count": 12,
      "outputs": [
        {
          "output_type": "execute_result",
          "data": {
            "text/plain": [
              "(2.1, float)"
            ]
          },
          "metadata": {},
          "execution_count": 12
        }
      ]
    },
    {
      "cell_type": "code",
      "source": [
        "7 / 2, 7 // 2 # in some languages (and Python in 2.7 and less) regular / worked as //"
      ],
      "metadata": {
        "id": "Oy2G_RjJ_VHl",
        "outputId": "bd1dbb78-e4b4-42c7-f1aa-04b68a84d6e1",
        "colab": {
          "base_uri": "https://localhost:8080/"
        }
      },
      "execution_count": 15,
      "outputs": [
        {
          "output_type": "execute_result",
          "data": {
            "text/plain": [
              "(3.5, 3)"
            ]
          },
          "metadata": {},
          "execution_count": 15
        }
      ]
    },
    {
      "cell_type": "code",
      "source": [
        "# so popular trick was to use 7 / 2.0 so you let the implicit type conversion take place\n",
        "# in modern Python you do not need it"
      ],
      "metadata": {
        "id": "lJH3MHSu_lM0"
      },
      "execution_count": null,
      "outputs": []
    },
    {
      "cell_type": "markdown",
      "metadata": {
        "id": "05SUjZvtyyRm"
      },
      "source": [
        "## Widening and Narrowing Conversions\n",
        "\n",
        "In addition to the classification of type conversions as implicit and explicit, there are several other ways to classify type conversions in programming:\n",
        "\n",
        "Widening vs narrowing conversions: A widening conversion is one that converts a value from a smaller data type to a larger data type, while a narrowing conversion converts a value from a larger data type to a smaller data type. Widening conversions are typically safe and do not cause data loss, while narrowing conversions can result in data loss or precision problems.\n",
        "\n",
        "Upcasting vs downcasting: In object-oriented programming, type conversion can be classified as upcasting or downcasting based on the relationship between the source and target data types. Upcasting refers to the process of converting a derived class object to a base class object, while downcasting refers to the process of converting a base class object to a derived class object.\n",
        "\n",
        "Static vs dynamic type conversions: In some programming languages, type conversions can be classified as static or dynamic based on when the type of a value is determined. In a statically-typed language, the type of a value is determined at compile-time, while in a dynamically-typed language, the type of a value is determined at runtime.\n",
        "\n",
        "These classifications can be useful in understanding the behavior of type conversions in different programming languages and situations. However, the specific rules and behaviors associated with type conversions can vary from language to language, so it's important to understand the specific rules and behaviors for the programming language you're using."
      ]
    },
    {
      "cell_type": "markdown",
      "source": [
        "## Kotlin data types\n",
        "\n",
        "https://kotlinlang.org/docs/numbers.html\n",
        "\n",
        "You can see how going from say short to long would give you more numbers to choose from.."
      ],
      "metadata": {
        "id": "Uq3EZkbKAM6D"
      }
    },
    {
      "cell_type": "code",
      "source": [],
      "metadata": {
        "id": "2usTuwOs_5Uz"
      },
      "execution_count": null,
      "outputs": []
    },
    {
      "cell_type": "markdown",
      "metadata": {
        "id": "vh3qW02RyyRm"
      },
      "source": [
        "## Relational Expressions\n",
        "\n",
        "Relational expressions are expressions that compare values and evaluate to either true or false. They are used to make decisions in a program based on the comparison of values.\n",
        "\n",
        "A relational expression is formed by combining two values with a relational operator, such as <, >, <=, >=, ==, or !=. The result of a relational expression is a Boolean value, either true or false, depending on the outcome of the comparison.\n",
        "\n",
        "For example, in the following code, the relational expression x < y compares the values of x and y, and the result is stored in the Boolean variable isLess.\n",
        "\n",
        "```\n",
        "int x = 5;\n",
        "int y = 10;\n",
        "bool isLess = x < y;\n",
        "```\n",
        "In this example, x is less than y, so the expression x < y evaluates to true, and isLess is assigned the value true.\n",
        "\n",
        "Relational expressions are used in conditional statements, such as if statements, to make decisions based on the comparison of values. For example:\n",
        "\n",
        "```\n",
        "if (x < y) {\n",
        "  // code to be executed if x is less than y\n",
        "} else {\n",
        "  // code to be executed if x is not less than y\n",
        "}\n",
        "```\n",
        "Relational expressions are an essential part of programming and are used frequently in many applications to make decisions based on the comparison of values."
      ]
    },
    {
      "cell_type": "markdown",
      "metadata": {
        "id": "OvncN8Z0yyRm"
      },
      "source": [
        "## Boolean Expressions\n",
        "\n",
        "Boolean expressions are expressions that evaluate to either true or false. They are used to make decisions in a program based on the truth or falsity of a statement.\n",
        "\n",
        "Boolean expressions are formed by combining values and/or relational expressions with logical operators, such as && (and), || (or), and ! (not). The result of a Boolean expression is a Boolean value, either true or false.\n",
        "\n",
        "For example, in the following code, the Boolean expression x < y && x > 0 evaluates to true if both the relational expressions x < y and x > 0 are true, and to false otherwise:\n",
        "\n",
        "```\n",
        "int x = 5;\n",
        "int y = 10;\n",
        "bool result = x < y && x > 0;\n",
        "```\n",
        "In this example, both x < y and x > 0 are true, so the expression x < y && x > 0 evaluates to true, and result is assigned the value true.\n",
        "\n",
        "Boolean expressions are used in conditional statements, such as if statements, to make decisions based on the truth or falsity of a statement. For example:\n",
        "\n",
        "```\n",
        "if (x < y && x > 0) {\n",
        "  // code to be executed if x is less than y and greater than 0\n",
        "} else {\n",
        "  // code to be executed if x is not less than y or not greater than 0\n",
        "}\n",
        "```\n",
        "Boolean expressions are an essential part of programming and are used frequently in many applications to make decisions based on the truth or falsity of a statement."
      ]
    },
    {
      "cell_type": "code",
      "source": [
        "# We use George Bool's Boolean Algebra\n",
        "# some pitfalls might involve type conversion from say integers to booleans and whether that happens\n",
        "\n",
        "# there is something called truthy and falsy\n",
        "num = 5\n",
        "if num:\n",
        "    print(f\"hmm this {num} is truthy\")\n",
        "print(f\"num is still {num}\")"
      ],
      "metadata": {
        "id": "13LNAbcMBASf",
        "outputId": "5fd6d4f2-4b8c-4d67-a548-3c8a56efc11f",
        "colab": {
          "base_uri": "https://localhost:8080/"
        }
      },
      "execution_count": 19,
      "outputs": [
        {
          "output_type": "stream",
          "name": "stdout",
          "text": [
            "hmm this 5 is truthy\n",
            "num is still 5\n"
          ]
        }
      ]
    },
    {
      "cell_type": "code",
      "source": [
        "if 0:\n",
        "    print(\"hmm this is truthy???\")\n",
        "else:\n",
        "    print(\"sooo 0 is falsy\")"
      ],
      "metadata": {
        "id": "cHhJ1edMBlc6",
        "outputId": "71ab3c49-bc81-43b4-dfe4-4c354d15964d",
        "colab": {
          "base_uri": "https://localhost:8080/"
        }
      },
      "execution_count": 17,
      "outputs": [
        {
          "output_type": "stream",
          "name": "stdout",
          "text": [
            "sooo 0 is falsy\n"
          ]
        }
      ]
    },
    {
      "cell_type": "code",
      "source": [
        "if 10-2-8:\n",
        "    print(\"hmm this is falsy\")\n",
        "else:\n",
        "    print(\"so 10-2-8 generated a falsy values\")"
      ],
      "metadata": {
        "id": "a-7FWFX7Cmf9",
        "outputId": "764e9d4c-4eb6-46b4-db7e-1dfdf10036cf",
        "colab": {
          "base_uri": "https://localhost:8080/"
        }
      },
      "execution_count": 20,
      "outputs": [
        {
          "output_type": "stream",
          "name": "stdout",
          "text": [
            "so 10-2-8 generated a falsy values\n"
          ]
        }
      ]
    },
    {
      "cell_type": "markdown",
      "metadata": {
        "id": "-5_0mFJAyyRn"
      },
      "source": [
        "## Short Circuit Evaluation\n",
        "\n",
        "Short-circuit evaluation is a evaluation strategy used in some programming languages when evaluating Boolean expressions. It allows the evaluation of a Boolean expression to stop as soon as the result can be determined, without evaluating the entire expression.\n",
        "\n",
        "For example, consider the following Boolean expression: ```x < y && x > 0```. If x < y evaluates to false, there is no need to evaluate the second part of the expression, x > 0, since the overall expression must be false regardless of the value of x > 0.\n",
        "\n",
        "In short-circuit evaluation, the evaluation of the expression stops as soon as the result can be determined. In this case, the second part of the expression is not evaluated if the first part evaluates to false.\n",
        "\n",
        "Short-circuit evaluation is used in many programming languages, including C, C++, Java, and Python, and can provide significant performance benefits in certain situations. For example, it can be used to avoid division by zero or access to null pointers, which can cause runtime errors.\n",
        "\n",
        "However, short-circuit evaluation can also lead to unexpected behavior if the programmer is not aware of the evaluation strategy. For example, if the second part of the expression has side effects, such as assigning a value to a variable, those side effects will not be executed if the first part of the expression evaluates to false."
      ]
    },
    {
      "cell_type": "code",
      "execution_count": 22,
      "metadata": {
        "colab": {
          "base_uri": "https://localhost:8080/"
        },
        "id": "nTTtWZlOyyRn",
        "outputId": "a05aa906-e7be-4ec4-e480-0aa8cbac6c16"
      },
      "outputs": [
        {
          "output_type": "execute_result",
          "data": {
            "text/plain": [
              "False"
            ]
          },
          "metadata": {},
          "execution_count": 22
        }
      ],
      "source": [
        "## Short Circuit Evaluation\n",
        "1 > 3 and 10 > 4 and 12 > 9 # as soon as the first expression is false it \"ruins\" - short circuits the whole expression\n",
        "\n",
        "# you have to be careful if any of those following expressions actually have side effect - like read a file\n",
        "# or make a network connection\n",
        "# those functions will not be called"
      ]
    },
    {
      "cell_type": "code",
      "source": [
        "# we have some functions that return bools but also have side effects\n",
        "def fun_1():\n",
        "    print(\"Look Ma I am Fun 1!\")\n",
        "    return True\n",
        "def fun_2():\n",
        "    print(\"Look Ma I am Fun 2!\")\n",
        "    return False\n",
        "def fun_3():\n",
        "    print(\"Look Ma I am Fun 3!\")\n",
        "    return True\n",
        "\n",
        "fun_1() and fun_2() and fun_3() # so 3rd function is not to be run if language uses short-circuit rules"
      ],
      "metadata": {
        "id": "tit4DeEyD2N1",
        "outputId": "b0c569da-0058-44ce-d00b-ea632842e963",
        "colab": {
          "base_uri": "https://localhost:8080/"
        }
      },
      "execution_count": 23,
      "outputs": [
        {
          "output_type": "stream",
          "name": "stdout",
          "text": [
            "Look Ma I am Fun 1!\n",
            "Look Ma I am Fun 2!\n"
          ]
        },
        {
          "output_type": "execute_result",
          "data": {
            "text/plain": [
              "False"
            ]
          },
          "metadata": {},
          "execution_count": 23
        }
      ]
    },
    {
      "cell_type": "markdown",
      "metadata": {
        "id": "n7Jd9shpyyRn"
      },
      "source": [
        "## Assignment Statements\n",
        "\n",
        "An assignment statement is a statement that assigns a value to a variable. It is used to store a value in a variable for later use.\n",
        "\n",
        "An assignment statement is a type of statement in a programming language that is used to assign a value to a variable. In an assignment statement, a value is evaluated and stored in a variable.\n",
        "\n",
        "The basic syntax of an assignment statement in many programming languages is as follows:\n",
        "\n",
        "```\n",
        "variable = expression;\n",
        "```\n",
        "where variable is the name of the variable to be assigned a value, and expression is the expression that is evaluated to produce the value to be stored in the variable.\n",
        "\n",
        "For example, the following code assigns the value of the expression 5 + 3 to the variable x:\n",
        "\n",
        "```\n",
        "int x;\n",
        "x = 5 + 3;\n",
        "In this example, the expression 5 + 3 is evaluated to produce the value 8, which is then stored in the variable x.\n",
        "```\n",
        "\n",
        "Assignment statements are a fundamental part of most programming languages and are used to store and manipulate values in a program. They can also be used in conjunction with other statements, such as control statements, to control the flow of a program and make decisions based on the values stored in variables.\n",
        "\n"
      ]
    },
    {
      "cell_type": "code",
      "source": [
        "# because of ease of making mistakes with = and == some languages use := for assignment (Pascal being one of the first)\n",
        "# Go now"
      ],
      "metadata": {
        "id": "m80mRcvIEsKy"
      },
      "execution_count": null,
      "outputs": []
    },
    {
      "cell_type": "markdown",
      "metadata": {
        "id": "ajLGttG4yyRn"
      },
      "source": [
        "## Compound Assignment Statements\n",
        "\n",
        "Compound assignment statements are assignment statements that combine an assignment operation with another operation. They are used to perform an operation and assign the result to a variable in a single statement.\n",
        "\n",
        "In other words they are a type of operator in a programming language that combine an assignment operation with an arithmetic, relational, or bitwise operation. They are a shorthand way of writing a combination of an operation and an assignment in a single statement.\n",
        "\n",
        "For example, consider the following code:\n",
        "\n",
        "```\n",
        "int x = 5;\n",
        "x = x + 3;\n",
        "```\n",
        "\n",
        "This code assigns the value of 5 to the variable x, and then adds 3 to it and stores the result back in x. This operation can be written more concisely using a compound assignment operator:\n",
        "\n",
        "```\n",
        "int x = 5;\n",
        "x += 3;\n",
        "```\n",
        "The += operator is a compound assignment operator that combines the addition operation with an assignment. The result is the same as the original code, but written more concisely.\n",
        "\n",
        "Other common compound assignment operators include -=, *=, /=, %=, <<=, >>=, &=, ^=, and |=. These operators perform the corresponding operation and assignment in a single statement.\n",
        "\n",
        "For example, the following code decrements the value of x by 3:\n",
        "\n",
        "```\n",
        "int x = 5;\n",
        "x -= 3;\n",
        "```"
      ]
    },
    {
      "cell_type": "markdown",
      "metadata": {
        "id": "YZpPrcDLyyRo"
      },
      "source": [
        "## Unary Assignment Operators\n",
        "\n",
        "Unary assignment operators are a type of operator in a programming language that perform a specific operation on a single operand and then assign the result back to the operand. They are similar to compound assignment operators, but operate on a single value rather than combining an operation and an assignment.\n",
        "\n",
        "For example, consider the following code:\n",
        "\n",
        "```\n",
        "int x = 5;\n",
        "x = x + 1;\n",
        "```\n",
        "This code increments the value of x by 1. The same operation can be performed using a unary assignment operator:\n",
        "\n",
        "```\n",
        "int x = 5;\n",
        "x++; //postfix\n",
        "--x; //in prefix will give you same result if it is not combined\n",
        "//difference will be\n",
        "int y = --x;\n",
        "int z = x++; //in this case y == z == 4, but x will be 5\n",
        "```\n",
        "The ++ operator is a unary assignment operator that increments the value of its operand by 1.\n",
        "\n",
        "Another common unary assignment operator is the -- operator, which decrements the value of its operand by 1. For example:\n",
        "\n",
        "```\n",
        "int x = 5;\n",
        "x--;\n",
        "```\n",
        "Unary assignment operators are a convenient way of performing simple operations on single values, and are commonly used in many programming languages. They are particularly useful for incrementing or decrementing values in loops and other control structures."
      ]
    },
    {
      "cell_type": "markdown",
      "metadata": {
        "id": "ANz9RE8PyyRo"
      },
      "source": [
        "## Bitwise Operators\n",
        "\n",
        "Bitwise operators are operators that perform operations on the individual bits of a value. They are used to manipulate the individual bits of a value, such as setting or clearing individual bits, or performing bitwise operations such as AND, OR, and XOR.\n",
        "\n",
        "For example, consider the following code:\n",
        "\n",
        "```\n",
        "int x = 5;\n",
        "int y = 3;\n",
        "int result = x & y;\n",
        "```\n",
        "In this example, the bitwise AND operator & is used to perform a bitwise AND operation on the values of x and y. The result of the operation is stored in the variable result."
      ]
    },
    {
      "cell_type": "code",
      "execution_count": 28,
      "metadata": {
        "colab": {
          "base_uri": "https://localhost:8080/"
        },
        "id": "C24Lkho8yyRo",
        "outputId": "a7006746-281c-408d-ca45-663ad837f7c2"
      },
      "outputs": [
        {
          "output_type": "stream",
          "name": "stdout",
          "text": [
            "1\n",
            "7\n",
            "0b101\n",
            " 0b11\n",
            "0b111\n"
          ]
        }
      ],
      "source": [
        "x = 5\n",
        "y = 3\n",
        "print(x & y)  # so bit AND, each bit is used for AND\n",
        "print(x | y)  # so bit OR\n",
        "\n",
        "print(bin(x))\n",
        "print(f\" {bin(y)}\")\n",
        "print(bin(7)) # so 1 + 2 + 4"
      ]
    }
  ],
  "metadata": {
    "kernelspec": {
      "display_name": "venv",
      "language": "python",
      "name": "python3"
    },
    "language_info": {
      "codemirror_mode": {
        "name": "ipython",
        "version": 3
      },
      "file_extension": ".py",
      "mimetype": "text/x-python",
      "name": "python",
      "nbconvert_exporter": "python",
      "pygments_lexer": "ipython3",
      "version": "3.10.7"
    },
    "orig_nbformat": 4,
    "vscode": {
      "interpreter": {
        "hash": "c95be6b97b13fd09835dd06599dc98b58ea5edc871fa6206171628a6478fd79c"
      }
    },
    "colab": {
      "provenance": []
    }
  },
  "nbformat": 4,
  "nbformat_minor": 0
}