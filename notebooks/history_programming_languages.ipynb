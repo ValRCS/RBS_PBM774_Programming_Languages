{
 "cells": [
  {
   "cell_type": "markdown",
   "metadata": {},
   "source": [
    "# History of programming languages"
   ]
  },
  {
   "cell_type": "markdown",
   "metadata": {},
   "source": [
    "## Before 1950s - before formal programming languages\n",
    "\n",
    "The history of programming languages doesn't really begin in the 1950s but rather is predated by a set of computational ideas and inventions that laid the groundwork for modern computers and programming languages. Here are some significant milestones:\n",
    "\n",
    "### Mechanical Devices and Tabulating Machines:\n",
    "\n",
    "- **The Antikythera Mechanism (circa 150-100 BCE)**: An ancient Greek analog computer used to predict astronomical positions and eclipses.\n",
    "- **Pascal's Calculator (1642)**: A mechanical device invented by Blaise Pascal for arithmetic calculations.\n",
    "- **Leibniz's Stepped Reckoner (1694)**: Another early mechanical calculator, invented by Gottfried Wilhelm Leibniz, who also made significant contributions to binary number theory.\n",
    "- **Charles Babbage's Analytical Engine (1837)**: This was a mechanical general-purpose computer design that featured an \"arithmetic logic unit,\" control flow through \"conditional branching and loops,\" and memory—concepts that are central to modern computers.\n",
    "- **Herman Hollerith's Tabulating Machine (1890)**: Developed to tabulate the U.S. Census, it was the foundation for the company that would become IBM. It used punched cards to store data and perform simple calculations.\n",
    "\n"
   ]
  }
 ],
 "metadata": {
  "language_info": {
   "name": "python"
  },
  "orig_nbformat": 4
 },
 "nbformat": 4,
 "nbformat_minor": 2
}
