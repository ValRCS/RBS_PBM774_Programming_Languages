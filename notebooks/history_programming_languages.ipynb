{
 "cells": [
  {
   "cell_type": "markdown",
   "metadata": {},
   "source": [
    "# History of programming languages"
   ]
  },
  {
   "cell_type": "markdown",
   "metadata": {},
   "source": [
    "## Before 1950s - before formal programming languages\n",
    "\n",
    "\n",
    "The history of programming languages doesn't really begin in the 1950s but rather is predated by a set of computational ideas and inventions that laid the groundwork for modern computers and programming languages. Here are some significant milestones:"
   ]
  },
  {
   "cell_type": "markdown",
   "metadata": {},
   "source": [
    "### Ishango Bone (20,000 BC)\n",
    "\n",
    "<img src=\"https://maa.org/sites/default/files/images/upload_library/46/Ishango-color-2views.png\" alt=\"Bone\" style=\"width: 600px;\"/>\n",
    "\n",
    "The Ishango Bone is one of the oldest known artifacts related to mathematics and possibly early computational thinking. It's an artifact that dates back to the Upper Paleolithic era, estimated to be around 20,000 years old. The bone was found in 1960 by Belgian geologist Jean de Heinzelin de Braucourt while exploring the Ishango region near the Semliki River, in what is now the Democratic Republic of Congo.\n",
    "\n",
    "The bone itself is a tool made from the fibula of a large animal most likely a baboon, and it's marked with a series of notches carved into three columns. These notches are thought to represent a rudimentary form of counting or possibly even more advanced arithmetic operations. The exact purpose and the methods used to create the notches are subjects of scholarly debate, but some interpretations suggest that the artifact might have been used for simple arithmetic tasks like addition and subtraction, or possibly for more complex tasks such as multiplication and division.\n",
    "\n",
    "#### Interpretations of the Notches:\n",
    "\n",
    "- **Counting**: The simplest interpretation is that the notches were used for counting. The grouping of notches could have been a way to keep track of quantities.\n",
    "- **Arithmetic Sequences**: Some researchers propose that the notches represent arithmetic sequences. For instance, one column appears to be a counting sequence doubled:\n",
    "10\n",
    ",\n",
    "20\n",
    ",\n",
    "30\n",
    ",\n",
    "…\n",
    "10, 20, 30, \\ldots\n",
    "10,\n",
    "20,\n",
    "30,\n",
    "….\n",
    "- **Prime Numbers**: Another column seems to represent the numbers 11, 13, 17, and 19, which are prime numbers. However, the interpretation of these notches as prime numbers is speculative and not universally accepted.\n",
    "- **Lunar Calendar**: Some scholars have suggested that the Ishango Bone may have been used as a lunar calendar. The bone's markings could relate to the roughly 29.5-day lunar cycle.\n",
    "- **Multiple Uses**: It's also possible that the bone was used for multiple purposes, serving both as a tool for arithmetic and as a calendar or other form of record-keeping.\n",
    "\n",
    "#### Significance:\n",
    "The Ishango Bone is significant because it provides evidence of early numerical awareness and the capability for abstract thought among prehistoric peoples. While it's not a \"computer\" or \"programming language\" in the way we understand those terms today, the bone could represent a step on the long path of human computational development. It shows that even in prehistoric times, humans were thinking in ways that could be considered precursors to more formalized mathematical and computational systems.\n",
    "\n",
    "Read more about the Ishango Bone here: \n",
    "* http://www.bibnum.education.fr/sites/default/files/ishango-analysis_v2.pdf\n",
    "* https://maa.org/press/periodicals/convergence/mathematical-treasure-ishango-bone"
   ]
  },
  {
   "cell_type": "markdown",
   "metadata": {},
   "source": [
    "### Abacus (2700 BC)\n",
    "\n",
    "<img src=\"https://upload.wikimedia.org/wikipedia/commons/1/13/Kulram.jpg\" alt=\"Abacus\" style=\"width: 600px;\"/>\n",
    "\n",
    "Abacus was an early computing device used for arithmetic tasks. It's a simple device consisting of a frame with rods and beads. The rods represent columns, and the beads represent numbers. The abacus is still used today in some parts of the world, and it's considered a useful tool for teaching arithmetic to children."
   ]
  },
  {
   "cell_type": "markdown",
   "metadata": {},
   "source": [
    "### Algorithms and Formal Logic:\n",
    "\n",
    "Humans have been using algorithms and formal logic for thousands of years. Here are some notable examples:\n",
    "\n",
    "#### Euclidean Algorithm\n",
    "One of the earliest and most famous algorithms is the Euclidean algorithm for finding the greatest common divisor (GCD) of two numbers. This algorithm appears in Euclid's \"Elements,\" which dates back to around 300 BCE.\n",
    "\n",
    "The algorithms works as follows:\n",
    "* Given two numbers, a and b, find the remainder r when a is divided by b.\n",
    "* If r is zero, then b is the GCD of a and b.\n",
    "* If r is not zero, set a to b, b to r, and repeat steps 1 and 2.\n",
    "\n",
    "Above is an example of pseudocode for the Euclidean algorithm. Pseudocode is a way to express algorithms in a language-agnostic way. It's similar to code, but it's not tied to any particular programming language.\n",
    "\n",
    "\n",
    "<img alt=\"gcd\" src=\"https://upload.wikimedia.org/wikipedia/commons/thumb/1/1c/Euclidean_algorithm_1071_462.gif/340px-Euclidean_algorithm_1071_462.gif\" height=\"400\">\n",
    "\n",
    "#### Babylonian Square Root Algorithm\n",
    "The Babylonians had an algorithm for approximating the square root of a number, which dates back to around 1800 BCE. The method uses a form of successive approximation that is surprisingly similar to methods used in numerical computing today.\n",
    "\n",
    "#### Chinese Remainder Theorem\n",
    "While not an algorithm in the modern sense, the Chinese Remainder Theorem has algorithmic applications in computing, modular arithmetic, algebra, and cryptography. The theorem is described in a Chinese book called \"Sunzi Suanjing,\" which may have been written as early as the 3rd century AD.\n",
    "\n",
    "#### Sieve of Eratosthenes\n",
    "Named after the ancient Greek mathematician Eratosthenes, this algorithm is used to find all prime numbers up to a given limit. It was described in the 3rd century BCE.\n",
    "\n",
    "#### Algorithms in Persian and Islamic Mathematics\n",
    "During the Islamic Golden Age (8th to 14th centuries), scholars like Al-Khwarizmi contributed significantly to the development of algorithms, particularly in algebra. In fact, the word \"algorithm\" is derived from his name.\n",
    "\n",
    "#### Fibonacci Sequence\n",
    "Leonardo of Pisa, commonly known as Fibonacci, introduced a sequence of numbers in his book \"Liber Abaci,\" published in 1202, that are now known as the Fibonacci numbers. He described the sequence in the context of a problem related to rabbit population growth, but the sequence itself serves as the basis for algorithms in computer science, mathematics, and even in stock market analysis.\n",
    "\n",
    "#### Newton-Raphson Method\n",
    "In the 17th century, Isaac Newton and Joseph Raphson independently described an iterative method to find successively better approximations to the roots (or zeros) of a real-valued function. This algorithm is used widely in numerical methods.\n",
    "\n",
    "#### Gaussian Elimination\n",
    "Although named after Carl Friedrich Gauss, who systematically described the method in the 19th century, variations of this algorithm for solving systems of linear equations date back to ancient China.\n",
    "\n",
    "#### Early Sorting and Searching Algorithms\n",
    "While not formally described as algorithms, various methods of sorting and searching have been used throughout human history, from basic techniques like bubble sort to more complicated methods.\n",
    "\n",
    "These early algorithms provided a foundation for the study of algorithmic procedures and laid the groundwork for the development of modern algorithms and data structures used in computer science today.\n",
    "\n",
    "\n",
    "More on early algorithms: https://en.wikipedia.org/wiki/History_of_algorithms\n",
    "\n"
   ]
  },
  {
   "cell_type": "markdown",
   "metadata": {},
   "source": [
    "### Mechanical Devices and Tabulating Machines:\n",
    "\n",
    "- **The Antikythera Mechanism (circa 150-100 BCE)**: An ancient Greek analog computer used to predict astronomical positions and eclipses.\n",
    "\n",
    "<img src=\"https://upload.wikimedia.org/wikipedia/commons/thumb/7/76/Antikythera_model_front_panel_Mogi_Vicentini_2007.JPG/560px-Antikythera_model_front_panel_Mogi_Vicentini_2007.JPG\" alt=\"mek\" width=\"600\">\n",
    "\n",
    "- **Pascal's Calculator (1642)**: A mechanical device invented by Blaise Pascal for arithmetic calculations.\n",
    "- **Leibniz's Stepped Reckoner (1694)**: Another early mechanical calculator, invented by Gottfried Wilhelm Leibniz, who also made significant contributions to binary number theory.\n",
    "\n",
    "![Stepped Reckoner](https://upload.wikimedia.org/wikipedia/commons/thumb/9/92/Leibnitzrechenmaschine.jpg/680px-Leibnitzrechenmaschine.jpg)\n",
    "- **Charles Babbage's Analytical Engine (1837)**: This was a mechanical general-purpose computer design that featured an \"arithmetic logic unit,\" control flow through \"conditional branching and loops,\" and memory—concepts that are central to modern computers.\n",
    "![Analytical Engine](https://upload.wikimedia.org/wikipedia/commons/thumb/7/7f/Babbage_Difference_Engine_%281%29.jpg/581px-Babbage_Difference_Engine_%281%29.jpg)\n",
    "- **Herman Hollerith's Tabulating Machine (1890)**: Developed to tabulate the U.S. Census, it was the foundation for the company that would become IBM. It used punched cards to store data and perform simple calculations.\n"
   ]
  },
  {
   "cell_type": "markdown",
   "metadata": {},
   "source": [
    "### Jacquard Loom (1801)\n",
    "\n",
    "The Jacquard loom, invented by Joseph Marie Jacquard in early 19th-century France, represents a significant milestone in both the textile industry and the history of computing. The loom used a series of punched cards to control the weaving process, allowing for the automated creation of complex patterns in fabric. This was a significant improvement over previous looms, which required manual labor to produce intricate designs.\n",
    "\n",
    "![loom](https://upload.wikimedia.org/wikipedia/commons/thumb/e/ec/Deutsches_Technikmuseum_Berlin_February_2008_0013.JPG/240px-Deutsches_Technikmuseum_Berlin_February_2008_0013.JPG)\n",
    "\n",
    "#### How It Works:\n",
    "The Jacquard loom employed a chain of punched cards laced together. Each card corresponded to a row of the design. Holes or the absence thereof in the card determined whether a series of threads would be raised or not. When a hole was encountered, a hook would go through and lift the thread, allowing the shuttle to pass beneath it. This mechanism facilitated the weaving of intricate patterns, even portraits and landscapes, automatically.\n",
    "\n",
    "#### Influence on Computing:\n",
    "\n",
    "- **Punched Cards**: The concept of using punched cards to control a machine was adopted in computing. Herman Hollerith, for example, used punched cards in the tabulating machine he designed for the U.S. Census, leading to the formation of IBM.\n",
    "- **Conditional Branching**: The Jacquard loom could change patterns by changing the sequence of punched cards. This was a primitive form of conditional branching—a fundamental concept in programming.\n",
    "- **Programmability**: The loom was \"programmable\" in the sense that it executed operations based on instructions from punched cards, a feature that has been integral to the development of modern computers.\n",
    "- **Data and Instruction**: The separation between the machine (the loom) and the program (the punched cards) marked one of the earliest instances of a clear distinction between hardware and software, or data and instruction.\n",
    "\n",
    "#### Impact on Textile Industry:\n",
    "\n",
    "- **Automation and Labor**: The loom significantly reduced the amount of manual labor required to produce complex textiles, thus increasing efficiency but also causing labor displacement.\n",
    "- **Quality and Complexity**: It raised the quality and complexity of fabric that could be produced, leading to new designs and patterns that were not feasible manually.\n",
    "- **Mass Production**: The technology made it easier to reproduce particular patterns, paving the way for mass production in the textile industry.\n",
    "- **Customization**: By simply changing the punched cards, manufacturers could easily switch from one design to another, allowing for greater customization than before.\n",
    "\n",
    "The Jacquard loom was not only revolutionary for the textile industry but also served as an inspiration for later computational machines. Ada Lovelace, often credited with writing the first computer program, noted the similarities between the Jacquard loom’s punched cards and Charles Babbage's Analytical Engine, highlighting the loom’s influence on early concepts of programmability and computational logic.\n",
    "\n",
    "More: https://en.wikipedia.org/wiki/Jacquard_loom"
   ]
  },
  {
   "cell_type": "markdown",
   "metadata": {},
   "source": [
    "## Books and resources\n",
    "\n",
    "* https://www.reddit.com/r/programming/comments/yc57ch/any_books_on_history_of_programmingcomputer/"
   ]
  }
 ],
 "metadata": {
  "language_info": {
   "name": "python"
  },
  "orig_nbformat": 4
 },
 "nbformat": 4,
 "nbformat_minor": 2
}
