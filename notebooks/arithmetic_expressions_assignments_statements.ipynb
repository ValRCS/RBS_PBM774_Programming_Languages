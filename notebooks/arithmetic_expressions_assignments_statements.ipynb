{
  "cells": [
    {
      "cell_type": "markdown",
      "metadata": {
        "id": "YJ5m-VEVqXyj"
      },
      "source": [
        "# Arithmetic Expressions, Assignments, and Statements"
      ]
    },
    {
      "cell_type": "markdown",
      "metadata": {
        "id": "0epFXULxqXyn"
      },
      "source": [
        "## Arithmetic Expressions Definition\n",
        "\n",
        "An expression in programming refers to a combination of variables, values, and operators that can be evaluated to produce a value. For example:\n",
        "   - Arithmetic expressions: `5 + 3`, `a * b`\n",
        "   - String expressions: `\"Hello \" + \"World\"`\n",
        "   - Logical expressions: `a < b`, `(x > y) && (y < z)`\n",
        "The value produced by evaluating an expression can be of various types, such as a number, string, boolean, etc. depending on the programming language and the specific expression.\n",
        "\n",
        "Functions or method calls are also often considered expressions as they return a value.\n"
      ]
    },
    {
      "cell_type": "markdown",
      "metadata": {
        "id": "h7Jy7wuSqXyo"
      },
      "source": [
        "## Assignment Statements Definition\n",
        "\n",
        "An assignment statement is used to assign a value to a variable. The most common assignment operator is the equals sign (`=`).\n",
        "   - `x = 5`: Here, the value `5` is assigned to the variable `x`.\n",
        "   - `y = x + 3`: The result of the expression `x + 3` is assigned to `y`.\n",
        "In many programming languages, assignments themselves are expressions and have a value, which is typically the value assigned. This allows for chained assignments like `a = b = c = 5`."
      ]
    },
    {
      "cell_type": "code",
      "execution_count": 1,
      "metadata": {
        "id": "8pwgy4QasIN9"
      },
      "outputs": [],
      "source": [
        "# simple assignment statement\n",
        "a = 5"
      ]
    },
    {
      "cell_type": "markdown",
      "metadata": {},
      "source": [
        "## Walrus operator := in Python\n",
        "\n",
        "Walrus operator is kind of similar to using = in C type languages. It is used to assign a value to a variable as well as return the value assigned. It is denoted by `:=` in Python. It is used in Python 3.8 and later versions.\n",
        "\n",
        "```python\n",
        "# Walrus operator example\n",
        "x = 5\n",
        "# so we do something with x and then it gets assigned to y and then it can evaluated at the same time\n",
        "if (y := x + 3) > 5:\n",
        "    print(y)\n",
        "```"
      ]
    },
    {
      "cell_type": "code",
      "execution_count": null,
      "metadata": {
        "colab": {
          "base_uri": "https://localhost:8080/"
        },
        "id": "7w2uy4cxsOc7",
        "outputId": "170d6a9c-8af6-44ae-b4a7-4c5d71679faa"
      },
      "outputs": [
        {
          "name": "stdout",
          "output_type": "stream",
          "text": [
            "No bueno 'b' is an invalid keyword argument for print()\n"
          ]
        }
      ],
      "source": [
        "try:\n",
        "    print(b = 6) # unlike C languages, Python does not allow assignment in print statement\n",
        "except TypeError as e:\n",
        "    print(f\"No bueno {e}\")"
      ]
    },
    {
      "cell_type": "code",
      "execution_count": 2,
      "metadata": {
        "colab": {
          "base_uri": "https://localhost:8080/"
        },
        "id": "QD8ApLMRscss",
        "outputId": "b035fd13-c1a2-4d7c-f9bc-6e5ef2fc7001"
      },
      "outputs": [
        {
          "name": "stdout",
          "output_type": "stream",
          "text": [
            "7\n"
          ]
        }
      ],
      "source": [
        "print(c:=7) # walrus operator, introduced in Python 3.8"
      ]
    },
    {
      "cell_type": "code",
      "execution_count": 12,
      "metadata": {
        "colab": {
          "base_uri": "https://localhost:8080/"
        },
        "id": "ZxBJJuoKskUr",
        "outputId": "9727f985-8321-4cfc-ea73-a63d68b10aec"
      },
      "outputs": [
        {
          "name": "stdout",
          "output_type": "stream",
          "text": [
            "This line is about Python\n"
          ]
        }
      ],
      "source": [
        "# let's see a more useful example of walrus operator\n",
        "# we want to read a file and print all lines that contain the word \"python\"\n",
        "with open(\"../data/sample.txt\", encoding=\"utf-8\") as f:\n",
        "    # while line := f.readline():\n",
        "    #     if \"python\" in line:\n",
        "    #         print(line, end=\"\")\n",
        "    # actually above is bad example since below is quite Pythonic\n",
        "    for line in f:\n",
        "        if \"Python\" in line:\n",
        "            print(line, end=\"\")"
      ]
    },
    {
      "cell_type": "code",
      "execution_count": null,
      "metadata": {},
      "outputs": [],
      "source": [
        "# let's see an example with regex and walrus\n",
        "# https://peps.python.org/pep-0572/#syntax-and-semantics\n",
        "import re\n",
        "pattern = re.compile(r\"^\\d+$\")\n",
        "# you basically save one line of code with walrus operator\n",
        "# since you don't have to assign the value to a variable\n",
        "while (line := input(\"Enter a number: \")) != \"q\":\n",
        "    if pattern.match(line):\n",
        "        print(f\"{line} is a number\")\n",
        "    else:\n",
        "        print(f\"{line} is not a number\")\n",
        "print(\"Good bye!\")"
      ]
    },
    {
      "cell_type": "code",
      "execution_count": 6,
      "metadata": {
        "id": "lSgfvNirsqzb"
      },
      "outputs": [
        {
          "name": "stdout",
          "output_type": "stream",
          "text": [
            "100 100 100\n"
          ]
        }
      ],
      "source": [
        "i = j = k = 100 # so this syntactic sugar actually works\n",
        "# in most languages assignment is right to left\n",
        "# TODO find documentation refence in Python Docs\n",
        "print(i, j, k)"
      ]
    },
    {
      "cell_type": "markdown",
      "metadata": {
        "id": "q_4vPoU9qXyo"
      },
      "source": [
        "## Extra Notes\n",
        "\n",
        "- **Compound Assignment Operators**:\n",
        "In addition to the basic assignment operator, many languages offer compound assignment operators that combine a binary operation and an assignment. For instance:\n",
        "   - `x += 3`: Equivalent to `x = x + 3`\n",
        "   - `y *= 2`: Equivalent to `y = y * 2`\n",
        "These are shortcuts for performing an operation on a variable and then assigning the result back to that variable.\n",
        "- **Difference Between Expressions and Statements**:\n",
        "   - An expression evaluates to a value and can be part of larger expressions or statements. For instance, in `z = x + y;`, `x + y` is an expression.\n",
        "   - A statement carries out an action. In many programming languages, statements end with a semicolon (`;`). The entire line `z = x + y;` is a statement.\n",
        "- **Role in Programming**:\n",
        "   - Expressions allow for computation and decision-making (e.g., in conditions for `if` statements).\n",
        "   - Assignment statements allow for the state of a program to be modified, storing results in variables for later use.\n",
        "\n",
        "Different programming languages might have their own quirks and specifics about how they handle expressions and assignments, but the general concepts remain largely consistent across languages."
      ]
    },
    {
      "cell_type": "markdown",
      "metadata": {
        "id": "MvjLzTjuqXyp"
      },
      "source": [
        "## Design Issues\n",
        "\n",
        "- **Operator Precedence**:\n",
        "   - Which operations are done first in the absence of parentheses? For example, in many languages, multiplication and division have higher precedence than addition and subtraction: `3 + 4 * 2` is interpreted as `3 + (4 * 2)`.\n",
        "- **Operator Associativity**:\n",
        "   - Is the operator left-associative or right-associative? For instance, subtraction is typically left-associative: `8 - 3 - 2` is interpreted as `(8 - 3) - 2`.\n",
        "- **Operator Overloading**:\n",
        "   - Can operators have different meanings based on their context? In object-oriented languages like C++ and Python, operators can often be overloaded to perform specific operations for user-defined types.\n",
        "- **Type Conversions (Type Coercion)**:\n",
        "   - What happens when operators are used on different types? Some languages implicitly convert (or coerce) types in certain contexts. For example, in JavaScript, `\"5\" + 3` results in the string `\"53\"`.\n",
        "   - Javascript strange choices [Javascript WAT](https://www.destroyallsoftware.com/talks/wat) talk\n",
        "   - WAT talk explained - https://medium.com/dailyjs/the-why-behind-the-wat-an-explanation-of-javascripts-weird-type-system-83b92879a8db\n",
        "\n",
        "   - There's also the topic of narrowing and widening conversions. For instance, dividing two integers in some languages might give a floating-point result or another integer.\n",
        "- **Availability of Operators**:\n",
        "   - What arithmetic operations are provided directly by the language? Beyond basic arithmetic (+, -, *, /), some languages provide modulus (remainder), exponentiation, bit manipulation, etc.\n",
        "- **Evaluation Order**:\n",
        "   - What's the order of evaluation for expressions? If you have `f() + g()`, which function is called first? Some languages specify this order, while others do not.\n",
        "- **Arithmetic Exceptions**:\n",
        "   - How does the language handle exceptions like division by zero or integer overflow? Some languages might throw an exception, others might halt execution, and yet others might produce undefined behavior.\n",
        "- **Representation and Precision**:\n",
        "   - How are numeric values stored, and what precision is available? Floating-point arithmetic, for instance, can introduce rounding errors. How the language handles numeric representation can affect the results of arithmetic expressions.\n",
        "- **Mixed-mode Expressions**:\n",
        "   - How does the language handle operations between different types? This ties back to type conversions. For instance, in C, when you mix `float` and `int` in an expression, the `int` is usually promoted to `float` for the calculation.\n",
        "- **Constant Expressions**:\n",
        "\n",
        "\n",
        "- Does the language evaluate constant expressions at compile-time? Some languages optimize arithmetic involving constants by evaluating them once at compile time rather than repeatedly at run time.\n",
        "\n",
        "\n",
        "- **Support for Complex Numbers**:\n",
        "\n",
        "\n",
        "- Some languages, like Python, have built-in support for complex numbers and provide arithmetic operations for them.\n",
        "\n",
        "The design decisions related to these issues can significantly influence the reliability, efficiency, and clarity of programs written in the language. Making these behaviors clear and consistent can help prevent bugs and reduce developer confusion.\n"
      ]
    },
    {
      "cell_type": "code",
      "execution_count": 7,
      "metadata": {
        "colab": {
          "base_uri": "https://localhost:8080/"
        },
        "id": "iH9OFIWEtbp_",
        "outputId": "988bf4ba-ea3a-42c9-fbd3-c5a9f5629ae1"
      },
      "outputs": [
        {
          "data": {
            "text/plain": [
              "3"
            ]
          },
          "execution_count": 7,
          "metadata": {},
          "output_type": "execute_result"
        }
      ],
      "source": [
        " 8 - 3 - 2  # usual left associativity\n"
      ]
    },
    {
      "cell_type": "code",
      "execution_count": 8,
      "metadata": {
        "colab": {
          "base_uri": "https://localhost:8080/"
        },
        "id": "FQ0YBr1ctjov",
        "outputId": "7656cb23-e1b2-45e9-e52f-07ef05f6c564"
      },
      "outputs": [
        {
          "data": {
            "text/plain": [
              "7"
            ]
          },
          "execution_count": 8,
          "metadata": {},
          "output_type": "execute_result"
        }
      ],
      "source": [
        "8 - (3 - 2)  # forced right associativity with parenthesis"
      ]
    },
    {
      "cell_type": "code",
      "execution_count": 11,
      "metadata": {
        "colab": {
          "base_uri": "https://localhost:8080/"
        },
        "id": "1UdWj6yruwS3",
        "outputId": "c0b75e06-e113-4cdb-830c-ba53e31c198e"
      },
      "outputs": [
        {
          "data": {
            "text/plain": [
              "(5.0, 5, 5.5, 5)"
            ]
          },
          "execution_count": 11,
          "metadata": {},
          "output_type": "execute_result"
        }
      ],
      "source": [
        "# implicit conversion\n",
        "# all regular division gives us floats,\n",
        "## // gives us whole numbers\n",
        "10 / 2, 10 // 2, 11 / 2, 11 // 2"
      ]
    },
    {
      "cell_type": "code",
      "execution_count": 12,
      "metadata": {
        "colab": {
          "base_uri": "https://localhost:8080/"
        },
        "id": "ATJ1xhAlvHzU",
        "outputId": "e8b1e866-4833-4b4e-b048-dff2e1a1df3f"
      },
      "outputs": [
        {
          "data": {
            "text/plain": [
              "(15, 15.0)"
            ]
          },
          "execution_count": 12,
          "metadata": {},
          "output_type": "execute_result"
        }
      ],
      "source": [
        "# more conversions\n",
        "# to force float at least one side has to be float for multiplication (also addition, substraction)\n",
        "5 * 3, 5 * 3.0"
      ]
    },
    {
      "cell_type": "markdown",
      "metadata": {
        "id": "FuSx9I4HqXyp"
      },
      "source": [
        "## Operator Evaluation Order\n",
        "\n",
        "Operator evaluation order, often referred to as \"order of operations\", dictates the sequence in which parts of an arithmetic expression are computed. This is a fundamental aspect of programming language design, as it determines how expressions are evaluated in the absence of explicit grouping mechanisms (like parentheses).\n",
        "\n",
        "\n",
        "- **Basic Principles**:\n",
        "   - **Precedence**: Refers to the priority assigned to different operators. Operators with higher precedence are evaluated before operators with lower precedence.\n",
        "\n",
        "### Precedence tables for some languages\n",
        "\n",
        "   * https://docs.python.org/3/reference/expressions.html#operator-precedence\n",
        "   * https://developer.mozilla.org/en-US/docs/Web/JavaScript/Reference/Operators/Operator_precedence#table\n",
        "   * https://docs.scala-lang.org/tour/operators.html#precedence\n",
        "\n",
        "   - **Associativity**: When two operators have the same precedence, associativity determines the order of their evaluation. It can be either left-to-right (left-associative) or right-to-left (right-associative).\n",
        "- **Common Operator Precedence**:\n",
        "In most languages, the following precedence order is observed, from highest to lowest:\n",
        "   - Parentheses (explicit grouping)\n",
        "   - Exponentiation (e.g., `**` in Python)\n",
        "   - Unary operations (e.g., `-x`, `~x`)\n",
        "   - Multiplication, Division, Modulus\n",
        "   - Addition, Subtraction\n",
        "   - Comparison operators (e.g., `<`, `>`, `<=`, `>=`)\n",
        "   - Logical operators (e.g., `AND`, `OR`)\n",
        "\n",
        "<li>**Associativity Examples**:\n",
        "\n",
        "\n",
        "- Multiplication, division, and modulus are typically left-associative. For instance, in the expression `a / b * c`, the division is performed first because of left associativity.\n",
        "- Exponentiation is often right-associative in languages that support it. For example, in the expression `a ** b ** c` in Python, the rightmost exponentiation is done first.\n",
        "\n",
        "<li>**Impact on Evaluation**:\n",
        "Let's take an example: `3 + 5 * 2 - 4`. Using standard precedence:\n",
        "\n",
        "\n",
        "- Multiply 5 by 2.\n",
        "- Add 3.\n",
        "- Subtract 4.\n",
        "Result: `3 + 10 - 4 = 9`.\n",
        "\n",
        "However, if you evaluate left-to-right without precedence, you'd get:\n",
        "\n",
        "\n",
        "- Add 3 to 5.\n",
        "- Multiply by 2.\n",
        "- Subtract 4.\n",
        "Result: `(3 + 5) * 2 - 4 = 16 - 4 = 12`.\n",
        "\n",
        "This difference in results highlights the importance of operator evaluation order.\n",
        "\n",
        "<li>**Potential Issues**:\n",
        "\n",
        "\n",
        "- **Ambiguity**: Without a well-defined order of operations, expressions would be ambiguous.\n",
        "- **Performance**: In some cases, evaluation order can impact performance. For example, short-circuit evaluation in logical operations can skip unnecessary computations.\n",
        "- **Readability**: Relying too heavily on implicit order of operations can reduce code readability. It's often recommended to use parentheses to make the intended order explicit.\n",
        "\n",
        "<li>**Language Specifics**:\n",
        "Different programming languages might have nuances in their order of operations, so it's essential to consult the language's documentation or specification to understand the exact rules.\n",
        "\n",
        "<li>**Overloaded Operators**:\n",
        "In languages that support operator overloading (e.g., C++, Python), the evaluation order is determined by the original operator's semantics. However, the actual operation performed is dependent on the user-defined behavior for that operator and the operand types.\n",
        "\n",
        "</ol>Understanding operator evaluation order is crucial for developers to write correct and maintainable code. When in doubt, using parentheses to explicitly specify the desired evaluation order can prevent unexpected results and make the code clearer to other developers."
      ]
    },
    {
      "cell_type": "code",
      "execution_count": 15,
      "metadata": {},
      "outputs": [
        {
          "data": {
            "text/plain": [
              "(50.0, 50.0, 50.0)"
            ]
          },
          "execution_count": 15,
          "metadata": {},
          "output_type": "execute_result"
        }
      ],
      "source": [
        "## Let's check assosiation for multiplication and division\n",
        "5 * 20 / 2, 5 * (20 / 2), (5 * 20) / 2"
      ]
    },
    {
      "cell_type": "code",
      "execution_count": null,
      "metadata": {},
      "outputs": [
        {
          "data": {
            "text/plain": [
              "(50.0, 12.5, 50.0)"
            ]
          },
          "execution_count": 16,
          "metadata": {},
          "output_type": "execute_result"
        }
      ],
      "source": [
        "# now let's try division first\n",
        "500 / 20 * 2, 500 / (20 * 2), (500 / 20) * 2\n",
        "# so division and multiplication have the same precedence and they are left associative"
      ]
    },
    {
      "cell_type": "markdown",
      "metadata": {},
      "source": [
        "## Exponentiation association in Python"
      ]
    },
    {
      "cell_type": "code",
      "execution_count": 13,
      "metadata": {
        "colab": {
          "base_uri": "https://localhost:8080/"
        },
        "id": "Fp2DmKyow1ZY",
        "outputId": "a960b69a-e94b-44c4-8140-7ddc098ad8cd"
      },
      "outputs": [
        {
          "data": {
            "text/plain": [
              "(139234637988958594318883410818490335842688858253435056475195084164406590796163250320615014993816265862385324388842602762167013693889631286567769205313788274787963704661873320009853338386432,\n",
              " 1048576,\n",
              " 139234637988958594318883410818490335842688858253435056475195084164406590796163250320615014993816265862385324388842602762167013693889631286567769205313788274787963704661873320009853338386432)"
            ]
          },
          "execution_count": 13,
          "metadata": {},
          "output_type": "execute_result"
        }
      ],
      "source": [
        "# Exponentiation association\n",
        "# So hypothesis - Python has right side exponenation association (unlike *,/,+,-)\n",
        "2 ** 5 ** 4, 32 ** 4, 2 ** 625"
      ]
    },
    {
      "cell_type": "code",
      "execution_count": null,
      "metadata": {
        "id": "VY10jdEuxYXS"
      },
      "outputs": [],
      "source": [
        "# so Hypothesis proven, Python does indeed has right side associativity for exponentiation"
      ]
    },
    {
      "cell_type": "markdown",
      "metadata": {
        "id": "1Hvl72PxqXyq"
      },
      "source": [
        "## Overloaded Operators\n",
        "\n",
        "Operator overloading allows operators to have different meanings based on the context in which they're used, particularly with user-defined data types. It's a feature that enables programmers to use traditional operator notation for custom implementations, which can lead to more concise and intuitive code.\n",
        "\n",
        "Let's delve deeper:\n",
        "\n",
        "\n",
        "- **What is Operator Overloading?**\n",
        "   - Operator overloading allows you to redefine the behavior of operators for user-defined data types, like classes or structs.\n",
        "   - Instead of having to write something like `a.add(b)`, with operator overloading, you can use the more natural `a + b`, even if `a` and `b` are objects of a custom class.\n",
        "- **Benefits**:\n",
        "   - **Readability**: It can make code more readable by using familiar notation.\n",
        "   - **Intuitiveness**: Especially useful when creating classes that represent mathematical or logical entities, e.g., a `Matrix` or `ComplexNumber` class.\n",
        "- **Potential Pitfalls**:\n",
        "   - **Abuse**: Overloading operators in a way that's not intuitive can lead to confusing code. For example, using the `+` operator for string concatenation in some languages can be non-intuitive for those coming from other languages.\n",
        "   - **Performance Overhead**: Custom implementations might be less efficient than built-in operations.\n",
        "   - **Complexity**: Introducing operator overloading can make the code harder to understand if the overloaded behavior deviates significantly from the traditional use of the operator.\n",
        "- **Commonly Overloaded Operators**:\n",
        "In languages that support operator overloading, some commonly overloaded operators include:\n",
        "   - Arithmetic operators: `+`, `-`, `*`, `/`\n",
        "   - Comparison operators: `==`, `!=`, `<`, `>`, `<=`, `>=`\n",
        "   - Stream operators (common in C++): `<<`, `>>`\n",
        "   - Assignment operators: `=`, `+=`, `-=`, etc.\n",
        "- **How It Works (Using C++ as an Example)**:\n",
        "C++ allows for extensive operator overloading. To overload the `+` operator for a custom class `MyClass`, you would define a method like this:\n",
        "\n",
        "```cpp\n",
        "Copy code\n",
        "MyClass operator+(const MyClass& other) {\n",
        "    // ... your custom addition logic here ...\n",
        "}\n",
        "\n",
        "```\n",
        "Now, if `a` and `b` are objects of `MyClass`, `a + b` would use the above definition.\n",
        "- **Operator Functions vs. Member Functions**:\n",
        "   - Operators can often be overloaded either as standalone functions or member functions of a class.\n",
        "   - Some operators, like the assignment operator (`=`), can only be overloaded as member functions in certain languages.\n",
        "- **Languages Supporting Operator Overloading**:\n",
        "   - C++ is known for its extensive support for operator overloading.\n",
        "   - Python also supports it by defining special methods like `__add__`, `__lt__`, etc.\n",
        "   - C# allows operator overloading with the `operator` keyword.\n",
        "   - Java doesn't support operator overloading, except for the `+` operator with strings.\n",
        "- **Guidelines**:\n",
        "   - **Stay Intuitive**: Overload operators only if their behavior remains intuitive. Don't use `+` for an operation that's completely unrelated to addition or concatenation.\n",
        "   - **Consistency**: If you overload one operator (e.g., `==`), it's often a good idea to overload its counterpart (`!=`) to maintain consistency.\n",
        "   - **Avoid Side Effects**: Operator overloads should not produce unexpected side effects. They should be predictable in their behavior.\n",
        "\n",
        "In conclusion, operator overloading can be a powerful tool to enhance the expressiveness of a language and simplify code. However, like many tools, its effectiveness depends on how judiciously it's used. Proper overloading can make code cleaner and more intuitive, but inappropriate or excessive overloading can lead to confusion."
      ]
    },
    {
      "cell_type": "code",
      "execution_count": 17,
      "metadata": {
        "colab": {
          "base_uri": "https://localhost:8080/"
        },
        "id": "4cpJ6yxIx2nf",
        "outputId": "a14538ef-bdb0-47e1-9926-f51148670b12"
      },
      "outputs": [
        {
          "name": "stdout",
          "output_type": "stream",
          "text": [
            "Starting to make a new robot\n",
            "Robot named: Wall-E ready at x:5 y:0\n",
            "Starting to make a new robot\n",
            "Robot named: r2d2 ready at x:10 y:0\n",
            "Starting to make a new robot\n",
            "Robot named: Wall-E_r2d2 ready at x:15 y:0\n"
          ]
        }
      ],
      "source": [
        "class Robot:\n",
        "    def __init__(self, name, x = 0, y = 0):\n",
        "        print(\"Starting to make a new robot\")\n",
        "        self.name = name\n",
        "        self.x = x\n",
        "        self.y = y\n",
        "        print(f\"Robot named: {self.name} ready at x:{self.x} y:{self.y}\")\n",
        "    # Python offers so called dunder methods for overloading\n",
        "    def __add__(self, other):\n",
        "        new_x = self.x + other.x\n",
        "        new_y = self.y + other.y\n",
        "        new_name = self.name + \"_\" + other.name\n",
        "        return Robot(new_name, new_x, new_y)\n",
        "\n",
        "# let's make some objects from our class\n",
        "walle = Robot(\"Wall-E\", x=5)\n",
        "r2d2 = Robot(\"r2d2\", x = 10)\n",
        "\n",
        "# we can now use overloaded + on Robot class objects\n",
        "megatron = walle + r2d2"
      ]
    },
    {
      "cell_type": "markdown",
      "metadata": {
        "id": "pBz0W4PXqXyr"
      },
      "source": [
        "## Type Conversion\n",
        "\n",
        "Type conversions, often known as type casting or type coercion, refer to the process of converting a value from one data type to another. This is a common operation in programming, and depending on how it's handled, can be explicit (manual) or implicit (automatic).\n",
        "\n",
        "\n",
        "- **Implicit Type Conversion (Coercion)**:\n",
        "   - This happens automatically when the compiler or interpreter encounters mixed data types in an expression.\n",
        "   - For example, in the expression `3.14 + 5` (a float added to an integer), the integer might be automatically converted to a float to perform the operation.\n",
        "   - While implicit conversions can make code easier to write, they might lead to unexpected results if the programmer is not aware of the coercion rules of the language.\n",
        "- **Explicit Type Conversion (Casting)**:\n",
        "   - This is initiated by the programmer, using language-specific syntax to specify how and what type conversion should occur.\n",
        "   - For instance, in C/C++, you might use: `float x = (float)intVariable;` to cast an integer to a float.\n",
        "   - Explicit conversion is more predictable but requires more attention from the developer.\n",
        "- **Common Scenarios**:\n",
        "   - **Narrowing Conversion**: This is when a value from a larger set (like `float`) is converted to a smaller set (like `int`). This can lead to loss of data. E.g., converting `3.14` to an integer might result in `3`.\n",
        "   - **Widening Conversion**: Converting from a smaller set to a larger set, like `int` to `float`. This is usually safe and is often done implicitly.\n",
        "   - **String Conversions**: Converting numbers to strings or vice versa. E.g., `\"123\"` to `123`.\n",
        "- **Potential Issues**:\n",
        "   - **Loss of Information**: Especially in narrowing conversions, significant data can be lost. For instance, converting a large integer into a smaller sized integer type can result in overflow.\n",
        "   [Float Visualization](https://lukaskollmer.de/ieee-754-visualizer/)\n",
        "   - **Precision Errors**: When converting between floats and integers or using different float sizes, rounding errors can occur.\n",
        "   - **Unexpected Behavior**: Implicit conversions can sometimes lead to unexpected behavior, as the programmer might not be aware that a conversion is taking place.\n",
        "- **Language Specifics**:\n",
        "   - **C/C++**: Provides a rich set of casting operations, like `static_cast`, `dynamic_cast`, `const_cast`, and `reinterpret_cast`.\n",
        "   - **Python**: Uses functions like `int()`, `float()`, and `str()` for explicit conversions. It does limited implicit conversions between numeric types.\n",
        "   - **JavaScript**: Known for its dynamic typing and type coercion, especially with the `==` operator, which can lead to unexpected results due to implicit type conversions. For example, the expression `[] == false` is `true` because of implicit type conversion.\n",
        "   - **Java**: Supports both implicit and explicit casting, but with a statically-typed nature, unexpected implicit conversions are limited.\n",
        "- **Best Practices**:\n",
        "   - **Awareness**: Always be aware of the type conversion rules of the language you're working in.\n",
        "   - **Explicit Over Implicit**: When in doubt, use explicit conversions. This makes the code's intention clearer.\n",
        "   - **Avoid Mixing Types**: If possible, avoid mixing different data types in operations to prevent unintentional coercion.\n",
        "   - **Check Ranges**: Before performing narrowing conversions, check if the value is within the target type's range to prevent data loss or overflow."
      ]
    },
    {
      "cell_type": "markdown",
      "metadata": {
        "id": "FxdtQmRyqXyr"
      },
      "source": [
        "## Relational and Logical (Boolean) Operators\n",
        "\n",
        "### 1. Relational Expressions:\n",
        "Relational expressions evaluate the relationship between two values. They commonly use relational operators and result in a Boolean value (`true` or `false`).\n",
        "\n",
        "**Common Relational Operators**:\n",
        "\n",
        "\n",
        "- `==`: Equal to\n",
        "- `!=`: Not equal to\n",
        "- `<`: Less than\n",
        "- `<=`: Less than or equal to\n",
        "- `>`: Greater than\n",
        "- `>=`: Greater than or equal to\n",
        "\n",
        "For example, the expression `5 < 10` evaluates to `true`, while `5 == 10` evaluates to `false`.\n",
        "\n",
        "### 2. Boolean Expressions:\n",
        "Boolean expressions use logical operators to combine one or more conditions, resulting in a Boolean value.\n",
        "\n",
        "**Common Boolean Operators**:\n",
        "\n",
        "\n",
        "- `&&`: Logical AND (in some languages, it's `AND`)\n",
        "- `||`: Logical OR (in some languages, it's `OR`)\n",
        "- `!`: Logical NOT (in some languages, it's `NOT`)\n",
        "\n",
        "Examples:\n",
        "\n",
        "\n",
        "- `(5 < 10) && (7 > 3)` evaluates to `true` because both conditions are true.\n",
        "- `(5 > 10) || (7 > 3)` evaluates to `true` because at least one of the conditions is true.\n",
        "\n",
        "### 3. Short-Circuit Evaluation:\n",
        "Languages like C, C++, Java, and many others use short-circuit evaluation for Boolean expressions. This means:\n",
        "\n",
        "\n",
        "- For an `AND` operation (`&&`), if the first condition is `false`, the second condition won't be evaluated because the entire expression can't be true.\n",
        "- For an `OR` operation (`||`), if the first condition is `true`, the second condition won't be evaluated because the entire expression is already true.\n",
        "\n",
        "This behavior can have performance benefits, but it's essential to be aware of it, especially if the second condition involves a function call or has side effects.\n",
        "\n",
        "### 4. Mixed Type Comparisons:\n",
        "In some dynamically typed languages like JavaScript, relational operators can be used to compare different types of values, leading to implicit type conversions. This can sometimes result in unexpected behavior. For instance, in JavaScript, the expression `\"5\" == 5` is true due to type coercion.\n",
        "\n",
        "### 5. Ternary or Conditional Operator:\n",
        "Some languages support a shorthand for making quick decisions based on Boolean expressions. The ternary or conditional operator, usually represented as `? :`, allows for a compact if-else construct. Example in C/C++/Java:\n",
        "\n",
        "```c<button class=\"flex ml-auto gizmo:ml-0 gap-2 items-center\"><svg stroke=\"currentColor\" fill=\"none\" stroke-width=\"2\" viewBox=\"0 0 24 24\" stroke-linecap=\"round\" stroke-linejoin=\"round\" class=\"icon-sm\" height=\"1em\" width=\"1em\" xmlns=\"http://www.w3.org/2000/svg\"><path d=\"M16 4h2a2 2 0 0 1 2 2v14a2 2 0 0 1-2 2H6a2 2 0 0 1-2-2V6a2 2 0 0 1 2-2h2\"></path><rect x=\"8\" y=\"2\" width=\"8\" height=\"4\" rx=\"1\" ry=\"1\"></rect></svg>Copy code</button>\n",
        "int result = (x > y) ? x : y; // assigns the larger of x and y to result\n",
        "\n",
        "**Tip** - avoid multiple ternary operators in one line, hard to follow\n",
        "\n",
        "```\n",
        "### 6. Best Practices:\n",
        "\n",
        "- **Explicit Comparisons**: Instead of writing `if (x)`, it's often clearer to use `if (x != 0)` to show explicit intent.\n",
        "- **Avoid Over-complicating**: Nesting many logical operators can make an expression hard to read and understand. Use parentheses for clarity or break the expression into multiple simpler conditions.\n",
        "- **Beware of Assignment vs. Comparison**: In languages like C and C++, it's easy to mistakenly use a single `=` (assignment) instead of `==` (comparison). Always double-check conditions and maybe enable compiler warnings that catch such mistakes.\n"
      ]
    },
    {
      "cell_type": "code",
      "execution_count": 32,
      "metadata": {
        "colab": {
          "base_uri": "https://localhost:8080/"
        },
        "id": "1yLZwNIo7DzO",
        "outputId": "e27349a5-5291-44e1-eca8-1829800d056a"
      },
      "outputs": [
        {
          "name": "stdout",
          "output_type": "stream",
          "text": [
            "20\n"
          ]
        }
      ],
      "source": [
        "# Python ternary\n",
        "a = 2\n",
        "x = 10 if a > 4 else 20\n",
        "print(x)"
      ]
    },
    {
      "cell_type": "code",
      "execution_count": 18,
      "metadata": {
        "colab": {
          "base_uri": "https://localhost:8080/"
        },
        "id": "rD-UH0h25J7e",
        "outputId": "cbdb8c51-7135-4c99-8120-bd2203b2782f"
      },
      "outputs": [
        {
          "name": "stdout",
          "output_type": "stream",
          "text": [
            " 0b11\n",
            "0b100\n",
            "0b111\n"
          ]
        }
      ],
      "source": [
        "# bit operators are usually & |  also ^ for NOT in python\n",
        "print(f\" {bin(3)}\", bin(4), bin(7), sep='\\n')"
      ]
    },
    {
      "cell_type": "code",
      "execution_count": 19,
      "metadata": {
        "colab": {
          "base_uri": "https://localhost:8080/"
        },
        "id": "73mkgsJb5qIs",
        "outputId": "394c3489-ab6d-4167-92b6-c56456cd8851"
      },
      "outputs": [
        {
          "data": {
            "text/plain": [
              "0"
            ]
          },
          "execution_count": 19,
          "metadata": {},
          "output_type": "execute_result"
        }
      ],
      "source": [
        "3 & 4 # no bits filled because"
      ]
    },
    {
      "cell_type": "code",
      "execution_count": 20,
      "metadata": {
        "colab": {
          "base_uri": "https://localhost:8080/"
        },
        "id": "4wZ0HacU5zWJ",
        "outputId": "cbc98455-66ba-4639-ad14-b92cc3f52661"
      },
      "outputs": [
        {
          "data": {
            "text/plain": [
              "7"
            ]
          },
          "execution_count": 20,
          "metadata": {},
          "output_type": "execute_result"
        }
      ],
      "source": [
        "3 | 4 # 7 because we get all the bits filled"
      ]
    },
    {
      "cell_type": "code",
      "execution_count": 21,
      "metadata": {
        "colab": {
          "base_uri": "https://localhost:8080/"
        },
        "id": "xolqHXKi59C3",
        "outputId": "a66a6e40-9127-4b22-dbb9-7db4cb48c806"
      },
      "outputs": [
        {
          "data": {
            "text/plain": [
              "-4"
            ]
          },
          "execution_count": 21,
          "metadata": {},
          "output_type": "execute_result"
        }
      ],
      "source": [
        "~3 # inverts all the bits in standard SIGNED integer"
      ]
    },
    {
      "cell_type": "code",
      "execution_count": null,
      "metadata": {},
      "outputs": [
        {
          "name": "stdout",
          "output_type": "stream",
          "text": [
            "-0b100\n"
          ]
        }
      ],
      "source": [
        "# so -4 in binary is 1111 1100\n",
        "print(bin(-4)) # it prints -0b100 but in bit level it is 1111 1100 in single byte"
      ]
    },
    {
      "cell_type": "code",
      "execution_count": null,
      "metadata": {
        "colab": {
          "base_uri": "https://localhost:8080/"
        },
        "id": "hrVDHhBh6KOZ",
        "outputId": "ca167ddb-f8e6-4c7b-e73f-b9dd8d01aad5"
      },
      "outputs": [
        {
          "data": {
            "text/plain": [
              "-1"
            ]
          },
          "execution_count": 22,
          "metadata": {},
          "output_type": "execute_result"
        }
      ],
      "source": [
        "~0 # so complement of 0 is -1 in binary"
      ]
    },
    {
      "cell_type": "code",
      "execution_count": 25,
      "metadata": {
        "colab": {
          "base_uri": "https://localhost:8080/"
        },
        "id": "ZzbWz5bj6MYo",
        "outputId": "38471446-3222-415c-b04b-1caa670b82a4"
      },
      "outputs": [
        {
          "data": {
            "text/plain": [
              "-1001"
            ]
          },
          "execution_count": 25,
          "metadata": {},
          "output_type": "execute_result"
        }
      ],
      "source": [
        "~1000"
      ]
    },
    {
      "cell_type": "code",
      "execution_count": 26,
      "metadata": {
        "colab": {
          "base_uri": "https://localhost:8080/"
        },
        "id": "fYiyYHa86TBY",
        "outputId": "972d2a0a-155a-414c-c5c9-d835d477c40a"
      },
      "outputs": [
        {
          "data": {
            "text/plain": [
              "(-2147483649, -2147483650, -2147483651)"
            ]
          },
          "execution_count": 26,
          "metadata": {},
          "output_type": "execute_result"
        }
      ],
      "source": [
        "~(2**31), ~(2**31+1), ~(2**31+2) # so looks like it works to integers over 32bits"
      ]
    },
    {
      "cell_type": "code",
      "execution_count": 27,
      "metadata": {
        "colab": {
          "base_uri": "https://localhost:8080/"
        },
        "id": "QN95FRUf6iCZ",
        "outputId": "4236f229-6779-4ebb-87a4-2999017d9b9f"
      },
      "outputs": [
        {
          "data": {
            "text/plain": [
              "(-9223372036854775809, -9223372036854775810, -9223372036854775811)"
            ]
          },
          "execution_count": 27,
          "metadata": {},
          "output_type": "execute_result"
        }
      ],
      "source": [
        "# lets try 64 bits\n",
        "~(2**63), ~(2**63+1), ~(2**63+2) # seems to still work\n",
        "# TODO find when/if it stops working"
      ]
    },
    {
      "cell_type": "markdown",
      "metadata": {
        "id": "ngTpXAJuqXys"
      },
      "source": [
        "## Short-circuit evaluation\n",
        "\n",
        "Short-circuit evaluation, also known as lazy evaluation, is an essential concept in many programming languages that optimizes the evaluation of Boolean expressions.\n",
        "\n",
        "### 1. Definition:\n",
        "Short-circuit evaluation refers to the process where the second argument in a two-argument Boolean operation is evaluated only if the first argument doesn't suffice to determine the value of the expression.\n",
        "\n",
        "### 2. Where It's Used:\n",
        "The two most common operators that utilize short-circuit evaluation are:\n",
        "\n",
        "\n",
        "- `&&` (logical AND)\n",
        "- `||` (logical OR)\n",
        "\n",
        "### 3. How It Works:\n",
        "\n",
        "- **Logical AND (`&&`)**: If the left-hand operand is `false`, then the overall value must be `false` (because both values need to be `true` for a logical AND to evaluate to `true`). Therefore, if the left-hand operand is `false`, the right-hand operand is not evaluated.\n",
        "- **Logical OR (`||`)**: If the left-hand operand is `true`, then the overall value must be `true` (because only one value needs to be `true` for a logical OR to evaluate to `true`). Therefore, if the left-hand operand is `true`, the right-hand operand is not evaluated.\n",
        "\n",
        "### 4. Advantages:\n",
        "\n",
        "- **Performance**: Reduces unnecessary calculations. If the first condition of an `AND` operation is `false` or the first condition of an `OR` operation is `true`, the language doesn't waste time evaluating the second condition.\n",
        "- **Safety**: It can be used to prevent errors in conditions. For example, in the expression `if (ptr != NULL && *ptr == value)`, the second condition won't be evaluated if `ptr` is `NULL`, thus avoiding a potential null pointer dereference.\n",
        "\n",
        "### 5. Considerations:\n",
        "\n",
        "- **Side Effects**: If the second operand has side effects (like modifying a variable or producing output), those side effects won't occur if the operand is skipped due to short-circuit evaluation. This can be both a benefit (for safety, as mentioned) or a drawback if the programmer is not aware of or relies on those side effects.\n",
        "- **Readability**: Over-reliance on short-circuiting, especially when chaining many conditions, can make the code harder to read and understand. It's essential to use parentheses and spacing to clarify the intended order of operations.\n",
        "\n",
        "### 6. Examples:\n",
        "Consider the following scenarios:\n",
        "\n",
        "```c<button class=\"flex ml-auto gizmo:ml-0 gap-2 items-center\"><svg stroke=\"currentColor\" fill=\"none\" stroke-width=\"2\" viewBox=\"0 0 24 24\" stroke-linecap=\"round\" stroke-linejoin=\"round\" class=\"icon-sm\" height=\"1em\" width=\"1em\" xmlns=\"http://www.w3.org/2000/svg\"><path d=\"M16 4h2a2 2 0 0 1 2 2v14a2 2 0 0 1-2 2H6a2 2 0 0 1-2-2V6a2 2 0 0 1 2-2h2\"></path><rect x=\"8\" y=\"2\" width=\"8\" height=\"4\" rx=\"1\" ry=\"1\"></rect></svg>Copy code</button>\n",
        "if (x != 0 ; y/x > 10) { ... }\n",
        "\n",
        "```\n",
        "In this C/C++ example, if `x` is `0`, the division in the second condition would cause a divide-by-zero error. However, because of short-circuiting, the division won't be executed when `x` is `0`.\n",
        "\n",
        "```python<button class=\"flex ml-auto gizmo:ml-0 gap-2 items-center\"><svg stroke=\"currentColor\" fill=\"none\" stroke-width=\"2\" viewBox=\"0 0 24 24\" stroke-linecap=\"round\" stroke-linejoin=\"round\" class=\"icon-sm\" height=\"1em\" width=\"1em\" xmlns=\"http://www.w3.org/2000/svg\"><path d=\"M16 4h2a2 2 0 0 1 2 2v14a2 2 0 0 1-2 2H6a2 2 0 0 1-2-2V6a2 2 0 0 1 2-2h2\"></path><rect x=\"8\" y=\"2\" width=\"8\" height=\"4\" rx=\"1\" ry=\"1\"></rect></svg>Copy code</button>\n",
        "if lst and lst[0] == \"example\":\n",
        "    print(\"List is not empty and its first element is 'example'\")\n",
        "\n",
        "```\n",
        "In this Python example, the second condition won't be evaluated if the list `lst` is empty, thus preventing an index-out-of-range error.\n",
        "\n",
        "### 7. Language Support:\n",
        "Many programming languages support short-circuit evaluation:\n",
        "\n",
        "\n",
        "- **Imperative languages** like C, C++, Java, and C# use `&&` and `||` for short-circuiting.\n",
        "- **Scripting languages** like Python, JavaScript, and Ruby also support this feature, typically with `and` and `or` keywords or similar operators."
      ]
    },
    {
      "cell_type": "code",
      "execution_count": 29,
      "metadata": {
        "colab": {
          "base_uri": "https://localhost:8080/"
        },
        "id": "beQNI7z_8UnC",
        "outputId": "3c184e72-e30a-485b-9680-f35d6d529c5b"
      },
      "outputs": [
        {
          "name": "stdout",
          "output_type": "stream",
          "text": [
            "List is not empty and its first element is 'example'\n"
          ]
        }
      ],
      "source": [
        "lst = [\"example\", \"not an example\", \"example\"]\n",
        "if lst and lst[0] == \"example\": # so if lst length is 0, list will be falsy\n",
        "    print(\"List is not empty and its first element is 'example'\")\n",
        "else:\n",
        "    print(\"Either list is empty or something else is first element\")"
      ]
    },
    {
      "cell_type": "markdown",
      "metadata": {
        "id": "N9tSii6bqXys"
      },
      "source": [
        "## Assignment Statement\n",
        "\n",
        "The assignment statement is fundamental in programming, allowing for the storage of values in variables. Let's dive deeper into its various aspects:\n",
        "\n",
        "### 1. **Basic Definition**:\n",
        "An assignment statement assigns a value to a variable. The most common symbol used for assignment is `=`.\n",
        "\n",
        "### 2. **General Form**:\n",
        "In most languages, the general form of an assignment statement is:\n",
        "\n",
        "```makefile<button class=\"flex ml-auto gizmo:ml-0 gap-2 items-center\"><svg stroke=\"currentColor\" fill=\"none\" stroke-width=\"2\" viewBox=\"0 0 24 24\" stroke-linecap=\"round\" stroke-linejoin=\"round\" class=\"icon-sm\" height=\"1em\" width=\"1em\" xmlns=\"http://www.w3.org/2000/svg\"><path d=\"M16 4h2a2 2 0 0 1 2 2v14a2 2 0 0 1-2 2H6a2 2 0 0 1-2-2V6a2 2 0 0 1 2-2h2\"></path><rect x=\"8\" y=\"2\" width=\"8\" height=\"4\" rx=\"1\" ry=\"1\"></rect></svg>Copy code</button>\n",
        "variable = expression\n",
        "\n",
        "```\n",
        "Here, the value of the `expression` on the right-hand side is computed and then assigned to the `variable` on the left-hand side.\n",
        "\n",
        "### 3. **Assignment Variations**:\n",
        "\n",
        "- **Chained Assignment**: In some languages, you can assign a single value to multiple variables simultaneously. For instance, in Python:\n",
        "\n",
        "```python\n",
        "Copy code\n",
        "a = b = c = 5\n",
        "\n",
        "```\n",
        "- **Multiple Assignment**: Languages like Python allow multiple variables to be assigned multiple values in one line:\n",
        "\n",
        "```python\n",
        "a, b, c = 1, 2, 3\n",
        "# an example of Tuple packing and unpacking\n",
        "```\n",
        "\n",
        "- **Compound Assignment**: Many languages support compound assignment operators, which combine an arithmetic operation with an assignment. Common compound assignment operators include `+=`, `-=`, `*=`, and `/=`. For example, `x += 5` is equivalent to `x = x + 5`.\n",
        "\n",
        "### 4. **Value Semantics vs. Reference Semantics**:\n",
        "\n",
        "- **Value Semantics (Copy Semantics)**: When an assignment is made, a copy of the value is assigned. Modifications to one variable do not affect others. Primitive types in most languages (like `int`, `float`) typically follow value semantics.\n",
        "- **Reference Semantics**: The assignment copies a reference, not the actual value. Both variables now refer to the same memory location, so changes to one reflect in the other. This behavior is common with complex types like objects and arrays in many languages.\n",
        "\n",
        "### 5. **Destructuring or Pattern Matching**:\n",
        "In some modern languages, you can use destructuring (or pattern matching) in assignments to extract values from complex data structures. For instance, in JavaScript:\n",
        "\n",
        "```javascript<button class=\"flex ml-auto gizmo:ml-0 gap-2 items-center\"><svg stroke=\"currentColor\" fill=\"none\" stroke-width=\"2\" viewBox=\"0 0 24 24\" stroke-linecap=\"round\" stroke-linejoin=\"round\" class=\"icon-sm\" height=\"1em\" width=\"1em\" xmlns=\"http://www.w3.org/2000/svg\"><path d=\"M16 4h2a2 2 0 0 1 2 2v14a2 2 0 0 1-2 2H6a2 2 0 0 1-2-2V6a2 2 0 0 1 2-2h2\"></path><rect x=\"8\" y=\"2\" width=\"8\" height=\"4\" rx=\"1\" ry=\"1\"></rect></svg>Copy code</button>\n",
        "let [x, y, z] = [1, 2, 3];\n",
        "\n",
        "```\n",
        "### 6. **Assignment vs. Equality**:\n",
        "A common pitfall, especially for beginners, is confusing the assignment operator (`=`) with the equality operator (`==` or `===` in languages like JavaScript). It's essential to remember that `=` assigns value, while `==` or `===` tests for equality.\n",
        "\n",
        "### 7. **Lazy Evaluation**:\n",
        "Some languages, particularly functional languages like Haskell, support lazy evaluation. In this paradigm, expressions aren't immediately evaluated when assigned to a variable. Instead, they're evaluated only when needed, potentially improving performance.\n",
        "\n",
        "### 8. **Type Checking and Assignments**:\n",
        "\n",
        "- **Statically-typed languages** (like Java, C++): The type of the variable is checked at compile-time, and you typically can't assign a value of an incompatible type without an explicit type cast.\n",
        "- **Dynamically-typed languages** (like Python, JavaScript): The type of the variable is determined at runtime, allowing for more flexibility in assignments, but potentially leading to runtime errors.\n",
        "\n",
        "### 9. **Constant Assignment**:\n",
        "Some variables, often called constants, are meant to be assigned only once. Languages provide mechanisms (like the `const` keyword in JavaScript or `final` in Java) to ensure a variable's value isn't accidentally changed after its initial assignment.\n",
        "\n",
        "As far as usability goes constants should be preferred over variables, as they make the code more readable and maintainable. Only when you need to change the value of a variable should you use a variable.\n",
        "\n",
        "\n"
      ]
    },
    {
      "cell_type": "markdown",
      "metadata": {
        "id": "TODf4QWmqXyt"
      },
      "source": [
        "## Mixed-mode assignment\n",
        "\n",
        "Mixed-mode assignment refers to assigning a value of one type to a variable of a different type, typically involving some form of implicit or explicit type conversion (also known as type coercion or casting). This concept is especially relevant in the context of programming languages that allow operations between operands of different types.\n",
        "\n",
        "### Examples:\n",
        "\n",
        "- **Implicit Conversion**:\n",
        "In some languages, a mixed-mode assignment might result in an automatic type conversion without the programmer's explicit intervention.\n",
        "\n",
        "```c\n",
        "Copy code\n",
        "double d;\n",
        "int i = 10;\n",
        "d = i;  // implicitly converts integer to double\n",
        "\n",
        "```\n",
        "In the above C code, the integer `i` is automatically converted to a double before being assigned to `d`.\n",
        "- **Explicit Conversion**:\n",
        "In some cases, or in stricter languages, you might need to specify the type conversion explicitly.\n",
        "\n",
        "```c\n",
        "Copy code\n",
        "int i;\n",
        "double d = 10.5;\n",
        "i = (int) d;  // explicitly converts double to integer\n",
        "\n",
        "```\n",
        "Here, the double `d` is explicitly cast to an integer before being assigned to `i`. Note that this kind of casting might lead to loss of data (in this case, the fractional part is discarded).\n",
        "\n",
        "### Issues and Considerations:\n",
        "\n",
        "- **Loss of Information**: As seen in the explicit conversion example, casting from a type with a larger range or more precision (like `double`) to one with a smaller range or less precision (like `int`) can result in a loss of information.\n",
        "- **Performance**: Implicit type conversions can introduce a slight overhead, especially if done frequently, as the system must perform additional operations to convert between types.\n",
        "- **Readability and Maintainability**: Relying too heavily on implicit type conversions can make code less readable and harder to maintain, as it might not be immediately clear what type a particular value is at any given point.\n",
        "- **Runtime Errors**: In dynamically-typed languages or languages that rely on implicit type conversions, mixed-mode assignments might lead to unexpected runtime errors if a value cannot be correctly converted to the desired type.\n",
        "- **Language Differences**: The way languages handle mixed-mode assignments can vary widely. For instance, some languages might allow implicit conversions in many cases, while others might be more restrictive and require explicit casting.\n",
        "\n",
        "To mitigate potential issues with mixed-mode assignments:\n",
        "\n",
        "\n",
        "- Always be aware of the types you're working with.\n",
        "- Favor explicit type conversions over implicit ones for clarity.\n",
        "- Ensure you understand the type conversion mechanisms and rules of the particular language you're using.\n",
        "\n",
        "In summary, mixed-mode assignment is a concept that deals with the assignment of values between variables of different types."
      ]
    },
    {
      "cell_type": "markdown",
      "metadata": {
        "id": "TtDleAbGqXyt"
      },
      "source": [
        "## Books on Programming Languages\n",
        "\n",
        "- **\"Structure and Interpretation of Computer Programs (SICP)\"** by Harold Abelson and Gerald Jay Sussman.\n",
        "   - This book uses the Scheme programming language to teach fundamental programming concepts. It delves deep into the principles of how programs are structured and interpreted.\n",
        "- **\"Concepts of Programming Languages\"** by Robert W. Sebesta.\n",
        "   - A comprehensive overview of the key concepts behind various programming languages, including the design and implementation details of expressions, assignments, and statements.\n",
        "- **\"Programming Language Pragmatics\"** by Michael L. Scott.\n",
        "   - This book provides a comprehensive overview of the design and implementation of programming languages. It offers both theoretical and practical perspectives on topics like syntax, semantics, and pragmatics of various programming constructs.\n",
        "- **\"The C Programming Language\"** by Brian W. Kernighan and Dennis M. Ritchie.\n",
        "   - While this book focuses on the C programming language, it provides a deep understanding of expressions, assignments, and statements in one of the most influential programming languages.\n",
        "- **\"Types and Programming Languages\"** by Benjamin C. Pierce.\n",
        "   - This book delves into the theory behind types in programming languages. While it doesn't exclusively focus on expressions, assignments, and statements, it provides foundational knowledge on how types influence these constructs.\n",
        "- **\"Compilers: Principles, Techniques, and Tools\"** by Alfred V. Aho, Monica S. Lam, Ravi Sethi, and Jeffrey D. Ullman (often referred to as the \"Dragon Book\").\n",
        "   - While its primary focus is on compiler design, this book covers foundational programming language concepts as a compiler must understand and transform source code, including expressions and statements.\n",
        "- **\"Essentials of Programming Languages\"** by Daniel P. Friedman, Mitchell Wand, and Christopher T. Haynes.\n",
        "   - This book provides insights into the fundamental concepts of programming languages with a focus on the interpretation of programs."
      ]
    }
  ],
  "metadata": {
    "colab": {
      "provenance": [],
      "toc_visible": true
    },
    "kernelspec": {
      "display_name": "Python 3",
      "name": "python3"
    },
    "language_info": {
      "codemirror_mode": {
        "name": "ipython",
        "version": 3
      },
      "file_extension": ".py",
      "mimetype": "text/x-python",
      "name": "python",
      "nbconvert_exporter": "python",
      "pygments_lexer": "ipython3",
      "version": "3.12.1"
    },
    "orig_nbformat": 4
  },
  "nbformat": 4,
  "nbformat_minor": 0
}
