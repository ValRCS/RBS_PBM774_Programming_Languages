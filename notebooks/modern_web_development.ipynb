{
 "cells": [
  {
   "cell_type": "markdown",
   "metadata": {},
   "source": [
    "# Web Development"
   ]
  },
  {
   "cell_type": "markdown",
   "metadata": {},
   "source": [
    "## History of Web Development\n",
    "\n",
    "![First Web Server](https://upload.wikimedia.org/wikipedia/commons/thumb/d/d1/First_Web_Server.jpg/800px-First_Web_Server.jpg)\n",
    "\n",
    "### Birth of the Web\n",
    "- 1989: Tim Berners-Lee proposed a system for sharing information over the internet.\n",
    "- 1991: The first website was launched, marking the birth of the World Wide Web. - https://info.cern.ch/hypertext/WWW/TheProject.html\n",
    "- 1993: The first graphical web browser, Mosaic, was released, making the web more accessible to the general public.\n",
    "- 1994: Netscape Navigator was released, becoming the first popular web browser.\n",
    "- 1995: JavaScript was introduced, allowing for dynamic content on web pages.\n",
    "\n",
    "Naming of JavaScript\n",
    "- JavaScript was originally named Mocha, then changed to LiveScript, and finally to JavaScript to capitalize on the popularity of Java at the time.\n",
    "Java was looking to be the server-side language of the web, while JavaScript was intended to be the client-side language.\n",
    "Besides some syntactic similarities, the two languages are quite different in terms of design and purpose.\n",
    "\n"
   ]
  },
  {
   "cell_type": "markdown",
   "metadata": {},
   "source": [
    "## Early Web Standards\n",
    "\n",
    "### HTML Standards\n",
    "\n",
    "![Early Web Standards](https://desarrolloweb.dlsi.ua.es/cursos/2011/html5-css3/images/html5timeline.png)\n",
    "\n",
    "1994 - W3C (World Wide Web Consortium) was founded to develop web standards.\n",
    "- HTML (Hypertext Markup Language) was standardized, allowing for consistent web page structure.\n",
    "\n",
    "- 1996: HTML 2.0 was released, providing a more standardized way to create web pages.\n",
    "- 1997: HTML 3.2 was released, adding support for tables and applets.\n",
    "- 1998: HTML 4.0 was released, introducing support for scripting languages and improved accessibility features.\n",
    "- 1999: XHTML (Extensible Hypertext Markup Language) was introduced, combining HTML and XML for better data interchange.\n",
    "- 2004: HTML 4.01 was released, providing a more stable version of HTML.\n",
    "- 2008: HTML5 was introduced, bringing new features like audio and video support, local storage, and improved semantics.\n",
    "- 2014: HTML5 was finalized as a W3C Recommendation, solidifying its status as the standard for web development.\n",
    "- 2016: HTML Living Standard was introduced, allowing for continuous updates and improvements to HTML.\n",
    "\n",
    "Check W3C for the latest updates: https://www.w3.org/TR/html52/\n",
    "\n",
    "### CSS Standards\n",
    "\n",
    "- 1996: CSS (Cascading Style Sheets) was introduced, allowing for better separation of content and presentation.\n",
    "- 1998: CSS1 was released, providing basic styling capabilities for web pages.\n",
    "- 1999: CSS2 was released, adding support for media types and positioning.\n",
    "- 2011: CSS3 was introduced, bringing new features like transitions, animations, and responsive design.\n",
    "- 2012: CSS3 was divided into modules, allowing for faster development and implementation of new features.\n",
    "- 2014: CSS3 Flexbox First Final Draft: https://www.w3.org/TR/2014/WD-css-flexbox-1-20140925/\n",
    "- 2016: CSS Grid Layout was introduced, providing a powerful layout system for web pages.\n",
    "- 2017: CSS Grid Layout was finalized as a W3C Recommendation, solidifying its status as a standard for web development."
   ]
  }
 ],
 "metadata": {
  "language_info": {
   "name": "python"
  }
 },
 "nbformat": 4,
 "nbformat_minor": 2
}
