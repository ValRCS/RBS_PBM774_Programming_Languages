{
 "cells": [
  {
   "cell_type": "markdown",
   "metadata": {},
   "source": [
    "# Arithmetic Parser\n",
    "\n",
    "Creating a simple arithmetic parser in Python involves several steps:\n",
    "\n",
    "- **Tokenization**: Break the input string into a list of tokens. In the case of arithmetic operations, tokens could be numbers, parentheses, or operators like `+`, `-`, `*`, `/`.\n",
    "- **Parsing**: Convert the list of tokens into an abstract syntax tree (AST). In the case of arithmetic expressions, this will involve handling operator precedence and associativity.\n",
    "- **Evaluation**: Walk through the AST and calculate the result of the expression."
   ]
  },
  {
   "cell_type": "code",
   "execution_count": 2,
   "metadata": {},
   "outputs": [],
   "source": [
    "import re\n",
    "\n",
    "# Step 1: Tokenization\n",
    "def tokenize(expression):\n",
    "    return re.findall(r\"\\d+|\\+|\\-|\\*|\\/|\\(|\\)\", expression)\n",
    "\n",
    "# Step 2: Parsing\n",
    "def parse(tokens):\n",
    "    def evaluate(tokens):\n",
    "        args = [term(tokens)]\n",
    "        while tokens and tokens[0] in \"+-\":\n",
    "            op = tokens.pop(0)\n",
    "            if op == '+':\n",
    "                args.append(term(tokens))\n",
    "            else:\n",
    "                args.append(-term(tokens))\n",
    "        return sum(args)\n",
    "\n",
    "    def term(tokens):\n",
    "        args = [factor(tokens)]\n",
    "        while tokens and tokens[0] in \"*/\":\n",
    "            op = tokens.pop(0)\n",
    "            if op == '*':\n",
    "                args.append(factor(tokens))\n",
    "            else:\n",
    "                args.append(1 / factor(tokens))\n",
    "        result = 1\n",
    "        for arg in args:\n",
    "            result *= arg\n",
    "        return result\n",
    "\n",
    "    def factor(tokens):\n",
    "        if tokens[0] == '(':\n",
    "            tokens.pop(0)  # Remove '('\n",
    "            result = evaluate(tokens)\n",
    "            tokens.pop(0)  # Remove ')'\n",
    "        else:\n",
    "            result = float(tokens.pop(0))\n",
    "        return result\n",
    "\n",
    "    return evaluate(tokens)\n",
    "\n",
    "# Step 3: Evaluation\n",
    "def evaluate_expression(expression):\n",
    "    tokens = tokenize(expression)\n",
    "    return parse(tokens)"
   ]
  },
  {
   "cell_type": "code",
   "execution_count": 3,
   "metadata": {},
   "outputs": [
    {
     "data": {
      "text/plain": [
       "5.0"
      ]
     },
     "execution_count": 3,
     "metadata": {},
     "output_type": "execute_result"
    }
   ],
   "source": [
    "evaluate_expression(\"2+3\")  # 5"
   ]
  },
  {
   "cell_type": "code",
   "execution_count": 4,
   "metadata": {},
   "outputs": [
    {
     "data": {
      "text/plain": [
       "20.0"
      ]
     },
     "execution_count": 4,
     "metadata": {},
     "output_type": "execute_result"
    }
   ],
   "source": [
    "# let's check (2+3)*4 which should be 20\n",
    "evaluate_expression(\"(2+3)*4\")  # 20"
   ]
  },
  {
   "cell_type": "code",
   "execution_count": null,
   "metadata": {},
   "outputs": [],
   "source": []
  },
  {
   "cell_type": "code",
   "execution_count": 5,
   "metadata": {},
   "outputs": [
    {
     "data": {
      "text/plain": [
       "15.0"
      ]
     },
     "execution_count": 5,
     "metadata": {},
     "output_type": "execute_result"
    }
   ],
   "source": [
    "# let's try triple parentheses (2+3)*((4+5)/3) which should be 15\n",
    "evaluate_expression(\"(2+3)*((4+5)/3)\")  # 15"
   ]
  },
  {
   "cell_type": "code",
   "execution_count": 6,
   "metadata": {},
   "outputs": [
    {
     "data": {
      "text/plain": [
       "8.0"
      ]
     },
     "execution_count": 6,
     "metadata": {},
     "output_type": "execute_result"
    }
   ],
   "source": [
    "# let's add some text in between like Valdis and RBS\n",
    "# so 2 + Valdis RBS 6 should be 8\n",
    "evaluate_expression(\"2 + Valdis RBS 6\")  # 8"
   ]
  },
  {
   "cell_type": "markdown",
   "metadata": {},
   "source": [
    "## Building your own tokenizer without regular expressions"
   ]
  },
  {
   "cell_type": "code",
   "execution_count": null,
   "metadata": {},
   "outputs": [],
   "source": [
    "# we could make our own tokenizer without using regex but that would be more work\n",
    "# we could do it using finite state machin\n",
    "# TODO: implement own tokenizer without regex"
   ]
  },
  {
   "cell_type": "markdown",
   "metadata": {},
   "source": [
    "## Parser design decisions\n",
    "\n",
    "- This is a simple recursive-descent parser. It doesn't handle many edge cases or provide detailed error messages.\n",
    "- The tokenization step is done with a regular expression to capture digits, operators, and parentheses.\n",
    "- The parsing step converts the list of tokens into a number by recursively breaking down the terms and factors, taking into account the precedence and associativity of the operators.\n",
    "- Finally, the evaluation step is simple because we've constructed our AST such that each node immediately knows how to evaluate itself. In this simple example, the AST is implicitly built into the recursive structure of the `parse()` function."
   ]
  },
  {
   "cell_type": "code",
   "execution_count": 3,
   "metadata": {},
   "outputs": [
    {
     "name": "stdout",
     "output_type": "stream",
     "text": [
      "2+3 = 5.0\n",
      "2-3 = -1.0\n",
      "2*3 = 6.0\n",
      "6/3 = 2.0\n",
      "(2+3)*4 = 20.0\n",
      "(2+3)/5 = 1.0\n",
      "2+3*4 = 14.0\n",
      "2*3+4 = 10.0\n"
     ]
    }
   ],
   "source": [
    "test_expressions = [\n",
    "    \"2+3\",\n",
    "    \"2-3\",\n",
    "    \"2*3\",\n",
    "    \"6/3\",\n",
    "    \"(2+3)*4\",\n",
    "    \"(2+3)/5\",\n",
    "    \"2+3*4\",\n",
    "    \"2*3+4\",\n",
    "]\n",
    "for expression in test_expressions:\n",
    "    print(f\"{expression} = {evaluate_expression(expression)}\")"
   ]
  }
 ],
 "metadata": {
  "kernelspec": {
   "display_name": "Python 3",
   "language": "python",
   "name": "python3"
  },
  "language_info": {
   "codemirror_mode": {
    "name": "ipython",
    "version": 3
   },
   "file_extension": ".py",
   "mimetype": "text/x-python",
   "name": "python",
   "nbconvert_exporter": "python",
   "pygments_lexer": "ipython3",
   "version": "3.12.1"
  },
  "orig_nbformat": 4
 },
 "nbformat": 4,
 "nbformat_minor": 2
}
