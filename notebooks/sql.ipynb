{
 "cells": [
  {
   "attachments": {},
   "cell_type": "markdown",
   "metadata": {},
   "source": [
    "# Relational Databases and SQL\n",
    "\n",
    "## What is SQL\n",
    "\n",
    "## SQL definition\n",
    "\n",
    "SQL, or Structured Query Language, is a programming language used to manage and manipulate data stored in relational databases. SQL is used for a wide range of tasks, including retrieving data from tables, adding new data to tables, modifying existing data, and deleting data from tables.\n",
    "\n",
    "SQL is a declarative language, meaning that users describe what they want to do with the data, rather than specifying how to do it. SQL commands are typically written in the form of statements, which are executed by the database management system to perform the requested task.\n",
    "\n"
   ]
  },
  {
   "attachments": {},
   "cell_type": "markdown",
   "metadata": {},
   "source": [
    "## Types of Data\n",
    "\n",
    "![Data](https://upload.wikimedia.org/wikipedia/commons/thumb/6/6d/Data_types_-_en.svg/400px-Data_types_-_en.svg.png)"
   ]
  },
  {
   "attachments": {},
   "cell_type": "markdown",
   "metadata": {},
   "source": [
    "## Why databases?\n",
    "\n",
    "\n",
    "\n",
    "The need for databases arose as businesses and organizations began to collect and store large amounts of data in order to manage their operations more effectively. In the early days of computing, data was typically stored on punch cards or magnetic tapes, and was managed using simple file systems.\n",
    "\n",
    "As computers became more powerful and more widely used in business, the amount of data being generated and stored grew exponentially. It became clear that a more efficient and scalable way of managing this data was needed.\n",
    "\n",
    "The first databases were created in the 1960s, primarily for use in scientific and academic research. These early databases were simple and limited in scope, but they laid the groundwork for the development of more sophisticated database technologies.\n",
    "\n",
    "In the 1970s, the advent of the relational database model and SQL revolutionized the way that data was managed and stored. This approach to database management allowed for complex relationships between data items, and provided a standardized way of querying and manipulating data.\n",
    "\n",
    "Today, databases are essential tools for businesses and organizations of all sizes, and are used for everything from managing customer data to tracking inventory and logistics. The ability to store and analyze large amounts of data has become a critical competitive advantage for many companies, and the field of database management continues to evolve and innovate in response to changing business needs."
   ]
  },
  {
   "attachments": {},
   "cell_type": "markdown",
   "metadata": {},
   "source": [
    "## History of SQL and Relational Databases\n",
    "\n",
    "### Codd's model\n",
    "\n",
    "![Codd](https://upload.wikimedia.org/wikipedia/en/5/58/Edgar_F_Codd.jpg)\n",
    "\n",
    "Edgar F. Codd was a British computer scientist and mathematician who is widely regarded as the father of relational databases. In 1970, Codd published a paper titled \"A Relational Model of Data for Large Shared Data Banks,\" which laid out the basic principles of what would become known as the relational database model.\n",
    "\n",
    "Codd's paper proposed a new way of organizing and storing data that relied on tables and relationships between tables, rather than on hierarchical structures or network structures. This relational database model was a major breakthrough in the field of database management, and it has since become the dominant model for managing data in large-scale applications.\n",
    "\n",
    "Codd's work had a profound impact on the development of database technology, and it helped to pave the way for the widespread adoption of SQL as a standardized language for managing relational databases. Codd received many awards and honors for his contributions to the field of computer science, including the Turing Award in 1981.\n",
    "\n",
    "Today, Codd's ideas continue to influence the development of database technology, and the relational database model that he helped to create remains the foundation for most of the databases that are used in modern applications."
   ]
  },
  {
   "attachments": {},
   "cell_type": "markdown",
   "metadata": {},
   "source": [
    "## SQL history\n",
    "\n",
    "SQL, or Structured Query Language, was first developed in the early 1970s by a team of researchers at IBM, led by Donald Chamberlin and Raymond Boyce. Their goal was to create a language that could be used to interact with a newly developed type of database, known as a relational database.\n",
    "\n",
    "The first version of SQL, called SEQUEL (Structured English QUEry Language), was developed by Chamberlin and Boyce in 1974. It was originally designed for use with the IBM System R database management system, which was developed by IBM researchers in the same time period.\n",
    "\n",
    "In the years that followed, SQL began to gain popularity as more and more companies began to adopt relational databases. In 1986, the American National Standards Institute (ANSI) released a standard for SQL, which helped to establish it as the de facto standard for relational database management systems.\n",
    "\n",
    "Over the years, SQL has continued to evolve and expand, with new features and capabilities being added with each new version. In 1992, the first version of Microsoft SQL Server was released, which helped to bring SQL to a wider audience of developers and businesses.\n",
    "\n",
    "In the years that followed, SQL became increasingly important as more and more companies began to rely on data-driven applications and analytics. Today, SQL is used by millions of developers and data analysts around the world, and is supported by a wide range of database management systems, including Oracle, Microsoft SQL Server, PostgreSQL, MySQL, and many others.\n",
    "\n",
    "In recent years, there has been a growing trend towards cloud-based databases and database management systems, which offer many benefits in terms of scalability, reliability, and ease of management. As a result, many cloud providers now offer their own SQL-based database solutions, including Amazon Web Services' Amazon Aurora, Google Cloud's Cloud SQL, and Microsoft Azure's SQL Database."
   ]
  },
  {
   "cell_type": "markdown",
   "metadata": {},
   "source": [
    "## Core idea behind relational databases\n",
    "\n",
    "The core idea behind a relational database is to organize data into tables, each of which represents a collection of related data. Each table is made up of rows and columns, with each row representing an individual record or data item, and each column representing a specific type of data or attribute.\n",
    "\n",
    "The relational model is based on the principle of \"normalization,\" which involves breaking data down into its smallest possible parts, and organizing those parts into related tables. This approach allows for data to be stored and retrieved efficiently, and makes it easier to manage and analyze data over time.\n",
    "\n",
    "The power of a relational database lies in the ability to establish relationships between tables, based on common fields or attributes. By using these relationships, data can be combined and analyzed in powerful ways, allowing users to answer complex questions and gain insights that would be difficult or impossible to obtain using other methods.\n",
    "\n",
    "For example, a database might have one table for customer information, another table for order information, and a third table for product information. By establishing relationships between these tables, it becomes possible to analyze customer behavior, track inventory levels, and identify trends and patterns over time.\n",
    "\n",
    "Overall, the core idea behind a relational database is to provide a flexible, scalable, and efficient way to store and manage large amounts of data, while allowing users to easily query and analyze that data in meaningful ways."
   ]
  },
  {
   "attachments": {},
   "cell_type": "markdown",
   "metadata": {},
   "source": [
    "## Types of relationships in relational databases\n",
    "\n",
    "In a relational database, there are several types of relationships that can be established between tables. These relationships help to define how the data in the tables is related to each other. The most common types of relationships are:\n",
    "\n",
    "* One-to-One (1:1) Relationship: In this type of relationship, each record in one table is associated with exactly one record in another table. This relationship is rarely used, as it can be difficult to maintain and may indicate that the data is better suited to being stored in a single table.\n",
    "\n",
    "* One-to-Many (1:N) Relationship: In this type of relationship, each record in one table is associated with zero, one, or many records in another table. This is the most common type of relationship, and is used when one entity can have many related entities in another table. For example, a customer can have multiple orders, but each order is associated with only one customer.\n",
    "\n",
    "* Many-to-One (N:1) Relationship: This is the inverse of a One-to-Many relationship, where many records in one table are associated with exactly one record in another table. For example, many orders can be associated with a single customer.\n",
    "\n",
    "* Many-to-Many (N:N) Relationship: In this type of relationship, many records in one table are associated with many records in another table. This relationship requires the use of a join table, which contains foreign keys from both tables, and allows the records to be linked together. For example, many customers can be associated with many products through their orders.\n",
    "\n",
    "By using these different types of relationships, it is possible to create complex and flexible data structures that can be easily queried and analyzed. The relationships help to maintain data integrity and reduce redundancy, while also allowing for a wide range of data manipulation and analysis techniques."
   ]
  },
  {
   "attachments": {},
   "cell_type": "markdown",
   "metadata": {},
   "source": [
    "## SQL Standards\n",
    "\n",
    "There are several SQL standards that have been defined over the years by different organizations. Here are some of the most important SQL standards:\n",
    "\n",
    "* ANSI SQL: The American National Standards Institute (ANSI) has defined several standards for SQL, starting with SQL-86 in 1986. These standards have been periodically updated, with the most recent version being SQL:2016.\n",
    "\n",
    "* ISO SQL: The International Organization for Standardization (ISO) has also defined several standards for SQL, with the most recent being SQL:2019.\n",
    "\n",
    "* SQL-92: This standard was developed by the International Organization for Standardization (ISO) and the International Electrotechnical Commission (IEC), and was widely adopted by database vendors in the 1990s.\n",
    "\n",
    "* SQL-99: This standard introduced several new features, including support for triggers and stored procedures.\n",
    "\n",
    "SQL:2003: This standard introduced additional features, including support for XML data and window functions.\n",
    "\n",
    "* SQL:2008: This standard introduced support for spatial data and improved support for the SQL/XML standard.\n",
    "\n",
    "* SQL:2011: This standard introduced support for temporal data and enhanced window functions.\n",
    "\n",
    "* SQL:2016: This standard introduced support for JSON data and additional features for querying and manipulating data.\n",
    "\n",
    "Each SQL standard defines a set of rules and guidelines for how SQL commands should be structured and executed, and defines a common syntax that can be used across different database platforms. By adhering to these standards, developers can write SQL code that will work with a wide range of database management systems, without having to worry about vendor-specific quirks or syntax.\n",
    "\n",
    "Note: You can buy ISO standards such as SQL:2016 from ISO store... https://www.iso.org/standard/63555.html\n",
    "\n",
    "Presumably buyers would be companies, not individuals wishing to create a database.\n",
    "\n",
    "There is an addendum for 2022: https://www.iso.org/standard/84485.html"
   ]
  },
  {
   "attachments": {},
   "cell_type": "markdown",
   "metadata": {},
   "source": [
    "## Sample Syntax\n",
    "\n",
    "Some of the most common SQL commands include:\n",
    "\n",
    "SELECT: Used to retrieve data from one or more tables in the database.\n",
    "INSERT: Used to add new data to a table in the database.\n",
    "UPDATE: Used to modify existing data in a table in the database.\n",
    "DELETE: Used to remove data from a table in the database.\n",
    "JOIN: Used to combine data from multiple tables in the database.\n",
    "SQL is a powerful and widely used tool for working with relational databases, and is supported by a wide range of database management systems, including Oracle, Microsoft SQL Server, PostgreSQL, MySQL, and many others. \n",
    "\n",
    "![SQL sytnax](https://wikimedia.org/api/rest_v1/media/math/render/svg/b0bfef3c941c1a88d3990bd1472653e60cf02d0a)"
   ]
  },
  {
   "attachments": {},
   "cell_type": "markdown",
   "metadata": {},
   "source": [
    "## Schemas\n",
    "\n",
    "In a relational database, a schema is a collection of database objects, such as tables, views, indexes, and constraints, that are grouped together to form a logical structure. The schema defines the organization and relationships between these objects, and provides a framework for managing and manipulating data in the database.\n",
    "\n",
    "A schema typically contains one or more tables, each of which represents a collection of related data. For example, a schema might contain a table for customer information, a table for product information, and a table for order information. These tables are linked together through primary keys and foreign keys, forming a cohesive data model that can be queried and manipulated using SQL.\n",
    "\n",
    "In addition to tables, a schema can also contain other objects, such as views, which provide a way of looking at the data in the database from different perspectives, or indexes, which improve the performance of queries by providing faster access to specific data.\n",
    "\n",
    "Schemas are typically created and managed by database administrators, who are responsible for ensuring that the schema is well-designed, optimized for performance, and free of errors or inconsistencies. By using schemas to organize data, it becomes possible to manage complex data structures more efficiently, and to ensure that the data is well-structured and easy to query and analyze."
   ]
  },
  {
   "attachments": {},
   "cell_type": "markdown",
   "metadata": {},
   "source": [
    "![Sample Schema](https://github.com/ValRCS/RBS_PBM774_Programming_Languages/blob/main/img/sqlite-sample-database-color.jpg?raw=true)"
   ]
  },
  {
   "cell_type": "code",
   "execution_count": null,
   "metadata": {},
   "outputs": [],
   "source": [
    "## SQL Standards\n",
    "\n"
   ]
  },
  {
   "attachments": {},
   "cell_type": "markdown",
   "metadata": {},
   "source": [
    "## Primary keys in a relational database\n",
    "\n",
    "In a relational database, a primary key is a unique identifier for a record in a table. A primary key is a column or set of columns that uniquely identifies each record in the table, and ensures that each record can be accessed and updated without affecting other records.\n",
    "\n",
    "The primary key serves as a link between related tables, and is used to establish relationships between tables in the database. For example, if a table contains information about customers, the primary key might be a unique identifier for each customer, such as a customer ID number.\n",
    "\n",
    "There are several characteristics of a primary key:\n",
    "\n",
    "* Uniqueness: Each value in the primary key column or columns must be unique, meaning that no two records in the table can have the same value.\n",
    "\n",
    "* Non-nullability: A primary key value cannot be NULL, meaning that it must have a value for every record in the table.\n",
    "\n",
    "* Stability: The value of a primary key should not change over time, as this can cause problems with referential integrity and can make it difficult to maintain relationships between tables.\n",
    "\n",
    "* Simplicity: A primary key should be simple and easy to understand, typically consisting of a single column or a small set of columns.\n",
    "\n",
    "By establishing a primary key for each table in the database, it becomes possible to establish relationships between tables and to ensure that data can be retrieved and manipulated efficiently and accurately."
   ]
  },
  {
   "attachments": {},
   "cell_type": "markdown",
   "metadata": {},
   "source": [
    "## Foreign keys in a relational database\n",
    "\n",
    "In a relational database, a foreign key is a column or set of columns in one table that refers to the primary key in another table. The foreign key establishes a relationship between the two tables, and ensures that the data in the related tables is consistent and accurate.\n",
    "\n",
    "Foreign keys are used to enforce referential integrity, which means that each record in one table must have a corresponding record in the related table. By using foreign keys, it becomes possible to create complex and flexible data structures that can be easily queried and analyzed.\n",
    "\n",
    "Here are some key characteristics of foreign keys:\n",
    "\n",
    "* Relationship: A foreign key establishes a relationship between two tables, where the primary key in one table is referenced by a column in another table.\n",
    "\n",
    "* Uniqueness: The values in a foreign key column must match the values in the primary key column of the related table, ensuring that each record in the related table is associated with a unique record in the primary table.\n",
    "\n",
    "* Cascade options: When a record in the primary table is updated or deleted, the foreign key can be configured to either cascade the change to the related table, or to restrict the change if it would violate referential integrity.\n",
    "\n",
    "Nullability: A foreign key column can contain NULL values, indicating that a record in the related table may not exist.\n",
    "\n",
    "Foreign keys are essential for maintaining the integrity of a database, and for ensuring that data is consistent and accurate across related tables. They are widely used in many different applications and industries, and are a fundamental concept in the design and management of relational databases."
   ]
  },
  {
   "attachments": {},
   "cell_type": "markdown",
   "metadata": {},
   "source": [
    "## Normalization and normalforms\n",
    "\n",
    "Normal forms are a set of guidelines for organizing data in a relational database in a way that minimizes redundancy and ensures data integrity. There are several normal forms, each of which defines a set of conditions that must be met in order to achieve a higher level of normalization.\n",
    "\n",
    "The most commonly used normal forms are:\n",
    "\n",
    "1. First Normal Form (1NF): In 1NF, each column in a table contains atomic (indivisible) values, meaning that each value in the column represents a single piece of data. This eliminates the possibility of repeating groups, where multiple values are stored in a single column.\n",
    "\n",
    "2. Second Normal Form (2NF): In 2NF, each non-key column in a table is fully dependent on the primary key, meaning that there are no partial dependencies. This eliminates the possibility of redundant data, where the same information is stored in multiple places in the database.\n",
    "\n",
    "3. Third Normal Form (3NF): In 3NF, each non-key column in a table is dependent only on the primary key, and not on other non-key columns. This eliminates the possibility of transitive dependencies, where one non-key column depends on another non-key column.\n",
    "\n",
    "There are also higher levels of normalization, including Boyce-Codd Normal Form (BCNF) and Fourth Normal Form (4NF), which provide even more stringent requirements for data organization.\n",
    "\n",
    "By following these normal forms, it becomes possible to create a well-organized and efficient database structure that is easy to manage and query. Normalization helps to reduce redundancy and inconsistencies in the data, and ensures that the data is accurate and up-to-date."
   ]
  },
  {
   "attachments": {},
   "cell_type": "markdown",
   "metadata": {},
   "source": [
    "## What is SQLite?\n",
    "\n",
    "![SQLite](https://upload.wikimedia.org/wikipedia/commons/thumb/3/38/SQLite370.svg/764px-SQLite370.svg.png?20140602232932)\n",
    "\n",
    "SQLite is a C library that provides a lightweight disk-based database that doesn’t require a separate server process and allows accessing the database using a nonstandard variant of the SQL query language. Some applications can use SQLite for internal data storage. It’s also possible to prototype an application using SQLite and then port the code to a larger database such as PostgreSQL or Oracle.\n",
    "\n",
    "Python includes a module named sqlite3, which provides an SQL interface compliant with the DB-API 2.0 specification described by PEP 249."
   ]
  },
  {
   "cell_type": "code",
   "execution_count": 2,
   "metadata": {},
   "outputs": [
    {
     "name": "stdout",
     "output_type": "stream",
     "text": [
      "('albums',)\n",
      "('sqlite_sequence',)\n",
      "('artists',)\n",
      "('customers',)\n",
      "('employees',)\n",
      "('genres',)\n",
      "('invoices',)\n",
      "('invoice_items',)\n",
      "('media_types',)\n",
      "('playlists',)\n",
      "('playlist_track',)\n",
      "('tracks',)\n",
      "('sqlite_stat1',)\n"
     ]
    }
   ],
   "source": [
    "# sample usage of sqlite\n",
    "\n",
    "import sqlite3\n",
    "\n",
    "conn = sqlite3.connect('../data/chinook.db')\n",
    "\n",
    "cursor = conn.cursor()\n",
    "\n",
    "# get all tables from database\n",
    "\n",
    "statement = \"SELECT name FROM sqlite_master WHERE type='table';\"\n",
    "\n",
    "cursor.execute(statement)\n",
    "\n",
    "# get results\n",
    "\n",
    "results = cursor.fetchall()\n",
    "\n",
    "# printing results in a new line each by unpacking the list\n",
    "print(*results, sep=\"\\n\")\n",
    "\n"
   ]
  },
  {
   "attachments": {},
   "cell_type": "markdown",
   "metadata": {},
   "source": [
    "## Learning SQLite syntax\n",
    "\n",
    "Sites for learning SQLite syntax:\n",
    "\n",
    "### Official SQLite documentation:\n",
    "* [SQLite Documentation](https://www.sqlite.org/docs.html)\n",
    "\n",
    "### External sites:\n",
    "* [SQLite Tutorial](https://www.sqlitetutorial.net/)\n",
    "* [SQLite Syntax](https://www.w3schools.com/sql/sql_syntax.asp)\n",
    "* [SQLite Syntax](https://www.tutorialspoint.com/sqlite/sqlite_syntax.htm)\n"
   ]
  }
 ],
 "metadata": {
  "kernelspec": {
   "display_name": "venv",
   "language": "python",
   "name": "python3"
  },
  "language_info": {
   "codemirror_mode": {
    "name": "ipython",
    "version": 3
   },
   "file_extension": ".py",
   "mimetype": "text/x-python",
   "name": "python",
   "nbconvert_exporter": "python",
   "pygments_lexer": "ipython3",
   "version": "3.10.7"
  },
  "orig_nbformat": 4
 },
 "nbformat": 4,
 "nbformat_minor": 2
}
