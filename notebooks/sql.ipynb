{
  "cells": [
    {
      "cell_type": "markdown",
      "metadata": {
        "id": "MZjErZeE-LrV"
      },
      "source": [
        "# Relational Databases and SQL\n",
        "\n",
        "## What is SQL\n",
        "\n",
        "## SQL definition\n",
        "\n",
        "SQL, or Structured Query Language, is a programming language used to manage and manipulate data stored in relational databases. SQL is used for a wide range of tasks, including retrieving data from tables, adding new data to tables, modifying existing data, and deleting data from tables.\n",
        "\n",
        "In other words - doing CRUD (Create, Read,Update, Delete) tasks.\n",
        "\n",
        "SQL is a declarative language, meaning that users describe what they want to do with the data, rather than specifying how to do it. SQL commands are typically written in the form of statements, which are executed by the database management system to perform the requested task.\n",
        "\n",
        "### SQL target audience\n",
        "\n",
        "SQL was built not just for programmers, it was meant for business analysts, business owners, in fact anyone working with data."
      ]
    },
    {
      "cell_type": "markdown",
      "metadata": {
        "id": "EWP3-gOb-LrY"
      },
      "source": [
        "## Types of Data\n",
        "\n",
        "![Data](https://upload.wikimedia.org/wikipedia/commons/thumb/6/6d/Data_types_-_en.svg/400px-Data_types_-_en.svg.png)"
      ]
    },
    {
      "cell_type": "markdown",
      "metadata": {
        "id": "EOv5HxmT-LrZ"
      },
      "source": [
        "## Why databases?\n",
        "\n",
        "\n",
        "\n",
        "The need for databases arose as businesses and organizations began to collect and store large amounts of data in order to manage their operations more effectively. In the early days of computing, data was typically stored on punch cards or magnetic tapes, and was managed using simple file systems.\n",
        "\n",
        "![Punch card](https://upload.wikimedia.org/wikipedia/commons/thumb/f/fe/Used_Punchcard_%285151286161%29.jpg/450px-Used_Punchcard_%285151286161%29.jpg)\n",
        "\n",
        "As computers became more powerful and more widely used in business, the amount of data being generated and stored grew exponentially. It became clear that a more efficient and scalable way of managing this data was needed.\n",
        "\n",
        "The first databases were created in the 1960s, primarily for use in scientific and academic research. These early databases were simple and limited in scope, but they laid the groundwork for the development of more sophisticated database technologies.\n",
        "\n",
        "There were some competing technologies, like hierarchical databases, network databases, but the relational model won.\n",
        "\n",
        "In the 1970s, the advent of the relational database model and SQL revolutionized the way that data was managed and stored. This approach to database management allowed for complex relationships between data items, and provided a standardized way of querying and manipulating data.\n",
        "\n",
        "Today, databases are essential tools for businesses and organizations of all sizes, and are used for everything from managing customer data to tracking inventory and logistics. The ability to store and analyze large amounts of data has become a critical competitive advantage for many companies, and the field of database management continues to evolve and innovate in response to changing business needs."
      ]
    },
    {
      "cell_type": "markdown",
      "metadata": {
        "id": "1wcmN77y-LrZ"
      },
      "source": [
        "## History of SQL and Relational Databases\n",
        "\n",
        "### Codd's model\n",
        "\n",
        "![Codd](https://upload.wikimedia.org/wikipedia/en/5/58/Edgar_F_Codd.jpg)\n",
        "\n",
        "Edgar F. Codd was a British computer scientist and mathematician who is widely regarded as the father of relational databases. In 1970, Codd published a paper titled \"A Relational Model of Data for Large Shared Data Banks,\" which laid out the basic principles of what would become known as the relational database model.\n",
        "\n",
        "Codd's paper proposed a new way of organizing and storing data that relied on tables and relationships between tables, rather than on hierarchical structures or network structures. This relational database model was a major breakthrough in the field of database management, and it has since become the dominant model for managing data in large-scale applications.\n",
        "\n",
        "Codd's work had a profound impact on the development of database technology, and it helped to pave the way for the widespread adoption of SQL as a standardized language for managing relational databases. Codd received many awards and honors for his contributions to the field of computer science, including the Turing Award in 1981.\n",
        "\n",
        "Today, Codd's ideas continue to influence the development of database technology, and the relational database model that he helped to create remains the foundation for most of the databases that are used in modern applications.\n",
        "\n",
        "![sql tables](https://i0.wp.com/sqlrelease.com/wp-content/uploads/2015/05/DatabaseTable.ColumnRow.png)\n",
        "\n",
        "src: https://sqlrelease.com/sql-server-tutorial/table-relationships\n",
        "\n",
        "### Key idea:\n",
        "\n",
        "Keep data in tables linked by relationships (keys)"
      ]
    },
    {
      "cell_type": "markdown",
      "metadata": {
        "id": "NvZ82OH0-Lra"
      },
      "source": [
        "## SQL history\n",
        "\n",
        "SQL, or Structured Query Language, was first developed in the early 1970s by a team of researchers at IBM, led by Donald Chamberlin and Raymond Boyce. Their goal was to create a language that could be used to interact with a newly developed type of database, known as a relational database.\n",
        "\n",
        "The first version of SQL, called SEQUEL (Structured English QUEry Language), was developed by Chamberlin and Boyce in 1974. It was originally designed for use with the IBM System R database management system, which was developed by IBM researchers in the same time period.\n",
        "\n",
        "From wiki:\n",
        "Larry Ellison co-founded Oracle Corporation in 1977 with Bob Miner and Ed Oates under the name Software Development Laboratories (SDL) SDL changed its name to Relational Software, Inc (RSI) in 1979,[10] then again to Oracle Systems Corporation in 1983 - now one of the biggest companies in the world.\n",
        "\n",
        "In the years that followed, SQL began to gain popularity as more and more companies began to adopt relational databases. In 1986, the American National Standards Institute (ANSI) released a standard for SQL, which helped to establish it as the de facto standard for relational database management systems.\n",
        "\n",
        "Over the years, SQL has continued to evolve and expand, with new features and capabilities being added with each new version. In 1992, the first version of Microsoft SQL Server was released, which helped to bring SQL to a wider audience of developers and businesses.\n",
        "\n",
        "In the years that followed, SQL became increasingly important as more and more companies began to rely on data-driven applications and analytics. Today, SQL is used by millions of developers and data analysts around the world, and is supported by a wide range of database management systems, including Oracle, Microsoft SQL Server, PostgreSQL, MySQL/also MariaDB, SQLite and many others.\n",
        "\n",
        "In recent years, there has been a growing trend towards cloud-based databases and database management systems, which offer many benefits in terms of scalability, reliability, and ease of management. As a result, many cloud providers now offer their own SQL-based database solutions, including Amazon Web Services' Amazon Aurora, Google Cloud's Cloud SQL, and Microsoft Azure's SQL Database.\n",
        "\n",
        "### Competition - NoSQL databases\n",
        "\n",
        "IN 201x there has also been growth of competition - namely NoSQL.\n",
        "\n",
        "NoSQL is a catch all term encompassing four major categories of databases:\n",
        "\n",
        "* Document Databases - MongoDB most prominent\n",
        "* Column Databases - Cassandra most prominent\n",
        "* Graph Databases - Neo4j most prominent\n",
        "* Key-Value - Redis probably the most prominent\n",
        "\n",
        "### SQL still at top\n",
        "\n",
        "* https://db-engines.com/en/ranking\n",
        "5 out of top 10 engines are SQL based as of March 2023\n",
        "\n",
        "1.\t\tOracle detailed information\tRelational, Multi-model info\t1261.29\t+13.77\t+9.97\n",
        "2.\t\tMySQL detailed information\tRelational, Multi-model info\t1182.79\t-12.66\t-15.45\n",
        "3.\t\tMicrosoft SQL Server detailed information\tRelational, Multi-model info\t922.01\t-7.08\t-11.77\n",
        "4.\t\tPostgreSQL detailed information\tRelational, Multi-model info\t613.83\t-2.67\t-3.10\n",
        "5.\t\tMongoDB detailed information\tDocument, Multi-model info\t458.78\t+6.02\t-26.88\n",
        "6.\t\tRedis detailed information\tKey-value, Multi-model info\t172.45\t-1.39\t-4.31\n",
        "7.\t\tIBM Db2\tRelational, Multi-model info\t142.92\t-0.04\t-19.22\n",
        "8.\t\tElasticsearch\tSearch engine, Multi-model info\t139.07\t+0.47\t-20.88\n",
        "9.\t\tSQLite detailed information\tRelational\t133.82\t+1.15\t+1.64\n",
        "10.\t\tMicrosoft Access\tRelational\t132.06\t+1.03\t-3.37"
      ]
    },
    {
      "cell_type": "markdown",
      "metadata": {
        "id": "UYcanqIJ-Lra"
      },
      "source": [
        "## Core idea behind relational databases\n",
        "\n",
        "The core idea behind a relational database is to organize data into tables, each of which represents a collection of related data. Each table is made up of rows and columns, with each row representing an individual record or data item, and each column representing a specific type of data or attribute.\n",
        "\n",
        "The relational model is based on the principle of \"normalization,\" which involves breaking data down into its smallest possible parts, and organizing those parts into related tables. This approach allows for data to be stored and retrieved efficiently, and makes it easier to manage and analyze data over time.\n",
        "\n",
        "The power of a relational database lies in the ability to establish relationships between tables, based on common fields or attributes. By using these relationships, data can be combined and analyzed in powerful ways, allowing users to answer complex questions and gain insights that would be difficult or impossible to obtain using other methods.\n",
        "\n",
        "For example, a database might have one table for customer information, another table for order information, and a third table for product information. By establishing relationships between these tables, it becomes possible to analyze customer behavior, track inventory levels, and identify trends and patterns over time.\n",
        "\n",
        "Overall, the core idea behind a relational database is to provide a flexible, scalable, and efficient way to store and manage large amounts of data, while allowing users to easily query and analyze that data in meaningful ways.\n",
        "\n",
        "### Replication possible - not duplication"
      ]
    },
    {
      "cell_type": "markdown",
      "metadata": {
        "id": "XVRpGQGAINJl"
      },
      "source": [
        "## Entity-Relationship model\n",
        "\n",
        "The Entity-Relationship (ER) model is a conceptual data model used to describe the structure of a database. It was first proposed by Peter Chen in 1976, and has since become one of the most widely used data modeling techniques.\n",
        "\n",
        "In the ER model, data is organized into entities, which represent objects or concepts that have attributes (or properties) and relationships with other entities. An entity is represented as a rectangular box, and its attributes are listed within the box. For example, in a database for a retail store, an entity might be \"customer\", with attributes such as name, address, and phone number.\n",
        "\n",
        "Entities are connected by relationships, which represent the associations between them. A relationship is represented as a line between the entities, with the type of relationship indicated at each end of the line. For example, in the retail store database, a customer might have a relationship with an \"order\" entity, representing the fact that a customer can place multiple orders.\n",
        "\n",
        "![ER model](https://upload.wikimedia.org/wikipedia/commons/thumb/7/72/ER_Diagram_MMORPG.png/900px-ER_Diagram_MMORPG.png)\n",
        "\n",
        "ER diagram for MMORPG.\n",
        "\n",
        "src: https://en.wikipedia.org/wiki/Entity%E2%80%93relationship_model"
      ]
    },
    {
      "cell_type": "markdown",
      "metadata": {
        "id": "f_6LJXZ3-Lrb"
      },
      "source": [
        "## Types of relationships in relational databases\n",
        "\n",
        "In a relational database, there are several types of relationships that can be established between tables. These relationships help to define how the data in the tables is related to each other. The most common types of relationships are:\n",
        "\n",
        "* One-to-One (1:1) Relationship: In this type of relationship, each record in one table is associated with exactly one record in another table. This relationship is rarely used, as it can be difficult to maintain and may indicate that the data is better suited to being stored in a single table.\n",
        "\n",
        "* One-to-Many (1:N) Relationship: In this type of relationship, each record in one table is associated with zero, one, or many records in another table. This is the most common type of relationship, and is used when one entity can have many related entities in another table. For example, a customer can have multiple orders, but each order is associated with only one customer.\n",
        "\n",
        "![OneToMany](https://upload.wikimedia.org/wikipedia/commons/thumb/9/91/ERD-artist-performs-song.svg/480px-ERD-artist-performs-song.svg.png)\n",
        "\n",
        "From wiki: ```Two related entities shown using Crow's Foot notation. In this example, an optional relationship is shown between Artist and Song; the symbols closest to the song entity represents \"zero, one, or many\", whereas a song has \"one and only one\" Artist. The former is therefore read as, an Artist (can) perform(s) \"zero, one, or many\" song(s).```\n",
        "Note: there are other notations for Entity Relationship Diagrams(ERD). This is one of the most common.\n",
        "\n",
        "Example of one-to-many relationship\n",
        "\n",
        "* Many-to-One (N:1) Relationship: This is the inverse of a One-to-Many relationship, where many records in one table are associated with exactly one record in another table. For example, many orders can be associated with a single customer.\n",
        "\n",
        "\n",
        "\n",
        "* Many-to-Many (N:N) Relationship: In this type of relationship, many records in one table are associated with many records in another table. This relationship requires the use of a join table, which contains foreign keys from both tables, and allows the records to be linked together. For example, many customers can be associated with many products through their orders.\n",
        "\n",
        "Note: We could model Artist - Song relationship with many-to-many if you consider the possibility that song might have have more than one artist responsible for the song.\n",
        "\n",
        "By using these different types of relationships, it is possible to create complex and flexible data structures that can be easily queried and analyzed. The relationships help to maintain data integrity and reduce redundancy, while also allowing for a wide range of data manipulation and analysis techniques."
      ]
    },
    {
      "cell_type": "markdown",
      "metadata": {
        "id": "M5OEWRAO-Lrb"
      },
      "source": [
        "## SQL Standards\n",
        "\n",
        "There are several SQL standards that have been defined over the years by different organizations. Here are some of the most important SQL standards:\n",
        "\n",
        "* ANSI SQL: The American National Standards Institute (ANSI) has defined several standards for SQL, starting with SQL-86 in 1986. These standards have been periodically updated, with the most recent version being SQL:2016.\n",
        "\n",
        "* ISO SQL: The International Organization for Standardization (ISO) has also defined several standards for SQL, with the most recent being SQL:2019.\n",
        "\n",
        "* SQL-92: This standard was developed by the International Organization for Standardization (ISO) and the International Electrotechnical Commission (IEC), and was widely adopted by database vendors in the 1990s.\n",
        "\n",
        "* SQL-99: This standard introduced several new features, including support for triggers and stored procedures.\n",
        "\n",
        "SQL:2003: This standard introduced additional features, including support for XML data and window functions.\n",
        "\n",
        "* SQL:2008: This standard introduced support for spatial data and improved support for the SQL/XML standard.\n",
        "\n",
        "* SQL:2011: This standard introduced support for temporal data and enhanced window functions.\n",
        "\n",
        "* SQL:2016: This standard introduced support for JSON data and additional features for querying and manipulating data.\n",
        "\n",
        "Each SQL standard defines a set of rules and guidelines for how SQL commands should be structured and executed, and defines a common syntax that can be used across different database platforms. By adhering to these standards, developers can write SQL code that will work with a wide range of database management systems, without having to worry about vendor-specific quirks or syntax.\n",
        "\n",
        "Note: You can buy ISO standards such as SQL:2016 from ISO store... https://www.iso.org/standard/63555.html\n",
        "\n",
        "Presumably buyers would be companies, not individuals wishing to create a database.\n",
        "\n",
        "There is an addendum for 2022: https://www.iso.org/standard/84485.html\n",
        "\n",
        "Update: There is now 2023 version: https://www.iso.org/standard/76583.html"
      ]
    },
    {
      "cell_type": "markdown",
      "metadata": {
        "id": "v-fxk7UC-Lrc"
      },
      "source": [
        "## Sample Syntax\n",
        "\n",
        "Some of the most common SQL commands include:\n",
        "\n",
        "SELECT: Used to retrieve data from one or more tables in the database.\n",
        "INSERT: Used to add new data to a table in the database.\n",
        "UPDATE: Used to modify existing data in a table in the database.\n",
        "DELETE: Used to remove data from a table in the database.\n",
        "JOIN: Used to combine data from multiple tables in the database.\n",
        "SQL is a powerful and widely used tool for working with relational databases, and is supported by a wide range of database management systems, including Oracle, Microsoft SQL Server, PostgreSQL, MySQL, and many others. \n",
        "\n",
        "![SQL sytnax](https://wikimedia.org/api/rest_v1/media/math/render/svg/b0bfef3c941c1a88d3990bd1472653e60cf02d0a)"
      ]
    },
    {
      "cell_type": "markdown",
      "metadata": {
        "id": "08gGOORq-Lrc"
      },
      "source": [
        "## Schemas\n",
        "\n",
        "In a relational database, a schema is a collection of database objects, such as tables, views, indexes, and constraints, that are grouped together to form a logical structure. The schema defines the organization and relationships between these objects, and provides a framework for managing and manipulating data in the database.\n",
        "\n",
        "A schema typically contains one or more tables, each of which represents a collection of related data. For example, a schema might contain a table for customer information, a table for product information, and a table for order information. These tables are linked together through primary keys and foreign keys, forming a cohesive data model that can be queried and manipulated using SQL.\n",
        "\n",
        "In addition to tables, a schema can also contain other objects, such as views, which provide a way of looking at the data in the database from different perspectives, or indexes, which improve the performance of queries by providing faster access to specific data.\n",
        "\n",
        "Schemas are typically created and managed by database administrators, who are responsible for ensuring that the schema is well-designed, optimized for performance, and free of errors or inconsistencies. By using schemas to organize data, it becomes possible to manage complex data structures more efficiently, and to ensure that the data is well-structured and easy to query and analyze."
      ]
    },
    {
      "cell_type": "markdown",
      "metadata": {
        "id": "udBtILK7-Lrc"
      },
      "source": [
        "![Sample Schema](https://github.com/ValRCS/RBS_PBM774_Programming_Languages/blob/main/img/sqlite-sample-database-color.jpg?raw=true)"
      ]
    },
    {
      "cell_type": "code",
      "execution_count": null,
      "metadata": {
        "id": "WsTpUy4n-Lrc"
      },
      "outputs": [],
      "source": [
        "## SQL Standards\n",
        "\n"
      ]
    },
    {
      "cell_type": "markdown",
      "metadata": {
        "id": "ivrOiQ2b-Lrd"
      },
      "source": [
        "## Primary keys in a relational database\n",
        "\n",
        "In a relational database, a primary key is a unique identifier for a record in a table. A primary key is a column or set of columns that uniquely identifies each record in the table, and ensures that each record can be accessed and updated without affecting other records.\n",
        "\n",
        "The primary key serves as a link between related tables, and is used to establish relationships between tables in the database. For example, if a table contains information about customers, the primary key might be a unique identifier for each customer, such as a customer ID number.\n",
        "\n",
        "There are several characteristics of a primary key:\n",
        "\n",
        "* Uniqueness: Each value in the primary key column or columns must be unique, meaning that no two records in the table can have the same value.\n",
        "\n",
        "* Non-nullability: A primary key value cannot be NULL, meaning that it must have a value for every record in the table.\n",
        "\n",
        "* Stability: The value of a primary key should not change over time, as this can cause problems with referential integrity and can make it difficult to maintain relationships between tables.\n",
        "\n",
        "* Simplicity: A primary key should be simple and easy to understand, typically consisting of a single column or a small set of columns.\n",
        "\n",
        "By establishing a primary key for each table in the database, it becomes possible to establish relationships between tables and to ensure that data can be retrieved and manipulated efficiently and accurately."
      ]
    },
    {
      "cell_type": "markdown",
      "metadata": {
        "id": "gz8i1bdg-Lre"
      },
      "source": [
        "## Foreign keys in a relational database\n",
        "\n",
        "In a relational database, a foreign key is a column or set of columns in one table that refers to the primary key in another table. The foreign key establishes a relationship between the two tables, and ensures that the data in the related tables is consistent and accurate.\n",
        "\n",
        "Foreign keys are used to enforce referential integrity, which means that each record in one table must have a corresponding record in the related table. By using foreign keys, it becomes possible to create complex and flexible data structures that can be easily queried and analyzed.\n",
        "\n",
        "Here are some key characteristics of foreign keys:\n",
        "\n",
        "* Relationship: A foreign key establishes a relationship between two tables, where the primary key in one table is referenced by a column in another table.\n",
        "\n",
        "* Uniqueness: The values in a foreign key column must match the values in the primary key column of the related table, ensuring that each record in the related table is associated with a unique record in the primary table.\n",
        "\n",
        "* Cascade options: When a record in the primary table is updated or deleted, the foreign key can be configured to either cascade the change to the related table, or to restrict the change if it would violate referential integrity.\n",
        "\n",
        "Nullability: A foreign key column can contain NULL values, indicating that a record in the related table may not exist.\n",
        "\n",
        "Foreign keys are essential for maintaining the integrity of a database, and for ensuring that data is consistent and accurate across related tables. They are widely used in many different applications and industries, and are a fundamental concept in the design and management of relational databases."
      ]
    },
    {
      "cell_type": "markdown",
      "metadata": {
        "id": "DIhvp9aE-Lre"
      },
      "source": [
        "## Normalization and normalforms\n",
        "\n",
        "Normal forms are a set of guidelines for organizing data in a relational database in a way that minimizes redundancy and ensures data integrity. There are several normal forms, each of which defines a set of conditions that must be met in order to achieve a higher level of normalization.\n",
        "\n",
        "The most commonly used normal forms are:\n",
        "\n",
        "1. First Normal Form (1NF): In 1NF, each column in a table contains atomic (indivisible) values, meaning that each value in the column represents a single piece of data. This eliminates the possibility of repeating groups, where multiple values are stored in a single column.\n",
        "\n",
        "2. Second Normal Form (2NF): In 2NF, each non-key column in a table is fully dependent on the primary key, meaning that there are no partial dependencies. This eliminates the possibility of redundant data, where the same information is stored in multiple places in the database.\n",
        "\n",
        "3. Third Normal Form (3NF): In 3NF, each non-key column in a table is dependent only on the primary key, and not on other non-key columns. This eliminates the possibility of transitive dependencies, where one non-key column depends on another non-key column.\n",
        "\n",
        "There are also higher levels of normalization, including Boyce-Codd Normal Form (BCNF) and Fourth Normal Form (4NF), which provide even more stringent requirements for data organization.\n",
        "\n",
        "By following these normal forms, it becomes possible to create a well-organized and efficient database structure that is easy to manage and query. Normalization helps to reduce redundancy and inconsistencies in the data, and ensures that the data is accurate and up-to-date."
      ]
    },
    {
      "cell_type": "markdown",
      "metadata": {
        "id": "El1XrKv2-Lre"
      },
      "source": [
        "## What is SQLite?\n",
        "\n",
        "* https://www.sqlite.org/\n",
        "\n",
        "![SQLite](https://upload.wikimedia.org/wikipedia/commons/thumb/3/38/SQLite370.svg/764px-SQLite370.svg.png?20140602232932)\n",
        "\n",
        "SQLite is a C library that provides a lightweight disk-based database that doesn’t require a separate server process and allows accessing the database using a nonstandard variant of the SQL query language. Some applications can use SQLite for internal data storage. It’s also possible to prototype an application using SQLite and then port the code to a larger database such as PostgreSQL or Oracle.\n",
        "\n",
        "### When to use SQLite?\n",
        "\n",
        "* up to 281TB - in a single file...\n",
        "* single user - no access control\n",
        "* multiple read no problem, high writes would be problematic\n",
        "\n",
        "\n",
        "* https://www.sqlite.org/whentouse.html\n",
        "\n",
        "### Support in Python\n",
        "\n",
        "Python includes a module named sqlite3, which provides an SQL interface compliant with the DB-API 2.0 specification described by PEP 249."
      ]
    },
    {
      "cell_type": "markdown",
      "metadata": {
        "id": "lwarEahB-Lre"
      },
      "source": [
        "## SQL commands\n",
        "\n",
        "SQL has a wide range of commands for creating, updating, querying and manipulating databases. Here are some of the basic SQL commands:\n",
        "\n",
        "* SELECT: Used to retrieve data from one or more tables in the database.\n",
        "* INSERT: Used to add new rows to a table.\n",
        "* UPDATE: Used to modify existing rows in a table.\n",
        "* DELETE: Used to delete rows from a table.\n",
        "* CREATE: Used to create a new database object, such as a table, view, or index.\n",
        "* DROP: Used to delete an existing database object.\n",
        "* ALTER: Used to modify an existing database object, such as a table or column.\n",
        "* WHERE: Used to filter data based on a specified condition.\n",
        "* ORDER BY: Used to sort data in ascending or descending order.\n",
        "* GROUP BY: Used to group data by one or more columns.\n",
        "\n",
        "These basic SQL commands can be combined in various ways to perform complex queries and data manipulations. For example, a SELECT statement can be combined with WHERE, ORDER BY, and GROUP BY clauses to retrieve specific subsets of data and perform calculations or aggregations on that data. Similarly, the INSERT, UPDATE, and DELETE commands can be used to modify existing data in a table or add new data to the table."
      ]
    },
    {
      "cell_type": "markdown",
      "metadata": {
        "id": "GtETUf5yNbgJ"
      },
      "source": [
        "## SQL Tools\n",
        "\n",
        "* https://sqliteonline.com/ - online\n",
        "* https://dbeaver.io/ - desktop open source\n",
        "* there are many commercial tools for DB management"
      ]
    },
    {
      "cell_type": "markdown",
      "metadata": {},
      "source": [
        "## SQL Queries in Python\n",
        "\n",
        "### Getting basic table information\n",
        "\n",
        "```python"
      ]
    },
    {
      "cell_type": "code",
      "execution_count": 2,
      "metadata": {
        "colab": {
          "base_uri": "https://localhost:8080/"
        },
        "id": "uSddFdCb-Lre",
        "outputId": "dbae9cab-dcfe-43b4-d89d-ebbf138ae4a2"
      },
      "outputs": [
        {
          "name": "stdout",
          "output_type": "stream",
          "text": [
            "('albums',)\n",
            "('sqlite_sequence',)\n",
            "('artists',)\n",
            "('customers',)\n",
            "('employees',)\n",
            "('genres',)\n",
            "('invoices',)\n",
            "('invoice_items',)\n",
            "('media_types',)\n",
            "('playlists',)\n",
            "('playlist_track',)\n",
            "('tracks',)\n",
            "('sqlite_stat1',)\n"
          ]
        }
      ],
      "source": [
        "# sample usage of sqlite\n",
        "\n",
        "import sqlite3\n",
        "\n",
        "# conn = sqlite3.connect('data/chinook.db') # other SQL databases might ask for username and password\n",
        "# depending on where we have our chinook.db and our current notebook\n",
        "conn = sqlite3.connect('../data/chinook.db') # other SQL databases might ask for username and password\n",
        "\n",
        "\n",
        "cursor = conn.cursor()\n",
        "\n",
        "# get all tables from database\n",
        "\n",
        "statement = \"SELECT name FROM sqlite_master WHERE type='table';\"\n",
        "\n",
        "cursor.execute(statement)\n",
        "\n",
        "# get results as a list of tuples\n",
        "\n",
        "results = cursor.fetchall()\n",
        "\n",
        "# printing results in a new line each by unpacking the list\n",
        "print(*results, sep=\"\\n\")\n",
        "\n"
      ]
    },
    {
      "cell_type": "markdown",
      "metadata": {},
      "source": [
        "### Getting all rows from a table"
      ]
    },
    {
      "cell_type": "code",
      "execution_count": null,
      "metadata": {},
      "outputs": [
        {
          "name": "stdout",
          "output_type": "stream",
          "text": [
            "275\n",
            "(1, 'AC/DC')\n",
            "(2, 'Accept')\n",
            "(3, 'Aerosmith')\n",
            "(4, 'Alanis Morissette')\n",
            "(5, 'Alice In Chains')\n",
            "(6, 'Antônio Carlos Jobim')\n",
            "(7, 'Apocalyptica')\n",
            "(8, 'Audioslave')\n",
            "(9, 'BackBeat')\n",
            "(10, 'Billy Cobham')\n",
            "(11, 'Black Label Society')\n",
            "(12, 'Black Sabbath')\n",
            "(13, 'Body Count')\n",
            "(14, 'Bruce Dickinson')\n",
            "(15, 'Buddy Guy')\n"
          ]
        }
      ],
      "source": [
        "# let's get all artists from the database into a list\n",
        "query = \"SELECT * FROM artists;\"\n",
        "cursor.execute(query)\n",
        "results = cursor.fetchall()\n",
        "# how many records do we have?\n",
        "print(len(results))\n",
        "# print the first 5\n",
        "print(*results[:15], sep=\"\\n\")\n",
        "# now we could use Python to further process the results\n",
        "# but we can also use SQL to do that\n",
        "# in a large database we might not actually want to get all results like this\n",
        "# it is typical to add some limits to the query"
      ]
    },
    {
      "cell_type": "code",
      "execution_count": 2,
      "metadata": {
        "colab": {
          "base_uri": "https://localhost:8080/"
        },
        "id": "7r_NxlNgQl89",
        "outputId": "8f810557-667c-4267-c8fd-b802c4e99267"
      },
      "outputs": [
        {
          "name": "stdout",
          "output_type": "stream",
          "text": [
            "(273, 'C. Monteverdi, Nigel Rogers - Chiaroscuro; London Baroque; London Cornett & Sackbu')\n",
            "(16, 'Caetano Veloso')\n",
            "(196, 'Cake')\n",
            "(253, 'Calexico')\n",
            "(262, \"Charles Dutoit & L'Orchestre Symphonique de Montréal\")\n",
            "(185, 'Charlie Brown Jr.')\n",
            "(220, 'Chicago Symphony Chorus, Chicago Symphony Orchestra & Sir Georg Solti')\n",
            "(233, 'Chicago Symphony Orchestra & Fritz Reiner')\n",
            "(17, 'Chico Buarque')\n",
            "(18, 'Chico Science & Nação Zumbi')\n",
            "(244, 'Choir Of Westminster Abbey & Simon Preston')\n",
            "(246, 'Chor der Wiener Staatsoper, Herbert Von Karajan & Wiener Philharmoniker')\n",
            "(205, 'Chris Cornell')\n",
            "(160, 'Christina Aguilera featuring BigElf')\n",
            "(250, \"Christopher O'Riley\")\n",
            "(19, 'Cidade Negra')\n",
            "(20, 'Cláudio Zoli')\n",
            "(163, 'Corinne Bailey Rae')\n",
            "(76, 'Creedence Clearwater Revival')\n",
            "(77, 'Cássia Eller')\n"
          ]
        }
      ],
      "source": [
        "another_statement = \"\"\"SELECT * FROM artists\n",
        "    WHERE artists.name LIKE \"C%\"\n",
        "    ORDER BY artists.name\n",
        "    LIMIT 25\n",
        "\"\"\" # just a string \n",
        "cursor.execute(another_statement)\n",
        "results = cursor.fetchall() #often we do not want to fetch all for large queries we would fetch one at a time\n",
        "# printing results in a new line each by unpacking the list\n",
        "print(*results[:20], sep=\"\\n\")"
      ]
    },
    {
      "cell_type": "markdown",
      "metadata": {},
      "source": [
        "### Full SELECT syntax\n",
        "\n",
        "https://www.sqlitetutorial.net/sqlite-select/\n",
        "\n",
        "## Joining Tables\n",
        "\n",
        "https://www.sqlitetutorial.net/sqlite-join/\n",
        "\n",
        "Usually relational databases have more than one table. To get data from multiple tables, you need to join them.\n",
        "This is done using JOIN keyword.\n",
        "It will often involve primary and foreign keys.\n",
        "Foreign keys link tables together."
      ]
    },
    {
      "cell_type": "code",
      "execution_count": 5,
      "metadata": {},
      "outputs": [
        {
          "name": "stdout",
          "output_type": "stream",
          "text": [
            "('For Those About To Rock (We Salute You)', 'For Those About To Rock We Salute You')\n",
            "('Put The Finger On You', 'For Those About To Rock We Salute You')\n",
            "(\"Let's Get It Up\", 'For Those About To Rock We Salute You')\n",
            "('Inject The Venom', 'For Those About To Rock We Salute You')\n",
            "('Snowballed', 'For Those About To Rock We Salute You')\n",
            "('Evil Walks', 'For Those About To Rock We Salute You')\n",
            "('C.O.D.', 'For Those About To Rock We Salute You')\n",
            "('Breaking The Rules', 'For Those About To Rock We Salute You')\n",
            "('Night Of The Long Knives', 'For Those About To Rock We Salute You')\n",
            "('Spellbound', 'For Those About To Rock We Salute You')\n",
            "('Balls to the Wall', 'Balls to the Wall')\n",
            "('Fast As a Shark', 'Restless and Wild')\n",
            "('Restless and Wild', 'Restless and Wild')\n",
            "('Princess of the Dawn', 'Restless and Wild')\n",
            "('Go Down', 'Let There Be Rock')\n",
            "('Dog Eat Dog', 'Let There Be Rock')\n",
            "('Let There Be Rock', 'Let There Be Rock')\n",
            "('Bad Boy Boogie', 'Let There Be Rock')\n",
            "('Problem Child', 'Let There Be Rock')\n",
            "('Overdose', 'Let There Be Rock')\n",
            "(\"Hell Ain't A Bad Place To Be\", 'Let There Be Rock')\n",
            "('Whole Lotta Rosie', 'Let There Be Rock')\n",
            "('Walk On Water', 'Big Ones')\n",
            "('Love In An Elevator', 'Big Ones')\n",
            "('Rag Doll', 'Big Ones')\n"
          ]
        }
      ],
      "source": [
        "# let's get a list of tracks and their album names\n",
        "query = \"\"\"SELECT t.name, a.title\n",
        "    FROM tracks t\n",
        "    JOIN albums a ON t.albumid = a.albumid\n",
        "    LIMIT 25\n",
        "\"\"\"\n",
        "# note how we used aliases for tables to make the query shorter\n",
        "# you could argue we made it less or more readable\n",
        "# it is very typical to use aliases in SQL\n",
        "# some SQL databases require you to use AS between the table name and the alias\n",
        "cursor.execute(query)\n",
        "results = cursor.fetchall()\n",
        "# printing results in a new line each by unpacking the list\n",
        "print(*results, sep=\"\\n\")"
      ]
    },
    {
      "cell_type": "code",
      "execution_count": 15,
      "metadata": {},
      "outputs": [
        {
          "name": "stdout",
          "output_type": "stream",
          "text": [
            "('AC/DC', 'For Those About To Rock We Salute You', 'For Those About To Rock (We Salute You)', 'Angus Young, Malcolm Young, Brian Johnson', 0.99, 5.72865)\n",
            "('AC/DC', 'For Those About To Rock We Salute You', 'Put The Finger On You', 'Angus Young, Malcolm Young, Brian Johnson', 0.99, 3.4277)\n",
            "('AC/DC', 'For Those About To Rock We Salute You', \"Let's Get It Up\", 'Angus Young, Malcolm Young, Brian Johnson', 0.99, 3.8987666666666665)\n",
            "('AC/DC', 'For Those About To Rock We Salute You', 'Inject The Venom', 'Angus Young, Malcolm Young, Brian Johnson', 0.99, 3.5139)\n",
            "('AC/DC', 'For Those About To Rock We Salute You', 'Snowballed', 'Angus Young, Malcolm Young, Brian Johnson', 0.99, 3.3850333333333333)\n",
            "('AC/DC', 'For Those About To Rock We Salute You', 'Evil Walks', 'Angus Young, Malcolm Young, Brian Johnson', 0.99, 4.391616666666667)\n",
            "('AC/DC', 'For Those About To Rock We Salute You', 'C.O.D.', 'Angus Young, Malcolm Young, Brian Johnson', 0.99, 3.3306)\n",
            "('AC/DC', 'For Those About To Rock We Salute You', 'Breaking The Rules', 'Angus Young, Malcolm Young, Brian Johnson', 0.99, 4.388133333333333)\n",
            "('AC/DC', 'For Those About To Rock We Salute You', 'Night Of The Long Knives', 'Angus Young, Malcolm Young, Brian Johnson', 0.99, 3.4281333333333333)\n",
            "('AC/DC', 'For Those About To Rock We Salute You', 'Spellbound', 'Angus Young, Malcolm Young, Brian Johnson', 0.99, 4.514383333333333)\n",
            "('Accept', 'Balls to the Wall', 'Balls to the Wall', None, 0.99, 5.709366666666667)\n",
            "('Accept', 'Restless and Wild', 'Fast As a Shark', 'F. Baltes, S. Kaufman, U. Dirkscneider & W. Hoffman', 0.99, 3.84365)\n",
            "('Accept', 'Restless and Wild', 'Restless and Wild', 'F. Baltes, R.A. Smith-Diesel, S. Kaufman, U. Dirkscneider & W. Hoffman', 0.99, 4.20085)\n",
            "('Accept', 'Restless and Wild', 'Princess of the Dawn', 'Deaffy & R.A. Smith-Diesel', 0.99, 6.256966666666667)\n",
            "('AC/DC', 'Let There Be Rock', 'Go Down', 'AC/DC', 0.99, 5.519666666666667)\n"
          ]
        }
      ],
      "source": [
        "# let's join artists, albums, tracks and get full information for first ten tracks\n",
        "# we are also getting composer and unit price\n",
        "# also let's get length of the track in seconds\n",
        "# we might need to cast milliseconds to float to get a float division\n",
        "query = \"\"\"SELECT ar.name, al.title, t.name, t.composer, t.unitprice, t.milliseconds / (1000.0 * 60) AS length\n",
        "    FROM tracks t\n",
        "    JOIN albums al ON t.albumid = al.albumid\n",
        "    JOIN artists ar ON al.artistid = ar.artistid\n",
        "    LIMIT 15\n",
        "\"\"\"\n",
        "cursor.execute(query)\n",
        "results = cursor.fetchall()\n",
        "# printing results in a new line each by unpacking the list\n",
        "print(*results, sep=\"\\n\")\n"
      ]
    },
    {
      "cell_type": "markdown",
      "metadata": {
        "id": "aAHestXJRCe0"
      },
      "source": [
        "## Frameworks, ORM\n",
        "\n",
        "Working with basic API might get a little unproductive (no error checking in queries in strings) so there are many libraries in most languages that support various additional abstractions\n",
        "\n",
        "* https://www.sqlalchemy.org/ - good SQL library in Python"
      ]
    },
    {
      "cell_type": "markdown",
      "metadata": {
        "id": "V_5-xs3i-Lrf"
      },
      "source": [
        "## Learning SQLite syntax\n",
        "\n",
        "Sites for learning SQLite syntax:\n",
        "\n",
        "### Official SQLite documentation:\n",
        "* [SQLite Documentation](https://www.sqlite.org/docs.html)\n",
        "\n",
        "### External sites:\n",
        "* [SQLite Tutorial](https://www.sqlitetutorial.net/)\n",
        "* [SQLite Syntax](https://www.w3schools.com/sql/sql_syntax.asp)\n",
        "* [SQLite Syntax](https://www.tutorialspoint.com/sqlite/sqlite_syntax.htm)\n"
      ]
    }
  ],
  "metadata": {
    "colab": {
      "provenance": []
    },
    "kernelspec": {
      "display_name": "Python 3",
      "language": "python",
      "name": "python3"
    },
    "language_info": {
      "codemirror_mode": {
        "name": "ipython",
        "version": 3
      },
      "file_extension": ".py",
      "mimetype": "text/x-python",
      "name": "python",
      "nbconvert_exporter": "python",
      "pygments_lexer": "ipython3",
      "version": "3.12.1"
    },
    "orig_nbformat": 4
  },
  "nbformat": 4,
  "nbformat_minor": 0
}
