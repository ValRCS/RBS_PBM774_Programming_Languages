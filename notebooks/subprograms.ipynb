{
  "cells": [
    {
      "cell_type": "markdown",
      "metadata": {
        "id": "1YyoznlG21v_"
      },
      "source": [
        " # Subprograms\n",
        "\n",
        " ## Discussed in Ch.9 in Sebesta - Concepts of programming languages\n",
        "\n",
        "\n",
        "Abstract by Valdis Saulespurens"
      ]
    },
    {
      "cell_type": "markdown",
      "metadata": {
        "id": "MZOHzOwvsK0N"
      },
      "source": [
        "- **Introduction to Subprograms**:\n",
        "   - Definition and characteristics of subprograms.\n",
        "   - The difference between a procedure and a function.\n",
        "- **Fundamentals of Subprograms Design**:\n",
        "   - Procedural abstraction.\n",
        "   - Parameters and their transmission methods.\n",
        "- **Local Referencing Environments**:\n",
        "   - Stack-dynamic local variables.\n",
        "   - Stack vs. static vs. explicit heap-dynamic variables.\n",
        "   - Dynamic scoping.\n",
        "- **Parameter-Passing Methods**:\n",
        "   - The concept of parameter-passing semantics.\n",
        "   - Pass-by-value.\n",
        "   - Pass-by-result.\n",
        "   - Pass-by-value-result.\n",
        "   - Pass-by-reference.\n",
        "   - Pass-by-name.\n",
        "- **Overloaded Subprograms**:\n",
        "   - The concept of overloading and its use.\n",
        "   - Polymorphism and type coercion.\n",
        "- **Generic Subprograms**:\n",
        "   - The difference between overloaded and generic subprograms.\n",
        "   - The benefits of generic subprograms.\n",
        "   - Examples from languages that support generic programming (e.g., C++, Java, Ada).\n",
        "- **Design Issues for Functions**:\n",
        "   - Type checking of parameters.\n",
        "   - Are side effects allowed?\n",
        "   - Are functions allowed to return a value, and if so, what types?\n",
        "   - Nested subprograms.\n",
        "- **User-Defined Overloaded Operators**:\n",
        "   - Operator overloading in various languages.\n",
        "   - Benefits and pitfalls of operator overloading.\n",
        "- **Coroutines**:\n",
        "   - Differences between coroutines and subprograms.\n",
        "   - Applications and advantages of coroutines.\n",
        "   - Implementation concerns.\n",
        "- **Summary and Conclusion**."
      ]
    },
    {
      "cell_type": "markdown",
      "metadata": {
        "id": "zUm8A0jCsK0O"
      },
      "source": [
        "## Definitions\n",
        "\n",
        "A subprogram is a sequence of instructions whose execution is invoked from one or more remote locations in a program, with the expectation that when the subprogram's execution completes, the next instruction to be executed will be the one after the point of the most recent invocation. In essence, subprograms allow for code modularity, reusability, and abstraction.\n",
        "\n",
        "Here are the main characteristics and features of subprograms:\n",
        "\n",
        "\n",
        "- **Single Entry Point**: A subprogram has a single point of entry, which is the first instruction of the subprogram. This is the location at which execution begins each time the subprogram is invoked.\n",
        "- **Parameters**: A subprogram can have a set of formal parameters through which information is passed between the subprogram and its caller. Parameters allow subprograms to act on data not defined within their local scope.\n",
        "- **Local Variables**: These are variables that are defined inside the subprogram and cannot be accessed outside it. Their lifetimes are limited to the duration of the subprogram's execution.\n",
        "- **The Value Return**: Functions (a type of subprogram) are designed to return a value to their caller. This is distinct from procedures, which perform actions but do not return values.\n",
        "- **Active Instances**: Subprograms can be invoked multiple times, either recursively or concurrently. Each activation or invocation is known as an instance. Each instance has its own set of the subprogram’s local variables.\n",
        "- **Control Flow**: When a subprogram is invoked, the control jumps from the calling program or another subprogram to the invoked subprogram. Once the invoked subprogram completes its execution, control returns to the point immediately after where it was called.\n",
        "- **Abstraction**: Subprograms allow for procedural abstraction. A complex task can be divided into smaller sub-tasks. Each sub-task can be implemented as a subprogram. The main program then becomes a sequence of subprogram calls, making the logic easier to follow.\n",
        "- **Reusability**: Once defined, subprograms can be reused in various parts of the main program or even in other programs, leading to reduced code redundancy.\n",
        "- **Maintainability**: With tasks compartmentalized into subprograms, changes needed in a specific task can often be made in just one subprogram, rather than multiple locations in the program.\n",
        "\n",
        "In summary, subprograms are crucial for structured programming. They provide a means to break down complex problems into manageable pieces and promote code reusability and maintainability."
      ]
    },
    {
      "cell_type": "markdown",
      "metadata": {
        "id": "_CIdot2ksK0P"
      },
      "source": [
        "## Fundamental Concepts\n",
        "\n",
        "The fundamentals of subprograms encompass the foundational principles and mechanisms that define their behavior, interface, and interaction within larger programs. Here's a rundown of these fundamental aspects:\n",
        "\n",
        "\n",
        "- **Procedural Abstraction**:\n",
        "   - The primary motivation behind subprograms is to encapsulate a task or a computation. This allows for the main program to abstract away the details and complexities of that task, focusing on higher-level logic.\n",
        "- **Parameters and Arguments**:\n",
        "   - **Formal Parameters**: These are the variables in the subprogram declaration that accept the values or references from the calling program.\n",
        "   - **Actual Parameters (Arguments)**: These are the values or references passed into a subprogram when it's invoked.\n",
        "   - Parameters enable subprograms to operate on data that's not defined locally within them and facilitate communication between the subprogram and its caller.\n",
        "- **Parameter Passing Mechanisms**:\n",
        "   - How parameters are passed can affect the subprogram's behavior. Common methods include pass-by-value, pass-by-reference, pass-by-value-result, and pass-by-name.\n",
        "- **Local Referencing Environments**:\n",
        "   - Variables inside a subprogram have a local scope, which means they're typically not accessible outside the subprogram. The lifetime and visibility of these variables can vary based on whether they're static, stack-dynamic, or heap-dynamic.\n",
        "- **Value Returning**:\n",
        "   - Functions are a type of subprogram that returns a value. The mechanism for returning this value and its type are key aspects of function design.\n",
        "- **Recursive Subprograms**:\n",
        "   - A subprogram can invoke itself, either directly or indirectly. Properly designed recursive subprograms can solve problems in elegant ways, but they also need to ensure they have a termination condition to prevent infinite recursion.\n",
        "- **Overloading**:\n",
        "   - Some programming languages allow multiple subprograms with the same name but different parameter lists. This is called overloading. It allows operations to be defined in a consistent way for different types of data.\n",
        "- **Generic or Polymorphic Subprograms**:\n",
        "   - Generics allow for the definition of subprograms in a type-neutral way. When invoked, the appropriate type is substituted. This provides a high level of reusability.\n",
        "- **Exception Handling**:\n",
        "   - Many modern programming languages allow subprograms to handle exceptions or errors that occur during their execution. This allows for cleaner error handling and recovery mechanisms.\n",
        "- **Concurrency Issues**:\n",
        "   - With the rise of multi-threaded and parallel programming, understanding how subprograms interact in a concurrent environment (e.g., handling shared resources) is crucial.\n",
        "- **Aliasing**:\n",
        "   - When two or more pointers or references in a program can access the same memory location, aliasing occurs. This can introduce subtle bugs, especially when these references are parameters to subprograms.\n",
        "- **Side Effects**:\n",
        "   - If a subprogram modifies a global variable or behaves in a way that has an impact outside of its own local environment, it's said to have side effects. While sometimes necessary, side effects can introduce complexities and should be used judiciously.\n",
        "\n",
        "These fundamentals underlie the design and usage of subprograms across various programming languages. They dictate how subprograms are declared, invoked, and how they execute and interact with their calling environments."
      ]
    },
    {
      "cell_type": "markdown",
      "metadata": {
        "id": "psc5MXJR21wD"
      },
      "source": [
        "## Design issues for subprograms\n",
        "\n",
        "Some of the most important design issues for subprograms:\n",
        "\n",
        "* Interface Design: The interface design of a subprogram refers to the specification of its input and output parameters, as well as any preconditions and postconditions that must be satisfied for the subprogram to execute correctly. The interface design should be carefully planned to ensure that the subprogram is easy to use and understand, and that it provides the desired functionality to the calling program.\n",
        "\n",
        "* Cohesion: Cohesion refers to the degree to which the code in a subprogram is related to a single, well-defined task. Subprograms with high cohesion are easier to read and maintain than those with low cohesion, and they are more likely to be reusable in other parts of the program or in other programs.\n",
        "\n",
        "* Coupling: Coupling refers to the degree to which one subprogram is dependent on another subprogram. Subprograms with high coupling can be difficult to modify or maintain because changes to one subprogram can have unexpected effects on other subprograms that depend on it. Minimizing coupling between subprograms is an important design goal.\n",
        "\n",
        "* Control Abstraction: Control abstraction refers to the way in which the subprogram controls the flow of the program. Good control abstraction can simplify the calling program, making it easier to read and understand. It can also help to prevent errors by isolating control logic within the subprogram.\n",
        "\n",
        "* Data Abstraction: Data abstraction refers to the way in which the subprogram handles data. Good data abstraction can help to prevent errors by isolating data management within the subprogram. It can also improve the modularity of the program by allowing different subprograms to use the same data structures.\n",
        "\n",
        "* Error Handling: Error handling refers to the way in which the subprogram detects and responds to errors. Well-designed error handling can make the program more robust and reliable by detecting and handling errors in a consistent and predictable way."
      ]
    },
    {
      "cell_type": "markdown",
      "metadata": {
        "id": "R9-1i4Ib21wE"
      },
      "source": [
        "## Issues related to local variables in subprograms:\n",
        "\n",
        "* Scope: Local variables are only visible within the subprogram in which they are defined. They are not accessible from other parts of the program, including other subprograms. The scope of a local variable begins when the subprogram is called and ends when the subprogram returns.\n",
        "\n",
        "* Lifetime: Local variables are created when the subprogram is called and destroyed when the subprogram returns. This means that the value of a local variable is not retained between calls to the subprogram.\n",
        "\n",
        "* Initialization: Local variables are not automatically initialized to a specific value, and their initial value can be unpredictable. It is the responsibility of the programmer to initialize local variables before using them in the subprogram.\n",
        "\n",
        "* Naming Conflicts: Local variables can have the same name as variables in other parts of the program, including other subprograms. This can lead to naming conflicts and unexpected behavior if the wrong variable is accessed.\n",
        "\n",
        "* Recursion: In recursive subprograms, local variables are created and destroyed for each recursive call. This means that the subprogram must be carefully designed to ensure that the values of the local variables are correctly managed across recursive calls.\n",
        "\n",
        "* Passing Local Variables: Local variables cannot be passed as input or output parameters to other subprograms. If a local variable needs to be used in another subprogram, it must be copied to a global variable or passed as a parameter."
      ]
    },
    {
      "cell_type": "code",
      "execution_count": null,
      "metadata": {
        "colab": {
          "base_uri": "https://localhost:8080/"
        },
        "id": "UlNfkfZD3HAe",
        "outputId": "34092304-d1ef-4038-934d-1bd8a6963755"
      },
      "outputs": [
        {
          "name": "stdout",
          "output_type": "stream",
          "text": [
            "Global 5\n",
            "Global 5\n",
            "Locally scoped a: 10\n",
            "Still locally scoped: 100\n",
            "Global 5\n",
            "Locally scoped a: 10\n",
            "Still locally scoped: 42\n",
            "Global 5\n"
          ]
        }
      ],
      "source": [
        "a = 5 # global scope\n",
        "print(\"Global\", a)\n",
        "def some_fun(b):\n",
        "    a = 10 # locally scoped variable, again Python is one of few languages which has implicit variable declaration\n",
        "    print(f\"Locally scoped a: {a}\")\n",
        "    a = b\n",
        "    print(f\"Still locally scoped: {a}\")\n",
        "    # return None\n",
        "    # so local a is thrown away here\n",
        "\n",
        "print(\"Global\", a) # global 5\n",
        "some_fun(100) # we are giving argument 100 to function some_fun\n",
        "print(\"Global\", a) # 5\n",
        "some_fun(42) # we are giving argument 42 to function some_fun\n",
        "print(\"Global\", a) # still 5"
      ]
    },
    {
      "cell_type": "markdown",
      "metadata": {
        "id": "bA--ZyTF21wF"
      },
      "source": [
        "## Common parameter passing methods\n",
        "\n",
        "* Pass by Value: In pass by value parameter passing, a copy of the parameter's value is passed to the subprogram. Any changes made to the parameter within the subprogram do not affect the original variable in the calling program. Pass by value is simple and easy to use, but it can be inefficient for large data structures or objects.\n",
        "\n",
        "* Pass by Reference: In pass by reference parameter passing, a reference to the original variable is passed to the subprogram. Any changes made to the parameter within the subprogram affect the original variable in the calling program. Pass by reference is efficient and can be used for large data structures or objects, but it can be more complex to use and can lead to unintended side effects.\n",
        "\n",
        "* Pass by Pointer: Pass by pointer is similar to pass by reference, but a pointer to the variable is passed instead of a reference. This can be useful in languages that do not support references or for implementing certain algorithms.\n",
        "\n",
        "* Pass by Name: In pass by name parameter passing, the actual parameter is substituted directly for the formal parameter in the subprogram. This can lead to unexpected behavior if the actual parameter contains a subexpression that modifies the parameter.\n",
        "\n",
        "* Pass by Value-Result: In pass by value-result parameter passing, a copy of the parameter's value is passed to the subprogram, and the value is copied back to the original variable in the calling program when the subprogram returns. This can be useful for implementing certain algorithms, but it can lead to unexpected side effects if the parameter is not carefully managed.\n",
        "\n",
        "* Pass by Reference-Result: In pass by reference-result parameter passing, a reference to the original variable is passed to the subprogram, and the value is copied back to the original variable in the calling program when the subprogram returns. This can be useful for implementing certain algorithms, but it can be more complex to use and can lead to unintended side effects.\n",
        "\n",
        "* Pass by Object Reference: See Python below In pass by object reference parameter passing, a reference to the object is passed to the subprogram. Any changes made to the object within the subprogram affect the original object in the calling program. This can be useful for implementing certain algorithms, but it can be more complex to use and can lead to unintended side effects."
      ]
    },
    {
      "cell_type": "code",
      "execution_count": 5,
      "metadata": {
        "colab": {
          "base_uri": "https://localhost:8080/"
        },
        "id": "CfejGpG_4Qjr",
        "outputId": "d5cce473-9fc2-4b97-ac47-48a1fe389a8d"
      },
      "outputs": [
        {
          "name": "stdout",
          "output_type": "stream",
          "text": [
            "Global my_list ['RBS', 'Valdis', 'beer']\n",
            "Global my_number 99\n",
            "Memory Id of some_num 100802913960936\n",
            "Id of some_num after adding 5 100802913961096\n",
            "Id of some_list 125965283777664\n",
            "Id of some_list 125965283777664\n",
            "Id of global my_list 125965283777664\n",
            "Id of some_list 125965283777664\n",
            "Id of some_list CHANGED NOW! 125965283786560\n",
            "Originals 99 ['RBS', 'Valdis', 'beer', 'snow', 'rain', 'freezing rain']\n",
            "Results (104, ['RBS', 'Valdis', 'beer', 'snow', 'rain', 'freezing rain', 'locusts', 'brimstone'])\n"
          ]
        }
      ],
      "source": [
        "# Python uses slightly different method of passing\n",
        "\n",
        "# https://stackoverflow.com/questions/534375/passing-values-in-python\n",
        "\n",
        "# the most precise term would be call by object reference\n",
        "# it leads to situations where passing in primitive values acts like call-by-value\n",
        "# while passing in compound data types acts like call-by-reference\n",
        "\n",
        "my_list = [\"RBS\", \"Valdis\", \"beer\"] # mutable compound data type\n",
        "print(\"Global my_list\", my_list)\n",
        "my_number = 99 # immutable primitive data type\n",
        "print(\"Global my_number\", my_number)\n",
        "\n",
        "def do_something(some_num, some_list):\n",
        "    print(\"Memory Id of some_num\", id(some_num))\n",
        "    some_num += 5 # here id of some_num will be adjusted\n",
        "    print(\"Id of some_num after adding 5\", id(some_num))\n",
        "    print(\"Id of some_list\", id(some_list))\n",
        "    some_list.append(\"snow\") # using so called IN-PLACE methods to operate on original object\n",
        "    print(\"Id of some_list\", id(some_list))\n",
        "    # accessing global my_list here\n",
        "    print(\"Id of global my_list\", id(my_list))\n",
        "    some_list += [\"rain\",\"freezing rain\"] # acts like append here so IN-PLACE , does not change the object reference\n",
        "    # personally the above seems like OUT-OF-PLACE operation but it is not!\n",
        "    print(\"Id of some_list\", id(some_list))\n",
        "    # if we had returned some_list here we would have the original list\n",
        "    # CAREFUL NOW with some mutable data types like lists\n",
        "    some_list = some_list + [\"locusts\",\"brimstone\"] # this creates a new list with new reference!!\n",
        "    print(\"Id of some_list CHANGED NOW!\", id(some_list))\n",
        "    return some_num, some_list\n",
        "\n",
        "result_tuple = do_something(my_number, my_list)\n",
        "\n",
        "print(\"Originals\", my_number, my_list)\n",
        "print(\"Results\", result_tuple)"
      ]
    },
    {
      "cell_type": "code",
      "execution_count": 7,
      "metadata": {
        "colab": {
          "base_uri": "https://localhost:8080/"
        },
        "id": "W4-aMEWG5R_h",
        "outputId": "2e24f528-55f0-458f-d609-1a8e657f3ba7"
      },
      "outputs": [
        {
          "data": {
            "text/plain": [
              "(125965283777664, 125965283786560)"
            ]
          },
          "execution_count": 7,
          "metadata": {},
          "output_type": "execute_result"
        }
      ],
      "source": [
        "id(my_list), id(result_tuple[1]) # should be different because we used + operator which creates new list!"
      ]
    },
    {
      "cell_type": "code",
      "execution_count": 8,
      "metadata": {
        "colab": {
          "base_uri": "https://localhost:8080/"
        },
        "id": "YhfFO0vU5_hR",
        "outputId": "f561a0b3-aefb-4aa7-b03c-5f636f245f86"
      },
      "outputs": [
        {
          "data": {
            "text/plain": [
              "(100802913960936, 100802913961096)"
            ]
          },
          "execution_count": 8,
          "metadata": {},
          "output_type": "execute_result"
        }
      ],
      "source": [
        "id(my_number), id(result_tuple[0]) # of course different address"
      ]
    },
    {
      "cell_type": "code",
      "execution_count": 7,
      "metadata": {
        "colab": {
          "base_uri": "https://localhost:8080/"
        },
        "id": "4UQ7_c4-6Snw",
        "outputId": "4aa5b9ea-8dad-4dfd-9680-b884a6d236ed"
      },
      "outputs": [
        {
          "data": {
            "text/plain": [
              "132993633504560"
            ]
          },
          "execution_count": 7,
          "metadata": {},
          "output_type": "execute_result"
        }
      ],
      "source": [
        "id(99) # turns out in Python, the values from -5 to 255 are allocated"
      ]
    },
    {
      "cell_type": "code",
      "execution_count": 9,
      "metadata": {
        "colab": {
          "base_uri": "https://localhost:8080/"
        },
        "id": "ZzDzL_bJ6ePw",
        "outputId": "8633429c-b7d9-4e7e-d449-0269b6dded1f"
      },
      "outputs": [
        {
          "data": {
            "text/plain": [
              "(100802913965896, 100802913965928, 100802913965960, 125965282850128)"
            ]
          },
          "execution_count": 9,
          "metadata": {},
          "output_type": "execute_result"
        }
      ],
      "source": [
        "id(254), id(255), id(256), id(257)"
      ]
    },
    {
      "cell_type": "code",
      "execution_count": 16,
      "metadata": {
        "colab": {
          "base_uri": "https://localhost:8080/"
        },
        "id": "mcTRnX3-6s8Q",
        "outputId": "5c35a369-754b-4358-e4d7-f7afd802a9c9"
      },
      "outputs": [
        {
          "data": {
            "text/plain": [
              "(125965282852496,\n",
              " 125965282852272,\n",
              " 125965282852464,\n",
              " 100802913957608,\n",
              " 100802913957640)"
            ]
          },
          "execution_count": 16,
          "metadata": {},
          "output_type": "execute_result"
        }
      ],
      "source": [
        "id(-101),id(-11),id(-6), id(-5),id(-4) # so from -5 to 256 is pre-allocated\n",
        "# notice how the first 3 change addresses\n",
        "# this means that outside of -5 to 256 range we will get new addresses for each number each time we need to use it"
      ]
    },
    {
      "cell_type": "code",
      "execution_count": 18,
      "metadata": {
        "colab": {
          "base_uri": "https://localhost:8080/"
        },
        "id": "5KHIfgu8ztDk",
        "outputId": "18a1451d-fd95-41c3-fec0-0512ed6ea593"
      },
      "outputs": [
        {
          "name": "stdout",
          "output_type": "stream",
          "text": [
            "{345, 2, 1, 14}\n",
            "global bool id 100802912920480 True\n",
            "global int id 100802913959112 42\n",
            "global float id 125965282850608 3.1415926\n",
            "global string id 125965283769296 RBS\n",
            "global list id 125965273654272 ['milk', 'cookies', 'beer']\n",
            "global dict id 125965273619840 {'food': 'potatoes', 'drink': 'kefir'}\n",
            "global set id 125965283584352 {345, 2, 1, 14}\n",
            "global tuple id 125965283670784 ('milk', 42)\n",
            "local bool id 100802912920480 True\n",
            "local int id 100802913959112 42\n",
            "local float id 125965282850608 3.1415926\n",
            "local string id 125965283769296 RBS\n",
            "local list id 125965273654272 ['milk', 'cookies', 'beer']\n",
            "local dict id 125965273619840 {'food': 'potatoes', 'drink': 'kefir'}\n",
            "local set id 125965283584352 {345, 2, 1, 14}\n",
            "local tuple id 125965283670784 ('milk', 42)\n"
          ]
        }
      ],
      "source": [
        "my_bool = True\n",
        "my_int = 42\n",
        "my_float = 3.1415926\n",
        "my_string = \"RBS\"\n",
        "my_list = [\"milk\", \"cookies\", \"beer\"]\n",
        "my_dict = {\"food\":\"potatoes\", \"drink\":\"kefir\"}\n",
        "my_set = {1,2,345,1,14,1,1,1,14,1}\n",
        "print(my_set)\n",
        "my_tuple = (\"milk\", 42)\n",
        "print(\"global bool id\", id(my_bool), my_bool)\n",
        "print(\"global int id\", id(my_int), my_int)\n",
        "print(\"global float id\", id(my_float), my_float)\n",
        "print(\"global string id\", id(my_string), my_string)\n",
        "print(\"global list id\", id(my_list), my_list)\n",
        "print(\"global dict id\", id(my_dict), my_dict)\n",
        "print(\"global set id\", id(my_set), my_set)\n",
        "print(\"global tuple id\", id(my_tuple), my_tuple)\n",
        "\n",
        "def test_parameter_passing(par_bool, par_int, par_float, par_string, par_list, par_dict, par_set, par_tuple):\n",
        "    print(\"local bool id\", id(par_bool), par_bool)\n",
        "    print(\"local int id\", id(par_int), par_int)\n",
        "    print(\"local float id\", id(par_float), par_float)\n",
        "    print(\"local string id\", id(par_string), par_string)\n",
        "    print(\"local list id\", id(par_list), par_list)\n",
        "    print(\"local dict id\", id(par_dict), par_dict)\n",
        "    print(\"local set id\", id(par_set), par_set)\n",
        "    print(\"local tuple id\", id(par_tuple), par_tuple)\n",
        "    # of course now you could be creating new objects in memory by using some OUT-OF-PLACE method\n",
        "\n",
        "test_parameter_passing(my_bool, my_int, my_float, my_string, my_list, my_dict, my_set, my_tuple)"
      ]
    },
    {
      "cell_type": "markdown",
      "metadata": {},
      "source": [
        "## Passing data type of parameters\n",
        "\n",
        "Strongly typed languages require that the data type of the actual parameter matches the data type of the formal parameter. This can help to prevent errors and improve the reliability of the program. Weakly typed languages allow the data type of the actual parameter to be different from the data type of the formal parameter. This can lead to unexpected behavior and errors if the data types are not compatible.\n",
        "\n",
        "Python does not check the data type of the actual parameter against the data type of the formal parameter. This can lead to unexpected behavior if the data types are not compatible. For example, if a subprogram expects an integer but is passed a string, the program may crash or produce incorrect results.\n",
        "\n",
        "Incorrect data type errors can be hard to find, especially in languages such as JavaScript that do not have strong typing. It is important to carefully test the program with a variety of input values to ensure that the data types are correct.\n",
        "\n",
        "Javascript solved this by using TypeScript, which is a superset of JavaScript that adds static typing to the language. This can help to prevent errors and improve the reliability of the program by catching data type errors at compile time.\n",
        "\n",
        "Python offers as something called type hints, which allow you to specify the data type of the parameters and return values of a function. This can help to prevent errors and improve the reliability of the program by providing information about the expected data types."
      ]
    },
    {
      "cell_type": "code",
      "execution_count": 20,
      "metadata": {
        "id": "oCqPOnkX7lDl"
      },
      "outputs": [],
      "source": [
        "# Type Hints for dynamically typed languages can pick up on some erros\n",
        "# but still not as many as statically typed languages\n",
        "\n",
        "# so type hints in Python have no authority\n",
        "# they are like UN letters to some country..\n",
        "def add(a: int, b: int) -> int: # so we have provided a so called function signature\n",
        "    return a+b"
      ]
    },
    {
      "cell_type": "code",
      "execution_count": 21,
      "metadata": {
        "colab": {
          "base_uri": "https://localhost:8080/"
        },
        "id": "yZBKOV1a8C7n",
        "outputId": "d5eb6c83-05f5-4e7e-a21d-28d9057d348c"
      },
      "outputs": [
        {
          "data": {
            "text/plain": [
              "12"
            ]
          },
          "execution_count": 21,
          "metadata": {},
          "output_type": "execute_result"
        }
      ],
      "source": [
        "add(5,7)"
      ]
    },
    {
      "cell_type": "code",
      "execution_count": 22,
      "metadata": {
        "colab": {
          "base_uri": "https://localhost:8080/"
        },
        "id": "JxS3WzRj8ErN",
        "outputId": "8f23e948-a5c8-42f9-cc19-75fa402b434a"
      },
      "outputs": [
        {
          "data": {
            "text/plain": [
              "['Valdis', 'RBS', 'beer', 'snow']"
            ]
          },
          "execution_count": 22,
          "metadata": {},
          "output_type": "execute_result"
        }
      ],
      "source": [
        "add([\"Valdis\", \"RBS\"], [\"beer\", \"snow\"]) # it works even though types are \"wrong\" !\n",
        "# in a statically typed language it would not be possible"
      ]
    },
    {
      "cell_type": "code",
      "execution_count": 23,
      "metadata": {},
      "outputs": [
        {
          "name": "stdout",
          "output_type": "stream",
          "text": [
            "5.85\n"
          ]
        }
      ],
      "source": [
        "# of course we can also add floats\n",
        "result = add(3.14, 2.71) # again no Error from Python, but a linting tool might catch this!\n",
        "print(result)"
      ]
    },
    {
      "cell_type": "code",
      "execution_count": 24,
      "metadata": {},
      "outputs": [
        {
          "name": "stdout",
          "output_type": "stream",
          "text": [
            "unsupported operand type(s) for +: 'int' and 'str'\n"
          ]
        }
      ],
      "source": [
        "# the issue with this flexible approach is that eventually you will pass things that do not work\n",
        "try:\n",
        "    # so adding number and string will not work\n",
        "    restuls = add(42, \"Valdis\")\n",
        "except Exception as e:\n",
        "    print(e)"
      ]
    },
    {
      "cell_type": "markdown",
      "metadata": {
        "id": "gaF1zmpu21wF"
      },
      "source": [
        "##  Uing parameters in subprograms - issues:\n",
        "\n",
        "* Parameter Type: The type of the parameter should be carefully chosen to ensure that it can represent the desired data accurately and efficiently. Different types of parameters are appropriate for different types of data, and choosing the right type can improve program efficiency and accuracy.\n",
        "\n",
        "* Parameter Passing Method: The method used to pass parameters to a subprogram should be selected based on the requirements of the program and the type of data being passed. The parameter passing method can have a significant impact on program efficiency and correctness.\n",
        "\n",
        "* Parameter Name: The parameter name should be carefully chosen to accurately reflect its meaning in the subprogram. A well-chosen parameter name can make the subprogram easier to read and understand, and can help to avoid errors caused by confusion or misunderstanding.\n",
        "\n",
        "Parameter Ordering: The order in which parameters are passed to a subprogram can affect program efficiency and correctness. In some cases, parameters may need to be passed in a specific order to ensure correct operation.\n",
        "\n",
        "* Parameter Default Values: Default parameter values can be used to simplify the interface of a subprogram and make it more flexible. However, care should be taken to ensure that default values are appropriate and do not introduce unexpected behavior.\n",
        "\n",
        "* Parameter Validation: Subprograms should validate their parameters to ensure that they meet the expected format and range. Failure to validate parameters can result in unexpected behavior and program errors. Ada famously has a strong parameter validation system.\n",
        "\n",
        "Example of a parameter validation system in Ada:\n",
        "\n",
        "```ada\n",
        "procedure Validate_Parameter (Value : in Integer) is\n",
        "begin\n",
        "   if Value < 0 then\n",
        "      raise Constraint_Error;\n",
        "   end if;\n",
        "end Validate_Parameter;\n",
        "```\n",
        "\n",
        "* Parameter Usage: Parameters should be used consistently and appropriately within a subprogram. Parameters should be used only for their intended purpose, and care should be taken to avoid unintended side effects."
      ]
    },
    {
      "cell_type": "markdown",
      "metadata": {
        "id": "igxBD5rR21wG"
      },
      "source": [
        "## Subprograms  as parameters for other subprograms - Higher Order Functions\n",
        "\n",
        "Higher-order programming allows subprograms to be treated as first-class objects, which means that they can be passed as arguments to other subprograms, returned as values, and stored in variables.\n",
        "\n",
        "\n",
        "Using subprograms as parameters allows programmers to write more flexible and reusable code, as well as more abstract and general-purpose algorithms. For example, a sorting function could take a subprogram as a parameter to specify the comparison function used to compare elements during sorting. Similarly, a map or reduce function could take a subprogram as a parameter to specify the transformation or aggregation function to apply to the elements of a collection.\n",
        "\n",
        "\n",
        "Higher-order programming is supported in many programming languages, including functional programming languages like Haskell and Scheme, as well as object-oriented programming languages like Java and Python. However, not all programming languages support higher-order programming, and some languages may have restrictions on how subprograms can be used as parameters."
      ]
    },
    {
      "cell_type": "code",
      "execution_count": 28,
      "metadata": {
        "colab": {
          "base_uri": "https://localhost:8080/"
        },
        "id": "iOnE-_7pAnyK",
        "outputId": "c91b46ba-2dc7-4272-d822-de62f9f5acef"
      },
      "outputs": [
        {
          "data": {
            "text/plain": [
              "[(0, 'V', 86),\n",
              " (1, 'a', 97),\n",
              " (2, 'l', 108),\n",
              " (3, 'd', 100),\n",
              " (4, 'i', 105),\n",
              " (5, 's', 115),\n",
              " (6, ' ', 32),\n",
              " (7, 'R', 82),\n",
              " (8, 'B', 66),\n",
              " (9, 'S', 83),\n",
              " (10, ' ', 32),\n",
              " (11, 'k', 107),\n",
              " (12, 'a', 97),\n",
              " (13, 'ķ', 311),\n",
              " (14, 'i', 105),\n",
              " (15, 's', 115)]"
            ]
          },
          "execution_count": 28,
          "metadata": {},
          "output_type": "execute_result"
        }
      ],
      "source": [
        "# where would you want to pass a function as a parameter to another function\n",
        "tuple_list = [(i,c, ord(c)) for i,c in enumerate(\"Valdis RBS kaķis\")]\n",
        "tuple_list"
      ]
    },
    {
      "cell_type": "code",
      "execution_count": 26,
      "metadata": {
        "colab": {
          "base_uri": "https://localhost:8080/"
        },
        "id": "kFAEcILtBLno",
        "outputId": "94240dd4-bf75-457d-a390-ac77207609d9"
      },
      "outputs": [
        {
          "data": {
            "text/plain": [
              "[(0, 'V'),\n",
              " (1, 'a'),\n",
              " (2, 'l'),\n",
              " (3, 'd'),\n",
              " (4, 'i'),\n",
              " (5, 's'),\n",
              " (6, ' '),\n",
              " (7, 'R'),\n",
              " (8, 'B'),\n",
              " (9, 'S'),\n",
              " (10, ' '),\n",
              " (11, 'k'),\n",
              " (12, 'a'),\n",
              " (13, 'ķ'),\n",
              " (14, 'i'),\n",
              " (15, 's')]"
            ]
          },
          "execution_count": 26,
          "metadata": {},
          "output_type": "execute_result"
        }
      ],
      "source": [
        "sorted(tuple_list) # sorts using first item in tuple which is numeric"
      ]
    },
    {
      "cell_type": "code",
      "execution_count": 27,
      "metadata": {
        "colab": {
          "base_uri": "https://localhost:8080/"
        },
        "id": "F8rumPfvBN6Z",
        "outputId": "a0d6f4cd-d558-4cdd-b54f-33e425f5e339"
      },
      "outputs": [
        {
          "data": {
            "text/plain": [
              "[(6, ' '),\n",
              " (10, ' '),\n",
              " (8, 'B'),\n",
              " (7, 'R'),\n",
              " (9, 'S'),\n",
              " (0, 'V'),\n",
              " (1, 'a'),\n",
              " (12, 'a'),\n",
              " (3, 'd'),\n",
              " (4, 'i'),\n",
              " (14, 'i'),\n",
              " (11, 'k'),\n",
              " (2, 'l'),\n",
              " (5, 's'),\n",
              " (15, 's'),\n",
              " (13, 'ķ')]"
            ]
          },
          "execution_count": 27,
          "metadata": {},
          "output_type": "execute_result"
        }
      ],
      "source": [
        "sorted(tuple_list, key = lambda t: t[1]) # so I passed an anonymous as a parameter\n",
        "# note in ASCII / Unicode capitals are before lowercase character\n",
        "# note in case of ties, we used the first value as tiebreaker for tuple"
      ]
    },
    {
      "cell_type": "code",
      "execution_count": 29,
      "metadata": {},
      "outputs": [
        {
          "data": {
            "text/plain": [
              "[(6, ' ', 32),\n",
              " (10, ' ', 32),\n",
              " (8, 'B', 66),\n",
              " (7, 'R', 82),\n",
              " (9, 'S', 83),\n",
              " (0, 'V', 86),\n",
              " (1, 'a', 97),\n",
              " (12, 'a', 97),\n",
              " (3, 'd', 100),\n",
              " (4, 'i', 105),\n",
              " (14, 'i', 105),\n",
              " (11, 'k', 107),\n",
              " (2, 'l', 108),\n",
              " (5, 's', 115),\n",
              " (15, 's', 115),\n",
              " (13, 'ķ', 311)]"
            ]
          },
          "execution_count": 29,
          "metadata": {},
          "output_type": "execute_result"
        }
      ],
      "source": [
        "# so how about sorting by the ordinal value of the character\n",
        "sorted(tuple_list, key = lambda t: t[2]) # should give us same results as sorting by character"
      ]
    },
    {
      "cell_type": "code",
      "execution_count": 30,
      "metadata": {
        "colab": {
          "base_uri": "https://localhost:8080/"
        },
        "id": "8-UVnEKbBi9K",
        "outputId": "8f70247f-9a4b-48e1-f58c-81bc96c25a1e"
      },
      "outputs": [
        {
          "data": {
            "text/plain": [
              "['',\n",
              " 'a',\n",
              " 'll',\n",
              " 'ddd',\n",
              " 'iiii',\n",
              " 'sssss',\n",
              " '      ',\n",
              " 'RRRRRRR',\n",
              " 'BBBBBBBB',\n",
              " 'SSSSSSSSS',\n",
              " '          ',\n",
              " 'kkkkkkkkkkk',\n",
              " 'aaaaaaaaaaaa',\n",
              " 'ķķķķķķķķķķķķķ',\n",
              " 'iiiiiiiiiiiiii',\n",
              " 'sssssssssssssss']"
            ]
          },
          "execution_count": 30,
          "metadata": {},
          "output_type": "execute_result"
        }
      ],
      "source": [
        "# another popular use for passing functions would be for map, filter type of applications\n",
        "# again lambda is anonymous function here which takes a tuple and returns a new tuple\n",
        "new_list = list(map(lambda t: t[0]*t[1], tuple_list))\n",
        "new_list"
      ]
    },
    {
      "cell_type": "code",
      "execution_count": 33,
      "metadata": {
        "id": "SpKWuP87CDbh"
      },
      "outputs": [],
      "source": [
        "# I did not need to use an anonymous function (using lambda notation)\n",
        "# i could have used a premade function\n",
        "\n",
        "def my_mapper(my_tuple):\n",
        "    h, t, o_val = my_tuple # so technically anything you can deconstruct would work here not only tuple\n",
        "    return f\"{h} and {t} and {o_val}\"\n"
      ]
    },
    {
      "cell_type": "code",
      "execution_count": 34,
      "metadata": {
        "colab": {
          "base_uri": "https://localhost:8080/"
        },
        "id": "iAAlqgEkCitS",
        "outputId": "f5da455f-1ee9-4277-9eea-bbe07b28b517"
      },
      "outputs": [
        {
          "data": {
            "text/plain": [
              "['0 and V and 86',\n",
              " '1 and a and 97',\n",
              " '2 and l and 108',\n",
              " '3 and d and 100',\n",
              " '4 and i and 105',\n",
              " '5 and s and 115',\n",
              " '6 and   and 32',\n",
              " '7 and R and 82',\n",
              " '8 and B and 66',\n",
              " '9 and S and 83',\n",
              " '10 and   and 32',\n",
              " '11 and k and 107',\n",
              " '12 and a and 97',\n",
              " '13 and ķ and 311',\n",
              " '14 and i and 105',\n",
              " '15 and s and 115']"
            ]
          },
          "execution_count": 34,
          "metadata": {},
          "output_type": "execute_result"
        }
      ],
      "source": [
        "another_list = list(map(my_mapper, tuple_list)) # so I passed a reference to my_mapper\n",
        "another_list"
      ]
    },
    {
      "cell_type": "code",
      "execution_count": 35,
      "metadata": {
        "colab": {
          "base_uri": "https://localhost:8080/"
        },
        "id": "MNQPTiQrC4pB",
        "outputId": "ffee2902-5080-489b-9973-7c5ec09d93ae"
      },
      "outputs": [
        {
          "data": {
            "text/plain": [
              "[(0, 'V', 86),\n",
              " (3, 'd', 100),\n",
              " (6, ' ', 32),\n",
              " (9, 'S', 83),\n",
              " (12, 'a', 97),\n",
              " (15, 's', 115)]"
            ]
          },
          "execution_count": 35,
          "metadata": {},
          "output_type": "execute_result"
        }
      ],
      "source": [
        "# filter is another popular one\n",
        "\n",
        "# so I pass a function (anonymous here) which returns a boolean\n",
        "filtered_list = list(filter(lambda t: t[0] % 3 == 0, tuple_list))\n",
        "filtered_list\n",
        "\n",
        "# again I could have made a function which takes a tuple and returns a boolean"
      ]
    },
    {
      "cell_type": "code",
      "execution_count": 36,
      "metadata": {
        "id": "Ej8YN555Dd4Q"
      },
      "outputs": [],
      "source": [
        "import random\n",
        "def coin_flip(t):\n",
        "    \"\"\"\n",
        "    Flips a coin\n",
        "    Arg:\n",
        "    -t can be anything as it is ignored\n",
        "    \"\"\"\n",
        "    # will ignore t and just return boolean on random\n",
        "    return random.randint(1,2) > 1"
      ]
    },
    {
      "cell_type": "code",
      "execution_count": 50,
      "metadata": {
        "colab": {
          "base_uri": "https://localhost:8080/"
        },
        "id": "gOpuUA6ZDuwe",
        "outputId": "d9115880-994a-47f0-de7b-c196c4412541"
      },
      "outputs": [
        {
          "data": {
            "text/plain": [
              "[(0, 'V', 86),\n",
              " (1, 'a', 97),\n",
              " (3, 'd', 100),\n",
              " (7, 'R', 82),\n",
              " (8, 'B', 66),\n",
              " (9, 'S', 83),\n",
              " (10, ' ', 32),\n",
              " (13, 'ķ', 311),\n",
              " (15, 's', 115)]"
            ]
          },
          "execution_count": 50,
          "metadata": {},
          "output_type": "execute_result"
        }
      ],
      "source": [
        "randomly_filtered = list(filter(coin_flip, tuple_list))\n",
        "randomly_filtered"
      ]
    },
    {
      "cell_type": "markdown",
      "metadata": {
        "id": "DO7JLR5D21wG"
      },
      "source": [
        "## Situations where subprograms must be called indirectly\n",
        "\n",
        "* Callbacks: A callback is a subprogram that is called by another subprogram when a specific event occurs. Callbacks are used in event-driven programming to handle user interactions or system events, and are often used to handle asynchronous events in a non-blocking manner. In these cases, the subprogram must be called indirectly, using a callback mechanism provided by the programming language or framework.\n",
        "\n",
        "Callbacks are used in event-driven programming to handle user interactions or system events, and are often used to handle asynchronous events in a non-blocking manner. In these cases, the subprogram must be called indirectly, using a callback mechanism provided by the programming language or framework.\n",
        "\n",
        "Popular example would be Javascript's event listeners:\n",
        "\n",
        "```javascript\n",
        "document.getElementById(\"myButton\").addEventListener(\"click\", function() {\n",
        "    alert(\"Button clicked!\"); //here again we have an anonymous function!\n",
        "});\n",
        "```\n",
        "\n",
        "* Dynamic Dispatch: Dynamic dispatch is a mechanism used in object-oriented programming to call a subprogram based on the runtime type of an object. This is often used in polymorphic programming, where different subprograms may be called depending on the actual type of an object. Dynamic dispatch requires an indirect call mechanism, such as a virtual function table or function pointers.\n",
        "\n",
        "* Plugins and Extensions: Plugins and extensions are subprograms that are loaded and called at runtime by an application or system. In these cases, the subprograms must be called indirectly, using a plugin or extension mechanism provided by the application or system.\n",
        "\n",
        "* Interprocess Communication: In some cases, subprograms must be called across process or network boundaries, such as in client-server architectures or distributed systems. In these cases, the subprograms must be called indirectly, using a message passing or remote procedure call mechanism.\n",
        "\n",
        "More on RPC: https://en.wikipedia.org/wiki/Remote_procedure_call"
      ]
    },
    {
      "cell_type": "markdown",
      "metadata": {
        "id": "w1oyI42321wG"
      },
      "source": [
        "## Design issues for functions\n",
        "\n",
        "* Function Naming: Function names should be meaningful and descriptive, and should accurately reflect the purpose of the function. A well-chosen function name can make the function easier to understand and use, and can help to avoid errors caused by confusion or misunderstanding.\n",
        "\n",
        "* Function Signature: The signature of a function specifies the name, parameters, and return type of the function. The signature should be carefully chosen to accurately reflect the expected inputs and outputs of the function. The return type should be appropriate for the data being returned, and the parameters should be ordered in a logical and consistent manner.\n",
        "\n",
        "* Function Documentation: Functions should be well-documented to help other programmers understand how to use them. Documentation should include a description of the function, its parameters, its return value, and any assumptions or limitations that apply.\n",
        "\n",
        "* Function Purity: A pure function is a function that always produces the same output given the same input, and has no side effects. Pure functions are easier to reason about and test, and can help to avoid subtle errors and bugs.\n",
        "\n",
        "* Function Error Handling: Functions should be designed to handle errors gracefully and provide meaningful error messages to the calling program. Error handling can help to improve program reliability and user experience.\n",
        "\n",
        "* Function Recursion: Recursion is a powerful programming technique that can be used to solve complex problems. However, recursive functions can be difficult to understand and debug, and can lead to stack overflow errors if not implemented correctly. Care should be taken when using recursion in functions, and alternative approaches should be considered if recursion is not necessary or appropriate.\n",
        "\n",
        "* Function Efficiency: Functions should be designed to be as efficient as possible, while still maintaining clarity and readability. This may involve careful selection of data types and algorithms, as well as optimization techniques such as memoization or tail recursion."
      ]
    },
    {
      "cell_type": "markdown",
      "metadata": {
        "id": "5dnJ8vrm21wH"
      },
      "source": [
        "## Overloaded subprograms\n",
        "\n",
        "Overloaded subprograms are subprograms with the same name, but different parameter lists. In other words, there are multiple subprograms with the same name, but each subprogram has a different set of parameters. Overloaded subprograms are a way of providing multiple functions with the same name, but different behaviors based on the types and number of their arguments.\n",
        "\n",
        "Overloaded subprograms are used in many programming languages to provide a more natural and intuitive interface to users of the language. For example, in a mathematical library, the \"+\" operator could be overloaded to work with integers, floating-point numbers, and complex numbers, all with different implementations that make sense for each data type.\n",
        "\n",
        "In languages that support object-oriented programming, method overloading is a common feature, which allows methods to be overloaded based on their parameters as well as the type of the object on which they are called.\n",
        "\n",
        "Overloaded subprograms can improve code readability and ease of use, by allowing programmers to use the same name for related functions and methods, and reducing the need for long and complicated function names. However, overloading can also make code more complex and difficult to understand, particularly if the overloaded subprograms have different behaviors and semantics. It's important to use overloading judiciously, and to document the behavior and parameters of each overloaded subprogram clearly to avoid confusion or errors."
      ]
    },
    {
      "cell_type": "code",
      "execution_count": 51,
      "metadata": {
        "colab": {
          "base_uri": "https://localhost:8080/"
        },
        "id": "dQ7wqBxSFMkP",
        "outputId": "76294aa7-e087-4214-f586-b5881fb24508"
      },
      "outputs": [
        {
          "name": "stdout",
          "output_type": "stream",
          "text": [
            "I have  0 beers to drink\n",
            "beer_list is of type <class 'tuple'>\n",
            "I have  1 beers to drink\n",
            "beer_list is of type <class 'tuple'>\n",
            "Drinking Heineken\n",
            "I have  2 beers to drink\n",
            "beer_list is of type <class 'tuple'>\n",
            "Drinking Užavas\n",
            "Drinking Labietis\n"
          ]
        }
      ],
      "source": [
        "# Python provides a way to provide a number of positional arguments\n",
        "def drink_beers(*beer_list): # classically this would be argv - argument vector, usually with argc (argument count)\n",
        "    print(\"I have \", len(beer_list), \"beers to drink\")\n",
        "    print(\"beer_list is of type\", type(beer_list)) # so actually a tuple - why? efficiency\n",
        "    for beer in beer_list:\n",
        "        print(f\"Drinking {beer}\")\n",
        "\n",
        "\n",
        "drink_beers()\n",
        "drink_beers(\"Heineken\")\n",
        "drink_beers(\"Užavas\", \"Labietis\")"
      ]
    },
    {
      "cell_type": "code",
      "execution_count": 52,
      "metadata": {
        "colab": {
          "base_uri": "https://localhost:8080/"
        },
        "id": "S0oYuX5EF3NH",
        "outputId": "e8310e91-39e0-4354-afbb-efa9ce4f8abc"
      },
      "outputs": [
        {
          "name": "stdout",
          "output_type": "stream",
          "text": [
            "You have grades in  0 courses\n",
            "You have grades in  1 courses\n",
            "You got 9.5 in linear_algebra\n",
            "You have grades in  4 courses\n",
            "You got 10 in accounting\n",
            "You got 9 in programming_languages\n",
            "You got 8 in discrete_structures\n",
            "You got 8 in natural_science\n"
          ]
        }
      ],
      "source": [
        "# we can also use keyword arguments\n",
        "def course_grades(**course_dict):\n",
        "    print(\"You have grades in \", len(course_dict), \"courses\")\n",
        "    for course, grade in course_dict.items():\n",
        "        # to truly make it a good aproximation of overloaded functions in other languages\n",
        "        # here you would want to check keys and act appropriately\n",
        "        print(f\"You got {grade} in {course}\")\n",
        "\n",
        "course_grades()\n",
        "course_grades(linear_algebra = 9.5)\n",
        "# course_grades(linear_algebra = 8, programming_languages = 9, project_management = 10)\n",
        "course_grades(accounting = 10,\n",
        "              programming_languages = 9,\n",
        "              discrete_structures = 8,\n",
        "              natural_science = 8)\n",
        "\n",
        "# so we will have an ability to provide unlimited keyword based arguments to our function\n",
        "# in effect we have overloaded our function definition because we can take multiple signatures\n"
      ]
    },
    {
      "cell_type": "code",
      "execution_count": 53,
      "metadata": {
        "colab": {
          "base_uri": "https://localhost:8080/"
        },
        "id": "KBFjID599dUR",
        "outputId": "a1a4042f-9507-499a-b741-9c12c9340070"
      },
      "outputs": [
        {
          "name": "stdout",
          "output_type": "stream",
          "text": [
            "10 20\n",
            "c is 42\n",
            "10 20\n",
            "c is 30\n",
            "current variable length arg 40\n",
            "current variable length arg 50\n",
            "10 20\n",
            "c is 30\n",
            "current variable length arg 40\n",
            "current variable length arg 50\n",
            "Named argument key:name -> value:Valdis\n",
            "Named argument key:university -> value:RBS\n"
          ]
        }
      ],
      "source": [
        "# in Python you can combine regular positional arguments, then variable length arguments\n",
        "# and named arguments\n",
        "def do_everything(a, b, c = 42, *argv, **kwargs):\n",
        "    print(a,b) # required\n",
        "    print(\"c is\", c)\n",
        "    # rest should not be required\n",
        "    for arg in argv:\n",
        "        print(\"current variable length arg\", arg)\n",
        "\n",
        "    for k,v in kwargs.items():\n",
        "        print(f\"Named argument key:{k} -> value:{v}\")\n",
        "\n",
        "do_everything(10,20)\n",
        "do_everything(10,20, 30, 40, 50)\n",
        "do_everything(10,20, 30, 40, 50, name=\"Valdis\", university=\"RBS\")"
      ]
    },
    {
      "cell_type": "markdown",
      "metadata": {
        "id": "ZdK_HUOi21wH"
      },
      "source": [
        "## Generic subprograms\n",
        "\n",
        "Generic subprograms are subprograms that can operate on different data types or structures. In other words, they are subprograms that are designed to work with a variety of different input types, without needing to be re-implemented for each individual type.\n",
        "\n",
        "The idea of generic programming is to create reusable code that can work with multiple data types or structures, without having to write separate code for each individual type. This can lead to more efficient and less error-prone code, as well as more concise and readable code.\n",
        "\n",
        "In many programming languages, generic subprograms are implemented using templates, which allow a single piece of code to be used with different data types or structures. For example, in C++, a template function can be defined to work with any data type that supports the required operations.\n",
        "\n",
        "```\n",
        "// function template\n",
        "#include <iostream>\n",
        "using namespace std;\n",
        "\n",
        "template <class T>\n",
        "T GetMax (T a, T b) {\n",
        "  T result;\n",
        "  result = (a>b)? a : b;\n",
        "  return (result);\n",
        "}\n",
        "\n",
        "int main () {\n",
        "  int i=5, j=6, k;\n",
        "  long l=10, m=5, n;\n",
        "  k=GetMax<int>(i,j);\n",
        "  n=GetMax<long>(l,m);\n",
        "  cout << k << endl;\n",
        "  cout << n << endl;\n",
        "  return 0;\n",
        "}\n",
        "```\n",
        "Example from: https://cplusplus.com/doc/oldtutorial/templates/\n",
        "\n",
        "In Ada, a similar feature is called \"generic units,\" which allows the creation of generic subprograms, types, and packages that can be used with different data types and structures.\n",
        "\n",
        "Other languages, such as Java and C#, have their own mechanisms for implementing generic programming, such as using parameterized classes and interfaces.\n",
        "\n",
        "Generic subprograms can be particularly useful for algorithms that operate on data structures, such as sorting or searching algorithms, or for functions that perform mathematical operations, such as addition or multiplication. By making these subprograms generic, they can be used with a variety of different data types and structures, without needing to be re-implemented for each type."
      ]
    },
    {
      "cell_type": "markdown",
      "metadata": {
        "id": "iCS-LwSO21wH"
      },
      "source": [
        "## Closures\n",
        "\n",
        "A closure is a programming construct that allows a function to capture and store the state of its surrounding environment, including any variables or functions that are defined outside of the function itself.\n",
        "\n",
        "In other words, a closure is a function that has access to variables and functions that are outside of its own scope, even after those variables and functions have gone out of scope. This allows a closure to maintain state between function calls, and to maintain a reference to any variables or functions that it needs to access.\n",
        "\n",
        "Closures are commonly used in functional programming, and are also supported in many other programming languages, including JavaScript, Python, Ruby, and others.\n",
        "\n",
        "In JavaScript, for example, closures are often used to create private variables and methods in object-oriented programming. By defining a function within the scope of a constructor function, the inner function can access the constructor's private variables and methods, while still being accessible from outside the constructor function.\n",
        "\n",
        "Closures can be a powerful tool for creating reusable and maintainable code, but they can also lead to unexpected behavior if not used carefully. For example, if a closure holds a reference to an object that is no longer needed, it can prevent that object from being garbage collected, leading to memory leaks. It's important to understand the behavior of closures in the language you are using, and to use them judiciously to avoid unintended consequences."
      ]
    },
    {
      "cell_type": "code",
      "execution_count": 54,
      "metadata": {
        "colab": {
          "base_uri": "https://localhost:8080/"
        },
        "id": "47fkfnKo21wI",
        "outputId": "a4256354-ad76-4db2-9fa1-226c564c4e83"
      },
      "outputs": [
        {
          "name": "stdout",
          "output_type": "stream",
          "text": [
            "Count 1\n",
            "Local count 1\n",
            "Count 2\n",
            "Local count 1\n",
            "Count 1\n",
            "Local count 1\n",
            "Count 3\n",
            "Local count 1\n"
          ]
        }
      ],
      "source": [
        "# outer function\n",
        "def counter():\n",
        "    count = 0 # local to counter function\n",
        "    # inner function\n",
        "    def increment(): # so function defined inside counter function\n",
        "        nonlocal count # notice nonlocal we get access to variable from outside our scope\n",
        "        # https://docs.python.org/3/reference/simple_stmts.html#the-nonlocal-statement\n",
        "        count += 1\n",
        "        local_count = 0  # each time this function is called this local_count is created\n",
        "        local_count += 1 # pretty useless\n",
        "        print(\"Count\", count)\n",
        "        print(\"Local count\", local_count)\n",
        "    # the key part is that outer function returns the inner function!!\n",
        "    return increment # we return the inner function - so outer function variables should go away right?\n",
        "    # so count is not destroyed but is returned increment function \"closes\" on it\n",
        "\n",
        "counter1 = counter() # counter returns a function - the inner increment function\n",
        "counter1()  # prints 1\n",
        "counter1()  # prints 2\n",
        "\n",
        "counter2 = counter() # so I return another counter\n",
        "counter2()  # prints 1\n",
        "counter1()  # prints 3\n",
        "\n",
        "# so each time we call counter() we return a new increment function which has an independent count"
      ]
    },
    {
      "cell_type": "code",
      "execution_count": 64,
      "metadata": {
        "colab": {
          "base_uri": "https://localhost:8080/"
        },
        "id": "Zi5rnm2fIVf6",
        "outputId": "1edd9877-4abd-43a1-d86f-c15adb2d45d6"
      },
      "outputs": [
        {
          "name": "stdout",
          "output_type": "stream",
          "text": [
            "Count 11\n",
            "Local count 1\n"
          ]
        }
      ],
      "source": [
        "counter2() # so count lives inside the inner function even though the outer function has long gone away"
      ]
    },
    {
      "cell_type": "code",
      "execution_count": 66,
      "metadata": {},
      "outputs": [
        {
          "name": "stdout",
          "output_type": "stream",
          "text": [
            "Count 5\n",
            "Local count 1\n"
          ]
        }
      ],
      "source": [
        "# similarly counter1 has its own count\n",
        "counter1()"
      ]
    },
    {
      "cell_type": "code",
      "execution_count": 67,
      "metadata": {
        "id": "fCTEaMeV_rp2"
      },
      "outputs": [],
      "source": [
        "def adder_factory(add_num):\n",
        "    print(\"Starting our adder factory\")\n",
        "    def add(a):\n",
        "        return add_num + a # so I reference outer add_num and also our incoming parameter\n",
        "        # i did not even have to reference add_num as global it was automatic\n",
        "    return add\n",
        "    # so even after adder_factory is done, add_num as it was passed to inner add function stays alive"
      ]
    },
    {
      "cell_type": "code",
      "execution_count": 68,
      "metadata": {
        "colab": {
          "base_uri": "https://localhost:8080/"
        },
        "id": "r0GlStJEADMS",
        "outputId": "c8087904-4145-4aa7-ddfd-0175765f5099"
      },
      "outputs": [
        {
          "name": "stdout",
          "output_type": "stream",
          "text": [
            "Starting our adder factory\n"
          ]
        }
      ],
      "source": [
        "add10 = adder_factory(10)"
      ]
    },
    {
      "cell_type": "code",
      "execution_count": null,
      "metadata": {
        "colab": {
          "base_uri": "https://localhost:8080/"
        },
        "id": "TVcCzPQYAG9I",
        "outputId": "626bf19f-bd12-488c-e4d4-4dabc52bbca4"
      },
      "outputs": [
        {
          "data": {
            "text/plain": [
              "54"
            ]
          },
          "execution_count": 71,
          "metadata": {},
          "output_type": "execute_result"
        }
      ],
      "source": [
        "add10(44) # so the 10 is closed in the add10 function and is added to 44"
      ]
    },
    {
      "cell_type": "code",
      "execution_count": 72,
      "metadata": {
        "colab": {
          "base_uri": "https://localhost:8080/"
        },
        "id": "LmgsiCWvAKl5",
        "outputId": "0cfeb99e-275f-417d-ea3f-ee0e61f3a70e"
      },
      "outputs": [
        {
          "name": "stdout",
          "output_type": "stream",
          "text": [
            "Starting our adder factory\n"
          ]
        },
        {
          "data": {
            "text/plain": [
              "9055"
            ]
          },
          "execution_count": 72,
          "metadata": {},
          "output_type": "execute_result"
        }
      ],
      "source": [
        "add9000 = adder_factory(9000)\n",
        "add9000(55)"
      ]
    },
    {
      "cell_type": "markdown",
      "metadata": {
        "id": "s7Fw5bxy21wJ"
      },
      "source": [
        "## Coroutines\n",
        "\n",
        "Coroutines are a programming construct that allows for cooperative multitasking, where the execution of a program is divided into independent, concurrently executing routines or \"coroutines\". Unlike traditional multitasking, where multiple threads or processes run concurrently, coroutines are cooperatively scheduled, meaning that they voluntarily pause and yield control to other coroutines, allowing them to execute.\n",
        "\n",
        "In other words, coroutines allow for non-preemptive multitasking, where control is passed explicitly between coroutines rather than being scheduled by the operating system. This can make it easier to write concurrent and asynchronous code, since the programmer has more control over when and how coroutines are scheduled.\n",
        "\n",
        "Coroutines are supported in many programming languages, including Python, Lua, and Go, among others. In Python, for example, coroutines are implemented using the async and await keywords, which allow functions to be defined as asynchronous coroutines that can be paused and resumed as needed.\n",
        "\n",
        "Coroutines can be used in a variety of applications, including network programming, game development, and web servers, among others. They can be used to handle multiple simultaneous connections, to perform background tasks without blocking the main thread, and to implement event-driven programming.\n",
        "\n",
        "One of the advantages of coroutines is that they can reduce the need for complex synchronization mechanisms, such as locks and semaphores, since coroutines are designed to cooperate rather than compete for resources. However, coroutines can also be more difficult to reason about than traditional threads or processes, since the order of execution is determined by the programmer rather than the operating system. As with any concurrent programming paradigm, it's important to understand the limitations and pitfalls of coroutines, and to use them judiciously to avoid unintended consequences."
      ]
    },
    {
      "cell_type": "code",
      "execution_count": 74,
      "metadata": {
        "colab": {
          "base_uri": "https://localhost:8080/"
        },
        "id": "oIl8wIjF21wJ",
        "outputId": "c7f0b11a-1c22-44f3-81ad-31a854123c1c"
      },
      "outputs": [
        {
          "name": "stdout",
          "output_type": "stream",
          "text": [
            "Hello, world!\n",
            "This is a coroutine example.\n"
          ]
        }
      ],
      "source": [
        "def printer():\n",
        "    while True:\n",
        "        message = yield # in this function you wait for some trigger to activate yield\n",
        "        print(message)\n",
        "\n",
        "p = printer()\n",
        "next(p) # activate the coroutine\n",
        "\n",
        "p.send(\"Hello, world!\")\n",
        "p.send(\"This is a coroutine example.\")\n"
      ]
    },
    {
      "cell_type": "code",
      "execution_count": 75,
      "metadata": {
        "colab": {
          "base_uri": "https://localhost:8080/"
        },
        "id": "jniWVZNnA6R8",
        "outputId": "ae325132-b339-49c3-a2ed-c5110ef77af7"
      },
      "outputs": [
        {
          "name": "stdout",
          "output_type": "stream",
          "text": [
            "Sup!\n"
          ]
        }
      ],
      "source": [
        "p.send(\"Sup!\")"
      ]
    },
    {
      "cell_type": "markdown",
      "metadata": {
        "id": "A_5w2aYR21wJ"
      },
      "source": [
        "In this example, the printer() function is defined as a generator function, and it is used as a coroutine. The while loop inside the printer() function runs indefinitely, waiting for the yield keyword. The yield keyword acts as a pause for the generator function and allows it to receive input from the caller using the send() method.\n",
        "\n",
        "When p = printer() is called, it creates a coroutine object and assigns it to the variable p. To activate the coroutine, we must call next(p) to initialize the generator and advance to the first yield statement.\n",
        "\n",
        "Then, we can send messages to the coroutine using the p.send() method. The send() method resumes the execution of the generator function and passes the input value to the yield statement, which sets the message variable. The print() statement then prints the message.\n",
        "\n",
        "In this example, the coroutine printer() receives and prints two messages, \"Hello, world!\" and \"This is a coroutine example.\" The coroutine remains active and can receive additional messages using the send() method."
      ]
    },
    {
      "cell_type": "code",
      "execution_count": 56,
      "metadata": {
        "id": "y1AvhJt821wK"
      },
      "outputs": [],
      "source": [
        "import asyncio # standard library in Python\n",
        "# https://docs.python.org/3/library/asyncio-task.html"
      ]
    },
    {
      "cell_type": "code",
      "execution_count": null,
      "metadata": {
        "id": "oysdtOHkBh8r"
      },
      "outputs": [],
      "source": []
    },
    {
      "cell_type": "code",
      "execution_count": 58,
      "metadata": {
        "colab": {
          "base_uri": "https://localhost:8080/",
          "height": 477
        },
        "id": "OQwhvwtO21wK",
        "outputId": "5ce24c37-94f8-483c-f1d3-a98ce481a491"
      },
      "outputs": [
        {
          "name": "stdout",
          "output_type": "stream",
          "text": [
            "Hello, world!\n",
            "This is an async coroutine example.\n"
          ]
        },
        {
          "ename": "CancelledError",
          "evalue": "ignored",
          "output_type": "error",
          "traceback": [
            "\u001b[0;31m---------------------------------------------------------------------------\u001b[0m",
            "\u001b[0;31mCancelledError\u001b[0m                            Traceback (most recent call last)",
            "\u001b[0;32m<ipython-input-58-d9f824e142a0>\u001b[0m in \u001b[0;36maprinter\u001b[0;34m()\u001b[0m\n\u001b[1;32m      4\u001b[0m     \u001b[0;32mwhile\u001b[0m \u001b[0;32mTrue\u001b[0m\u001b[0;34m:\u001b[0m\u001b[0;34m\u001b[0m\u001b[0;34m\u001b[0m\u001b[0m\n\u001b[0;32m----> 5\u001b[0;31m         \u001b[0mmessage\u001b[0m \u001b[0;34m=\u001b[0m \u001b[0;32mawait\u001b[0m \u001b[0mqueue\u001b[0m\u001b[0;34m.\u001b[0m\u001b[0mget\u001b[0m\u001b[0;34m(\u001b[0m\u001b[0;34m)\u001b[0m\u001b[0;34m\u001b[0m\u001b[0;34m\u001b[0m\u001b[0m\n\u001b[0m\u001b[1;32m      6\u001b[0m         \u001b[0mprint\u001b[0m\u001b[0;34m(\u001b[0m\u001b[0mmessage\u001b[0m\u001b[0;34m)\u001b[0m\u001b[0;34m\u001b[0m\u001b[0;34m\u001b[0m\u001b[0m\n",
            "\u001b[0;32m/usr/lib/python3.10/asyncio/queues.py\u001b[0m in \u001b[0;36mget\u001b[0;34m(self)\u001b[0m\n\u001b[1;32m    158\u001b[0m             \u001b[0;32mtry\u001b[0m\u001b[0;34m:\u001b[0m\u001b[0;34m\u001b[0m\u001b[0;34m\u001b[0m\u001b[0m\n\u001b[0;32m--> 159\u001b[0;31m                 \u001b[0;32mawait\u001b[0m \u001b[0mgetter\u001b[0m\u001b[0;34m\u001b[0m\u001b[0;34m\u001b[0m\u001b[0m\n\u001b[0m\u001b[1;32m    160\u001b[0m             \u001b[0;32mexcept\u001b[0m\u001b[0;34m:\u001b[0m\u001b[0;34m\u001b[0m\u001b[0;34m\u001b[0m\u001b[0m\n",
            "\u001b[0;31mCancelledError\u001b[0m: ",
            "\nDuring handling of the above exception, another exception occurred:\n",
            "\u001b[0;31mCancelledError\u001b[0m                            Traceback (most recent call last)",
            "\u001b[0;32m<ipython-input-58-d9f824e142a0>\u001b[0m in \u001b[0;36m<cell line: 31>\u001b[0;34m()\u001b[0m\n\u001b[1;32m     29\u001b[0m \u001b[0;34m\u001b[0m\u001b[0m\n\u001b[1;32m     30\u001b[0m \u001b[0;31m# we will get CancelledError exception because we cancelled the task\u001b[0m\u001b[0;34m\u001b[0m\u001b[0;34m\u001b[0m\u001b[0m\n\u001b[0;32m---> 31\u001b[0;31m \u001b[0;32mawait\u001b[0m \u001b[0mmain\u001b[0m\u001b[0;34m(\u001b[0m\u001b[0;34m)\u001b[0m\u001b[0;34m\u001b[0m\u001b[0;34m\u001b[0m\u001b[0m\n\u001b[0m",
            "\u001b[0;32m<ipython-input-58-d9f824e142a0>\u001b[0m in \u001b[0;36mmain\u001b[0;34m()\u001b[0m\n\u001b[1;32m     21\u001b[0m     \u001b[0;32mawait\u001b[0m \u001b[0masyncio\u001b[0m\u001b[0;34m.\u001b[0m\u001b[0msleep\u001b[0m\u001b[0;34m(\u001b[0m\u001b[0;36m1\u001b[0m\u001b[0;34m)\u001b[0m\u001b[0;34m\u001b[0m\u001b[0;34m\u001b[0m\u001b[0m\n\u001b[1;32m     22\u001b[0m     \u001b[0mprinter_task\u001b[0m\u001b[0;34m.\u001b[0m\u001b[0mcancel\u001b[0m\u001b[0;34m(\u001b[0m\u001b[0;34m)\u001b[0m\u001b[0;34m\u001b[0m\u001b[0;34m\u001b[0m\u001b[0m\n\u001b[0;32m---> 23\u001b[0;31m     \u001b[0;32mawait\u001b[0m \u001b[0mprinter_task\u001b[0m\u001b[0;34m\u001b[0m\u001b[0;34m\u001b[0m\u001b[0m\n\u001b[0m\u001b[1;32m     24\u001b[0m \u001b[0;34m\u001b[0m\u001b[0m\n\u001b[1;32m     25\u001b[0m \u001b[0;31m# asyncio.run(main())\u001b[0m\u001b[0;34m\u001b[0m\u001b[0;34m\u001b[0m\u001b[0m\n",
            "\u001b[0;31mCancelledError\u001b[0m: "
          ]
        }
      ],
      "source": [
        "# example of a coroutine in Python using async and await syntax:\n",
        "\n",
        "async def aprinter():\n",
        "    while True:\n",
        "        message = await queue.get()\n",
        "        print(message)\n",
        "\n",
        "\n",
        "\n",
        "queue = asyncio.Queue()\n",
        "\n",
        "async def main():\n",
        "    # Start the printer coroutine\n",
        "    printer_task = asyncio.create_task(aprinter())\n",
        "\n",
        "    # Send some messages to the printer\n",
        "    await queue.put(\"Hello, world!\")\n",
        "    await queue.put(\"This is an async coroutine example.\")\n",
        "\n",
        "    # Wait for the printer to finish\n",
        "    await asyncio.sleep(1)\n",
        "    printer_task.cancel()\n",
        "    await printer_task\n",
        "\n",
        "# asyncio.run(main())\n",
        "# jupyter already is running event loop so we need to use this:\n",
        "# https://stackoverflow.com/questions/55409641/asyncio-run-cannot-be-called-from-a-running-event-loop-when-using-jupyter-no\n",
        "# main()\n",
        "\n",
        "# we will get CancelledError exception because we cancelled the task\n",
        "await main()\n"
      ]
    },
    {
      "cell_type": "markdown",
      "metadata": {
        "id": "Wh393Gv-21wK"
      },
      "source": [
        "## Key points about coroutines:\n",
        "\n",
        "* Coroutines are a type of computer program component that allow for cooperative multitasking, which is a programming pattern that enables multiple tasks to share a single thread of execution.\n",
        "* Coroutines are similar to functions, but they can be paused and resumed at specific points in their code, allowing other code to run in between. This makes them useful for implementing generators, event-driven programming, and other concurrency-related tasks.\n",
        "* Coroutines are often implemented using language-specific syntax or libraries. In Python, for example, coroutines can be created using the async and await keywords, as well as the asyncio library.\n",
        "* Coroutines can be used to implement various programming patterns, such as pipelines, filters, and actors. They can also be used to implement non-blocking I/O operations, such as reading from a network socket or writing to a file.\n",
        "* Coroutines can communicate with other code using message passing, which involves sending and receiving data between different parts of a program. This can be implemented using queues, channels, or other message passing mechanisms.\n",
        "* Coroutines can be difficult to reason about due to their non-linear control flow and the possibility of race conditions and other concurrency-related issues. As such, they require careful design and testing to ensure they work correctly and efficiently."
      ]
    },
    {
      "cell_type": "markdown",
      "metadata": {
        "id": "qpSrb_WDsK0k"
      },
      "source": [
        "## Summary\n",
        "\n",
        "### **Subprograms**:\n",
        "\n",
        "- **Definition**: A subprogram is a sequence of instructions whose execution is invoked from one or more remote locations.\n",
        "- **Characteristics**: Encapsulation, modularity, abstraction.\n",
        "- **Fundamentals**: Signature, static and dynamic lifetimes, activation record.\n",
        "\n",
        "### **Design Issues for Subprograms**:\n",
        "\n",
        "- **Purpose**: Separate computation vs. produce side effects.\n",
        "- **Parameters**: Number, types, and mechanism of parameter passing.\n",
        "- **Local Referencing Environments**: Stack-dynamic, static, and explicit heap-dynamic variables.\n",
        "\n",
        "### **Parameter Passing Methods**:\n",
        "\n",
        "- **Pass-by-Value**: Copies the actual parameter's value into the formal parameter.\n",
        "- **Pass-by-Result**: Copies the formal parameter's value back into the actual parameter at the end.\n",
        "- **Pass-by-Value-Result**: Combination of pass-by-value and pass-by-result.\n",
        "- **Pass-by-Reference**: Passes an access path.\n",
        "- **Pass-by-Name**: Passes a textual representation.\n",
        "\n",
        "### **Parameters that are Subprograms**:\n",
        "\n",
        "- **Higher-Order Functions**: Functions that accept other functions as parameters.\n",
        "- **Callbacks**: Functions passed as arguments to be invoked later.\n",
        "\n",
        "### **Overloaded Subprograms**:\n",
        "\n",
        "- **Definition**: Multiple subprograms with the same name but different parameters.\n",
        "- **Resolving Overloads**: Typically done by examining the number, types, and order of arguments.\n",
        "\n",
        "### **Generic Subprograms**:\n",
        "\n",
        "- **Definition**: Defined in a type-independent manner.\n",
        "- **Instantiation**: Creating a type-specific instance of a generic subprogram.\n",
        "\n",
        "### **Coroutines**:\n",
        "\n",
        "- **Definition**: Generalized subprograms allowing multiple entry points.\n",
        "- **Characteristics**: Can be paused and resumed, retains state between calls.\n",
        "- **Usage**: Generators, cooperative multitasking, asynchronous programming.\n",
        "\n",
        "### **Closures**:\n",
        "\n",
        "- **Definition**: Functions paired with a referencing environment.\n",
        "- **Characteristics**: Captures and retains the environment, allowing access to variables outside its own scope.\n",
        "- **Usage**: Data hiding, functional constructs, event handlers.\n",
        "\n",
        "### **Function vs. Procedure**:\n",
        "\n",
        "- **Function**: Designed to return a value.\n",
        "- **Procedure**: Designed for side effects; doesn't return a value."
      ]
    },
    {
      "cell_type": "code",
      "execution_count": null,
      "metadata": {
        "id": "r_YaKUSJ21wK"
      },
      "outputs": [],
      "source": []
    }
  ],
  "metadata": {
    "colab": {
      "provenance": []
    },
    "kernelspec": {
      "display_name": "Python 3",
      "language": "python",
      "name": "python3"
    },
    "language_info": {
      "codemirror_mode": {
        "name": "ipython",
        "version": 3
      },
      "file_extension": ".py",
      "mimetype": "text/x-python",
      "name": "python",
      "nbconvert_exporter": "python",
      "pygments_lexer": "ipython3",
      "version": "3.12.1"
    },
    "orig_nbformat": 4
  },
  "nbformat": 4,
  "nbformat_minor": 0
}
