{
  "cells": [
    {
      "cell_type": "markdown",
      "metadata": {
        "id": "1YyoznlG21v_"
      },
      "source": [
        " # Subprograms\n",
        "\n",
        " ## Discussed in Ch.9 in Sebesta - Concepts of programming languages\n",
        "\n",
        "\n",
        "Abstract by Valdis Saulespurens "
      ]
    },
    {
      "cell_type": "markdown",
      "metadata": {},
      "source": [
        "- **Introduction to Subprograms**:\n",
        "   - Definition and characteristics of subprograms.\n",
        "   - The difference between a procedure and a function.\n",
        "- **Fundamentals of Subprograms Design**:\n",
        "   - Procedural abstraction.\n",
        "   - Parameters and their transmission methods.\n",
        "- **Local Referencing Environments**:\n",
        "   - Stack-dynamic local variables.\n",
        "   - Stack vs. static vs. explicit heap-dynamic variables.\n",
        "   - Dynamic scoping.\n",
        "- **Parameter-Passing Methods**:\n",
        "   - The concept of parameter-passing semantics.\n",
        "   - Pass-by-value.\n",
        "   - Pass-by-result.\n",
        "   - Pass-by-value-result.\n",
        "   - Pass-by-reference.\n",
        "   - Pass-by-name.\n",
        "- **Overloaded Subprograms**:\n",
        "   - The concept of overloading and its use.\n",
        "   - Polymorphism and type coercion.\n",
        "- **Generic Subprograms**:\n",
        "   - The difference between overloaded and generic subprograms.\n",
        "   - The benefits of generic subprograms.\n",
        "   - Examples from languages that support generic programming (e.g., C++, Java, Ada).\n",
        "- **Design Issues for Functions**:\n",
        "   - Type checking of parameters.\n",
        "   - Are side effects allowed?\n",
        "   - Are functions allowed to return a value, and if so, what types?\n",
        "   - Nested subprograms.\n",
        "- **User-Defined Overloaded Operators**:\n",
        "   - Operator overloading in various languages.\n",
        "   - Benefits and pitfalls of operator overloading.\n",
        "- **Coroutines**:\n",
        "   - Differences between coroutines and subprograms.\n",
        "   - Applications and advantages of coroutines.\n",
        "   - Implementation concerns.\n",
        "- **Summary and Conclusion**."
      ]
    },
    {
      "cell_type": "markdown",
      "metadata": {},
      "source": [
        "## Definitions\n",
        "\n",
        "A subprogram is a sequence of instructions whose execution is invoked from one or more remote locations in a program, with the expectation that when the subprogram's execution completes, the next instruction to be executed will be the one after the point of the most recent invocation. In essence, subprograms allow for code modularity, reusability, and abstraction.\n",
        "\n",
        "Here are the main characteristics and features of subprograms:\n",
        "\n",
        "\n",
        "- **Single Entry Point**: A subprogram has a single point of entry, which is the first instruction of the subprogram. This is the location at which execution begins each time the subprogram is invoked.\n",
        "- **Parameters**: A subprogram can have a set of formal parameters through which information is passed between the subprogram and its caller. Parameters allow subprograms to act on data not defined within their local scope.\n",
        "- **Local Variables**: These are variables that are defined inside the subprogram and cannot be accessed outside it. Their lifetimes are limited to the duration of the subprogram's execution.\n",
        "- **The Value Return**: Functions (a type of subprogram) are designed to return a value to their caller. This is distinct from procedures, which perform actions but do not return values.\n",
        "- **Active Instances**: Subprograms can be invoked multiple times, either recursively or concurrently. Each activation or invocation is known as an instance. Each instance has its own set of the subprogram’s local variables.\n",
        "- **Control Flow**: When a subprogram is invoked, the control jumps from the calling program or another subprogram to the invoked subprogram. Once the invoked subprogram completes its execution, control returns to the point immediately after where it was called.\n",
        "- **Abstraction**: Subprograms allow for procedural abstraction. A complex task can be divided into smaller sub-tasks. Each sub-task can be implemented as a subprogram. The main program then becomes a sequence of subprogram calls, making the logic easier to follow.\n",
        "- **Reusability**: Once defined, subprograms can be reused in various parts of the main program or even in other programs, leading to reduced code redundancy.\n",
        "- **Maintainability**: With tasks compartmentalized into subprograms, changes needed in a specific task can often be made in just one subprogram, rather than multiple locations in the program.\n",
        "\n",
        "In summary, subprograms are crucial for structured programming. They provide a means to break down complex problems into manageable pieces and promote code reusability and maintainability."
      ]
    },
    {
      "cell_type": "markdown",
      "metadata": {},
      "source": [
        "## Fundamental Concepts\n",
        "\n",
        "The fundamentals of subprograms encompass the foundational principles and mechanisms that define their behavior, interface, and interaction within larger programs. Here's a rundown of these fundamental aspects:\n",
        "\n",
        "\n",
        "- **Procedural Abstraction**:\n",
        "   - The primary motivation behind subprograms is to encapsulate a task or a computation. This allows for the main program to abstract away the details and complexities of that task, focusing on higher-level logic.\n",
        "- **Parameters and Arguments**:\n",
        "   - **Formal Parameters**: These are the variables in the subprogram declaration that accept the values or references from the calling program.\n",
        "   - **Actual Parameters (Arguments)**: These are the values or references passed into a subprogram when it's invoked.\n",
        "   - Parameters enable subprograms to operate on data that's not defined locally within them and facilitate communication between the subprogram and its caller.\n",
        "- **Parameter Passing Mechanisms**:\n",
        "   - How parameters are passed can affect the subprogram's behavior. Common methods include pass-by-value, pass-by-reference, pass-by-value-result, and pass-by-name.\n",
        "- **Local Referencing Environments**:\n",
        "   - Variables inside a subprogram have a local scope, which means they're typically not accessible outside the subprogram. The lifetime and visibility of these variables can vary based on whether they're static, stack-dynamic, or heap-dynamic.\n",
        "- **Value Returning**:\n",
        "   - Functions are a type of subprogram that returns a value. The mechanism for returning this value and its type are key aspects of function design.\n",
        "- **Recursive Subprograms**:\n",
        "   - A subprogram can invoke itself, either directly or indirectly. Properly designed recursive subprograms can solve problems in elegant ways, but they also need to ensure they have a termination condition to prevent infinite recursion.\n",
        "- **Overloading**:\n",
        "   - Some programming languages allow multiple subprograms with the same name but different parameter lists. This is called overloading. It allows operations to be defined in a consistent way for different types of data.\n",
        "- **Generic or Polymorphic Subprograms**:\n",
        "   - Generics allow for the definition of subprograms in a type-neutral way. When invoked, the appropriate type is substituted. This provides a high level of reusability.\n",
        "- **Exception Handling**:\n",
        "   - Many modern programming languages allow subprograms to handle exceptions or errors that occur during their execution. This allows for cleaner error handling and recovery mechanisms.\n",
        "- **Concurrency Issues**:\n",
        "   - With the rise of multi-threaded and parallel programming, understanding how subprograms interact in a concurrent environment (e.g., handling shared resources) is crucial.\n",
        "- **Aliasing**:\n",
        "   - When two or more pointers or references in a program can access the same memory location, aliasing occurs. This can introduce subtle bugs, especially when these references are parameters to subprograms.\n",
        "- **Side Effects**:\n",
        "   - If a subprogram modifies a global variable or behaves in a way that has an impact outside of its own local environment, it's said to have side effects. While sometimes necessary, side effects can introduce complexities and should be used judiciously.\n",
        "\n",
        "These fundamentals underlie the design and usage of subprograms across various programming languages. They dictate how subprograms are declared, invoked, and how they execute and interact with their calling environments."
      ]
    },
    {
      "cell_type": "markdown",
      "metadata": {
        "id": "psc5MXJR21wD"
      },
      "source": [
        "## Design issues for subprograms\n",
        "\n",
        "Some of the most important design issues for subprograms:\n",
        "\n",
        "* Interface Design: The interface design of a subprogram refers to the specification of its input and output parameters, as well as any preconditions and postconditions that must be satisfied for the subprogram to execute correctly. The interface design should be carefully planned to ensure that the subprogram is easy to use and understand, and that it provides the desired functionality to the calling program.\n",
        "\n",
        "* Cohesion: Cohesion refers to the degree to which the code in a subprogram is related to a single, well-defined task. Subprograms with high cohesion are easier to read and maintain than those with low cohesion, and they are more likely to be reusable in other parts of the program or in other programs.\n",
        "\n",
        "* Coupling: Coupling refers to the degree to which one subprogram is dependent on another subprogram. Subprograms with high coupling can be difficult to modify or maintain because changes to one subprogram can have unexpected effects on other subprograms that depend on it. Minimizing coupling between subprograms is an important design goal.\n",
        "\n",
        "* Control Abstraction: Control abstraction refers to the way in which the subprogram controls the flow of the program. Good control abstraction can simplify the calling program, making it easier to read and understand. It can also help to prevent errors by isolating control logic within the subprogram.\n",
        "\n",
        "* Data Abstraction: Data abstraction refers to the way in which the subprogram handles data. Good data abstraction can help to prevent errors by isolating data management within the subprogram. It can also improve the modularity of the program by allowing different subprograms to use the same data structures.\n",
        "\n",
        "* Error Handling: Error handling refers to the way in which the subprogram detects and responds to errors. Well-designed error handling can make the program more robust and reliable by detecting and handling errors in a consistent and predictable way."
      ]
    },
    {
      "cell_type": "markdown",
      "metadata": {
        "id": "R9-1i4Ib21wE"
      },
      "source": [
        "## Issues related to local variables in subprograms:\n",
        "\n",
        "* Scope: Local variables are only visible within the subprogram in which they are defined. They are not accessible from other parts of the program, including other subprograms. The scope of a local variable begins when the subprogram is called and ends when the subprogram returns.\n",
        "\n",
        "* Lifetime: Local variables are created when the subprogram is called and destroyed when the subprogram returns. This means that the value of a local variable is not retained between calls to the subprogram.\n",
        "\n",
        "* Initialization: Local variables are not automatically initialized to a specific value, and their initial value can be unpredictable. It is the responsibility of the programmer to initialize local variables before using them in the subprogram.\n",
        "\n",
        "* Naming Conflicts: Local variables can have the same name as variables in other parts of the program, including other subprograms. This can lead to naming conflicts and unexpected behavior if the wrong variable is accessed.\n",
        "\n",
        "* Recursion: In recursive subprograms, local variables are created and destroyed for each recursive call. This means that the subprogram must be carefully designed to ensure that the values of the local variables are correctly managed across recursive calls.\n",
        "\n",
        "* Passing Local Variables: Local variables cannot be passed as input or output parameters to other subprograms. If a local variable needs to be used in another subprogram, it must be copied to a global variable or passed as a parameter."
      ]
    },
    {
      "cell_type": "code",
      "execution_count": 3,
      "metadata": {
        "colab": {
          "base_uri": "https://localhost:8080/"
        },
        "id": "UlNfkfZD3HAe",
        "outputId": "c5c4e662-4aea-48b3-c2de-3468465ffa74"
      },
      "outputs": [
        {
          "name": "stdout",
          "output_type": "stream",
          "text": [
            "5\n",
            "10\n",
            "100\n",
            "5\n",
            "10\n",
            "42\n",
            "5\n"
          ]
        }
      ],
      "source": [
        "a = 5 # global scope\n",
        "def some_fun(b):\n",
        "    a = 10 # locally scoped variable\n",
        "    print(a)\n",
        "    a = b\n",
        "    print(a)\n",
        "    # return None\n",
        "\n",
        "print(a)\n",
        "some_fun(100)\n",
        "print(a)\n",
        "some_fun(42)\n",
        "print(a)"
      ]
    },
    {
      "cell_type": "markdown",
      "metadata": {
        "id": "bA--ZyTF21wF"
      },
      "source": [
        "## Common parameter passing methods\n",
        "\n",
        "* Pass by Value: In pass by value parameter passing, a copy of the parameter's value is passed to the subprogram. Any changes made to the parameter within the subprogram do not affect the original variable in the calling program. Pass by value is simple and easy to use, but it can be inefficient for large data structures or objects.\n",
        "\n",
        "* Pass by Reference: In pass by reference parameter passing, a reference to the original variable is passed to the subprogram. Any changes made to the parameter within the subprogram affect the original variable in the calling program. Pass by reference is efficient and can be used for large data structures or objects, but it can be more complex to use and can lead to unintended side effects.\n",
        "\n",
        "* Pass by Pointer: Pass by pointer is similar to pass by reference, but a pointer to the variable is passed instead of a reference. This can be useful in languages that do not support references or for implementing certain algorithms.\n",
        "\n",
        "* Pass by Name: In pass by name parameter passing, the actual parameter is substituted directly for the formal parameter in the subprogram. This can lead to unexpected behavior if the actual parameter contains a subexpression that modifies the parameter.\n",
        "\n",
        "* Pass by Value-Result: In pass by value-result parameter passing, a copy of the parameter's value is passed to the subprogram, and the value is copied back to the original variable in the calling program when the subprogram returns. This can be useful for implementing certain algorithms, but it can lead to unexpected side effects if the parameter is not carefully managed.\n",
        "\n",
        "* Pass by Reference-Result: In pass by reference-result parameter passing, a reference to the original variable is passed to the subprogram, and the value is copied back to the original variable in the calling program when the subprogram returns. This can be useful for implementing certain algorithms, but it can be more complex to use and can lead to unintended side effects."
      ]
    },
    {
      "cell_type": "code",
      "execution_count": 25,
      "metadata": {
        "colab": {
          "base_uri": "https://localhost:8080/"
        },
        "id": "CfejGpG_4Qjr",
        "outputId": "85f3a198-998e-43d7-f0b0-a2a0754d215b"
      },
      "outputs": [
        {
          "name": "stdout",
          "output_type": "stream",
          "text": [
            "Id of some_num 9796224\n",
            "Id of some_num 9796384\n",
            "Id of some_list 139746104514240\n",
            "Id of some_list 139746104514240\n",
            "Id of some_list 139746104514240\n",
            "Id of some_list 139746105097344\n",
            "Originals 99 ['RBS', 'Valdis', 'beer', 'snow', 'rain']\n",
            "Results (104, ['RBS', 'Valdis', 'beer', 'snow', 'rain', 'locusts', 'brimstone'])\n"
          ]
        }
      ],
      "source": [
        "# Python uses slightly different method of passing\n",
        "\n",
        "# https://stackoverflow.com/questions/534375/passing-values-in-python\n",
        "\n",
        "# the most precise term would be call by object reference\n",
        "# it leads to situations where passing in primitive values acts like call-by-value\n",
        "# while passing in compound data types acts like call-by-reference\n",
        "\n",
        "my_list = [\"RBS\", \"Valdis\", \"beer\"]\n",
        "my_number = 99\n",
        "\n",
        "def do_something(some_num, some_list):\n",
        "    print(\"Id of some_num\", id(some_num))\n",
        "    some_num += 5\n",
        "    print(\"Id of some_num\", id(some_num))\n",
        "    print(\"Id of some_list\", id(some_list))\n",
        "    some_list.append(\"snow\")\n",
        "    print(\"Id of some_list\", id(some_list))\n",
        "    some_list += [\"rain\"] # acts like append here, does not change the object reference\n",
        "    print(\"Id of some_list\", id(some_list))\n",
        "    # if we had returned some_list here we would have the original list\n",
        "    some_list = some_list + [\"locusts\",\"brimstone\"] # this creates a new list with new reference!!\n",
        "    print(\"Id of some_list\", id(some_list))\n",
        "    return some_num, some_list\n",
        "\n",
        "result_tuple = do_something(my_number, my_list)\n",
        "\n",
        "print(\"Originals\", my_number, my_list)\n",
        "print(\"Results\", result_tuple)"
      ]
    },
    {
      "cell_type": "code",
      "execution_count": 15,
      "metadata": {
        "colab": {
          "base_uri": "https://localhost:8080/"
        },
        "id": "W4-aMEWG5R_h",
        "outputId": "0c4c08fe-aca0-4293-b839-8609b8de4d23"
      },
      "outputs": [
        {
          "data": {
            "text/plain": [
              "(139746105065536, 139746105065536)"
            ]
          },
          "execution_count": 15,
          "metadata": {},
          "output_type": "execute_result"
        }
      ],
      "source": [
        "id(my_list), id(result_tuple[1]) # same memory address"
      ]
    },
    {
      "cell_type": "code",
      "execution_count": 16,
      "metadata": {
        "colab": {
          "base_uri": "https://localhost:8080/"
        },
        "id": "YhfFO0vU5_hR",
        "outputId": "f561a0b3-aefb-4aa7-b03c-5f636f245f86"
      },
      "outputs": [
        {
          "data": {
            "text/plain": [
              "(9796224, 9796384)"
            ]
          },
          "execution_count": 16,
          "metadata": {},
          "output_type": "execute_result"
        }
      ],
      "source": [
        "id(my_number), id(result_tuple[0]) # of course different address"
      ]
    },
    {
      "cell_type": "code",
      "execution_count": 10,
      "metadata": {
        "colab": {
          "base_uri": "https://localhost:8080/"
        },
        "id": "4UQ7_c4-6Snw",
        "outputId": "f531a5f9-02e0-4325-867d-af79adf995d0"
      },
      "outputs": [
        {
          "data": {
            "text/plain": [
              "9796224"
            ]
          },
          "execution_count": 10,
          "metadata": {},
          "output_type": "execute_result"
        }
      ],
      "source": [
        "id(99) # turns out in Python, the values from -5 to 255 are allocated "
      ]
    },
    {
      "cell_type": "code",
      "execution_count": 12,
      "metadata": {
        "colab": {
          "base_uri": "https://localhost:8080/"
        },
        "id": "ZzDzL_bJ6ePw",
        "outputId": "47bad0cc-1124-4f79-c65d-11ea439cfe98"
      },
      "outputs": [
        {
          "data": {
            "text/plain": [
              "(9801184, 9801216, 9801248, 139746105659600)"
            ]
          },
          "execution_count": 12,
          "metadata": {},
          "output_type": "execute_result"
        }
      ],
      "source": [
        "id(254), id(255), id(256), id(257)"
      ]
    },
    {
      "cell_type": "code",
      "execution_count": 13,
      "metadata": {
        "colab": {
          "base_uri": "https://localhost:8080/"
        },
        "id": "mcTRnX3-6s8Q",
        "outputId": "28491659-e811-4ec5-84df-33c968004315"
      },
      "outputs": [
        {
          "data": {
            "text/plain": [
              "(139746104932272, 9792896, 9792928)"
            ]
          },
          "execution_count": 13,
          "metadata": {},
          "output_type": "execute_result"
        }
      ],
      "source": [
        "id(-6), id(-5),id(-4) # so from -5 to 256 is pre-allocated"
      ]
    },
    {
      "cell_type": "code",
      "execution_count": 18,
      "metadata": {
        "id": "oCqPOnkX7lDl"
      },
      "outputs": [],
      "source": [
        "# Type Hints for dynamically typed languages can pick up on some erros\n",
        "# but still not as many as statically typed languages\n",
        "\n",
        "# so type hints in Python have no authority\n",
        "# they are like UN letters to some country..\n",
        "def add(a: int, b: int) -> int:\n",
        "    return a+b"
      ]
    },
    {
      "cell_type": "code",
      "execution_count": 19,
      "metadata": {
        "colab": {
          "base_uri": "https://localhost:8080/"
        },
        "id": "yZBKOV1a8C7n",
        "outputId": "d5eb6c83-05f5-4e7e-a21d-28d9057d348c"
      },
      "outputs": [
        {
          "data": {
            "text/plain": [
              "12"
            ]
          },
          "execution_count": 19,
          "metadata": {},
          "output_type": "execute_result"
        }
      ],
      "source": [
        "add(5,7)"
      ]
    },
    {
      "cell_type": "code",
      "execution_count": 20,
      "metadata": {
        "colab": {
          "base_uri": "https://localhost:8080/"
        },
        "id": "JxS3WzRj8ErN",
        "outputId": "8f23e948-a5c8-42f9-cc19-75fa402b434a"
      },
      "outputs": [
        {
          "data": {
            "text/plain": [
              "['Valdis', 'RBS', 'beer', 'snow']"
            ]
          },
          "execution_count": 20,
          "metadata": {},
          "output_type": "execute_result"
        }
      ],
      "source": [
        "add([\"Valdis\", \"RBS\"], [\"beer\", \"snow\"]) # it works even though types are \"wrong\" !\n",
        "# in a statically typed language it would not be possible"
      ]
    },
    {
      "cell_type": "markdown",
      "metadata": {
        "id": "gaF1zmpu21wF"
      },
      "source": [
        "##  Uing parameters in subprograms - issues:\n",
        "\n",
        "* Parameter Type: The type of the parameter should be carefully chosen to ensure that it can represent the desired data accurately and efficiently. Different types of parameters are appropriate for different types of data, and choosing the right type can improve program efficiency and accuracy.\n",
        "\n",
        "* Parameter Passing Method: The method used to pass parameters to a subprogram should be selected based on the requirements of the program and the type of data being passed. The parameter passing method can have a significant impact on program efficiency and correctness.\n",
        "\n",
        "* Parameter Name: The parameter name should be carefully chosen to accurately reflect its meaning in the subprogram. A well-chosen parameter name can make the subprogram easier to read and understand, and can help to avoid errors caused by confusion or misunderstanding.\n",
        "\n",
        "Parameter Ordering: The order in which parameters are passed to a subprogram can affect program efficiency and correctness. In some cases, parameters may need to be passed in a specific order to ensure correct operation.\n",
        "\n",
        "* Parameter Default Values: Default parameter values can be used to simplify the interface of a subprogram and make it more flexible. However, care should be taken to ensure that default values are appropriate and do not introduce unexpected behavior.\n",
        "\n",
        "* Parameter Validation: Subprograms should validate their parameters to ensure that they meet the expected format and range. Failure to validate parameters can result in unexpected behavior and program errors.\n",
        "\n",
        "* Parameter Usage: Parameters should be used consistently and appropriately within a subprogram. Parameters should be used only for their intended purpose, and care should be taken to avoid unintended side effects."
      ]
    },
    {
      "cell_type": "markdown",
      "metadata": {
        "id": "igxBD5rR21wG"
      },
      "source": [
        "## Subprograms  as parameters for other subprograms - Higher Order Functions\n",
        "\n",
        "Higher-order programming allows subprograms to be treated as first-class objects, which means that they can be passed as arguments to other subprograms, returned as values, and stored in variables.\n",
        "\n",
        "\n",
        "Using subprograms as parameters allows programmers to write more flexible and reusable code, as well as more abstract and general-purpose algorithms. For example, a sorting function could take a subprogram as a parameter to specify the comparison function used to compare elements during sorting. Similarly, a map or reduce function could take a subprogram as a parameter to specify the transformation or aggregation function to apply to the elements of a collection.\n",
        "\n",
        "\n",
        "Higher-order programming is supported in many programming languages, including functional programming languages like Haskell and Scheme, as well as object-oriented programming languages like Java and Python. However, not all programming languages support higher-order programming, and some languages may have restrictions on how subprograms can be used as parameters."
      ]
    },
    {
      "cell_type": "code",
      "execution_count": 29,
      "metadata": {
        "colab": {
          "base_uri": "https://localhost:8080/"
        },
        "id": "iOnE-_7pAnyK",
        "outputId": "a8143ef2-000a-4cce-b524-29b127c96abd"
      },
      "outputs": [
        {
          "data": {
            "text/plain": [
              "[(0, 'V'),\n",
              " (1, 'a'),\n",
              " (2, 'l'),\n",
              " (3, 'd'),\n",
              " (4, 'i'),\n",
              " (5, 's'),\n",
              " (6, ' '),\n",
              " (7, 'R'),\n",
              " (8, 'B'),\n",
              " (9, 'S')]"
            ]
          },
          "execution_count": 29,
          "metadata": {},
          "output_type": "execute_result"
        }
      ],
      "source": [
        "# where would you want to pass a function as a parameter to another function\n",
        "tuple_list = [(i,c) for i,c in enumerate(\"Valdis RBS\")]\n",
        "tuple_list"
      ]
    },
    {
      "cell_type": "code",
      "execution_count": 30,
      "metadata": {
        "colab": {
          "base_uri": "https://localhost:8080/"
        },
        "id": "kFAEcILtBLno",
        "outputId": "1d5d1eba-24e0-44da-8578-dee5c8d5b861"
      },
      "outputs": [
        {
          "data": {
            "text/plain": [
              "[(0, 'V'),\n",
              " (1, 'a'),\n",
              " (2, 'l'),\n",
              " (3, 'd'),\n",
              " (4, 'i'),\n",
              " (5, 's'),\n",
              " (6, ' '),\n",
              " (7, 'R'),\n",
              " (8, 'B'),\n",
              " (9, 'S')]"
            ]
          },
          "execution_count": 30,
          "metadata": {},
          "output_type": "execute_result"
        }
      ],
      "source": [
        "sorted(tuple_list)"
      ]
    },
    {
      "cell_type": "code",
      "execution_count": 31,
      "metadata": {
        "colab": {
          "base_uri": "https://localhost:8080/"
        },
        "id": "F8rumPfvBN6Z",
        "outputId": "8ada0868-e69b-4892-8484-5a6fa81500f6"
      },
      "outputs": [
        {
          "data": {
            "text/plain": [
              "[(6, ' '),\n",
              " (8, 'B'),\n",
              " (7, 'R'),\n",
              " (9, 'S'),\n",
              " (0, 'V'),\n",
              " (1, 'a'),\n",
              " (3, 'd'),\n",
              " (4, 'i'),\n",
              " (2, 'l'),\n",
              " (5, 's')]"
            ]
          },
          "execution_count": 31,
          "metadata": {},
          "output_type": "execute_result"
        }
      ],
      "source": [
        "sorted(tuple_list, key= lambda t: t[1]) # so I passed an anonymous as a parameter\n",
        "# note in ASCII / Unicode capitals are before lowercase character"
      ]
    },
    {
      "cell_type": "code",
      "execution_count": 33,
      "metadata": {
        "colab": {
          "base_uri": "https://localhost:8080/"
        },
        "id": "8-UVnEKbBi9K",
        "outputId": "11267cb4-3731-46ed-e713-44330a98be82"
      },
      "outputs": [
        {
          "data": {
            "text/plain": [
              "['',\n",
              " 'a',\n",
              " 'll',\n",
              " 'ddd',\n",
              " 'iiii',\n",
              " 'sssss',\n",
              " '      ',\n",
              " 'RRRRRRR',\n",
              " 'BBBBBBBB',\n",
              " 'SSSSSSSSS']"
            ]
          },
          "execution_count": 33,
          "metadata": {},
          "output_type": "execute_result"
        }
      ],
      "source": [
        "# another popular use for passing functions would be for map, filter type of applications\n",
        "\n",
        "new_list = list(map(lambda t: t[0]*t[1], tuple_list))\n",
        "new_list"
      ]
    },
    {
      "cell_type": "code",
      "execution_count": 34,
      "metadata": {
        "id": "SpKWuP87CDbh"
      },
      "outputs": [],
      "source": [
        "# I did not need to use an anonymous function (using lambda notation)\n",
        "# i could have used a premade function\n",
        "\n",
        "def my_mapper(my_tuple):\n",
        "    h, t = my_tuple \n",
        "    return f\"{h} and {t}\"\n"
      ]
    },
    {
      "cell_type": "code",
      "execution_count": 36,
      "metadata": {
        "colab": {
          "base_uri": "https://localhost:8080/"
        },
        "id": "iAAlqgEkCitS",
        "outputId": "8a8fac90-6d12-45c1-908a-98c77183f079"
      },
      "outputs": [
        {
          "data": {
            "text/plain": [
              "['0 and V',\n",
              " '1 and a',\n",
              " '2 and l',\n",
              " '3 and d',\n",
              " '4 and i',\n",
              " '5 and s',\n",
              " '6 and  ',\n",
              " '7 and R',\n",
              " '8 and B',\n",
              " '9 and S']"
            ]
          },
          "execution_count": 36,
          "metadata": {},
          "output_type": "execute_result"
        }
      ],
      "source": [
        "another_list = list(map(my_mapper, tuple_list)) # so I passed a reference to my_mapper\n",
        "another_list"
      ]
    },
    {
      "cell_type": "code",
      "execution_count": 37,
      "metadata": {
        "colab": {
          "base_uri": "https://localhost:8080/"
        },
        "id": "MNQPTiQrC4pB",
        "outputId": "78ead416-e698-488c-f3e0-a8413ef89620"
      },
      "outputs": [
        {
          "data": {
            "text/plain": [
              "[(0, 'V'), (3, 'd'), (6, ' '), (9, 'S')]"
            ]
          },
          "execution_count": 37,
          "metadata": {},
          "output_type": "execute_result"
        }
      ],
      "source": [
        "# filter is another popular one\n",
        "\n",
        "# so I pass a function (anonymous here) which returns a boolean\n",
        "filtered_list = list(filter(lambda t: t[0] % 3 == 0, tuple_list)) \n",
        "filtered_list\n",
        "\n",
        "# again I could have made a function which takes a tuple and returns a boolean"
      ]
    },
    {
      "cell_type": "code",
      "execution_count": 38,
      "metadata": {
        "id": "Ej8YN555Dd4Q"
      },
      "outputs": [],
      "source": [
        "import random\n",
        "def coin_flip(t):\n",
        "    # will ignore t and just return boolean on random\n",
        "    return random.randint(1,2) > 1"
      ]
    },
    {
      "cell_type": "code",
      "execution_count": 44,
      "metadata": {
        "colab": {
          "base_uri": "https://localhost:8080/"
        },
        "id": "gOpuUA6ZDuwe",
        "outputId": "5e6431e7-0eb8-4ead-f5e1-6bb5e5c8c57b"
      },
      "outputs": [
        {
          "data": {
            "text/plain": [
              "[(2, 'l'), (4, 'i'), (7, 'R'), (9, 'S')]"
            ]
          },
          "execution_count": 44,
          "metadata": {},
          "output_type": "execute_result"
        }
      ],
      "source": [
        "randomly_filtered = list(filter(coin_flip, tuple_list))\n",
        "randomly_filtered"
      ]
    },
    {
      "cell_type": "markdown",
      "metadata": {
        "id": "DO7JLR5D21wG"
      },
      "source": [
        "## Situations where subprograms must be called indirectly\n",
        "\n",
        "* Callbacks: A callback is a subprogram that is called by another subprogram when a specific event occurs. Callbacks are used in event-driven programming to handle user interactions or system events, and are often used to handle asynchronous events in a non-blocking manner. In these cases, the subprogram must be called indirectly, using a callback mechanism provided by the programming language or framework.\n",
        "\n",
        "* Dynamic Dispatch: Dynamic dispatch is a mechanism used in object-oriented programming to call a subprogram based on the runtime type of an object. This is often used in polymorphic programming, where different subprograms may be called depending on the actual type of an object. Dynamic dispatch requires an indirect call mechanism, such as a virtual function table or function pointers.\n",
        "\n",
        "* Plugins and Extensions: Plugins and extensions are subprograms that are loaded and called at runtime by an application or system. In these cases, the subprograms must be called indirectly, using a plugin or extension mechanism provided by the application or system.\n",
        "\n",
        "* Interprocess Communication: In some cases, subprograms must be called across process or network boundaries, such as in client-server architectures or distributed systems. In these cases, the subprograms must be called indirectly, using a message passing or remote procedure call mechanism.\n",
        "\n",
        "More on RPC: https://en.wikipedia.org/wiki/Remote_procedure_call"
      ]
    },
    {
      "cell_type": "markdown",
      "metadata": {
        "id": "w1oyI42321wG"
      },
      "source": [
        "## Design issues for functions\n",
        "\n",
        "* Function Naming: Function names should be meaningful and descriptive, and should accurately reflect the purpose of the function. A well-chosen function name can make the function easier to understand and use, and can help to avoid errors caused by confusion or misunderstanding.\n",
        "\n",
        "* Function Signature: The signature of a function specifies the name, parameters, and return type of the function. The signature should be carefully chosen to accurately reflect the expected inputs and outputs of the function. The return type should be appropriate for the data being returned, and the parameters should be ordered in a logical and consistent manner.\n",
        "\n",
        "* Function Documentation: Functions should be well-documented to help other programmers understand how to use them. Documentation should include a description of the function, its parameters, its return value, and any assumptions or limitations that apply.\n",
        "\n",
        "* Function Purity: A pure function is a function that always produces the same output given the same input, and has no side effects. Pure functions are easier to reason about and test, and can help to avoid subtle errors and bugs.\n",
        "\n",
        "* Function Error Handling: Functions should be designed to handle errors gracefully and provide meaningful error messages to the calling program. Error handling can help to improve program reliability and user experience.\n",
        "\n",
        "* Function Recursion: Recursion is a powerful programming technique that can be used to solve complex problems. However, recursive functions can be difficult to understand and debug, and can lead to stack overflow errors if not implemented correctly. Care should be taken when using recursion in functions, and alternative approaches should be considered if recursion is not necessary or appropriate.\n",
        "\n",
        "* Function Efficiency: Functions should be designed to be as efficient as possible, while still maintaining clarity and readability. This may involve careful selection of data types and algorithms, as well as optimization techniques such as memoization or tail recursion."
      ]
    },
    {
      "cell_type": "markdown",
      "metadata": {
        "id": "5dnJ8vrm21wH"
      },
      "source": [
        "## Overloaded subprograms\n",
        "\n",
        "Overloaded subprograms are subprograms with the same name, but different parameter lists. In other words, there are multiple subprograms with the same name, but each subprogram has a different set of parameters. Overloaded subprograms are a way of providing multiple functions with the same name, but different behaviors based on the types and number of their arguments.\n",
        "\n",
        "Overloaded subprograms are used in many programming languages to provide a more natural and intuitive interface to users of the language. For example, in a mathematical library, the \"+\" operator could be overloaded to work with integers, floating-point numbers, and complex numbers, all with different implementations that make sense for each data type.\n",
        "\n",
        "In languages that support object-oriented programming, method overloading is a common feature, which allows methods to be overloaded based on their parameters as well as the type of the object on which they are called.\n",
        "\n",
        "Overloaded subprograms can improve code readability and ease of use, by allowing programmers to use the same name for related functions and methods, and reducing the need for long and complicated function names. However, overloading can also make code more complex and difficult to understand, particularly if the overloaded subprograms have different behaviors and semantics. It's important to use overloading judiciously, and to document the behavior and parameters of each overloaded subprogram clearly to avoid confusion or errors."
      ]
    },
    {
      "cell_type": "code",
      "execution_count": 46,
      "metadata": {
        "colab": {
          "base_uri": "https://localhost:8080/"
        },
        "id": "dQ7wqBxSFMkP",
        "outputId": "ab59ed4b-bffc-4e43-9267-a3384caf7c8d"
      },
      "outputs": [
        {
          "name": "stdout",
          "output_type": "stream",
          "text": [
            "I have  0 beers to drink\n",
            "I have  1 beers to drink\n",
            "Drinking Heineken\n",
            "I have  2 beers to drink\n",
            "Drinking Uzhavas\n",
            "Drinking Labietis\n"
          ]
        }
      ],
      "source": [
        "# Python provides a way to provide a number of positional arguments\n",
        "def drink_beers(*beer_list): # classically this would be argv - argument vector\n",
        "    print(\"I have \", len(beer_list), \"beers to drink\")\n",
        "    for beer in beer_list:\n",
        "        print(f\"Drinking {beer}\")\n",
        "\n",
        "\n",
        "drink_beers()\n",
        "drink_beers(\"Heineken\")\n",
        "drink_beers(\"Uzhavas\", \"Labietis\")"
      ]
    },
    {
      "cell_type": "code",
      "execution_count": 49,
      "metadata": {
        "colab": {
          "base_uri": "https://localhost:8080/"
        },
        "id": "S0oYuX5EF3NH",
        "outputId": "bc94101e-ddea-45ec-8de2-b80924fd7270"
      },
      "outputs": [
        {
          "name": "stdout",
          "output_type": "stream",
          "text": [
            "You have grades in  0 courses\n",
            "You have grades in  1 courses\n",
            "You got 9.5 in linear_algebra\n",
            "You have grades in  3 courses\n",
            "You got 8 in linear_algebra\n",
            "You got 9 in programming_languages\n",
            "You got 10 in project_management\n"
          ]
        }
      ],
      "source": [
        "# we can also use keyword arguments\n",
        "def course_grades(**course_dict):\n",
        "    print(\"You have grades in \", len(course_dict), \"courses\")\n",
        "    for course, grade in course_dict.items():\n",
        "        print(f\"You got {grade} in {course}\")\n",
        "\n",
        "course_grades()\n",
        "course_grades(linear_algebra = 9.5)\n",
        "course_grades(linear_algebra = 8, programming_languages = 9, project_management = 10)\n",
        "\n",
        "# so we will have an ability to provide unlimited keyword based arguments to our function\n",
        "# in effect we have overloaded our function definition because we can take multiple signatures\n"
      ]
    },
    {
      "cell_type": "markdown",
      "metadata": {
        "id": "ZdK_HUOi21wH"
      },
      "source": [
        "## Generic subprograms\n",
        "\n",
        "Generic subprograms are subprograms that can operate on different data types or structures. In other words, they are subprograms that are designed to work with a variety of different input types, without needing to be re-implemented for each individual type.\n",
        "\n",
        "The idea of generic programming is to create reusable code that can work with multiple data types or structures, without having to write separate code for each individual type. This can lead to more efficient and less error-prone code, as well as more concise and readable code.\n",
        "\n",
        "In many programming languages, generic subprograms are implemented using templates, which allow a single piece of code to be used with different data types or structures. For example, in C++, a template function can be defined to work with any data type that supports the required operations.\n",
        "\n",
        "```\n",
        "// function template\n",
        "#include <iostream>\n",
        "using namespace std;\n",
        "\n",
        "template <class T>\n",
        "T GetMax (T a, T b) {\n",
        "  T result;\n",
        "  result = (a>b)? a : b;\n",
        "  return (result);\n",
        "}\n",
        "\n",
        "int main () {\n",
        "  int i=5, j=6, k;\n",
        "  long l=10, m=5, n;\n",
        "  k=GetMax<int>(i,j);\n",
        "  n=GetMax<long>(l,m);\n",
        "  cout << k << endl;\n",
        "  cout << n << endl;\n",
        "  return 0;\n",
        "}\n",
        "```\n",
        "Example from: https://cplusplus.com/doc/oldtutorial/templates/\n",
        "\n",
        "In Ada, a similar feature is called \"generic units,\" which allows the creation of generic subprograms, types, and packages that can be used with different data types and structures.\n",
        "\n",
        "Other languages, such as Java and C#, have their own mechanisms for implementing generic programming, such as using parameterized classes and interfaces.\n",
        "\n",
        "Generic subprograms can be particularly useful for algorithms that operate on data structures, such as sorting or searching algorithms, or for functions that perform mathematical operations, such as addition or multiplication. By making these subprograms generic, they can be used with a variety of different data types and structures, without needing to be re-implemented for each type."
      ]
    },
    {
      "cell_type": "markdown",
      "metadata": {
        "id": "iCS-LwSO21wH"
      },
      "source": [
        "## Closures\n",
        "\n",
        "A closure is a programming construct that allows a function to capture and store the state of its surrounding environment, including any variables or functions that are defined outside of the function itself.\n",
        "\n",
        "In other words, a closure is a function that has access to variables and functions that are outside of its own scope, even after those variables and functions have gone out of scope. This allows a closure to maintain state between function calls, and to maintain a reference to any variables or functions that it needs to access.\n",
        "\n",
        "Closures are commonly used in functional programming, and are also supported in many other programming languages, including JavaScript, Python, Ruby, and others.\n",
        "\n",
        "In JavaScript, for example, closures are often used to create private variables and methods in object-oriented programming. By defining a function within the scope of a constructor function, the inner function can access the constructor's private variables and methods, while still being accessible from outside the constructor function.\n",
        "\n",
        "Closures can be a powerful tool for creating reusable and maintainable code, but they can also lead to unexpected behavior if not used carefully. For example, if a closure holds a reference to an object that is no longer needed, it can prevent that object from being garbage collected, leading to memory leaks. It's important to understand the behavior of closures in the language you are using, and to use them judiciously to avoid unintended consequences."
      ]
    },
    {
      "cell_type": "code",
      "execution_count": 55,
      "metadata": {
        "colab": {
          "base_uri": "https://localhost:8080/"
        },
        "id": "47fkfnKo21wI",
        "outputId": "f63d8499-6a25-40f6-8e95-0d22ae06a642"
      },
      "outputs": [
        {
          "name": "stdout",
          "output_type": "stream",
          "text": [
            "1 1\n",
            "2 1\n",
            "1 1\n",
            "3 1\n"
          ]
        }
      ],
      "source": [
        "def counter():\n",
        "    count = 0 # local to counter function\n",
        "    def increment(): # so function defined inside counter function\n",
        "        nonlocal count # notice nonlocal\n",
        "        # https://docs.python.org/3/reference/simple_stmts.html#the-nonlocal-statement\n",
        "        count += 1\n",
        "        local_count = 0\n",
        "        local_count += 1 # pretty useless\n",
        "        print(count, local_count)\n",
        "    return increment # we return the inner function - so outer function variables should go away right?\n",
        "\n",
        "counter1 = counter()\n",
        "counter1()  # prints 1\n",
        "counter1()  # prints 2\n",
        "\n",
        "counter2 = counter()\n",
        "counter2()  # prints 1\n",
        "counter1()  # prints 3\n",
        "\n",
        "# so each time we call counter() we return a new increment function which has an independent count"
      ]
    },
    {
      "cell_type": "code",
      "execution_count": 54,
      "metadata": {
        "colab": {
          "base_uri": "https://localhost:8080/"
        },
        "id": "Zi5rnm2fIVf6",
        "outputId": "991bfe84-26c1-45fb-981f-84c446999b00"
      },
      "outputs": [
        {
          "name": "stdout",
          "output_type": "stream",
          "text": [
            "5\n"
          ]
        }
      ],
      "source": [
        "counter2() # so count lives inside the inner function even though the outer function has long gone away"
      ]
    },
    {
      "cell_type": "markdown",
      "metadata": {
        "id": "s7Fw5bxy21wJ"
      },
      "source": [
        "## Coroutines\n",
        "\n",
        "Coroutines are a programming construct that allows for cooperative multitasking, where the execution of a program is divided into independent, concurrently executing routines or \"coroutines\". Unlike traditional multitasking, where multiple threads or processes run concurrently, coroutines are cooperatively scheduled, meaning that they voluntarily pause and yield control to other coroutines, allowing them to execute.\n",
        "\n",
        "In other words, coroutines allow for non-preemptive multitasking, where control is passed explicitly between coroutines rather than being scheduled by the operating system. This can make it easier to write concurrent and asynchronous code, since the programmer has more control over when and how coroutines are scheduled.\n",
        "\n",
        "Coroutines are supported in many programming languages, including Python, Lua, and Go, among others. In Python, for example, coroutines are implemented using the async and await keywords, which allow functions to be defined as asynchronous coroutines that can be paused and resumed as needed.\n",
        "\n",
        "Coroutines can be used in a variety of applications, including network programming, game development, and web servers, among others. They can be used to handle multiple simultaneous connections, to perform background tasks without blocking the main thread, and to implement event-driven programming.\n",
        "\n",
        "One of the advantages of coroutines is that they can reduce the need for complex synchronization mechanisms, such as locks and semaphores, since coroutines are designed to cooperate rather than compete for resources. However, coroutines can also be more difficult to reason about than traditional threads or processes, since the order of execution is determined by the programmer rather than the operating system. As with any concurrent programming paradigm, it's important to understand the limitations and pitfalls of coroutines, and to use them judiciously to avoid unintended consequences."
      ]
    },
    {
      "cell_type": "code",
      "execution_count": 56,
      "metadata": {
        "colab": {
          "base_uri": "https://localhost:8080/"
        },
        "id": "oIl8wIjF21wJ",
        "outputId": "568291c6-a188-43b6-a43f-0f085e7223c9"
      },
      "outputs": [
        {
          "name": "stdout",
          "output_type": "stream",
          "text": [
            "Hello, world!\n",
            "This is a coroutine example.\n"
          ]
        }
      ],
      "source": [
        "def printer():\n",
        "    while True:\n",
        "        message = yield\n",
        "        print(message)\n",
        "\n",
        "p = printer()\n",
        "next(p) # activate the coroutine\n",
        "\n",
        "p.send(\"Hello, world!\")\n",
        "p.send(\"This is a coroutine example.\")\n"
      ]
    },
    {
      "cell_type": "markdown",
      "metadata": {
        "id": "A_5w2aYR21wJ"
      },
      "source": [
        "In this example, the printer() function is defined as a generator function, and it is used as a coroutine. The while loop inside the printer() function runs indefinitely, waiting for the yield keyword. The yield keyword acts as a pause for the generator function and allows it to receive input from the caller using the send() method.\n",
        "\n",
        "When p = printer() is called, it creates a coroutine object and assigns it to the variable p. To activate the coroutine, we must call next(p) to initialize the generator and advance to the first yield statement.\n",
        "\n",
        "Then, we can send messages to the coroutine using the p.send() method. The send() method resumes the execution of the generator function and passes the input value to the yield statement, which sets the message variable. The print() statement then prints the message.\n",
        "\n",
        "In this example, the coroutine printer() receives and prints two messages, \"Hello, world!\" and \"This is a coroutine example.\" The coroutine remains active and can receive additional messages using the send() method."
      ]
    },
    {
      "cell_type": "code",
      "execution_count": null,
      "metadata": {
        "id": "y1AvhJt821wK"
      },
      "outputs": [],
      "source": [
        "import asyncio"
      ]
    },
    {
      "cell_type": "code",
      "execution_count": null,
      "metadata": {
        "id": "OQwhvwtO21wK"
      },
      "outputs": [],
      "source": [
        "# example of a coroutine in Python using async and await syntax:\n",
        "\n",
        "async def printer():\n",
        "    while True:\n",
        "        message = await queue.get()\n",
        "        print(message)\n",
        "\n",
        "\n",
        "\n",
        "queue = asyncio.Queue()\n",
        "\n",
        "async def main():\n",
        "    # Start the printer coroutine\n",
        "    printer_task = asyncio.create_task(printer())\n",
        "\n",
        "    # Send some messages to the printer\n",
        "    await queue.put(\"Hello, world!\")\n",
        "    await queue.put(\"This is an async coroutine example.\")\n",
        "\n",
        "    # Wait for the printer to finish\n",
        "    await asyncio.sleep(1)\n",
        "    printer_task.cancel()\n",
        "    await printer_task\n",
        "\n",
        "# asyncio.run(main())\n",
        "# jupyter already is running event loop so we need to use this:\n",
        "# https://stackoverflow.com/questions/55409641/asyncio-run-cannot-be-called-from-a-running-event-loop-when-using-jupyter-no\n",
        "await main()\n",
        "\n",
        "# we will get CancelledError exception because we cancelled the task\n",
        "\n"
      ]
    },
    {
      "cell_type": "markdown",
      "metadata": {
        "id": "Wh393Gv-21wK"
      },
      "source": [
        "## Key points about coroutines:\n",
        "\n",
        "* Coroutines are a type of computer program component that allow for cooperative multitasking, which is a programming pattern that enables multiple tasks to share a single thread of execution.\n",
        "* Coroutines are similar to functions, but they can be paused and resumed at specific points in their code, allowing other code to run in between. This makes them useful for implementing generators, event-driven programming, and other concurrency-related tasks.\n",
        "* Coroutines are often implemented using language-specific syntax or libraries. In Python, for example, coroutines can be created using the async and await keywords, as well as the asyncio library.\n",
        "* Coroutines can be used to implement various programming patterns, such as pipelines, filters, and actors. They can also be used to implement non-blocking I/O operations, such as reading from a network socket or writing to a file.\n",
        "* Coroutines can communicate with other code using message passing, which involves sending and receiving data between different parts of a program. This can be implemented using queues, channels, or other message passing mechanisms.\n",
        "* Coroutines can be difficult to reason about due to their non-linear control flow and the possibility of race conditions and other concurrency-related issues. As such, they require careful design and testing to ensure they work correctly and efficiently."
      ]
    },
    {
      "cell_type": "markdown",
      "metadata": {},
      "source": [
        "## Summary\n",
        "\n",
        "### **Subprograms**:\n",
        "\n",
        "- **Definition**: A subprogram is a sequence of instructions whose execution is invoked from one or more remote locations.\n",
        "- **Characteristics**: Encapsulation, modularity, abstraction.\n",
        "- **Fundamentals**: Signature, static and dynamic lifetimes, activation record.\n",
        "\n",
        "### **Design Issues for Subprograms**:\n",
        "\n",
        "- **Purpose**: Separate computation vs. produce side effects.\n",
        "- **Parameters**: Number, types, and mechanism of parameter passing.\n",
        "- **Local Referencing Environments**: Stack-dynamic, static, and explicit heap-dynamic variables.\n",
        "\n",
        "### **Parameter Passing Methods**:\n",
        "\n",
        "- **Pass-by-Value**: Copies the actual parameter's value into the formal parameter.\n",
        "- **Pass-by-Result**: Copies the formal parameter's value back into the actual parameter at the end.\n",
        "- **Pass-by-Value-Result**: Combination of pass-by-value and pass-by-result.\n",
        "- **Pass-by-Reference**: Passes an access path.\n",
        "- **Pass-by-Name**: Passes a textual representation.\n",
        "\n",
        "### **Parameters that are Subprograms**:\n",
        "\n",
        "- **Higher-Order Functions**: Functions that accept other functions as parameters.\n",
        "- **Callbacks**: Functions passed as arguments to be invoked later.\n",
        "\n",
        "### **Overloaded Subprograms**:\n",
        "\n",
        "- **Definition**: Multiple subprograms with the same name but different parameters.\n",
        "- **Resolving Overloads**: Typically done by examining the number, types, and order of arguments.\n",
        "\n",
        "### **Generic Subprograms**:\n",
        "\n",
        "- **Definition**: Defined in a type-independent manner.\n",
        "- **Instantiation**: Creating a type-specific instance of a generic subprogram.\n",
        "\n",
        "### **Coroutines**:\n",
        "\n",
        "- **Definition**: Generalized subprograms allowing multiple entry points.\n",
        "- **Characteristics**: Can be paused and resumed, retains state between calls.\n",
        "- **Usage**: Generators, cooperative multitasking, asynchronous programming.\n",
        "\n",
        "### **Closures**:\n",
        "\n",
        "- **Definition**: Functions paired with a referencing environment.\n",
        "- **Characteristics**: Captures and retains the environment, allowing access to variables outside its own scope.\n",
        "- **Usage**: Data hiding, functional constructs, event handlers.\n",
        "\n",
        "### **Function vs. Procedure**:\n",
        "\n",
        "- **Function**: Designed to return a value.\n",
        "- **Procedure**: Designed for side effects; doesn't return a value."
      ]
    },
    {
      "cell_type": "code",
      "execution_count": null,
      "metadata": {
        "id": "r_YaKUSJ21wK"
      },
      "outputs": [],
      "source": []
    }
  ],
  "metadata": {
    "colab": {
      "provenance": []
    },
    "kernelspec": {
      "display_name": "venv",
      "language": "python",
      "name": "python3"
    },
    "language_info": {
      "codemirror_mode": {
        "name": "ipython",
        "version": 3
      },
      "file_extension": ".py",
      "mimetype": "text/x-python",
      "name": "python",
      "nbconvert_exporter": "python",
      "pygments_lexer": "ipython3",
      "version": "3.10.7"
    },
    "orig_nbformat": 4,
    "vscode": {
      "interpreter": {
        "hash": "c95be6b97b13fd09835dd06599dc98b58ea5edc871fa6206171628a6478fd79c"
      }
    }
  },
  "nbformat": 4,
  "nbformat_minor": 0
}
