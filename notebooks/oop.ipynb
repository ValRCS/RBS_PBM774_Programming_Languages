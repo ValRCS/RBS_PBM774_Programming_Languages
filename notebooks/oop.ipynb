{
 "cells": [
  {
   "attachments": {},
   "cell_type": "markdown",
   "metadata": {},
   "source": [
    "# Support for Object- Oriented Programming\n",
    "\n",
    "Main source: Sebesta Chapter 12\n",
    "\n",
    "Images: Wikimedia Commons  \n",
    "By: Valdis Saulespurens at Riga Technical University - RTU\n"
   ]
  },
  {
   "attachments": {},
   "cell_type": "markdown",
   "metadata": {},
   "source": [
    "![Car](https://upload.wikimedia.org/wikipedia/commons/thumb/6/62/CPT-OOP-objects_and_classes.svg/640px-CPT-OOP-objects_and_classes.svg.png)"
   ]
  },
  {
   "attachments": {},
   "cell_type": "markdown",
   "metadata": {},
   "source": [
    "## Key concepts - history\n",
    "\n",
    "* Object-oriented programming is a programming paradigm that is based on the concept of \"objects\", which can contain data and code to manipulate that data.\n",
    "* The concept of object-oriented programming had its roots in SIMULA 67, a programming language developed in the 1960s that introduced the idea of classes and objects.\n",
    "* Smalltalk, developed in the 1970s and 80s, is considered by many to be the base model for a purely object-oriented programming language.\n",
    "* Smalltalk 80, released in 1980, is a popular implementation of the Smalltalk language and is often cited as a landmark in the history of object-oriented programming.\n",
    "\n",
    "### Key requirements for object-oriented programming\n",
    "\n",
    "A language that is object-oriented must provide support for three key language features:\n",
    "1. Abstract data types: A way to define a new data type that encapsulates data and functions that operate on that data.\n",
    "2. Inheritance: A way to define a new class that is based on an existing class, inheriting its properties and methods.\n",
    "3. Dynamic binding of method calls to methods: A way for the code to decide which implementation of a method to use based on the type of the object at runtime."
   ]
  },
  {
   "attachments": {},
   "cell_type": "markdown",
   "metadata": {},
   "source": [
    "![History](https://upload.wikimedia.org/wikipedia/commons/d/db/Historie.png)"
   ]
  },
  {
   "attachments": {},
   "cell_type": "markdown",
   "metadata": {},
   "source": [
    "## Need for Object-Oriented Programming\n",
    "\n",
    "* Software developers face productivity pressure and seek to increase software reuse.\n",
    "* Abstract data types are candidates for reuse but often require modifications.\n",
    "* Such modifications are challenging and time-consuming.\n",
    "* Inheritance addresses modification and organization problems.\n",
    "* Inheritance allows new types to modify and add to existing ones.\n",
    "* Inheritance facilitates software reuse without modifying existing types.\n",
    "* Programmers can design modified types without understanding or changing original code."
   ]
  },
  {
   "attachments": {},
   "cell_type": "markdown",
   "metadata": {},
   "source": [
    "## ADT - Abstract Data Types\n",
    "\n",
    "* Object-oriented languages use classes as abstract data types.\n",
    "* Instances of classes are called objects.\n",
    "* Classes can be derived from other classes, creating subclass or child classes.\n",
    "* The original class is the superclass or parent class.\n",
    "* Methods are the subprograms that define operations on objects.\n",
    "* Calls to methods are messages.\n",
    "* The collection of methods of a class is called the message protocol or interface.\n",
    "* Computation is specified by messages sent between objects or, in some cases, to classes.\n",
    "* Methods and subprograms are similar in that they perform computations and take parameters and return results.\n",
    "* Passing a message is different from calling a subprogram because the message requests the execution of a method on an object.\n",
    "* Methods operate on data that is part of the object itself.\n",
    "* Subprograms can operate on any data sent to them."
   ]
  },
  {
   "cell_type": "code",
   "execution_count": 2,
   "metadata": {},
   "outputs": [],
   "source": [
    "## Example of ADT\n",
    "\n",
    "class Stack:\n",
    "    def __init__(self):\n",
    "        self.items = [] # key idea of ADT we hide the implementation\n",
    "        # instead of list/array we could have used a linked list or a tree\n",
    "    def isEmpty(self):\n",
    "        return self.items == []\n",
    "    def push(self, item):\n",
    "        self.items.append(item)\n",
    "    def pop(self):\n",
    "        return self.items.pop()\n",
    "    def peek(self):\n",
    "        return self.items[len(self.items)-1]\n",
    "    def size(self):\n",
    "        return len(self.items)"
   ]
  },
  {
   "cell_type": "code",
   "execution_count": 3,
   "metadata": {},
   "outputs": [
    {
     "name": "stdout",
     "output_type": "stream",
     "text": [
      "3\n",
      "9000\n",
      "3\n",
      "9000\n",
      "2\n"
     ]
    }
   ],
   "source": [
    "my_stack = Stack()\n",
    "my_stack.push(1)\n",
    "my_stack.push(2)\n",
    "my_stack.push(9000)\n",
    "print(my_stack.size())\n",
    "print(my_stack.peek())\n",
    "print(my_stack.size())\n",
    "print(my_stack.pop())\n",
    "print(my_stack.size())\n"
   ]
  },
  {
   "attachments": {},
   "cell_type": "markdown",
   "metadata": {},
   "source": [
    "## Classes - methods and variables\n",
    "\n",
    "* Instance methods and variables are the most commonly used.\n",
    "* Every object of a class has its own set of instance variables, which store the object's state.\n",
    "* Two objects of the same class differ only in the state of their instance variables.\n",
    "* Instance methods operate only on objects of the class.\n",
    "* Class variables belong to the class, not its objects.\n",
    "* There is only one copy of class variables for the class.\n",
    "* Class variables can be used to count the number of instances of a class.\n",
    "* Class methods can perform operations on the class and possibly on its objects.\n",
    "* Class methods can be called by prefixing their names with the class name or a variable that references one of their instances.\n",
    "* If a class defines a class method, it can be called even if there are no instances of the class.\n",
    "* A class method could be used to create an instance of the class."
   ]
  },
  {
   "cell_type": "code",
   "execution_count": 1,
   "metadata": {},
   "outputs": [],
   "source": [
    "# Example of class with class and instance variables\n",
    "\n",
    "# define the class House\n",
    "class House:\n",
    "    @classmethod\n",
    "    def from_square_feet(cls, color, square_feet):\n",
    "        return cls(color, square_feet / 10)\n",
    "    \n",
    "    @classmethod\n",
    "    def calculate_square_feet(cls, size):\n",
    "        size_in_square_feet = size * 10\n",
    "        print(f\"The size in square feet is: {size_in_square_feet}\")\n",
    "        return size_in_square_feet\n",
    "    \n",
    "    # class variables\n",
    "    # all instances of the class will share these variables\n",
    "    # they are defined outside of the constructor\n",
    "    # they are shared by all instances of the class\n",
    "    # they are not unique to each instance\n",
    "    # they are defined at the class level\n",
    "\n",
    "    # class variable\n",
    "    number_of_houses = 0\n",
    "    \n",
    "    # constructor\n",
    "    def __init__(self, color, size):\n",
    "        # instance variables\n",
    "        self.color = color\n",
    "        self.size = size    \n",
    "\n",
    "    # instance method\n",
    "    def paint(self, color):\n",
    "        self.color = color\n",
    "        print(f\"The house is now painted {self.color}\")"
   ]
  },
  {
   "cell_type": "code",
   "execution_count": 2,
   "metadata": {},
   "outputs": [
    {
     "name": "stdout",
     "output_type": "stream",
     "text": [
      "The size in square feet is: 1000\n"
     ]
    },
    {
     "data": {
      "text/plain": [
       "1000"
      ]
     },
     "execution_count": 2,
     "metadata": {},
     "output_type": "execute_result"
    }
   ],
   "source": [
    "# call class method\n",
    "# I can call class method BEFORE I create an instance\n",
    "# I can call class method without creating an instance\n",
    "\n",
    "House.calculate_square_feet(100)"
   ]
  },
  {
   "cell_type": "code",
   "execution_count": 3,
   "metadata": {},
   "outputs": [
    {
     "name": "stdout",
     "output_type": "stream",
     "text": [
      "<__main__.House object at 0x00000292FBF86DD0>\n",
      "The house is now painted red\n",
      "<__main__.House object at 0x00000292FBF86DD0>\n",
      "<__main__.House object at 0x00000292FBF87430>\n",
      "The house is now painted yellow\n",
      "<__main__.House object at 0x00000292FBF87430>\n"
     ]
    }
   ],
   "source": [
    "# create instances of the class\n",
    "my_house = House(\"blue\", 100)\n",
    "print(my_house)\n",
    "my_house.paint(\"red\")\n",
    "print(my_house)\n",
    "# create another instance of the class\n",
    "your_house = House(\"green\", 200)\n",
    "print(your_house)\n",
    "your_house.paint(\"yellow\")\n",
    "print(your_house)\n"
   ]
  },
  {
   "cell_type": "code",
   "execution_count": 4,
   "metadata": {},
   "outputs": [
    {
     "name": "stdout",
     "output_type": "stream",
     "text": [
      "2\n",
      "2\n",
      "2\n"
     ]
    }
   ],
   "source": [
    "# change class variable\n",
    "House.number_of_houses = 2\n",
    "print(House.number_of_houses)\n",
    "print(my_house.number_of_houses)\n",
    "print(your_house.number_of_houses)"
   ]
  },
  {
   "attachments": {},
   "cell_type": "markdown",
   "metadata": {},
   "source": [
    "## Inheritance\n",
    "\n",
    "* The derivation process of creating a new class from a parent class is called inheritance.\n",
    "* Single inheritance is when a new class is a subclass of a single parent class.\n",
    "* Multiple inheritance is when a class has more than one parent class.\n",
    "* The relationships between classes related through single inheritance can be shown in a derivation tree.\n",
    "* A derivation tree shows the hierarchy of parent-child relationships between classes.\n",
    "* The relationships between classes related through multiple inheritance can be shown in a derivation graph.\n",
    "* A derivation graph shows the relationships between classes that have multiple parent classes.\n",
    "* Multiple inheritance can be more complex than single inheritance because it can introduce conflicts between inherited methods and properties from different parent classes."
   ]
  },
  {
   "cell_type": "code",
   "execution_count": 4,
   "metadata": {},
   "outputs": [],
   "source": [
    "# example of inheritance\n",
    "\n",
    "class Animal:\n",
    "    def __init__(self, name, age):\n",
    "        self.name = name\n",
    "        self.age = age\n",
    "    def speak(self):\n",
    "        print(\"I don't know what I say\")\n",
    "    def __str__(self):\n",
    "        return f\"{self.name} is {self.age} years old\"\n",
    "\n",
    "class Dog(Animal):\n",
    "    def __init__(self, name, age, breed):\n",
    "        super().__init__(name, age)\n",
    "        self.breed = breed\n",
    "    def speak(self):\n",
    "        print(\"Woof\")\n",
    "    def __str__(self):\n",
    "        return f\"{self.name} is {self.age} years old and is a {self.breed}\"\n",
    "    \n",
    "class Cat(Animal):\n",
    "    def __init__(self, name, age, breed):\n",
    "        super().__init__(name, age)\n",
    "        self.breed = breed\n",
    "    def speak(self):\n",
    "        print(\"Meow\")\n",
    "    def __str__(self):\n",
    "        return f\"{self.name} is {self.age} years old and is a {self.breed}\"\n",
    "    \n"
   ]
  },
  {
   "cell_type": "code",
   "execution_count": 6,
   "metadata": {},
   "outputs": [
    {
     "name": "stdout",
     "output_type": "stream",
     "text": [
      "Unknown is 0 years old\n",
      "I don't know what I say\n",
      "Rex is 5 years old and is a German Shepherd\n",
      "Woof\n",
      "Darcy is 2 years old and is a Domestic\n",
      "Meow\n"
     ]
    }
   ],
   "source": [
    "# lets make some cats and dogs\n",
    "\n",
    "unknown_animal = Animal(\"Unknown\", 0)\n",
    "print(unknown_animal)\n",
    "unknown_animal.speak()\n",
    "\n",
    "my_dog = Dog(\"Rex\", 5, \"German Shepherd\")\n",
    "print(my_dog)\n",
    "my_dog.speak()\n",
    "my_kitty = Cat(\"Darcy\", 2, \"Domestic\") \n",
    "print(my_kitty)\n",
    "my_kitty.speak()"
   ]
  },
  {
   "attachments": {},
   "cell_type": "markdown",
   "metadata": {},
   "source": [
    "### Issues with inheritance\n",
    "\n",
    "* Inheritance as a means of increasing the possibility of reuse can create dependencies among the classes in an inheritance hierarchy.\n",
    "* This works against the advantage of abstract data types, which is their independence from each other.\n",
    "* The independence of abstract data types is generally one of their strongest positive characteristics.\n",
    "* However, it may be difficult or impossible to increase the reusability of abstract data types without creating dependencies among some of them.\n",
    "* Dependencies may naturally mirror dependencies in the underlying problem space.\n",
    "* It is important to carefully design and manage dependencies in an inheritance hierarchy to avoid creating complex and tightly coupled systems."
   ]
  },
  {
   "attachments": {},
   "cell_type": "markdown",
   "metadata": {},
   "source": [
    "## Composition over inheritance\n",
    "\n",
    "* Inheritance is a powerful tool for creating new classes from existing ones.\n",
    "* However, inheritance can create dependencies among classes that are difficult to manage.\n",
    "* Inheritance can also create complex and tightly coupled systems.\n",
    "* Inheritance is not always the best way to create new classes.\n",
    "* Composition is a technique for creating new classes by combining existing classes.\n",
    "\n",
    "Composition is a technique used in object-oriented programming for creating classes by combining multiple smaller classes or objects to form a larger, more complex class. The basic idea behind composition is to create a new class that \"contains\" or \"has\" other classes or objects as its instance variables or attributes, rather than using inheritance to create a new class that \"is a\" subtype of an existing class.\n",
    "\n",
    "For example, let's say we want to create a class Car that has a Engine and a Transmission as its components. Instead of creating a Car class that inherits from an Engine class and a Transmission class, we can create separate Engine and Transmission classes and then \"compose\" them into a Car class using instance variables:\n"
   ]
  },
  {
   "cell_type": "code",
   "execution_count": 1,
   "metadata": {},
   "outputs": [],
   "source": [
    "# Example of composition\n",
    "class Engine:\n",
    "    def __init__(self, horsepower):\n",
    "        self.horsepower = horsepower\n",
    "\n",
    "class Transmission:\n",
    "    def __init__(self, gears):\n",
    "        self.gears = gears\n",
    "\n",
    "class Car:\n",
    "    def __init__(self, engine, transmission):\n",
    "        self.engine = engine\n",
    "        self.transmission = transmission\n"
   ]
  },
  {
   "cell_type": "code",
   "execution_count": 3,
   "metadata": {},
   "outputs": [
    {
     "name": "stdout",
     "output_type": "stream",
     "text": [
      "300\n",
      "1000\n"
     ]
    }
   ],
   "source": [
    "# lets make some cars using composition\n",
    "engine = Engine(300)\n",
    "transmission = Transmission(6)\n",
    "my_car = Car(engine, transmission)\n",
    "print(my_car.engine.horsepower) # notice the composition\n",
    "\n",
    "tesla = Car(Engine(1000), Transmission(1))\n",
    "print(tesla.engine.horsepower) # again notice the composition"
   ]
  },
  {
   "attachments": {},
   "cell_type": "markdown",
   "metadata": {},
   "source": [
    "In above example, we define a Car class that has two instance variables, engine and transmission, which are instances of the Engine and Transmission classes, respectively. By doing this, we can create a Car object that \"has an\" engine and a transmission, without the need for inheritance.\n",
    "\n",
    "Composition offers several benefits over inheritance, including greater flexibility, improved code reuse, and better encapsulation. It allows us to create complex objects by combining smaller, more modular objects, which makes our code easier to maintain and extend over time."
   ]
  },
  {
   "cell_type": "markdown",
   "metadata": {},
   "source": [
    "### When inheritance and composition go wild\n",
    "\n",
    "![inheritance](https://upload.wikimedia.org/wikipedia/commons/3/39/UML_diagram_of_composition_over_inheritance.png)"
   ]
  },
  {
   "attachments": {},
   "cell_type": "markdown",
   "metadata": {},
   "source": [
    "## PolyMorphism\n",
    "\n",
    "Polymorphism is the ability to use the same interface to represent different types of objects. For example, a method that takes a parameter of type `Shape` can be called with an object of type `Circle` or `Rectangle` as the argument. The method can then use the type of the object to determine which implementation of the method to use.\n",
    "\n",
    "* Polymorphism refers to the ability to use the same interface to represent different types of objects.\n",
    "* Dynamic binding of messages to method definitions is a form of polymorphism.\n",
    "* In dynamic binding, the code decides which implementation of a method to use based on the type of the object at runtime.\n",
    "* This allows different objects to respond to the same message in different ways.\n",
    "* Dynamic binding is sometimes called dynamic dispatch."
   ]
  },
  {
   "attachments": {},
   "cell_type": "markdown",
   "metadata": {},
   "source": [
    "## Implementation in C++ \n",
    "\n",
    "* In C++, classes are defined as extensions of C's record structures, called structs.\n",
    "* Class instance records (CIRs) provide a storage structure for the instance variables of class instances.\n",
    "* The structure of a CIR is static, meaning it is built at compile time and used as a template for creating the data of class instances.\n",
    "* Every class has its own CIR.\n",
    "* When a subclass is derived, the CIR for the subclass is a copy of the parent class's CIR, with entries for new instance variables added at the end.\n",
    "* Access to all instance variables in a CIR can be done using constant offsets from the beginning of the CIR instance.\n",
    "* This makes accessing instance variables as efficient as accessing the fields of records."
   ]
  },
  {
   "attachments": {},
   "cell_type": "markdown",
   "metadata": {},
   "source": [
    "## Vtable - Virtual Table\n",
    "\n",
    "* Methods that are statically bound do not need to be involved in the CIR for a class.\n",
    "* However, methods that will be dynamically bound must have entries in the CIR.\n",
    "* Entries for dynamically bound methods could have a pointer to the code of the method, which is set at object creation time.\n",
    "* Calls to a method can be connected to the corresponding code through this pointer in the CIR.\n",
    "* Every instance would need to store pointers to all dynamically bound methods that could be called from the instance if this technique were used.\n",
    "* The list of dynamically bound methods that can be called from an instance of a class is the same for all instances of that class.\n",
    "* Therefore, the list of such methods must be stored only once.\n",
    "* The CIR for an instance only needs a single pointer to the list of methods to enable it to find called methods.\n",
    "* The storage structure for the list of methods is often called a virtual method table (vtable)."
   ]
  },
  {
   "attachments": {},
   "cell_type": "markdown",
   "metadata": {},
   "source": [
    "## Reflection\n",
    "\n",
    "* Reflection allows programs to have run-time access to their types and structure and dynamically modify their behavior.\n",
    "* Metadata is information about the types and structure of a program.\n",
    "* The process of a program examining its metadata is called introspection.\n",
    "* A program can modify its behavior dynamically by changing its metadata directly, using the metadata, or interceding in the execution of the program.\n",
    "* Reflection is primarily used in the construction of software tools, such as class browsers and Visual Integrated Development Environments (IDEs).\n",
    "* Debuggers use reflection to examine private fields and methods of classes.\n",
    "* Test systems use reflection to discover all of the methods of a class to ensure that test data drives all of them."
   ]
  },
  {
   "attachments": {},
   "cell_type": "markdown",
   "metadata": {},
   "source": [
    "### Example of reflection\n",
    "\n",
    "* The Java reflection API allows a program to examine the metadata of a Java program at run time.\n",
    "* Python uses reflection to implement the `dir` function, which lists the names of all of the attributes of an object.\n",
    "* The `dir` function can be used to list the names of all of the methods of an object.\n",
    "* C# uses reflection to implement the `GetType` method, which returns the type of an object."
   ]
  },
  {
   "cell_type": "markdown",
   "metadata": {},
   "source": []
  },
  {
   "cell_type": "code",
   "execution_count": 5,
   "metadata": {},
   "outputs": [
    {
     "name": "stdout",
     "output_type": "stream",
     "text": [
      "[40, 30, 20, 10]\n",
      "tseb eht si SBR\n"
     ]
    }
   ],
   "source": [
    "# Python program to illustrate reflection \n",
    "# source: https://www.geeksforgeeks.org/reflection-in-python/\n",
    "\n",
    "def reverse(sequence): \n",
    "    sequence_type = type(sequence) # this is where reflection happens\n",
    "    empty_sequence = sequence_type() \n",
    "      \n",
    "    if sequence == empty_sequence: \n",
    "        return empty_sequence \n",
    "      \n",
    "    rest = reverse(sequence[1:]) \n",
    "    first_sequence = sequence[0:1] \n",
    "      \n",
    "    # Combine the result \n",
    "    final_result = rest + first_sequence\n",
    "      \n",
    "    return final_result \n",
    "  \n",
    "# Driver code \n",
    "print(reverse([10, 20, 30, 40])) \n",
    "print(reverse(\"RBS is the best\")) "
   ]
  },
  {
   "attachments": {},
   "cell_type": "markdown",
   "metadata": {},
   "source": [
    "## Reflection in Python\n",
    "\n",
    "* In Python, reflection is used to examine and modify the types and structure of a program at runtime. Python provides several built-in functions and modules that enable developers to perform introspection on objects, classes, and modules.\n",
    "\n",
    "* For example, the built-in function type() can be used to determine the type of an object or class. The inspect module provides functions for retrieving information about functions, classes, and modules, including their names, arguments, and documentation.\n",
    "\n",
    "* Python also supports dynamic attribute access and modification through the use of the getattr() and setattr() functions. These functions allow developers to get and set attributes of an object or class by name at runtime.\n",
    "\n",
    "* Reflection is commonly used in Python for debugging, testing, and dynamic configuration. For example, the unittest module uses reflection to automatically discover and run tests in a Python project. The logging module uses reflection to dynamically configure logging behavior based on user-defined settings."
   ]
  },
  {
   "cell_type": "code",
   "execution_count": 9,
   "metadata": {},
   "outputs": [
    {
     "name": "stdout",
     "output_type": "stream",
     "text": [
      "Oh hi Mark\n"
     ]
    }
   ],
   "source": [
    "# Python program to illustrate reflection\n",
    "\n",
    "import importlib\n",
    "\n",
    "# Load the module dynamically\n",
    "module_name = 'my_module'\n",
    "my_module = importlib.import_module(module_name)\n",
    "\n",
    "# Get a reference to the function dynamically\n",
    "function_name = 'add'\n",
    "my_function = getattr(my_module, function_name)\n",
    "\n",
    "# Call the function dynamically with arguments\n",
    "arg1 = 'Oh hi '\n",
    "arg2 = 'Mark' #  https://www.youtube.com/watch?v=zLhoDB-ORLQ\n",
    "result = my_function(arg1, arg2) \n",
    "# incidentally our add function is polymorphic due to duck typing and + operator overloading\n",
    "\n",
    "# Print the result\n",
    "print(result)"
   ]
  },
  {
   "attachments": {},
   "cell_type": "markdown",
   "metadata": {},
   "source": [
    "## Key points\n",
    "\n",
    "* Object-oriented programming is a programming paradigm that uses objects and their interactions to design and implement applications.\n",
    "* Objects are instances of classes, which are the basic unit of object-oriented programming.\n",
    "* Classes are defined by their data and the operations that can be performed on that data.\n",
    "* Classes can be derived from other classes, creating subclasses.\n",
    "* The relationships between classes related through single inheritance can be shown in a derivation tree.\n",
    "* The relationships between classes related through multiple inheritance can be shown in a derivation graph.\n",
    "* Polymorphism is the ability to use the same interface to represent different types of objects.\n",
    "\n",
    "## References\n",
    "\n",
    "* Sebesta, R. W. (2019). Concepts of programming languages (12th ed.). Pearson.\n",
    "* https://en.wikipedia.org/wiki/Object-oriented_programming\n",
    "* https://wiki.c2.com/?ObjectOrientedProgramming\n",
    "\n"
   ]
  },
  {
   "cell_type": "code",
   "execution_count": null,
   "metadata": {},
   "outputs": [],
   "source": []
  }
 ],
 "metadata": {
  "kernelspec": {
   "display_name": "venv",
   "language": "python",
   "name": "python3"
  },
  "language_info": {
   "codemirror_mode": {
    "name": "ipython",
    "version": 3
   },
   "file_extension": ".py",
   "mimetype": "text/x-python",
   "name": "python",
   "nbconvert_exporter": "python",
   "pygments_lexer": "ipython3",
   "version": "3.10.7"
  },
  "orig_nbformat": 4,
  "vscode": {
   "interpreter": {
    "hash": "8a19c74da3b7154619c1176afccf9ce002bd2eff700641b8654c2632caeef6b3"
   }
  }
 },
 "nbformat": 4,
 "nbformat_minor": 2
}
