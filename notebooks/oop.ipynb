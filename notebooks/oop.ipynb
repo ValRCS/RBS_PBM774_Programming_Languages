{
  "cells": [
    {
      "cell_type": "markdown",
      "metadata": {
        "id": "ax-2lch5Dgii"
      },
      "source": [
        "# Support for Object- Oriented Programming\n",
        "\n",
        "Main source: Sebesta Chapter 12\n",
        "\n",
        "Images: Wikimedia Commons  \n",
        "\n",
        "By: Valdis Saulespurens at Riga Technical University - RTU\n"
      ]
    },
    {
      "cell_type": "markdown",
      "metadata": {
        "id": "a6TsSnDbDgil"
      },
      "source": [
        "![Car](https://upload.wikimedia.org/wikipedia/commons/thumb/6/62/CPT-OOP-objects_and_classes.svg/640px-CPT-OOP-objects_and_classes.svg.png)"
      ]
    },
    {
      "cell_type": "markdown",
      "metadata": {
        "id": "cHwDQ0PqDgim"
      },
      "source": [
        "## Key concepts - history\n",
        "\n",
        "* Object-oriented programming is a programming paradigm that is based on the concept of \"objects\", which can contain data and code to manipulate that data.\n",
        "* The concept of object-oriented programming had its roots in SIMULA I, SIMULA 67, a programming language developed in the 1960s that introduced the idea of classes and objects.\n",
        "* Smalltalk, developed in the 1970s and 80s, is considered by many to be the base model for a purely object-oriented programming language.\n",
        "Smalltalk was developed by Alan Kay, Dan Ingalls, Adele Goldberg, Ted Kaehler, and others at Xerox PARC.\n",
        "* Smalltalk 80, released in 1980, is a popular implementation of the Smalltalk language and is often cited as a landmark in the history of object-oriented programming.\n",
        "\n",
        "### Key requirements for object-oriented programming\n",
        "\n",
        "A language that is object-oriented must provide support for three key language features:\n",
        "1. Abstract data types: A way to define a new data type that encapsulates data and functions that operate on that data.\n",
        "2. Inheritance: A way to define a new class that is based on an existing class, inheriting its properties and methods.\n",
        "3. Dynamic binding of method calls to methods: A way for the code to decide which implementation of a method to use based on the type of the object at runtime."
      ]
    },
    {
      "cell_type": "markdown",
      "metadata": {
        "id": "P26XSxbgDgim"
      },
      "source": [
        "![History](https://upload.wikimedia.org/wikipedia/commons/d/db/Historie.png)"
      ]
    },
    {
      "cell_type": "markdown",
      "metadata": {
        "id": "nnhRoEnWDgin"
      },
      "source": [
        "## Need for Object-Oriented Programming\n",
        "\n",
        "* Software developers face productivity pressure and seek to increase software reuse.\n",
        "* Abstract data types are candidates for reuse but often require modifications.\n",
        "* Such modifications are challenging and time-consuming.\n",
        "* Inheritance addresses modification and organization problems.\n",
        "* Inheritance allows new types to modify and add to existing ones.\n",
        "* Inheritance facilitates software reuse without modifying existing types.\n",
        "* Programmers can design modified types without understanding or changing original code."
      ]
    },
    {
      "cell_type": "markdown",
      "metadata": {
        "id": "CzX1t3RwDgin"
      },
      "source": [
        "## ADT - Abstract Data Types\n",
        "\n",
        "* Object-oriented languages use classes as abstract data types.\n",
        "* Instances of classes are called objects.\n",
        "* Classes can be derived from other classes, creating subclass or child classes.\n",
        "* The original class is the superclass or parent class.\n",
        "* Methods (also called member function) are the subprograms that define operations on objects.\n",
        "* Calls to methods are messages.\n",
        "* The collection of methods of a class is called the message protocol or interface.\n",
        "* Computation is specified by messages sent between objects or, in some cases, to classes.\n",
        "* Methods and subprograms are similar in that they perform computations and take parameters and return results.\n",
        "* Passing a message is different from calling a subprogram because the message requests the execution of a method on an object.\n",
        "* Methods operate on data that is part of the object itself.\n",
        "* Subprograms can operate on any data sent to them."
      ]
    },
    {
      "cell_type": "code",
      "execution_count": 6,
      "metadata": {
        "id": "cgJLKhzaDgio"
      },
      "outputs": [],
      "source": [
        "## Example of ADT\n",
        "\n",
        "class Stack:\n",
        "    def __init__(self, seq = None):\n",
        "        if seq is None:\n",
        "            self.items = []\n",
        "        else:\n",
        "            self.items = list(seq)\n",
        "        # instead of list/array we could have used a linked list or a tree\n",
        "    # so called dunder method\n",
        "    def __str__(self) -> str:\n",
        "        # so I can return whatever as long as it is string\n",
        "        return f\"My stack object: size {self.size()}, last item {self.peek()}\"\n",
        "\n",
        "    def __repr__(self) -> str:\n",
        "        return f\"REPR version of my stack: size {self.size()}, last item {self.peek()}\"\n",
        "\n",
        "    # you can define other dunder methods such as __add__ which would let you add two stacks\n",
        "    # let's add __add__ method so we can use + operator\n",
        "    def __add__(self, other: Stack):\n",
        "        # we need to return a new stack object\n",
        "        # we can use list concatenation\n",
        "        return Stack(self.items + other.items) # of course we could have used some other way of combining the two stacks for example interleaving them\n",
        "    \n",
        "    # we can also define __mul__ method to multiply the stack\n",
        "    def __mul__(self, multiplier: int):\n",
        "        return Stack(self.items * multiplier) # again this works bacause list multiplication is defined\n",
        "\n",
        "\n",
        "    def isEmpty(self):\n",
        "        return self.items == []\n",
        "    def push(self, item):\n",
        "        self.items.append(item)\n",
        "    def pop(self):\n",
        "        return self.items.pop()\n",
        "    def peek(self):\n",
        "        return self.items[-1]\n",
        "    def size(self):\n",
        "        return len(self.items)\n"
      ]
    },
    {
      "cell_type": "code",
      "execution_count": null,
      "metadata": {
        "colab": {
          "base_uri": "https://localhost:8080/"
        },
        "id": "-itdCeE2GuIy",
        "outputId": "0be747c8-1196-4093-e591-aa889e2a979c"
      },
      "outputs": [
        {
          "name": "stdout",
          "output_type": "stream",
          "text": [
            "<class 'str'> <class 'int'> <class 'bool'> <class 'float'>\n"
          ]
        },
        {
          "data": {
            "text/plain": [
              "(str, int, bool, float)"
            ]
          },
          "execution_count": 2,
          "metadata": {},
          "output_type": "execute_result"
        }
      ],
      "source": [
        "# in Python pretty much everything is based on classes\n",
        "# we can have classes inside classes\n",
        "# we can have classes inside functions\n",
        "# print(type(\"Valdis\"), type(42), type(True), type(3.1415926)) # __str__ method output\n",
        "type(\"Valdis\"), type(42), type(True),type(3.1415926) # __repr__ output"
      ]
    },
    {
      "cell_type": "code",
      "execution_count": 7,
      "metadata": {
        "colab": {
          "base_uri": "https://localhost:8080/"
        },
        "id": "ZdIaS3ekDgiq",
        "outputId": "e9f880ca-cf8f-4d36-f9aa-bcf3cc91c82f"
      },
      "outputs": [
        {
          "name": "stdout",
          "output_type": "stream",
          "text": [
            "Is my stack empty? True\n",
            "Size of my stack: 3\n",
            "9000\n",
            "3\n",
            "9000\n",
            "2\n"
          ]
        }
      ],
      "source": [
        "my_stack = Stack()  # I create a stack object without worrying about the implementation\n",
        "print(\"Is my stack empty?\",my_stack.isEmpty())\n",
        "my_stack.push(1)\n",
        "my_stack.push(2)\n",
        "my_stack.push(9000)\n",
        "print(\"Size of my stack:\", my_stack.size())\n",
        "print(my_stack.peek())\n",
        "print(my_stack.size())\n",
        "print(my_stack.pop())\n",
        "print(my_stack.size())\n"
      ]
    },
    {
      "cell_type": "code",
      "execution_count": 9,
      "metadata": {},
      "outputs": [
        {
          "name": "stdout",
          "output_type": "stream",
          "text": [
            "My stack object: size 4, last item 2\n",
            "REPR version of my stack: size 4, last item 2\n"
          ]
        }
      ],
      "source": [
        "double_stack = my_stack + my_stack\n",
        "print(double_stack) # here we utilize __str__ method\n",
        "print(repr(double_stack)) # here we utilize __repr__ method"
      ]
    },
    {
      "cell_type": "code",
      "execution_count": 10,
      "metadata": {},
      "outputs": [
        {
          "name": "stdout",
          "output_type": "stream",
          "text": [
            "My stack object: size 6, last item 2\n"
          ]
        }
      ],
      "source": [
        "# how about multiplying the stack?\n",
        "triple_stack = my_stack * 3\n",
        "print(triple_stack) # here we utilize __str__ method"
      ]
    },
    {
      "cell_type": "code",
      "execution_count": 11,
      "metadata": {
        "colab": {
          "base_uri": "https://localhost:8080/"
        },
        "id": "sVYNAUAGHpxp",
        "outputId": "4f5a7f11-612d-4601-bfd0-e3f86cddc925"
      },
      "outputs": [
        {
          "name": "stdout",
          "output_type": "stream",
          "text": [
            "My stack object: size 2, last item 2\n",
            "My stack object: size 3, last item 10000\n"
          ]
        },
        {
          "data": {
            "text/plain": [
              "REPR version of my stack: size 3, last item 10000"
            ]
          },
          "execution_count": 11,
          "metadata": {},
          "output_type": "execute_result"
        }
      ],
      "source": [
        "print(my_stack)\n",
        "my_stack.push(10_000)\n",
        "print(my_stack)\n",
        "my_stack"
      ]
    },
    {
      "cell_type": "markdown",
      "metadata": {
        "id": "QKZ2MWjFDgir"
      },
      "source": [
        "## Classes - methods and variables\n",
        "\n",
        "* Instance methods and variables are the most commonly used.\n",
        "* Every object of a class has its own set of instance variables, which store the object's state.\n",
        "* Two objects of the same class differ only in the state of their instance variables.\n",
        "* Instance methods operate only on objects of the class.\n",
        "* Class variables belong to the class, not its objects.\n",
        "* There is only one copy of class variables for the class.\n",
        "* Class variables can be used to count the number of instances of a class.\n",
        "* Class methods can perform operations on the class and possibly on its objects.\n",
        "* Class methods can be called by prefixing their names with the class name or a variable that references one of their instances.\n",
        "* If a class defines a class method, it can be called even if there are no instances of the class.\n",
        "* A class method could be used to create an instance of the class."
      ]
    },
    {
      "cell_type": "code",
      "execution_count": null,
      "metadata": {
        "id": "ylaJFquCJiZj"
      },
      "outputs": [],
      "source": [
        "class MyMath:\n",
        "    PI = 3.1415926 # so in many languages this would be static AND const but in Python we do not truly have constant\n",
        "\n",
        "    # so we have static methods we can use these before any objects and we do access any data from class\n",
        "    @staticmethod # we are using so called decorator to define static method\n",
        "    def add(a,b): # no need to reference anything since we are not using anything from class\n",
        "        return a + b\n",
        "\n",
        "    @classmethod\n",
        "    def circle_area(cls, radius): # cls will reference the class itself NOT the object!\n",
        "        return radius**2*cls.PI\n",
        "    \n",
        "    # note the difference between static and class methods\n",
        "    # class methods can access class data\n",
        "    # static methods cannot access class data\n",
        "    # static methods are usually used for utility functions\n",
        "    # class methods are used to work with class data\n",
        "\n",
        "    # usually we will want to store some data\n",
        "    # and we will want to have some methods to work with this data\n",
        "\n",
        "    # __init__ is almost like a constructor in most OOP languages\n",
        "    # in constructor we define data as object is created\n",
        "    # in __init__ we do something RIGHT after creation\n",
        "    # there is __new__ dunder method which is less used which has higher priority than __init__\n",
        "    def __init__(self, name=\"\", custom_data_sequence = ()): # self is reference to object itself (NOT class blueprint)\n",
        "    # theoretically we could rename self to any other valid name such as this, t, espats and it would still work\n",
        "    # just DO NOT DO IT!\n",
        "        print(\"Initializing new math object\")\n",
        "        self.custom_data = custom_data_sequence\n",
        "        self.name = name # instead of name it could be any normal name\n",
        "        print(\"FINISHED init new math object\")"
      ]
    },
    {
      "cell_type": "code",
      "execution_count": null,
      "metadata": {
        "id": "W3yJ4hfpNwIl"
      },
      "outputs": [],
      "source": []
    },
    {
      "cell_type": "code",
      "execution_count": 13,
      "metadata": {
        "colab": {
          "base_uri": "https://localhost:8080/"
        },
        "id": "sfp8MvEHJpJY",
        "outputId": "02759153-71af-4da3-aa82-2869a8478344"
      },
      "outputs": [
        {
          "data": {
            "text/plain": [
              "3.1415926"
            ]
          },
          "execution_count": 13,
          "metadata": {},
          "output_type": "execute_result"
        }
      ],
      "source": [
        "MyMath.PI # so I have access to class variable outside any objects BEFORE any objects are created from the blueprint!"
      ]
    },
    {
      "cell_type": "code",
      "execution_count": 14,
      "metadata": {
        "colab": {
          "base_uri": "https://localhost:8080/"
        },
        "id": "A1ZwqEbdKwct",
        "outputId": "bdc50e54-472d-4eff-d857-02d76c09c985"
      },
      "outputs": [
        {
          "data": {
            "text/plain": [
              "65"
            ]
          },
          "execution_count": 14,
          "metadata": {},
          "output_type": "execute_result"
        }
      ],
      "source": [
        "MyMath.add(54,11)"
      ]
    },
    {
      "cell_type": "code",
      "execution_count": 15,
      "metadata": {
        "colab": {
          "base_uri": "https://localhost:8080/"
        },
        "id": "1zOUjp31Li9C",
        "outputId": "9b6ba5ca-0b8b-40b8-ed66-b7f71804148b"
      },
      "outputs": [
        {
          "data": {
            "text/plain": [
              "314.15926"
            ]
          },
          "execution_count": 15,
          "metadata": {},
          "output_type": "execute_result"
        }
      ],
      "source": [
        "MyMath.circle_area(10) # so here we do not need to provide reference to cls"
      ]
    },
    {
      "cell_type": "code",
      "execution_count": 31,
      "metadata": {
        "colab": {
          "base_uri": "https://localhost:8080/"
        },
        "id": "VfZJzUc9Jxse",
        "outputId": "f857785f-f530-43ab-a24e-c96db49fb462"
      },
      "outputs": [
        {
          "name": "stdout",
          "output_type": "stream",
          "text": [
            "Initializing new math object\n",
            "FINISHED init new math object\n",
            "3.1415926\n",
            "3.2\n",
            "3.1415926\n",
            "Initializing new math object\n",
            "FINISHED init new math object\n",
            "3.1415926\n"
          ]
        }
      ],
      "source": [
        "my_math_object = MyMath()\n",
        "print(my_math_object.PI) # I do have access to this now\n",
        "my_math_object.PI = 3.2 # https://en.wikipedia.org/wiki/Indiana_Pi_Bill\n",
        "print(my_math_object.PI) # so object has its own PI now..\n",
        "print(MyMath.PI)\n",
        "another_math_o = MyMath()\n",
        "print(another_math_o.PI)"
      ]
    },
    {
      "cell_type": "code",
      "execution_count": null,
      "metadata": {
        "id": "2x5DfGhVDgir"
      },
      "outputs": [],
      "source": [
        "# Example of class with class and instance variables\n",
        "import random\n",
        "# define the class House\n",
        "class House:\n",
        "    @classmethod # decorator\n",
        "    def from_square_feet(cls, color, square_feet):\n",
        "        # we return a new instance of the class\n",
        "        return cls(color, square_feet / 10) # so it is like calling House(color, square_feet / 10)\n",
        "\n",
        "    @classmethod\n",
        "    def calculate_square_feet(cls, size): # this method does not really use any class data\n",
        "        '''This is a class method to calculate the size in square feet'''\n",
        "        size_in_square_feet = size * 10\n",
        "        print(f\"The size in square feet is: {size_in_square_feet}\")\n",
        "        return size_in_square_feet\n",
        "\n",
        "    # class variables\n",
        "    # all instances of the class will share these variables\n",
        "    # they are defined outside of the constructor\n",
        "    # they are shared by all instances of the class\n",
        "    # they are not unique to each instance\n",
        "    # they are defined at the class level\n",
        "\n",
        "    # class variable\n",
        "    number_of_houses = 0\n",
        "    # class variable will be shared by all instances of the class\n",
        "\n",
        "    # constructor\n",
        "    def __init__(self, color, size):\n",
        "        # instance variables\n",
        "        self.color = color\n",
        "        self.size = size\n",
        "        # let's increment the class variable\n",
        "        House.number_of_houses += 1 # we want to share this variable among all instances of the class\n",
        "        # we could have used self.number_of_houses but that would be unique to each instance\n",
        "        # this can be tricky in some cases\n",
        "        # usually we want to use class variables for shared data\n",
        "        # usually we want to use instance variables for unique data\n",
        "        # what would happend if we used self.number_of_houses instead?\n",
        "        self.number_of_houses = random.randint(100,200) # just for show that this is individual to each instance\n",
        "        # usually we want to use class variables for shared data\n",
        "\n",
        "    def __str__(self):\n",
        "        '''custom string representation of the class'''\n",
        "        return f\"House({self.color}, {self.size} at id: {id(self)})\"\n",
        "\n",
        "    # in Python there are many dunder methods\n",
        "    # docs are at https://docs.python.org/3/reference/datamodel.html#special-method-names\n",
        "\n",
        "    # instance method\n",
        "    def paint(self, color):\n",
        "        self.color = color\n",
        "        print(f\"The house is now painted {self.color}\")"
      ]
    },
    {
      "cell_type": "code",
      "execution_count": 22,
      "metadata": {
        "colab": {
          "base_uri": "https://localhost:8080/"
        },
        "id": "5JkHqIm5Dgis",
        "outputId": "3f5d6e6b-b9fd-4134-aaf2-d49ad3091b28"
      },
      "outputs": [
        {
          "name": "stdout",
          "output_type": "stream",
          "text": [
            "The size in square feet is: 1000\n"
          ]
        },
        {
          "data": {
            "text/plain": [
              "1000"
            ]
          },
          "execution_count": 22,
          "metadata": {},
          "output_type": "execute_result"
        }
      ],
      "source": [
        "# call class method\n",
        "# I can call class method BEFORE I create an instance\n",
        "# I can call class method without creating an instance\n",
        "\n",
        "House.calculate_square_feet(100)"
      ]
    },
    {
      "cell_type": "code",
      "execution_count": 23,
      "metadata": {
        "colab": {
          "base_uri": "https://localhost:8080/"
        },
        "id": "coVyBFLSDgis",
        "outputId": "e070ce48-768a-42b6-b7c3-68be33e0b9d5"
      },
      "outputs": [
        {
          "name": "stdout",
          "output_type": "stream",
          "text": [
            "House(blue, 100 at id: 124749111070016)\n",
            "The house is now painted red\n",
            "House(red, 100 at id: 124749111070016)\n",
            "House(green, 200 at id: 124749111073616)\n",
            "The house is now painted yellow\n",
            "House(yellow, 200 at id: 124749111073616)\n"
          ]
        }
      ],
      "source": [
        "# create instances of the class\n",
        "my_house = House(\"blue\", 100)\n",
        "print(my_house)\n",
        "my_house.paint(\"red\") # call instance method\n",
        "print(my_house)\n",
        "# create another instance of the class\n",
        "your_house = House(\"green\", 200)\n",
        "print(your_house)\n",
        "your_house.paint(\"yellow\") # call instance method\n",
        "print(your_house)\n"
      ]
    },
    {
      "cell_type": "code",
      "execution_count": null,
      "metadata": {},
      "outputs": [
        {
          "name": "stdout",
          "output_type": "stream",
          "text": [
            "I have 2 number of houses\n"
          ]
        }
      ],
      "source": [
        "# how many houses do I have?\n",
        "print(f\"I have {House.number_of_houses} number of houses\")\n",
        "# so class variable has the correct data!"
      ]
    },
    {
      "cell_type": "code",
      "execution_count": 25,
      "metadata": {},
      "outputs": [
        {
          "name": "stdout",
          "output_type": "stream",
          "text": [
            "My house has 194 number of houses\n",
            "Your house has 200 number of houses\n"
          ]
        }
      ],
      "source": [
        "#how about our instance variables?\n",
        "print(f\"My house has {my_house.number_of_houses} number of houses\")\n",
        "print(f\"Your house has {your_house.number_of_houses} number of houses\")\n",
        "# so instance variables should be unique to each instance"
      ]
    },
    {
      "cell_type": "code",
      "execution_count": null,
      "metadata": {
        "id": "ygfmUT-fDgit",
        "outputId": "5cae971d-fd8c-4335-fbda-83de60641652"
      },
      "outputs": [
        {
          "name": "stdout",
          "output_type": "stream",
          "text": [
            "2\n",
            "2\n",
            "2\n",
            "12\n",
            "12\n",
            "12\n"
          ]
        }
      ],
      "source": [
        "# change class variable\n",
        "House.number_of_houses = 2 # so this is same across all instances\n",
        "print(House.number_of_houses)\n",
        "print(my_house.number_of_houses)\n",
        "print(your_house.number_of_houses)\n",
        "House.number_of_houses += 10\n",
        "print(House.number_of_houses)\n",
        "print(my_house.number_of_houses)\n",
        "print(your_house.number_of_houses)"
      ]
    },
    {
      "cell_type": "markdown",
      "metadata": {
        "id": "3nSyatSsDgit"
      },
      "source": [
        "## Inheritance\n",
        "\n",
        "* The derivation process of creating a new class from a parent class is called inheritance.\n",
        "* Single inheritance is when a new class is a subclass of a single parent class.\n",
        "* Multiple inheritance is when a class has more than one parent class.\n",
        "* The relationships between classes related through single inheritance can be shown in a derivation tree.\n",
        "* A derivation tree shows the hierarchy of parent-child relationships between classes.\n",
        "* The relationships between classes related through multiple inheritance can be shown in a derivation graph.\n",
        "* A derivation graph shows the relationships between classes that have multiple parent classes.\n",
        "* Multiple inheritance can be more complex than single inheritance because it can introduce conflicts between inherited methods and properties from different parent classes."
      ]
    },
    {
      "cell_type": "code",
      "execution_count": 26,
      "metadata": {
        "id": "jcajVGgEDgit"
      },
      "outputs": [],
      "source": [
        "# example of inheritance\n",
        "\n",
        "class Animal:\n",
        "    def __init__(self, name, age):\n",
        "        self.name = name\n",
        "        self.age = age\n",
        "    def speak(self):\n",
        "        print(\"I don't know what I say\")\n",
        "    def __str__(self):\n",
        "        return f\"{self.name} is {self.age} years old\"\n",
        "\n",
        "# so this Dog class inherits from Animal class\n",
        "class Dog(Animal):\n",
        "    def __init__(self, name, age, breed):\n",
        "        super().__init__(name, age) # since we are redefining our __init__ we call base class __init__ first\n",
        "        # instead of course I could have initialized name and age here myself\n",
        "        self.breed = breed\n",
        "    def speak(self):\n",
        "        print(\"Woof\")\n",
        "    def bite(self, owner): # specific to Dog only for now - Animals nor Cats have it\n",
        "        print(f\"{owner} says ouch. Bad doggie - {self.name}!\")\n",
        "    def __str__(self):\n",
        "        return f\"{self.name} is {self.age} years old and is a {self.breed}\"\n",
        "\n",
        "class Cat(Animal):\n",
        "    def __init__(self, name, age, breed):\n",
        "        super().__init__(name, age)\n",
        "        self.breed = breed\n",
        "    def speak(self):\n",
        "        print(\"Flow!!!\")\n",
        "    def __str__(self):\n",
        "        return f\"{self.name} is {self.age} years old and is a {self.breed}\"\n",
        "\n",
        "class Buffalo(Animal):\n",
        "    # I have access to everything that normal Animal has, Animal methods and variables as well\n",
        "    # this inclused __init__\n",
        "    def stampede(self):\n",
        "        print(f\"I - {self.name} am stampeding\")\n",
        "\n"
      ]
    },
    {
      "cell_type": "code",
      "execution_count": 27,
      "metadata": {
        "colab": {
          "base_uri": "https://localhost:8080/"
        },
        "id": "eEQD-cGVQamW",
        "outputId": "be9f0cc0-166b-4120-85de-993c402fcd3d"
      },
      "outputs": [
        {
          "name": "stdout",
          "output_type": "stream",
          "text": [
            "Unknown is 0 years old\n",
            "I don't know what I say\n"
          ]
        }
      ],
      "source": [
        "\n",
        "unknown_animal = Animal(\"Unknown\", 0)\n",
        "# so here I was able to make a base class instance\n",
        "# if we did not want to allow this we could make the Animal class abstract in most OOP languages\n",
        "# in Python we can use the abc module to make a class abstract\n",
        "# https://docs.python.org/3/library/abc.html\n",
        "print(unknown_animal)\n",
        "unknown_animal.speak()"
      ]
    },
    {
      "cell_type": "code",
      "execution_count": 28,
      "metadata": {
        "colab": {
          "base_uri": "https://localhost:8080/"
        },
        "id": "RtfO3q6ERLqe",
        "outputId": "08351ac3-9256-42cd-c413-a0535a9cbd0c"
      },
      "outputs": [
        {
          "name": "stdout",
          "output_type": "stream",
          "text": [
            "I don't know what I say\n",
            "I - Biff am stampeding\n"
          ]
        }
      ],
      "source": [
        "new_buffalo = Buffalo(\"Biff\", 15)\n",
        "new_buffalo.speak()\n",
        "new_buffalo.stampede()"
      ]
    },
    {
      "cell_type": "code",
      "execution_count": 29,
      "metadata": {
        "colab": {
          "base_uri": "https://localhost:8080/"
        },
        "id": "11x-k2WSDgit",
        "outputId": "902f31ae-0573-4cfd-ed80-2dc43a8088d0"
      },
      "outputs": [
        {
          "name": "stdout",
          "output_type": "stream",
          "text": [
            "Rex is 5 years old and is a German Shepherd\n",
            "Woof\n",
            "Darcy is 2 years old and is a Domestic\n",
            "Flow!!!\n"
          ]
        }
      ],
      "source": [
        "# lets make some cats and dogs\n",
        "\n",
        "\n",
        "my_dog = Dog(\"Rex\", 5, \"German Shepherd\")\n",
        "print(my_dog)\n",
        "my_dog.speak()\n",
        "my_kitty = Cat(\"Darcy\", 2, \"Domestic\")\n",
        "print(my_kitty)\n",
        "my_kitty.speak()"
      ]
    },
    {
      "cell_type": "markdown",
      "metadata": {
        "id": "TTrsIKNHDgit"
      },
      "source": [
        "### Issues with inheritance\n",
        "\n",
        "* Inheritance as a means of increasing the possibility of reuse can create dependencies among the classes in an inheritance hierarchy.\n",
        "* This works against the advantage of abstract data types, which is their independence from each other.\n",
        "* The independence of abstract data types is generally one of their strongest positive characteristics.\n",
        "* However, it may be difficult or impossible to increase the reusability of abstract data types without creating dependencies among some of them.\n",
        "* Dependencies may naturally mirror dependencies in the underlying problem space.\n",
        "* It is important to carefully design and manage dependencies in an inheritance hierarchy to avoid creating complex and tightly coupled systems."
      ]
    },
    {
      "cell_type": "markdown",
      "metadata": {
        "id": "2R6QltO-Dgit"
      },
      "source": [
        "## Composition over inheritance\n",
        "\n",
        "* Inheritance is a powerful tool for creating new classes from existing ones.\n",
        "* However, inheritance can create dependencies among classes that are difficult to manage.\n",
        "* Inheritance can also create complex and tightly coupled systems.\n",
        "* Inheritance is not always the best way to create new classes.\n",
        "* Composition is a technique for creating new classes by combining existing classes.\n",
        "\n",
        "Composition is a technique used in object-oriented programming for creating classes by combining multiple smaller classes or objects to form a larger, more complex class. The basic idea behind composition is to create a new class that \"contains\" or \"has\" other classes or objects as its instance variables or attributes, rather than using inheritance to create a new class that \"is a\" subtype of an existing class.\n",
        "\n",
        "For example, let's say we want to create a class Car that has a Engine and a Transmission as its components. Instead of creating a Car class that inherits from an Engine class and a Transmission class, we can create separate Engine and Transmission classes and then \"compose\" them into a Car class using instance variables:\n"
      ]
    },
    {
      "cell_type": "code",
      "execution_count": 35,
      "metadata": {
        "id": "jpkpgjkuDgiu"
      },
      "outputs": [],
      "source": [
        "# Example of composition\n",
        "class Engine:\n",
        "    def __init__(self, horsepower):\n",
        "        self.horsepower = horsepower\n",
        "        self.running = False\n",
        "    # let's make a method to start the engine\n",
        "    def start(self):\n",
        "        print(\"Vroom Vroom\")\n",
        "        self.running = True\n",
        "    def stop(self):\n",
        "        print(\"Stopping engine\")\n",
        "        self.running = False\n",
        "\n",
        "class Transmission:\n",
        "    def __init__(self, gears):\n",
        "        self.gears = gears\n",
        "\n",
        "class Wheel:\n",
        "    def __init__(self, n, radius=18):\n",
        "        self.n = n\n",
        "        self.radius = radius\n",
        "    def spin(self):\n",
        "        print(f\"I am spinning No. {self.n}, wheeee\")\n",
        "\n",
        "class Car: # so in init we pass our other class instances to Car\n",
        "    def __init__(self, engine:Engine, transmission:Transmission, wheel_list=()): \n",
        "        # in a more strongly typed language I would specify that my tuple contains Wheel objects\n",
        "        # footgun alert!\n",
        "        # import DO NOT USE mutable default parameters, that is my we are using default tuple not list\n",
        "        # if you use mutable defaults they will be shared across all objects from this class\n",
        "        print(f\"Creating a Car\")\n",
        "        self.engine = engine\n",
        "        self.transmission = transmission\n",
        "        self.wheel_list = wheel_list\n",
        "\n",
        "    def spin_all_wheels(self):\n",
        "        for wheel in wheel_list:\n",
        "            wheel.spin()\n"
      ]
    },
    {
      "cell_type": "code",
      "execution_count": null,
      "metadata": {
        "id": "RR0Olp95UZJ3"
      },
      "outputs": [],
      "source": []
    },
    {
      "cell_type": "code",
      "execution_count": 36,
      "metadata": {
        "colab": {
          "base_uri": "https://localhost:8080/"
        },
        "id": "bjyDB3--Dgiu",
        "outputId": "c07b2fe6-47a9-4518-d3fe-3033f9553032"
      },
      "outputs": [
        {
          "name": "stdout",
          "output_type": "stream",
          "text": [
            "Creating a Car\n",
            "300\n",
            "400\n",
            "Creating a Car\n",
            "1000\n"
          ]
        }
      ],
      "source": [
        "# lets make some cars using composition\n",
        "engine = Engine(300)\n",
        "transmission = Transmission(6)\n",
        "my_car = Car(engine, transmission)\n",
        "print(my_car.engine.horsepower) # notice the composition the multiple dot notation\n",
        "my_car.engine.horsepower = 400 # in OOP we are supposed to use setters and getters but in Python we do not have to\n",
        "print(my_car.engine.horsepower)\n",
        "\n",
        "tesla = Car(Engine(1000), Transmission(1))\n",
        "print(tesla.engine.horsepower) # again notice the composition"
      ]
    },
    {
      "cell_type": "code",
      "execution_count": 39,
      "metadata": {},
      "outputs": [
        {
          "name": "stdout",
          "output_type": "stream",
          "text": [
            "Vroom Vroom\n",
            "Is Tesla running? True\n",
            "Stopping engine\n",
            "Is Tesla running? False\n"
          ]
        }
      ],
      "source": [
        "tesla.engine.start()\n",
        "print(f\"Is Tesla running? {tesla.engine.running}\")\n",
        "tesla.engine.stop()\n",
        "print(f\"Is Tesla running? {tesla.engine.running}\")"
      ]
    },
    {
      "cell_type": "code",
      "execution_count": 41,
      "metadata": {
        "id": "35tltAsLULVy"
      },
      "outputs": [],
      "source": [
        "wheel_list = [Wheel(n+1) for n in range(4)] # so made a list of 4 Wheel Objects"
      ]
    },
    {
      "cell_type": "code",
      "execution_count": 42,
      "metadata": {
        "colab": {
          "base_uri": "https://localhost:8080/"
        },
        "id": "Wg_3IRxNUZyf",
        "outputId": "3be04bb8-9cab-4627-c3e8-bd7b2bab6cdf"
      },
      "outputs": [
        {
          "name": "stdout",
          "output_type": "stream",
          "text": [
            "Creating a Car\n"
          ]
        }
      ],
      "source": [
        "real_car = Car(Engine(350), Transmission(7), wheel_list)"
      ]
    },
    {
      "cell_type": "code",
      "execution_count": 43,
      "metadata": {
        "colab": {
          "base_uri": "https://localhost:8080/"
        },
        "id": "IFMJB-bgUmN1",
        "outputId": "d4fc6e19-9b99-4311-bdbf-bc8ba35acdbc"
      },
      "outputs": [
        {
          "name": "stdout",
          "output_type": "stream",
          "text": [
            "I am spinning No. 1, wheeee\n"
          ]
        }
      ],
      "source": [
        "real_car.wheel_list[0].spin()"
      ]
    },
    {
      "cell_type": "code",
      "execution_count": 44,
      "metadata": {
        "colab": {
          "base_uri": "https://localhost:8080/"
        },
        "id": "MAIhhCJAVRbR",
        "outputId": "3a9c5d10-4af3-4c6b-f743-2a33d1110538"
      },
      "outputs": [
        {
          "name": "stdout",
          "output_type": "stream",
          "text": [
            "I am spinning No. 1, wheeee\n",
            "I am spinning No. 2, wheeee\n",
            "I am spinning No. 3, wheeee\n",
            "I am spinning No. 4, wheeee\n"
          ]
        }
      ],
      "source": [
        "real_car.spin_all_wheels()"
      ]
    },
    {
      "cell_type": "markdown",
      "metadata": {
        "id": "62b8kRhwDgiu"
      },
      "source": [
        "In above example, we define a Car class that has two instance variables, engine and transmission, which are instances of the Engine and Transmission classes, respectively. By doing this, we can create a Car object that \"has an\" engine and a transmission, without the need for inheritance.\n",
        "\n",
        "Composition offers several benefits over inheritance, including greater flexibility, improved code reuse, and better encapsulation. It allows us to create complex objects by combining smaller, more modular objects, which makes our code easier to maintain and extend over time."
      ]
    },
    {
      "cell_type": "markdown",
      "metadata": {
        "id": "DPEvNRp5Dgiu"
      },
      "source": [
        "### When inheritance and composition go wild\n",
        "\n",
        "![inheritance](https://upload.wikimedia.org/wikipedia/commons/3/39/UML_diagram_of_composition_over_inheritance.png)"
      ]
    },
    {
      "cell_type": "code",
      "execution_count": null,
      "metadata": {
        "id": "MG40BODuDgiu"
      },
      "outputs": [],
      "source": [
        "## All programs tend towards entropy\n",
        "## they might end up a big ball of mud\n",
        "## http://c2.com/cgi/wiki?BigBallOfMud"
      ]
    },
    {
      "cell_type": "markdown",
      "metadata": {
        "id": "nrQe2h_1Dgiu"
      },
      "source": [
        "## PolyMorphism\n",
        "\n",
        "Polymorphism is the ability to use the same interface to represent different types of objects. For example, a method that takes a parameter of type `Shape` can be called with an object of type `Circle` or `Rectangle` as the argument. The method can then use the type of the object to determine which implementation of the method to use.\n",
        "\n",
        "* Polymorphism refers to the ability to use the same interface to represent different types of objects.\n",
        "* Dynamic binding of messages to method definitions is a form of polymorphism.\n",
        "* In dynamic binding, the code decides which implementation of a method to use based on the type of the object at runtime.\n",
        "* This allows different objects to respond to the same message in different ways.\n",
        "* Dynamic binding is sometimes called dynamic dispatch."
      ]
    },
    {
      "cell_type": "code",
      "execution_count": 72,
      "metadata": {
        "colab": {
          "base_uri": "https://localhost:8080/"
        },
        "id": "wOu5ivPfDgiu",
        "outputId": "fac3dc91-779b-4913-89bc-f2fe3479c60f"
      },
      "outputs": [
        {
          "name": "stdout",
          "output_type": "stream",
          "text": [
            "3\n",
            "RTU is awesome!!!\n",
            "[1, 2, 3, 4, 5, 6, 7, 8, 9]\n"
          ]
        }
      ],
      "source": [
        "# Example of polymorphism in Python\n",
        "\n",
        "def add(x, y, z = 0):\n",
        "    return x + y + z\n",
        "\n",
        "print(add(1, 2)) # here we also use default argument for z = 0\n",
        "\n",
        "print(add(\"RTU\", \" is awesome\", \"!!!\"))\n",
        "\n",
        "# add will work on lists and anythins else that supports the + operator\n",
        "print(add([1, 2, 3], [4, 5, 6], [7, 8, 9]))\n",
        "\n",
        "# if you want your own class to support the + operator\n",
        "# you need to implement the __add__ method\n",
        "# docs are at https://docs.python.org/3/reference/datamodel.html#object.__add__"
      ]
    },
    {
      "cell_type": "markdown",
      "metadata": {
        "id": "RF4_wEhkDgiv"
      },
      "source": [
        "## Implementation in C++\n",
        "\n",
        "* In C++, classes are defined as extensions of C's record structures, called structs.\n",
        "* Class instance records (CIRs) provide a storage structure for the instance variables of class instances.\n",
        "* The structure of a CIR is static, meaning it is built at compile time and used as a template for creating the data of class instances.\n",
        "* Every class has its own CIR.\n",
        "* When a subclass is derived, the CIR for the subclass is a copy of the parent class's CIR, with entries for new instance variables added at the end.\n",
        "* Access to all instance variables in a CIR can be done using constant offsets from the beginning of the CIR instance.\n",
        "* This makes accessing instance variables as efficient as accessing the fields of records."
      ]
    },
    {
      "cell_type": "markdown",
      "metadata": {
        "id": "MzybQ2GhDgiv"
      },
      "source": [
        "## Vtable - Virtual Table\n",
        "\n",
        "* Methods that are statically bound do not need to be involved in the CIR for a class.\n",
        "* However, methods that will be dynamically bound must have entries in the CIR.\n",
        "* Entries for dynamically bound methods could have a pointer to the code of the method, which is set at object creation time.\n",
        "* Calls to a method can be connected to the corresponding code through this pointer in the CIR.\n",
        "* Every instance would need to store pointers to all dynamically bound methods that could be called from the instance if this technique were used.\n",
        "* The list of dynamically bound methods that can be called from an instance of a class is the same for all instances of that class.\n",
        "* Therefore, the list of such methods must be stored only once.\n",
        "* The CIR for an instance only needs a single pointer to the list of methods to enable it to find called methods.\n",
        "* The storage structure for the list of methods is often called a virtual method table (vtable)."
      ]
    },
    {
      "cell_type": "markdown",
      "metadata": {
        "id": "PgIugK4dDgiv"
      },
      "source": [
        "## Reflection\n",
        "\n",
        "* Reflection allows programs to have run-time access to their types and structure and dynamically modify their behavior.\n",
        "* Metadata is information about the types and structure of a program.\n",
        "* The process of a program examining its metadata is called introspection.\n",
        "* A program can modify its behavior dynamically by changing its metadata directly, using the metadata, or interceding in the execution of the program.\n",
        "* Reflection is primarily used in the construction of software tools, such as class browsers and Visual Integrated Development Environments (IDEs).\n",
        "* Debuggers use reflection to examine private fields and methods of classes.\n",
        "* Test systems use reflection to discover all of the methods of a class to ensure that test data drives all of them."
      ]
    },
    {
      "cell_type": "markdown",
      "metadata": {
        "id": "iHbrNUvhDgiv"
      },
      "source": [
        "### Example of reflection\n",
        "\n",
        "* The Java reflection API allows a program to examine the metadata of a Java program at run time.\n",
        "* Python uses reflection to implement the `dir` function, which lists the names of all of the attributes of an object.\n",
        "* The `dir` function can be used to list the names of all of the methods of an object.\n",
        "* C# uses reflection to implement the `GetType` method, which returns the type of an object."
      ]
    },
    {
      "cell_type": "code",
      "execution_count": 45,
      "metadata": {
        "colab": {
          "base_uri": "https://localhost:8080/"
        },
        "id": "msXnHtx-Dgiv",
        "outputId": "113218f1-3285-45cc-c810-afead14faa9d"
      },
      "outputs": [
        {
          "data": {
            "text/plain": [
              "['__class__',\n",
              " '__delattr__',\n",
              " '__dict__',\n",
              " '__dir__',\n",
              " '__doc__',\n",
              " '__eq__',\n",
              " '__format__',\n",
              " '__ge__',\n",
              " '__getattribute__',\n",
              " '__getstate__',\n",
              " '__gt__',\n",
              " '__hash__',\n",
              " '__init__',\n",
              " '__init_subclass__',\n",
              " '__le__',\n",
              " '__lt__',\n",
              " '__module__',\n",
              " '__ne__',\n",
              " '__new__',\n",
              " '__reduce__',\n",
              " '__reduce_ex__',\n",
              " '__repr__',\n",
              " '__setattr__',\n",
              " '__sizeof__',\n",
              " '__str__',\n",
              " '__subclasshook__',\n",
              " '__weakref__',\n",
              " 'bite',\n",
              " 'speak']"
            ]
          },
          "execution_count": 45,
          "metadata": {},
          "output_type": "execute_result"
        }
      ],
      "source": [
        "# example of using reflection to inspect a class\n",
        "dir(Dog)"
      ]
    },
    {
      "cell_type": "code",
      "execution_count": 47,
      "metadata": {
        "colab": {
          "base_uri": "https://localhost:8080/",
          "height": 36
        },
        "id": "pVkEGiOeWSu3",
        "outputId": "8abd9723-d53d-452e-d7c5-937edbde2827"
      },
      "outputs": [
        {
          "data": {
            "text/plain": [
              "['__class__', '__delattr__', '__dict__']"
            ]
          },
          "execution_count": 47,
          "metadata": {},
          "output_type": "execute_result"
        }
      ],
      "source": [
        "my_methods = dir(Dog)\n",
        "my_methods[:3] # first 3 methods for Dog class"
      ]
    },
    {
      "cell_type": "code",
      "execution_count": null,
      "metadata": {
        "colab": {
          "base_uri": "https://localhost:8080/"
        },
        "id": "OorFHK2tDgiv",
        "outputId": "f82b83ba-85de-40ac-b8dc-d5fb18c7d4de"
      },
      "outputs": [
        {
          "name": "stdout",
          "output_type": "stream",
          "text": [
            "[]\n",
            "[]\n",
            "[]\n",
            "[]\n",
            "[]\n",
            "[40, 30, 20, 10]\n",
            "\n",
            "\n",
            "\n",
            "\n",
            "\n",
            "\n",
            "\n",
            "\n",
            "\n",
            "\n",
            "\n",
            "\n",
            "\n",
            "\n",
            "\n",
            "\n",
            "tseb eht si SBR\n"
          ]
        }
      ],
      "source": [
        "# Python program to illustrate reflection\n",
        "# source: https://www.geeksforgeeks.org/reflection-in-python/\n",
        "# docs on reversed: https://docs.python.org/3/library/functions.html#reversed\n",
        "# reversed is a built-in function in Python but we will ignore it for now\n",
        "# we will implement our own reversed function\n",
        "def reverse(sequence): # we pretend that reversed does not exist.. so we will implement it ourselves\n",
        "    sequence_type = type(sequence) # this is where reflection happens\n",
        "    empty_sequence = sequence_type() # so we utilize the fact that we can call the type to create an empty object in Python\n",
        "    # sequence_type could be list, tuple, str, etc.\n",
        "    print(empty_sequence)\n",
        "\n",
        "    if sequence == empty_sequence:\n",
        "        return empty_sequence\n",
        "\n",
        "    # silly example here\n",
        "    rest = reverse(sequence[1:]) # so we are cheating here by using slicing and recursion\n",
        "    # that would not be allowed in some languages and also might not be efficient\n",
        "    first_sequence = sequence[0:1]\n",
        "\n",
        "    # Combine the result\n",
        "    final_result = rest + first_sequence\n",
        "\n",
        "    return final_result\n",
        "\n",
        "# Driver code\n",
        "print(reverse([10, 20, 30, 40]))\n",
        "print(reverse(\"RBS is the best\"))"
      ]
    },
    {
      "cell_type": "markdown",
      "metadata": {
        "id": "FYBbDFdVDgiv"
      },
      "source": [
        "## Reflection in Python\n",
        "\n",
        "* In Python, reflection is used to examine and modify the types and structure of a program at runtime. Python provides several built-in functions and modules that enable developers to perform introspection on objects, classes, and modules.\n",
        "\n",
        "* For example, the built-in function type() can be used to determine the type of an object or class. The inspect module provides functions for retrieving information about functions, classes, and modules, including their names, arguments, and documentation.\n",
        "\n",
        "* Python also supports dynamic attribute access and modification through the use of the getattr() and setattr() functions. These functions allow developers to get and set attributes of an object or class by name at runtime.\n",
        "\n",
        "* Reflection is commonly used in Python for debugging, testing, and dynamic configuration. For example, the unittest module uses reflection to automatically discover and run tests in a Python project. The logging module uses reflection to dynamically configure logging behavior based on user-defined settings."
      ]
    },
    {
      "cell_type": "code",
      "execution_count": null,
      "metadata": {
        "id": "2MknesTPDgiw",
        "outputId": "be287f95-988b-46ff-83d4-404db68f0683"
      },
      "outputs": [
        {
          "data": {
            "text/plain": [
              "11"
            ]
          },
          "execution_count": 27,
          "metadata": {},
          "output_type": "execute_result"
        }
      ],
      "source": [
        "import my_module\n",
        "# Python makes it easy to import modules\n",
        "# Python user defined modules are just .py files\n",
        "\n",
        "my_module.add(5,6 )"
      ]
    },
    {
      "cell_type": "code",
      "execution_count": 53,
      "metadata": {
        "colab": {
          "base_uri": "https://localhost:8080/"
        },
        "id": "ORRys5YwDgiw",
        "outputId": "8a2ff15d-e17f-4220-be94-6d999503b3bd"
      },
      "outputs": [
        {
          "name": "stdout",
          "output_type": "stream",
          "text": [
            "Oh hi Mark\n"
          ]
        }
      ],
      "source": [
        "# Python program to illustrate reflection\n",
        "\n",
        "import importlib\n",
        "\n",
        "# Load the module dynamically\n",
        "module_name = 'my_module' # so this is the name of the .py file\n",
        "# it could be a relative path or an absolute path\n",
        "my_module = importlib.import_module(module_name)\n",
        "# the difference from regular import is that importlib.import_module\n",
        "# will load the module dynamically\n",
        "\n",
        "# Get a reference to the function dynamically\n",
        "function_name = 'add' # it does not have to be hard coded\n",
        "# again I could load any function from the module\n",
        "my_function = getattr(my_module, function_name)\n",
        "# so the big idea is that your module and function name could come from a configuration file or a database\n",
        "# we do not have to have a fixed module name nor function name\n",
        "\n",
        "# Call the function dynamically with arguments\n",
        "arg1 = 'Oh hi '\n",
        "arg2 = 'Mark' #  https://www.youtube.com/watch?v=zLhoDB-ORLQ\n",
        "result = my_function(arg1, arg2)\n",
        "# incidentally our add function is polymorphic due to duck typing and + operator overloading\n",
        "\n",
        "# Print the result\n",
        "print(result)"
      ]
    },
    {
      "cell_type": "code",
      "execution_count": null,
      "metadata": {
        "id": "F8iLXCllDgiw",
        "outputId": "23d5c788-55f3-4812-e37d-58dec0243efb"
      },
      "outputs": [
        {
          "data": {
            "text/plain": [
              "(1956078189104, 1956078189104)"
            ]
          },
          "execution_count": 29,
          "metadata": {},
          "output_type": "execute_result"
        }
      ],
      "source": [
        "# So our add function here is represented by a function object\n",
        "# same address as the add function in my_module\n",
        "id(my_function), id(my_module.add)"
      ]
    },
    {
      "cell_type": "markdown",
      "metadata": {
        "id": "H6AegM_WDgiw"
      },
      "source": [
        "## Key points\n",
        "\n",
        "* Object-oriented programming is a programming paradigm that uses objects and their interactions to design and implement applications.\n",
        "* Objects are instances of classes, which are the basic unit of object-oriented programming.\n",
        "* Classes are defined by their data and the operations that can be performed on that data.\n",
        "* Classes can be derived from other classes, creating subclasses.\n",
        "* The relationships between classes related through single inheritance can be shown in a derivation tree.\n",
        "* The relationships between classes related through multiple inheritance can be shown in a derivation graph.\n",
        "* Polymorphism is the ability to use the same interface to represent different types of objects.\n",
        "\n",
        "## References\n",
        "\n",
        "* Sebesta, R. W. (2019). Concepts of programming languages (12th ed.). Pearson.\n",
        "* https://en.wikipedia.org/wiki/Object-oriented_programming\n",
        "* https://wiki.c2.com/?ObjectOrientedProgramming\n",
        "\n"
      ]
    },
    {
      "cell_type": "code",
      "execution_count": null,
      "metadata": {
        "id": "VDSLxatGDgiw"
      },
      "outputs": [],
      "source": []
    }
  ],
  "metadata": {
    "colab": {
      "provenance": []
    },
    "kernelspec": {
      "display_name": "Python 3",
      "language": "python",
      "name": "python3"
    },
    "language_info": {
      "codemirror_mode": {
        "name": "ipython",
        "version": 3
      },
      "file_extension": ".py",
      "mimetype": "text/x-python",
      "name": "python",
      "nbconvert_exporter": "python",
      "pygments_lexer": "ipython3",
      "version": "3.12.1"
    },
    "orig_nbformat": 4
  },
  "nbformat": 4,
  "nbformat_minor": 0
}
