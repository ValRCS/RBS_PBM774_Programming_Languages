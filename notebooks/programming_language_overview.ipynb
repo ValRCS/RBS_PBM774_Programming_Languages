{
 "cells": [
  {
   "cell_type": "markdown",
   "metadata": {},
   "source": [
    "# Programming Language Overview\n",
    "\n",
    " Programming languages are the means by which humans communicate instructions to computers. They serve as an intermediary between human logic and machine operations, allowing us to implement algorithms, manipulate data, and create software applications and systems.\n",
    "\n",
    " ## Language Popularity\n",
    "\n",
    " ![Prog Languages](https://upload.wikimedia.org/wikipedia/commons/thumb/8/8d/File_extensions_quantity_of_source_code_2020.PNG/440px-File_extensions_quantity_of_source_code_2020.PNG)\n",
    "\n",
    " From: https://en.wikiversity.org/wiki/Research_in_programming_Wikidata/Programming_languages - bubble chart of different formats used by languages"
   ]
  },
  {
   "cell_type": "markdown",
   "metadata": {},
   "source": [
    "![PyPL INdex](https://pypl.github.io/PYPL/All.png)\n",
    "\n",
    "From: https://pypl.github.io/PYPL.html"
   ]
  },
  {
   "cell_type": "markdown",
   "metadata": {},
   "source": [
    "### TIOBE Index - most authorative but still flawed\n",
    "\n",
    "https://www.tiobe.com/tiobe-index/"
   ]
  },
  {
   "cell_type": "markdown",
   "metadata": {},
   "source": [
    "## Types of Programming Languages\n",
    "\n",
    "### Hierarchy by abstraction level\n",
    "\n",
    "- **High-level Languages**: These are designed to be easy for humans to read and write. Examples include Python, Java, C++, and JavaScript.\n",
    "- **Low-level Languages**: These are closer to machine code and harder for humans to read. Assembly language is an example.\n",
    "- **Markup Languages**: While not strictly programming languages (possibly not Turing complete), markup languages like HTML and XML are often used in conjunction with programming languages to structure data and layout.\n",
    "\n",
    "![Hierarchy](https://static.javatpoint.com/cpages/images/classification-of-programming-language.png)\n",
    "\n",
    "Src: https://www.javatpoint.com/classification-of-programming-languages"
   ]
  },
  {
   "cell_type": "markdown",
   "metadata": {},
   "source": [
    "### Classification by Paradigms\n",
    "\n",
    "- **Imperative/Procedural**: Imperative is how most computer hardware works underneath. Essentially sequential with jumps. Procedural is an evolution of imperative, where you define procedures that operate on data. (e.g., C, Go, Fortran, Pascal)\n",
    "- **Object-Oriented**: Organizes code around 'objects' that contain both data and methods that operate on the data. (e.g., Java, C++)\n",
    "- **Functional**: Based on mathematical functions and avoids changing state and mutable data. (e.g., Haskell, Lisp, Clojure)\n",
    "- **Declarative**: Focuses on what needs to be done, rather than how to do it (e.g., SQL).\n",
    "- **Logical**: Often grouped with declarative languages, these are based on formal logic and inferencing (e.g., Prolog).\n",
    "- **Hybrid**: Many languages are a mix of paradigms. For example, Python is a multi-paradigm language that supports object-oriented, imperative, and functional programming.\n",
    "\n",
    "![Mega Classification](https://upload.wikimedia.org/wikipedia/commons/thumb/f/f7/Programming_paradigms.svg/1920px-Programming_paradigms.svg.png)\n",
    "By MovGP0 - Own work, CC BY-SA 3.0, https://commons.wikimedia.org/w/index.php?curid=25236323"
   ]
  },
  {
   "cell_type": "markdown",
   "metadata": {},
   "source": [
    "## Applications\n",
    "\n",
    "Different languages are often better suited for specific applications:\n",
    "\n",
    "\n",
    "- **Web Development**: JavaScript, HTML, CSS, Python (Django, Flask), Ruby (Ruby on Rails), etc.\n",
    "- **Scientific Computing**: Python (SciPy, NumPy), R, MATLAB, etc.\n",
    "- **Systems Programming**: C, C++, Rust\n",
    "- **Game Development**: C++, C#, Unity, Unreal Engine\n",
    "- **Mobile Apps**: Swift (iOS), Kotlin (Android), Dart/Flutter (cross-platform)"
   ]
  }
 ],
 "metadata": {
  "kernelspec": {
   "display_name": "venv",
   "language": "python",
   "name": "python3"
  },
  "language_info": {
   "name": "python",
   "version": "3.10.7"
  },
  "orig_nbformat": 4
 },
 "nbformat": 4,
 "nbformat_minor": 2
}
