{
 "cells": [
  {
   "cell_type": "markdown",
   "metadata": {},
   "source": [
    "# Names Bindings Scopes"
   ]
  },
  {
   "cell_type": "markdown",
   "metadata": {},
   "source": [
    "## Names\n",
    "\n",
    "Names in programming languages are identifiers that are used to refer to variables, functions, classes, modules, etc. In Python, a name is a way to access a value stored in memory. When a name is assigned to a value, it is called a binding.\n",
    "\n",
    "### Naming conventions\n",
    "\n",
    "Most languages have naming conventions that are used to make code more readable and understandable. In Python, the following naming conventions are used:\n",
    "\n",
    "- Names should be descriptive and meaningful.\n",
    "- Names should be lowercase with words separated by underscores.\n",
    "- Names CAN NOT start with a number.\n",
    "- Names CAN NOT contain special characters like `!`, `@`, `#`, `$`, `%`, `^`, `&`, `*`, `(`, `)`, `-`, `+`, `=`, `{`, `}`, `[`, `]`, `|`, `\\`, `:`, `;`, `\"`, `'`, `<`, `>`, `,`, `.`, `?`, `/`, etc.\n",
    "\n",
    "Note: Some languages let you use special characters in names.\n",
    "\n",
    "For example in Clojure it is customary to use `-` in names not possible in python.\n",
    "\n",
    "### Overloading, aliasing, and shadowing\n",
    "\n",
    "- **Overloading**: In Python, you can't overload functions or methods. If you define a function with the same name as an existing function, the new function will replace the old one.\n",
    "\n",
    "- **Aliasing**: In Python, you can create an alias for a module, function, or class by assigning it to a new name. This is useful when you want to use a long name in a shorter form.\n",
    "\n",
    "- **Shadowing**: In Python, shadowing occurs when a name in an inner scope hides a name in an outer scope. This can lead to confusion and errors, so it's best to avoid shadowing names.\n",
    "\n"
   ]
  },
  {
   "cell_type": "markdown",
   "metadata": {},
   "source": [
    "## Binding\n",
    "\n",
    "Binding is the process of associating a name with a value. In Python, you can bind a name to a value using the assignment operator `=`. For example, `x = 10` binds the name `x` to the value `10`."
   ]
  },
  {
   "cell_type": "code",
   "execution_count": 4,
   "metadata": {},
   "outputs": [],
   "source": [
    "# example of name would be variable my_name bound to some string literal\n",
    "my_name = \"Valdis\" # so now my_name for the time being is bound to string \"Valdis\"\n",
    "# above is done when we run code - that is at \"runtime\""
   ]
  },
  {
   "cell_type": "markdown",
   "metadata": {},
   "source": [
    "### Binding times\n",
    "\n",
    "There are different times when a name can be bound to a value in different programming languages:\n",
    "\n",
    "#### Language Definition Time\n",
    "\n",
    "This would like the built-in functions in Python. They are already defined in the language and can be used without any further definition.\n",
    "For example, `print()` is a built-in function in Python that can be used to print values to the console. That said it can be redefined in the code in the case of Python. Most languages would not let you redefine built-in functions.\n",
    "\n",
    "Another example would be `int` in C++ which is a built-in data type. Unless you are using a macro, you can't redefine it.\n",
    "\n",
    "\n",
    "#### Compile Time\n",
    "\n",
    "This is when the code is compiled and the names are bound to values. This is common in statically typed languages like C, C++, Java, etc.\n",
    "\n",
    "So statically typed languages would bind names to values at compile time.\n",
    "\n",
    "For example, in C++, you can declare a static variable and assign a value to it at compile time. The compiler will bind the variable name to the value at compile time.\n",
    "\n",
    "#### Link Time\n",
    "\n",
    "This is when the code is linked and the names are bound to values. This is common in statically typed languages like C, C++, Java, etc.\n",
    "For example, in C++, you can declare a function in one file and define it in another file. The linker will bind the function declaration to the function definition at link time.\n",
    "\n",
    "#### Load Time\n",
    "\n",
    "This is when the code is loaded into memory and the names are bound to values. This is common in dynamically typed languages like Python, Ruby, JavaScript, etc.\n",
    "For example, in Python, you can define a function and call it later in the code. The function name is bound to the function definition at load time.\n",
    "\n",
    "#### Run Time\n",
    "\n",
    "This is when the code is executed and the names are bound to values. This is common in dynamically typed languages like Python, Ruby, JavaScript, etc.\n",
    "For example, when we run the code, the names are bound to values at run time."
   ]
  },
  {
   "cell_type": "code",
   "execution_count": 1,
   "metadata": {},
   "outputs": [],
   "source": [
    "### Load Time Binding example of a function\n",
    "def my_function():\n",
    "    print(\"Hello from my_function\")"
   ]
  },
  {
   "cell_type": "code",
   "execution_count": 2,
   "metadata": {},
   "outputs": [
    {
     "name": "stdout",
     "output_type": "stream",
     "text": [
      "Hello from my_function\n"
     ]
    }
   ],
   "source": [
    "my_function() # this is when function is called and executed "
   ]
  },
  {
   "cell_type": "code",
   "execution_count": 2,
   "metadata": {},
   "outputs": [],
   "source": [
    "# again Runtime binding is simply binding of a name to a value at runtime\n",
    "# Load Time Binding is binding of a name to a value at load time (when code is loaded into memory)"
   ]
  },
  {
   "cell_type": "markdown",
   "metadata": {},
   "source": [
    "## Static versus Dynamic Binding\n",
    "\n",
    "### Static (early) binding\n",
    "\n",
    "Static binding is when the names are bound to values at compile time or link time. This is common in statically typed languages like C, C++, Java, etc.\n",
    "\n",
    "Examples of static binding in C++:\n",
    "\n",
    "```cpp\n",
    "#include <iostream>\n",
    "\n",
    "int main() {\n",
    "    static int x = 10; //x is going to be bound to 10 at compile time\n",
    "    std::cout << x << std::endl;\n",
    "    return 0;\n",
    "}\n",
    "```\n",
    "\n",
    "### Late (dynamic) binding \n",
    "\n",
    "Dynamic binding is when the names are bound to values at load time or run time. This is common in dynamically typed languages like Python, Ruby, JavaScript, etc."
   ]
  },
  {
   "cell_type": "code",
   "execution_count": 5,
   "metadata": {},
   "outputs": [
    {
     "name": "stdout",
     "output_type": "stream",
     "text": [
      "Hello from my_function_v2 with my_name=Valdis\n"
     ]
    }
   ],
   "source": [
    "## Late Binding example in Python\n",
    "\n",
    "def my_function_v2():\n",
    "    print(f\"Hello from my_function_v2 with my_name={my_name}\") # here we are using my_name which is defined later\n",
    "\n",
    "my_function_v2() # this will work because my_name is defined before this function is called\n",
    "\n",
    "# Note above is NOT a good practice to rely on global variables, but it is possible"
   ]
  },
  {
   "cell_type": "code",
   "execution_count": 6,
   "metadata": {},
   "outputs": [
    {
     "name": "stdout",
     "output_type": "stream",
     "text": [
      "A\n",
      "B\n"
     ]
    }
   ],
   "source": [
    "# let's do another example of Python late binding with two different classes then instance of them will be assigned to a variable\n",
    "\n",
    "class A:\n",
    "    def __init__(self):\n",
    "        self.name = \"A\"\n",
    "    def get_name(self):\n",
    "        return self.name\n",
    "    \n",
    "class B:\n",
    "    def __init__(self):\n",
    "        self.name = \"B\"\n",
    "    def get_name(self):\n",
    "        return self.name\n",
    "    \n",
    "# let's create instances of A and B classes\n",
    "# so this will be late binding because we are assigning instance created from A() class to a variable a\n",
    "a = A() # of course nothing is stopping you from using different letters for variable names\n",
    "b = B()\n",
    "\n",
    "print(a.get_name()) # this will print A\n",
    "print(b.get_name()) # this will print B"
   ]
  },
  {
   "cell_type": "markdown",
   "metadata": {},
   "source": [
    "### Destruction / deletion of bindings\n",
    "\n",
    "Destruction of bindings is when the name is unbound from the value. This can happen when the variable goes out of scope or when the program ends.\n",
    "\n",
    "Many languages have contructs for deleting bindings. For example in Python you can use the `del` keyword to delete a binding.\n",
    "\n"
   ]
  },
  {
   "cell_type": "code",
   "execution_count": 7,
   "metadata": {},
   "outputs": [
    {
     "name": "stdout",
     "output_type": "stream",
     "text": [
      "A\n",
      "NameError: name 'a' is not defined\n"
     ]
    }
   ],
   "source": [
    "# let's delete the assignment of a to A() instance\n",
    "print(a.get_name()) # this will print A\n",
    "del a # we are deleting the reference to A() instance\n",
    "# underneath the since nothing is pointing to A() instance it will be garbage collected at some point\n",
    "# what that point is depends on Python implementation and version\n",
    "# some languages have garbage collection, some do not\n",
    "# some language garbage collection is automatic, some languages require manual garbage collection\n",
    "# Python is automatic garbage collection language\n",
    "# in some languages you can set the sweep time for garbage collection\n",
    "# in Python you can use gc module to control garbage collection\n",
    "# documentation for gc module https://docs.python.org/3/library/gc.html - discussion for another time\n",
    "\n",
    "try:\n",
    "    print(a.get_name()) # this will raise an error because a is not defined\n",
    "except NameError as ne:\n",
    "    print(f\"NameError: {ne}\")\n"
   ]
  },
  {
   "cell_type": "markdown",
   "metadata": {},
   "source": [
    "## Scope\n",
    "\n",
    "Scope in programming languages refers to the visibility and lifetime of names. In Python, there are four types of scopes:\n",
    "\n",
    "- **Local scope**: Names defined inside a function are local to that function and can't be accessed outside the function.\n",
    "- **Enclosing scope**: Names defined in an enclosing function are accessible in the inner function.\n",
    "- **Global scope**: Names defined at the top level of a module are global and can be accessed anywhere in the module.\n",
    "- **Built-in scope**: Names that are built-in to Python are available everywhere in the code.\n",
    "\n",
    "So Python follows so called LEGB rule for scope resolution:\n",
    "- So Local scope is checked first, then Enclosing scope, then Global scope and finally Built-in scope."
   ]
  },
  {
   "cell_type": "markdown",
   "metadata": {},
   "source": [
    "### Local Scope \n",
    "\n",
    "Local scope is the scope of a name inside a function. Names defined inside a function are local to that function and can't be accessed outside the function."
   ]
  },
  {
   "cell_type": "code",
   "execution_count": null,
   "metadata": {},
   "outputs": [],
   "source": [
    "# Local scope example\n",
    "\n",
    "def my_function_v3():\n",
    "    # now the question is where is local_name bound? Generally it would be within the function stack frame\n",
    "    local_name = \"Local Valdis\" # local_name is bound within this function\n",
    "    print(f\"Hello from my_function_v3 with local_name={local_name}\") # here we are using local_name which is defined in this function\n",
    "# local_name is only available inside this function, so not available outside of this function"
   ]
  },
  {
   "cell_type": "markdown",
   "metadata": {},
   "source": [
    "### Lexical Scoping  - Enclosing scope\n",
    "\n",
    "Enclosing scope is the scope of a name in an enclosing function. Names defined in an enclosing function are accessible in the inner function."
   ]
  },
  {
   "cell_type": "code",
   "execution_count": 8,
   "metadata": {},
   "outputs": [],
   "source": [
    "# let's define outer function\n",
    "def outer_function():\n",
    "    outer_name = \"Outer Valdis\"\n",
    "    print(f\"Hello from outer_function with outer_name={outer_name}\")\n",
    "    def inner_function():\n",
    "        inner_name = \"Inner Valdis\"\n",
    "        print(f\"Hello from inner_function with inner_name={inner_name}\")\n",
    "        print(f\"Hello from inner_function with outer_name={outer_name}\") # so this is the slightly tricky part, inner function can access outer function variables\n",
    "    inner_function() # calling inner function from outer function\n",
    "\n",
    "# for now we will just define the functions\n",
    "# we just bound into to our global namespace the outer_function - NOT calling it yet\n",
    "# note: we did not bind inner_function to global namespace so it is not available outside of outer_function"
   ]
  },
  {
   "cell_type": "code",
   "execution_count": 9,
   "metadata": {},
   "outputs": [
    {
     "name": "stdout",
     "output_type": "stream",
     "text": [
      "Hello from outer_function with outer_name=Outer Valdis\n",
      "Hello from inner_function with inner_name=Inner Valdis\n",
      "Hello from inner_function with outer_name=Outer Valdis\n"
     ]
    }
   ],
   "source": [
    "# let's call outer_function and see what happens\n",
    "outer_function() # this will call outer_function which will call inner_function"
   ]
  },
  {
   "cell_type": "code",
   "execution_count": 10,
   "metadata": {},
   "outputs": [],
   "source": [
    "# let's make a function that returns a function and will keep some state\n",
    "def custom_adder_factory(add_value):\n",
    "    state = 0\n",
    "    def custom_adder():\n",
    "        nonlocal state # this is the key part to keep state between function calls\n",
    "        # we close over the state variable\n",
    "        state += add_value # now we will have a custom increment\n",
    "        return state\n",
    "    return custom_adder\n",
    "\n",
    "# let's create two custom adders\n",
    "add_5 = custom_adder_factory(5)\n",
    "add_10 = custom_adder_factory(10)"
   ]
  },
  {
   "cell_type": "code",
   "execution_count": 11,
   "metadata": {},
   "outputs": [
    {
     "name": "stdout",
     "output_type": "stream",
     "text": [
      "5\n",
      "10\n",
      "15\n"
     ]
    }
   ],
   "source": [
    "# let's add_5 a few times\n",
    "print(add_5()) # this will print 5\n",
    "print(add_5()) # this will print 10\n",
    "print(add_5()) # this will print 15"
   ]
  },
  {
   "cell_type": "code",
   "execution_count": null,
   "metadata": {},
   "outputs": [
    {
     "name": "stdout",
     "output_type": "stream",
     "text": [
      "10\n",
      "20\n",
      "30\n"
     ]
    }
   ],
   "source": [
    "# now the big question is what kind of state will add_10 have?\n",
    "# let's see\n",
    "print(add_10()) # this will print 10\n",
    "print(add_10()) # this will print 20\n",
    "print(add_10()) # this will print 30"
   ]
  },
  {
   "cell_type": "markdown",
   "metadata": {},
   "source": [
    "### Practical use of closures\n",
    "\n",
    "Closures were widely used in JavaScript before ES6 introduced arrow functions. Closures were used in Javascript because the scoping in early Javascript was very limited.\n",
    "\n",
    "They are still used in Python for decorators and other advanced programming techniques."
   ]
  },
  {
   "cell_type": "markdown",
   "metadata": {},
   "source": []
  },
  {
   "cell_type": "code",
   "execution_count": 6,
   "metadata": {},
   "outputs": [
    {
     "name": "stdout",
     "output_type": "stream",
     "text": [
      "Python version: 3.10.7 (tags/v3.10.7:6cc6b13, Sep  5 2022, 14:08:36) [MSC v.1933 64 bit (AMD64)]\n"
     ]
    }
   ],
   "source": [
    "# check Python version\n",
    "import sys\n",
    "print(f\"Python version: {sys.version}\")"
   ]
  },
  {
   "cell_type": "code",
   "execution_count": 7,
   "metadata": {},
   "outputs": [],
   "source": [
    "my_list = list(range(1_000)) # the big 100M list will be garbage collected"
   ]
  },
  {
   "cell_type": "code",
   "execution_count": 8,
   "metadata": {},
   "outputs": [
    {
     "name": "stdout",
     "output_type": "stream",
     "text": [
      "5\n"
     ]
    }
   ],
   "source": [
    "if True:\n",
    "    a = 5\n",
    "print(a) # 5 no block scope in Python\n",
    "# you would have to use functions to create block scope in Python\n"
   ]
  },
  {
   "cell_type": "code",
   "execution_count": 9,
   "metadata": {},
   "outputs": [],
   "source": [
    "for n in range(5):\n",
    "    pass"
   ]
  },
  {
   "cell_type": "code",
   "execution_count": 10,
   "metadata": {},
   "outputs": [
    {
     "name": "stdout",
     "output_type": "stream",
     "text": [
      "4\n"
     ]
    }
   ],
   "source": [
    "print(n) # 4\n",
    "# so n is not block scoped either"
   ]
  }
 ],
 "metadata": {
  "kernelspec": {
   "display_name": "Python 3",
   "language": "python",
   "name": "python3"
  },
  "language_info": {
   "codemirror_mode": {
    "name": "ipython",
    "version": 3
   },
   "file_extension": ".py",
   "mimetype": "text/x-python",
   "name": "python",
   "nbconvert_exporter": "python",
   "pygments_lexer": "ipython3",
   "version": "3.12.1"
  },
  "orig_nbformat": 4
 },
 "nbformat": 4,
 "nbformat_minor": 2
}
