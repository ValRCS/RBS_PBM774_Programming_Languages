{
 "cells": [
  {
   "attachments": {},
   "cell_type": "markdown",
   "metadata": {},
   "source": [
    "# Data Types in Progamming Languages\n",
    "\n",
    "## What is a Data type?\n",
    "\n",
    "### A data type is a classification of data which tells the compiler or interpreter \n",
    "### how the programmer intends to use the data. Data types may be classified into two broad categories:\n",
    "\n",
    "* Primitive data types\n",
    "* Derived data types \n",
    "  \n",
    "We also have compound or composite data types which are made up of primitive data types.\n",
    "We have user-defined data types which are defined by the user.\n",
    "\n",
    "Both of the above could be considered as derived data types.\n",
    "\n",
    "### Another Data type Definition\n",
    "\n",
    "A data type defines a collection of data values and a set of predefined operations\n",
    "on those values.\n",
    "\n",
    "For example, it would be pretty useless to have an integer which you could not add or subtract...\n",
    "\n",
    "## Primitive Data Types\n",
    "\n",
    "### Primitive data types are the most basic data types in a programming language.\n",
    "### They are also called as built-in data types. The primitive data types are:\n",
    "\n",
    "* Integer ( there are many types of integers, signed, unsigned, short, long, etc)\n",
    "* Floating point (similarly there are different types of floating point numbers)\n",
    "* Character (historically a single byte, but now often 2 bytes or even 4 bytes depending on the language and type of encoding used for example UTF-8, UTF-16, UTF-32)\n",
    "* Boolean (True or False, not all languages have a boolean type they may use integers or other types to represent True or False)\n",
    "* Void (in C and C++ this is a type that represents no value, it is used in functions that do not return a value)\n",
    "* Similarly to Void we could have a None type in Python which represents no value\n",
    "* Also see undefined and null types in JavaScript and other languages\n",
    "\n",
    "Strings are typically not considered primitive data types, but they are often built-in data types in many languages.\n",
    "Why? Because, strings are made up of characters which are primitive data types, so technically string is a compound data type.\n",
    "\n",
    "## Numerics\n",
    "\n",
    "### Integer\n",
    "\n",
    "* An integer is a whole number that can be positive, negative or zero.\n",
    "* In Python, an integer is a signed integer of unlimited size.\n",
    "* In C++, an integer is a signed integer of 4 bytes but the size can be changed.\n",
    "* Signed integer types usually use left most bit for sign\n",
    "\n",
    "So compare integers in programming with numbers in mathematics.\n",
    "\n",
    "Think natural numbers - ℕ⁠, integers - ℤ, rational numbers - ℚ, real numbers - ℝ, complex numbers - ℂ, etc.\n",
    "\n",
    "![Numbers](https://upload.wikimedia.org/wikipedia/commons/thumb/a/a0/NumberSetinC.svg/440px-NumberSetinC.svg.png)\n",
    "\n",
    "\n",
    "\n"
   ]
  },
  {
   "cell_type": "code",
   "execution_count": 3,
   "metadata": {},
   "outputs": [
    {
     "name": "stdout",
     "output_type": "stream",
     "text": [
      "Signed integers\n",
      "bit size: 8\n",
      "max:  127\n",
      "min: -128\n",
      "max in binary:   0b1111111\n",
      "min in binary: -0b10000000\n",
      "max in hex:  0x7f\n",
      "min in hex: -0x80\n",
      "max in decimal: 127\n",
      "min in decimal: -128\n",
      "\n",
      "bit size: 16\n",
      "max:  32767\n",
      "min: -32768\n",
      "max in binary:   0b111111111111111\n",
      "min in binary: -0b1000000000000000\n",
      "max in hex:  0x7fff\n",
      "min in hex: -0x8000\n",
      "max in decimal: 32767\n",
      "min in decimal: -32768\n",
      "\n",
      "bit size: 32\n",
      "max:  2147483647\n",
      "min: -2147483648\n",
      "max in binary:   0b1111111111111111111111111111111\n",
      "min in binary: -0b10000000000000000000000000000000\n",
      "max in hex:  0x7fffffff\n",
      "min in hex: -0x80000000\n",
      "max in decimal: 2147483647\n",
      "min in decimal: -2147483648\n",
      "\n",
      "bit size: 64\n",
      "max:  9223372036854775807\n",
      "min: -9223372036854775808\n",
      "max in binary:   0b111111111111111111111111111111111111111111111111111111111111111\n",
      "min in binary: -0b1000000000000000000000000000000000000000000000000000000000000000\n",
      "max in hex:  0x7fffffffffffffff\n",
      "min in hex: -0x8000000000000000\n",
      "max in decimal: 9223372036854775807\n",
      "min in decimal: -9223372036854775808\n",
      "\n",
      "bit size: 128\n",
      "max:  170141183460469231731687303715884105727\n",
      "min: -170141183460469231731687303715884105728\n",
      "max in binary:   0b1111111111111111111111111111111111111111111111111111111111111111111111111111111111111111111111111111111111111111111111111111111\n",
      "min in binary: -0b10000000000000000000000000000000000000000000000000000000000000000000000000000000000000000000000000000000000000000000000000000000\n",
      "max in hex:  0x7fffffffffffffffffffffffffffffff\n",
      "min in hex: -0x80000000000000000000000000000000\n",
      "max in decimal: 170141183460469231731687303715884105727\n",
      "min in decimal: -170141183460469231731687303715884105728\n",
      "\n"
     ]
    }
   ],
   "source": [
    "# so let's talk about signed integers\n",
    "# typically signed integers are represented in two's complement\n",
    "# so they go up to 2^(n-1) - 1 and down to -2^(n-1)\n",
    "# let's see some examples using Python (which does not have a fixed width for integers)\n",
    "print(\"Signed integers\")\n",
    "bit_sizes = [8, 16, 32, 64, 128]\n",
    "for bit_size in bit_sizes:\n",
    "    print(f\"bit size: {bit_size}\")\n",
    "    max_val = 2**(bit_size-1) - 1\n",
    "    min_val = -2**(bit_size-1)\n",
    "    print(f\"max:  {max_val}\")\n",
    "    print(f\"min: {min_val}\")\n",
    "    print(f\"max in binary:   {bin(max_val)}\")\n",
    "    print(f\"min in binary: {bin(min_val)}\")\n",
    "    print(f\"max in hex:  {hex(max_val)}\")\n",
    "    print(f\"min in hex: {hex(min_val)}\")\n",
    "    print(f\"max in decimal: {max_val}\")\n",
    "    print(f\"min in decimal: {min_val}\")\n",
    "    print()"
   ]
  },
  {
   "cell_type": "markdown",
   "metadata": {},
   "source": [
    "#### Takeaway from different integer sizes\n",
    "\n",
    "The two's complement representation is the most common representation for signed integers.\n",
    "It leads to efficient arithmetic operations and is easy to implement in hardware.\n",
    "\n",
    "Idea for TODO: provide a detailed report on two's complement representation among different programming languages and computer architectures."
   ]
  },
  {
   "cell_type": "markdown",
   "metadata": {},
   "source": [
    "### Floating Point\n",
    "\n",
    "* Floating-point data types model real numbers, but the representations are only\n",
    "* approximations for many real values. \n",
    "* The float type is often a single-precision 32-bit floating-point number.(depends on the system AND language)\n",
    "* The double type is a double-precision 64-bit floating-point number. (again depends on the system AND language)\n",
    "* floating points follow IEEE 754 standard\n",
    "* wikipedia: https://en.wikipedia.org/wiki/IEEE_754"
   ]
  },
  {
   "cell_type": "code",
   "execution_count": 4,
   "metadata": {},
   "outputs": [
    {
     "name": "stdout",
     "output_type": "stream",
     "text": [
      "Floating point numbers\n",
      "0.30000000000000004\n"
     ]
    }
   ],
   "source": [
    "# so everyone knows what happens when you add 0.1 + 0.2 in Python right?\n",
    "print(\"Floating point numbers\")\n",
    "print(0.1 + 0.2)"
   ]
  },
  {
   "cell_type": "code",
   "execution_count": 6,
   "metadata": {},
   "outputs": [
    {
     "name": "stdout",
     "output_type": "stream",
     "text": [
      "Floating point numbers in binary\n",
      "2.0\n",
      "3.0\n",
      "4.0\n"
     ]
    }
   ],
   "source": [
    "print(\"Floating point numbers in binary\")\n",
    "import struct\n",
    "print(struct.unpack('!d', struct.pack('!Q', 4611686018427387904))[0])\n",
    "print(struct.unpack('!d', struct.pack('!Q', 4613937818241073152))[0])\n",
    "print(struct.unpack('!d', struct.pack('!Q', 4616189618054758400))[0])\n",
    "# I would warrant a hypothesis that Q refers to rational numbers"
   ]
  },
  {
   "cell_type": "markdown",
   "metadata": {},
   "source": [
    "### Representation of floating point numbers\n",
    "\n",
    "Standard is IEEE 754: https://en.wikipedia.org/wiki/IEEE_754\n",
    "Website for testing floating point numbers: https://www.h-schmidt.net/FloatConverter/IEEE754.html\n"
   ]
  },
  {
   "cell_type": "code",
   "execution_count": 15,
   "metadata": {},
   "outputs": [
    {
     "name": "stdout",
     "output_type": "stream",
     "text": [
      "Division by zero\n",
      "division by zero\n",
      "Overflow\n",
      "inf\n",
      "Underflow\n",
      "0.0\n",
      "NaN\n",
      "We are trying to print 0/0\n",
      "division by zero\n",
      "Infinity\n",
      "1e+300\n",
      "-1e+300\n",
      "inf\n"
     ]
    }
   ],
   "source": [
    "## Edge cases in float operations\n",
    "# 1. Division by zero\n",
    "try:\n",
    "    print(\"Division by zero\")\n",
    "    print(1/0)\n",
    "except ZeroDivisionError as e:\n",
    "    print(e)\n",
    "# 2. Overflow\n",
    "print(\"Overflow\")\n",
    "print(1e300 * 1e300) # not enough precision to represent the result\n",
    "# TODO find out which is the smallest result that will give infinity\n",
    "# 3. Underflow\n",
    "print(\"Underflow\")\n",
    "print(1e-300 * 1e-300) # not enough precision to represent the result\n",
    "# we actually get zero here\n",
    "# 4. NaN\n",
    "print(\"NaN\")\n",
    "print(\"We are trying to print 0/0\")\n",
    "try:\n",
    "    print(0/0)\n",
    "except ZeroDivisionError as e:\n",
    "    print(e)\n",
    "# 5. Infinity\n",
    "print(\"Infinity\")\n",
    "print(1e300)\n",
    "print(-1e300)\n",
    "print(1e9000) # this is infinity again TODO what is first number to give infinity?\n"
   ]
  },
  {
   "cell_type": "markdown",
   "metadata": {},
   "source": [
    "#### Takeaway from floating point numbers\n",
    "\n",
    "Floating point numbers are approximations of real numbers. They are not exact.\n",
    "Careful if you are comparing floating point numbers for equality. \n",
    "There are many edge cases where floating point numbers can be tricky.\n",
    "Solution for comparing equality: https://floating-point-gui.de/errors/comparison/"
   ]
  },
  {
   "attachments": {},
   "cell_type": "markdown",
   "metadata": {},
   "source": [
    "\n",
    "\n",
    "### Complex Numbers\n",
    "\n",
    "* The complex type is a complex number, with real and imaginary parts, each of which is a double.\n",
    "* The imaginary unit is denoted by j or J.  \n",
    "* Python supports complex numbers in the form a + bj, where a and b are real numbers and j is the imaginary unit.\n",
    "* most programming languages do not have primitive complex numbers, but they are built on top of floating point numbers\n"
   ]
  },
  {
   "cell_type": "code",
   "execution_count": 16,
   "metadata": {},
   "outputs": [
    {
     "name": "stdout",
     "output_type": "stream",
     "text": [
      "(5+2j) (21+20j)\n"
     ]
    }
   ],
   "source": [
    "4+3j # 4 is real part and 3 is imaginary part\n",
    "# j is the imaginary unit, it represents the square root of -1\n",
    "a = 5+2j\n",
    "a_squared = a**2\n",
    "print(a, a_squared) # answer is 21+20j"
   ]
  },
  {
   "cell_type": "code",
   "execution_count": 17,
   "metadata": {},
   "outputs": [
    {
     "data": {
      "text/plain": [
       "(-4+0j)"
      ]
     },
     "execution_count": 17,
     "metadata": {},
     "output_type": "execute_result"
    }
   ],
   "source": [
    "2j**2 # answer is -4"
   ]
  },
  {
   "cell_type": "markdown",
   "metadata": {},
   "source": [
    "## Character Data Types\n",
    "\n",
    "* The char type is a single character.\n",
    "* Python does not have a character data type, a single character is simply a string with a length of 1.\n",
    "* Most languages do offer a character data type, but it is not a primitive data type.\n",
    "* A character is a single letter, number, or symbol.\n",
    "* Issue with character is encoding, different languages have different encoding schemes.\n",
    "* ASCII is a 7-bit character encoding standard, which is used to be the most common encoding scheme.\n",
    "* ascii wikipedia: https://en.wikipedia.org/wiki/ASCII\n",
    "* Unicode is a code for representing characters, emojis, symbols, etc. in computers.\n",
    "* unicode wikipedia: https://en.wikipedia.org/wiki/Unicode\n",
    "* UTF-8 is a variable length 8-bit character encoding standard, which is the most common encoding scheme.\n",
    "* utf-8 wikipedia: https://en.wikipedia.org/wiki/UTF-8\n",
    "* using utf-8 some characters are represented by 1 byte, \n",
    "* some are represented by 2 bytes, \n",
    "*some are represented by 3 bytes, etc.\n",
    "\n",
    "## String Data Types\n",
    "\n",
    "* A string is a sequence of characters.\n",
    "* C language does not have a string data type, it is built on top of character arrays.\n",
    "\n",
    "### String Literals\n",
    "\n",
    "* A string literal is a sequence of characters surrounded by quotes.\n",
    "\n",
    "### String Operations\n",
    "\n",
    "* Strings can be concatenated using the + operator. Not all languages support this.\n",
    "* Strings can be repeated using the * operator. Not all languages support this but Python does\n",
    "* Strings can be indexed using the [] operator. Python supports negative indexing.\n",
    "* Strings can be sliced using the [start:end] operator. Python supports negative indexing. \n",
    "* Not all languages support slicing\n",
    "\n",
    "### String Methods\n",
    "\n",
    "* Strings have a number of methods that perform useful operations on them.\n",
    "* len() returns the length of a string. very common in most languages\n",
    "* note: some string implementation in some languages do not have a length method, but they do have a size method.\n",
    "* str.upper() returns the string in all uppercase letters.\n",
    "* str.lower() returns the string in all lowercase letters.\n",
    "\n",
    "### Warning on strlength\n",
    "\n",
    "* The length of a string is not always the same as the number of characters in the string.\n",
    "* Also strlen in C takes O(n) time, where n is the length of the string. Very inefficient if you are going to loop over the string multiple times.\n"
   ]
  },
  {
   "cell_type": "code",
   "execution_count": 2,
   "metadata": {},
   "outputs": [],
   "source": [
    "my_name = \"Valdis\""
   ]
  },
  {
   "cell_type": "code",
   "execution_count": null,
   "metadata": {},
   "outputs": [],
   "source": []
  },
  {
   "cell_type": "code",
   "execution_count": 4,
   "metadata": {},
   "outputs": [],
   "source": [
    "my_count = 0"
   ]
  },
  {
   "cell_type": "code",
   "execution_count": 16,
   "metadata": {},
   "outputs": [
    {
     "name": "stdout",
     "output_type": "stream",
     "text": [
      "my_count is 24\n"
     ]
    }
   ],
   "source": [
    "# notebooks keep state, \n",
    "# so if you run this cell multiple times it will keep adding to my_count\n",
    "my_count += 2\n",
    "print(f\"my_count is {my_count}\")"
   ]
  },
  {
   "cell_type": "code",
   "execution_count": 3,
   "metadata": {},
   "outputs": [
    {
     "name": "stdout",
     "output_type": "stream",
     "text": [
      "Hello Valdis!\n"
     ]
    }
   ],
   "source": [
    "print(f\"Hello {my_name}!\") # f-string, new in Python 3.6"
   ]
  },
  {
   "cell_type": "code",
   "execution_count": 18,
   "metadata": {},
   "outputs": [
    {
     "data": {
      "text/plain": [
       "[<matplotlib.lines.Line2D at 0x21b9b6db910>]"
      ]
     },
     "execution_count": 18,
     "metadata": {},
     "output_type": "execute_result"
    },
    {
     "data": {
      "image/png": "[encoded data removed]",
      "text/plain": [
       "<Figure size 640x480 with 1 Axes>"
      ]
     },
     "metadata": {},
     "output_type": "display_data"
    }
   ],
   "source": [
    "# you can do visualizations in Jupyter Notebooks\n",
    "my_squares = [x**2 for x in range(10)]\n",
    "# plot the squares\n",
    "# first import the plotting library\n",
    "import matplotlib.pyplot as plt\n",
    "plt.plot(my_squares)"
   ]
  },
  {
   "cell_type": "markdown",
   "metadata": {},
   "source": [
    "## Enumeration Types\n",
    "\n",
    "* Enumeration types are a special type of data type \n",
    "* that is used to represent a group of named constants.\n",
    "* Python does not have native enumaration types\n",
    "* Python has a module called enum that can be used to create enumeration types.\n",
    "* C++ and many other languages have native enumeration types.\n",
    "\n",
    "## The design issues for enumeration types are as follows:\n",
    "* Is an enumeration constant allowed to appear in more than one type defi-\n",
    "nition, and if so, how is the type of an occurrence of that constant in the\n",
    "program checked?\n",
    "* Are enumeration values coerced to integer?\n",
    "* Are any other types coerced to an enumeration type?\n",
    "All of these design issues are related to type checking."
   ]
  },
  {
   "cell_type": "markdown",
   "metadata": {},
   "source": [
    "## Array data types\n",
    "\n",
    "An array is a homogeneous aggregate of data elements in which an individual\n",
    "element is identified by its position in the aggregate, relative to the first ele-\n",
    "ment. The individual data elements of an array are of the same type.\n",
    "\n",
    "* Python lists are arrays but they can contain any type of data\n",
    "* downside to lists is that they are not fixed size and can be slow\n",
    "* lists need to perform a lot of bookkeeping to keep track of their size and contents\n",
    "\n",
    "* C type arrays are fixed size and fast\n",
    "* but they can only contain one type of data\n",
    "* in Python C arrays are offered by the numpy library"
   ]
  },
  {
   "attachments": {},
   "cell_type": "markdown",
   "metadata": {},
   "source": [
    "# Associative Arrays\n",
    "\n",
    "An associative array is an unordered collection of data elements that are\n",
    "indexed by an equal number of values called keys.\n",
    "\n",
    "* Python dictionaries are associative arrays - O(1) time complexity for search, insert, delete - link: https://docs.python.org/3/library/stdtypes.html#dict\n",
    "* PHP arrays are associative arrays - link: https://www.php.net/manual/en/language.types.array.php - ORDERED MAPS!!! O(log n) time complexity for search, insert, delete\n",
    "* Lua tables are associative arrays - link: https://www.lua.org/manual/5.4/manual.html#3.4.7\n",
    "* C++ maps are associative arrays - also you will often want unsorted associative arrays\n",
    "* Scala maps are associative arrays\n",
    "* Clojure maps are associative arrays\n",
    "* Javascript objects are associative arrays\n",
    "* Ruby hashes are associative arrays - TODO check this\n",
    "* Swift dictionaries are associative arrays - TODO check this\n",
    "* Java maps are associative arrays \n",
    "* Rust maps are associative arrays\n",
    "* Go maps are associative arrays\n",
    "\n",
    "none of these are primitive data types"
   ]
  },
  {
   "cell_type": "markdown",
   "metadata": {},
   "source": [
    "# Record data types\n",
    "\n",
    "A record is an aggregate of data elements in which the individual elements\n",
    "are identified by names and accessed through offsets from the beginning of\n",
    "the structure.\n",
    "\n",
    "* C++ uses structs and classes\n",
    "* Python uses dictionaries and classes, named tuples also work\n",
    "* Scala uses case classes\n"
   ]
  },
  {
   "cell_type": "code",
   "execution_count": 20,
   "metadata": {},
   "outputs": [
    {
     "name": "stdout",
     "output_type": "stream",
     "text": [
      "50 50\n",
      "Valdis Valdis\n",
      "90 90\n"
     ]
    }
   ],
   "source": [
    "# Tuple data types\n",
    "# Tuples are typically immutable, you can't change them\n",
    "# my_tuple = (1,2,3)\n",
    "\n",
    "# philosophicaly tuples should be used for heterogeneous data - meaning different types\n",
    "# example\n",
    "my_tuple = (1, \"Valdis\", 3.14, [1,2,3], (4,5,6))\n",
    "my_tuple # not very clear what each element is\n",
    "# alternative is to use named tuples\n",
    "from collections import namedtuple\n",
    "# this is a class definition\n",
    "Person = namedtuple('Person', ['age', 'name', 'weight']) # so you define what fields you have\n",
    "# this is an instance of the class\n",
    "valdis = Person(age=50, name=\"Valdis\", weight=90)\n",
    "valdis\n",
    "print(valdis.age, valdis[0]) # same thing\n",
    "print(valdis.name, valdis[1]) # same thing\n",
    "print(valdis.weight, valdis[2]) # same thing"
   ]
  },
  {
   "cell_type": "markdown",
   "metadata": {},
   "source": [
    "# List Data types\n",
    "\n",
    "* historically used for homogeneous data\n",
    "* often represented by linked lists\n",
    "* in Python lists are just arrays of pointers to objects\n"
   ]
  },
  {
   "attachments": {},
   "cell_type": "markdown",
   "metadata": {},
   "source": [
    "# Union Data types\n",
    "\n",
    "A union is a data type that can be used to store different types of data in the\n",
    "same memory location. \n",
    "\n",
    "* C++ uses unions\n",
    "* C uses unions\n",
    "* Python does not have unions\n",
    "\n",
    "Example in C++\n",
    "    \n",
    "        union Data {\n",
    "            int i;\n",
    "            float f;\n",
    "            char str[20];\n",
    "        };\n",
    "    \n",
    "        int main() {\n",
    "            union Data data;\n",
    "            data.i = 10;\n",
    "            data.f = 220.5;\n",
    "            strcpy(data.str, \"C Programming\");\n",
    "            printf(\"data.i : %d\\n\", data.i);\n",
    "            printf(\"data.f : %f\\n\", data.f);\n",
    "            printf(\"data.str : %s\\n\", data.str);\n",
    "            return 0;\n",
    "        }\n",
    "\n",
    "        C++ union documentation: https://www.tutorialspoint.com/cplusplus/cpp_unions.htm\n",
    "        C++ union documentation at CPPreference: https://en.cppreference.com/w/cpp/language/union"
   ]
  },
  {
   "cell_type": "markdown",
   "metadata": {},
   "source": [
    "# Pointer and reference types\n",
    "\n",
    "# in Python everything is a pointer, even integers\n",
    "\n",
    "Pointers are variables that store the memory address of another variable.\n",
    "Typically pointers are size of the memory address of the system, so 4 bytes on a 32-bit system and 8 bytes on a 64-bit system.\n",
    "\n",
    "in C++ difference between a pointer and \n",
    "a reference is that a reference is always initialized and cannot be changed to point to another object\n",
    "\n",
    "Pointer holds a memory address of another object\n",
    "Reference is an alias for another object\n",
    "References can not be NULL unlike pointers in C++"
   ]
  },
  {
   "attachments": {},
   "cell_type": "markdown",
   "metadata": {},
   "source": [
    "# Strong typing\n",
    "\n",
    "One of the ideas in language design that became prominent in the so-called\n",
    "structured-programming revolution of the 1970s was strong typing\n",
    "\n",
    "A programming language is strongly typed if type errors are always\n",
    "detected.\n",
    "\n",
    "* Strong typing means that the type of a variable is known at compile time\n",
    "\n",
    "* Weak typing means that the type of a variable is not known at compile time\n",
    "\n",
    "C is strongly typed\n",
    "C++ is a strongly typed language\n",
    "Scala is a strongly typed language\n",
    "Clojure is a strongly typed language\n",
    "Javascript is a weakly typed language\n",
    "\n",
    "Advantages of strong typing:\n",
    "\n",
    "* Strong typing makes it easier to find bugs at compile time\n",
    "* Strong typing makes it easier to manage bigger programs\n",
    "\n",
    "Advantages of weak typing:\n",
    "* Weak typing makes it easier to write smaller programs\n",
    "* Weak typing makes it easier to write programs that are more flexible\n",
    "\n",
    "\n",
    "THere is also a distinction between static and dynamic typing\n",
    "\n",
    "Static typing means that the type of a variable is known at compile time and stays\n",
    "the same for the lifetime of the program\n",
    "\n",
    "Dynamic typing means that the type of a variable is not known at compile time and can change\n",
    "during the lifetime of the program\n",
    "\n",
    "\n",
    "\n"
   ]
  }
 ],
 "metadata": {
  "kernelspec": {
   "display_name": "Python 3",
   "language": "python",
   "name": "python3"
  },
  "language_info": {
   "codemirror_mode": {
    "name": "ipython",
    "version": 3
   },
   "file_extension": ".py",
   "mimetype": "text/x-python",
   "name": "python",
   "nbconvert_exporter": "python",
   "pygments_lexer": "ipython3",
   "version": "3.12.1"
  },
  "orig_nbformat": 4
 },
 "nbformat": 4,
 "nbformat_minor": 2
}
